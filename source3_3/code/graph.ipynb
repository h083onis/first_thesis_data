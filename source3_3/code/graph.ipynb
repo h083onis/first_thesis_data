{
 "cells": [
  {
   "cell_type": "code",
   "execution_count": 1,
   "metadata": {},
   "outputs": [],
   "source": [
    "import pandas as pd"
   ]
  },
  {
   "cell_type": "code",
   "execution_count": 2,
   "metadata": {},
   "outputs": [],
   "source": [
    "hexsha_df = pd.read_csv('../../../../sample_data/data/camel_on_spiral/hexsha_filename_camel.txt',\n",
    "                        header=None,\n",
    "                        names=[\"id\",\"commit_hash\", \"before_filename\", \"after_filename\",\"change_type\"]\n",
    "                        )"
   ]
  },
  {
   "cell_type": "code",
   "execution_count": 8,
   "metadata": {},
   "outputs": [],
   "source": [
    "def excute(i):\n",
    "    dic = {}\n",
    "    with open('../../../../sample_data/data/camel_on_spiral/snippet_camel_'+str(i)+'.txt') as f:\n",
    "        while True:\n",
    "            line = f.readline()\n",
    "            if line == '':\n",
    "                break\n",
    "            tmp = line.split('\\t')\n",
    "            if tmp[1].strip() != '':\n",
    "                dic[tmp[0]] = len(tmp[1:])\n",
    "\n",
    "    id_list = []\n",
    "    id2_list = []\n",
    "    for key in dic.keys():\n",
    "        tmp = key.split('-')\n",
    "        id_list.append(int(tmp[0]))\n",
    "        id2_list.append(int(tmp[1]))\n",
    "        \n",
    "    length_df = pd.DataFrame(\n",
    "        data= {'id':id_list,\n",
    "            'id2':id2_list,\n",
    "            'snippet_length':dic.values()\n",
    "            }\n",
    "    )\n",
    "\n",
    "    df = pd.merge(length_df, hexsha_df, on='id', how='left')\n",
    "    df.to_csv('../label/camel_'+str(i)+'.csv')"
   ]
  },
  {
   "cell_type": "code",
   "execution_count": 9,
   "metadata": {},
   "outputs": [],
   "source": [
    "# for i in range(3,11):\n",
    "#     excute(i)"
   ]
  },
  {
   "cell_type": "code",
   "execution_count": null,
   "metadata": {},
   "outputs": [],
   "source": [
    "df_list = []\n",
    "for i in range(0, 11):\n",
    "    df  = pd.read_csv('camel_'+str(i)+'.csv')\n",
    "    df_list.append(df)"
   ]
  }
 ],
 "metadata": {
  "kernelspec": {
   "display_name": "test",
   "language": "python",
   "name": "python3"
  },
  "language_info": {
   "codemirror_mode": {
    "name": "ipython",
    "version": 3
   },
   "file_extension": ".py",
   "mimetype": "text/x-python",
   "name": "python",
   "nbconvert_exporter": "python",
   "pygments_lexer": "ipython3",
   "version": "3.9.16"
  },
  "orig_nbformat": 4
 },
 "nbformat": 4,
 "nbformat_minor": 2
}
