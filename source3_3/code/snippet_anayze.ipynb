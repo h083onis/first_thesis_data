{
 "cells": [
  {
   "cell_type": "code",
   "execution_count": 1,
   "metadata": {},
   "outputs": [],
   "source": [
    "import pandas as pd\n",
    "import matplotlib.pyplot as plt"
   ]
  },
  {
   "cell_type": "code",
   "execution_count": 2,
   "metadata": {},
   "outputs": [],
   "source": [
    "word_cnt_df = pd.read_table('../resource/mapping_camel_3.txt',\n",
    "                            header=None,\n",
    "                            names=[\"id\",\"word\", \"cnt\"]\n",
    ")"
   ]
  },
  {
   "cell_type": "code",
   "execution_count": 3,
   "metadata": {},
   "outputs": [
    {
     "name": "stdout",
     "output_type": "stream",
     "text": [
      "3193\n"
     ]
    }
   ],
   "source": [
    "target_ratio = 0.9\n",
    "\n",
    "sorted_df = word_cnt_df\n",
    "\n",
    "cumulative_sum = sorted_df['cnt'].cumsum()\n",
    "cumulative_ratio = cumulative_sum / cumulative_sum.max()\n",
    "\n",
    "threshold_value = sorted_df.loc[cumulative_ratio >= target_ratio, 'cnt'].iloc[0]\n",
    "\n",
    "print(threshold_value)"
   ]
  },
  {
   "cell_type": "code",
   "execution_count": 4,
   "metadata": {},
   "outputs": [
    {
     "data": {
      "text/html": [
       "<div>\n",
       "<style scoped>\n",
       "    .dataframe tbody tr th:only-of-type {\n",
       "        vertical-align: middle;\n",
       "    }\n",
       "\n",
       "    .dataframe tbody tr th {\n",
       "        vertical-align: top;\n",
       "    }\n",
       "\n",
       "    .dataframe thead th {\n",
       "        text-align: right;\n",
       "    }\n",
       "</style>\n",
       "<table border=\"1\" class=\"dataframe\">\n",
       "  <thead>\n",
       "    <tr style=\"text-align: right;\">\n",
       "      <th></th>\n",
       "      <th>id</th>\n",
       "      <th>word</th>\n",
       "      <th>cnt</th>\n",
       "    </tr>\n",
       "  </thead>\n",
       "  <tbody>\n",
       "    <tr>\n",
       "      <th>0</th>\n",
       "      <td>1</td>\n",
       "      <td>.</td>\n",
       "      <td>2210735</td>\n",
       "    </tr>\n",
       "    <tr>\n",
       "      <th>1</th>\n",
       "      <td>2</td>\n",
       "      <td>)</td>\n",
       "      <td>1573145</td>\n",
       "    </tr>\n",
       "    <tr>\n",
       "      <th>2</th>\n",
       "      <td>3</td>\n",
       "      <td>(</td>\n",
       "      <td>1550278</td>\n",
       "    </tr>\n",
       "    <tr>\n",
       "      <th>3</th>\n",
       "      <td>4</td>\n",
       "      <td>;</td>\n",
       "      <td>1381086</td>\n",
       "    </tr>\n",
       "    <tr>\n",
       "      <th>4</th>\n",
       "      <td>5</td>\n",
       "      <td>}</td>\n",
       "      <td>545057</td>\n",
       "    </tr>\n",
       "    <tr>\n",
       "      <th>...</th>\n",
       "      <td>...</td>\n",
       "      <td>...</td>\n",
       "      <td>...</td>\n",
       "    </tr>\n",
       "    <tr>\n",
       "      <th>103657</th>\n",
       "      <td>103790</td>\n",
       "      <td>If only one instance of ConnectionFactory is ...</td>\n",
       "      <td>1</td>\n",
       "    </tr>\n",
       "    <tr>\n",
       "      <th>103658</th>\n",
       "      <td>103791</td>\n",
       "      <td>Whether to auto-discover DestinationResolver f...</td>\n",
       "      <td>1</td>\n",
       "    </tr>\n",
       "    <tr>\n",
       "      <th>103659</th>\n",
       "      <td>103792</td>\n",
       "      <td>If only one instance of DestinationResolver i...</td>\n",
       "      <td>1</td>\n",
       "    </tr>\n",
       "    <tr>\n",
       "      <th>103660</th>\n",
       "      <td>103793</td>\n",
       "      <td>Error expected</td>\n",
       "      <td>1</td>\n",
       "    </tr>\n",
       "    <tr>\n",
       "      <th>103661</th>\n",
       "      <td>103794</td>\n",
       "      <td>expected: &lt;ISO-8859-1&gt; but was: &lt;UTF-8&gt;</td>\n",
       "      <td>1</td>\n",
       "    </tr>\n",
       "  </tbody>\n",
       "</table>\n",
       "<p>103662 rows × 3 columns</p>\n",
       "</div>"
      ],
      "text/plain": [
       "            id                                               word      cnt\n",
       "0            1                                                  .  2210735\n",
       "1            2                                                  )  1573145\n",
       "2            3                                                  (  1550278\n",
       "3            4                                                  ;  1381086\n",
       "4            5                                                  }   545057\n",
       "...        ...                                                ...      ...\n",
       "103657  103790   If only one instance of ConnectionFactory is ...        1\n",
       "103658  103791  Whether to auto-discover DestinationResolver f...        1\n",
       "103659  103792   If only one instance of DestinationResolver i...        1\n",
       "103660  103793                                     Error expected        1\n",
       "103661  103794            expected: <ISO-8859-1> but was: <UTF-8>        1\n",
       "\n",
       "[103662 rows x 3 columns]"
      ]
     },
     "execution_count": 4,
     "metadata": {},
     "output_type": "execute_result"
    }
   ],
   "source": [
    "sorted_df"
   ]
  }
 ],
 "metadata": {
  "kernelspec": {
   "display_name": "test",
   "language": "python",
   "name": "python3"
  },
  "language_info": {
   "codemirror_mode": {
    "name": "ipython",
    "version": 3
   },
   "file_extension": ".py",
   "mimetype": "text/x-python",
   "name": "python",
   "nbconvert_exporter": "python",
   "pygments_lexer": "ipython3",
   "version": "3.9.16"
  },
  "orig_nbformat": 4
 },
 "nbformat": 4,
 "nbformat_minor": 2
}
