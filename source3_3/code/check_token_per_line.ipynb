{
 "cells": [
  {
   "cell_type": "code",
   "execution_count": 25,
   "metadata": {},
   "outputs": [],
   "source": [
    "import pandas as pd"
   ]
  },
  {
   "cell_type": "code",
   "execution_count": 26,
   "metadata": {},
   "outputs": [],
   "source": [
    "df = pd.read_csv('../resource/check_len_camel.txt', header=None, names=['filepath', 'line_length', 'number_of_tokens'])"
   ]
  },
  {
   "cell_type": "code",
   "execution_count": 27,
   "metadata": {},
   "outputs": [],
   "source": [
    "df['token_per_line'] = df['number_of_tokens'] / df['line_length']"
   ]
  },
  {
   "cell_type": "code",
   "execution_count": 28,
   "metadata": {},
   "outputs": [
    {
     "data": {
      "text/html": [
       "<div>\n",
       "<style scoped>\n",
       "    .dataframe tbody tr th:only-of-type {\n",
       "        vertical-align: middle;\n",
       "    }\n",
       "\n",
       "    .dataframe tbody tr th {\n",
       "        vertical-align: top;\n",
       "    }\n",
       "\n",
       "    .dataframe thead th {\n",
       "        text-align: right;\n",
       "    }\n",
       "</style>\n",
       "<table border=\"1\" class=\"dataframe\">\n",
       "  <thead>\n",
       "    <tr style=\"text-align: right;\">\n",
       "      <th></th>\n",
       "      <th>filepath</th>\n",
       "      <th>line_length</th>\n",
       "      <th>number_of_tokens</th>\n",
       "      <th>token_per_line</th>\n",
       "    </tr>\n",
       "  </thead>\n",
       "  <tbody>\n",
       "    <tr>\n",
       "      <th>0</th>\n",
       "      <td>..\\..\\..\\sample_data\\camel\\.mvn\\wrapper\\MavenW...</td>\n",
       "      <td>66</td>\n",
       "      <td>455</td>\n",
       "      <td>6.893939</td>\n",
       "    </tr>\n",
       "    <tr>\n",
       "      <th>1</th>\n",
       "      <td>..\\..\\..\\sample_data\\camel\\catalog\\camel-catal...</td>\n",
       "      <td>77</td>\n",
       "      <td>597</td>\n",
       "      <td>7.753247</td>\n",
       "    </tr>\n",
       "    <tr>\n",
       "      <th>2</th>\n",
       "      <td>..\\..\\..\\sample_data\\camel\\catalog\\camel-catal...</td>\n",
       "      <td>86</td>\n",
       "      <td>586</td>\n",
       "      <td>6.813953</td>\n",
       "    </tr>\n",
       "    <tr>\n",
       "      <th>3</th>\n",
       "      <td>..\\..\\..\\sample_data\\camel\\catalog\\camel-catal...</td>\n",
       "      <td>1150</td>\n",
       "      <td>7383</td>\n",
       "      <td>6.420000</td>\n",
       "    </tr>\n",
       "    <tr>\n",
       "      <th>4</th>\n",
       "      <td>..\\..\\..\\sample_data\\camel\\catalog\\camel-catal...</td>\n",
       "      <td>118</td>\n",
       "      <td>577</td>\n",
       "      <td>4.889831</td>\n",
       "    </tr>\n",
       "    <tr>\n",
       "      <th>...</th>\n",
       "      <td>...</td>\n",
       "      <td>...</td>\n",
       "      <td>...</td>\n",
       "      <td>...</td>\n",
       "    </tr>\n",
       "    <tr>\n",
       "      <th>18556</th>\n",
       "      <td>..\\..\\..\\sample_data\\camel\\tooling\\swagger-res...</td>\n",
       "      <td>23</td>\n",
       "      <td>218</td>\n",
       "      <td>9.478261</td>\n",
       "    </tr>\n",
       "    <tr>\n",
       "      <th>18557</th>\n",
       "      <td>..\\..\\..\\sample_data\\camel\\tooling\\swagger-res...</td>\n",
       "      <td>44</td>\n",
       "      <td>465</td>\n",
       "      <td>10.568182</td>\n",
       "    </tr>\n",
       "    <tr>\n",
       "      <th>18558</th>\n",
       "      <td>..\\..\\..\\sample_data\\camel\\tooling\\swagger-res...</td>\n",
       "      <td>65</td>\n",
       "      <td>703</td>\n",
       "      <td>10.815385</td>\n",
       "    </tr>\n",
       "    <tr>\n",
       "      <th>18559</th>\n",
       "      <td>..\\..\\..\\sample_data\\camel\\tooling\\swagger-res...</td>\n",
       "      <td>67</td>\n",
       "      <td>460</td>\n",
       "      <td>6.865672</td>\n",
       "    </tr>\n",
       "    <tr>\n",
       "      <th>18560</th>\n",
       "      <td>..\\..\\..\\sample_data\\camel\\tooling\\swagger-res...</td>\n",
       "      <td>61</td>\n",
       "      <td>560</td>\n",
       "      <td>9.180328</td>\n",
       "    </tr>\n",
       "  </tbody>\n",
       "</table>\n",
       "<p>18561 rows × 4 columns</p>\n",
       "</div>"
      ],
      "text/plain": [
       "                                                filepath  line_length  \\\n",
       "0      ..\\..\\..\\sample_data\\camel\\.mvn\\wrapper\\MavenW...           66   \n",
       "1      ..\\..\\..\\sample_data\\camel\\catalog\\camel-catal...           77   \n",
       "2      ..\\..\\..\\sample_data\\camel\\catalog\\camel-catal...           86   \n",
       "3      ..\\..\\..\\sample_data\\camel\\catalog\\camel-catal...         1150   \n",
       "4      ..\\..\\..\\sample_data\\camel\\catalog\\camel-catal...          118   \n",
       "...                                                  ...          ...   \n",
       "18556  ..\\..\\..\\sample_data\\camel\\tooling\\swagger-res...           23   \n",
       "18557  ..\\..\\..\\sample_data\\camel\\tooling\\swagger-res...           44   \n",
       "18558  ..\\..\\..\\sample_data\\camel\\tooling\\swagger-res...           65   \n",
       "18559  ..\\..\\..\\sample_data\\camel\\tooling\\swagger-res...           67   \n",
       "18560  ..\\..\\..\\sample_data\\camel\\tooling\\swagger-res...           61   \n",
       "\n",
       "       number_of_tokens  token_per_line  \n",
       "0                   455        6.893939  \n",
       "1                   597        7.753247  \n",
       "2                   586        6.813953  \n",
       "3                  7383        6.420000  \n",
       "4                   577        4.889831  \n",
       "...                 ...             ...  \n",
       "18556               218        9.478261  \n",
       "18557               465       10.568182  \n",
       "18558               703       10.815385  \n",
       "18559               460        6.865672  \n",
       "18560               560        9.180328  \n",
       "\n",
       "[18561 rows x 4 columns]"
      ]
     },
     "execution_count": 28,
     "metadata": {},
     "output_type": "execute_result"
    }
   ],
   "source": [
    "df"
   ]
  },
  {
   "cell_type": "code",
   "execution_count": 29,
   "metadata": {},
   "outputs": [
    {
     "data": {
      "text/plain": [
       "6.847014876308882"
      ]
     },
     "execution_count": 29,
     "metadata": {},
     "output_type": "execute_result"
    }
   ],
   "source": [
    "df['token_per_line'].mean()"
   ]
  }
 ],
 "metadata": {
  "kernelspec": {
   "display_name": "test",
   "language": "python",
   "name": "python3"
  },
  "language_info": {
   "codemirror_mode": {
    "name": "ipython",
    "version": 3
   },
   "file_extension": ".py",
   "mimetype": "text/x-python",
   "name": "python",
   "nbconvert_exporter": "python",
   "pygments_lexer": "ipython3",
   "version": "3.9.16"
  },
  "orig_nbformat": 4
 },
 "nbformat": 4,
 "nbformat_minor": 2
}
