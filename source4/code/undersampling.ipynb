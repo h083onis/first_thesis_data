{
 "cells": [
  {
   "cell_type": "code",
   "execution_count": 1,
   "id": "4c5a39c7-0f06-4f07-acea-639edfe9ac17",
   "metadata": {},
   "outputs": [
    {
     "name": "stderr",
     "output_type": "stream",
     "text": [
      "2023-07-19 17:47:50.943338: I tensorflow/core/platform/cpu_feature_guard.cc:182] This TensorFlow binary is optimized to use available CPU instructions in performance-critical operations.\n",
      "To enable the following instructions: AVX2 FMA, in other operations, rebuild TensorFlow with the appropriate compiler flags.\n",
      "2023-07-19 17:47:51.579194: W tensorflow/compiler/tf2tensorrt/utils/py_utils.cc:38] TF-TRT Warning: Could not find TensorRT\n"
     ]
    }
   ],
   "source": [
    "import torch\n",
    "import torch.nn as nn\n",
    "import torch.optim as optim\n",
    "from torchinfo import summary\n",
    "from torchviz import make_dot\n",
    "import torchvision.datasets as datasets\n",
    "import torchvision.transforms as transforms\n",
    "from torch.utils.data import DataLoader\n",
    "from torch.utils.data.dataset import Subset,TensorDataset\n",
    "from sklearn.model_selection import KFold\n",
    "from torch.utils.data.sampler import WeightedRandomSampler\n",
    "from torch.utils.tensorboard import SummaryWriter\n",
    "from learning_tool import *\n",
    "import sys\n",
    "sys.path.append('..')\n",
    "\n",
    "from model.model import *"
   ]
  },
  {
   "cell_type": "code",
   "execution_count": 2,
   "id": "c97c9003-b8c5-4d67-997e-cc64a0306bd0",
   "metadata": {},
   "outputs": [],
   "source": [
    "%matplotlib inline\n",
    "import numpy as np\n",
    "import pandas as pd\n",
    "import matplotlib.pyplot as plt\n",
    "import japanize_matplotlib\n",
    "from tqdm.notebook import tqdm\n",
    "from IPython.display import display\n",
    "from sklearn.model_selection import train_test_split"
   ]
  },
  {
   "cell_type": "code",
   "execution_count": 3,
   "id": "a6207efe-d823-45ae-9494-20d7f5ff52a7",
   "metadata": {},
   "outputs": [],
   "source": [
    "# warning表示off\n",
    "import warnings\n",
    "warnings.simplefilter('ignore')\n",
    "\n",
    "# デフォルトフォントサイズ変更\n",
    "plt.rcParams['font.size'] = 14\n",
    "\n",
    "# デフォルトグラフサイズ変更\n",
    "plt.rcParams['figure.figsize'] = (6,6)\n",
    "\n",
    "# デフォルトで方眼表示ON\n",
    "plt.rcParams['axes.grid'] = True\n",
    "\n",
    "# numpyの表示桁数設定\n",
    "np.set_printoptions(suppress=True, precision=5)"
   ]
  },
  {
   "cell_type": "code",
   "execution_count": 4,
   "id": "861118c2-5941-4604-b5b3-970de7468731",
   "metadata": {},
   "outputs": [
    {
     "name": "stdout",
     "output_type": "stream",
     "text": [
      "cuda:0\n"
     ]
    }
   ],
   "source": [
    "# デバイスの割り当て\n",
    "\n",
    "device = torch.device(\"cuda:0\" if torch.cuda.is_available() else \"cpu\")\n",
    "print(device)\n",
    "# device = torch.device('cpu')"
   ]
  },
  {
   "cell_type": "code",
   "execution_count": 5,
   "id": "bdfd9d43-1be3-4e1e-8685-48a4c6e2a4ec",
   "metadata": {},
   "outputs": [],
   "source": [
    "# PyTorch乱数固定用\n",
    "\n",
    "def torch_seed(seed=123):\n",
    "    torch.manual_seed(seed)\n",
    "    torch.cuda.manual_seed(seed)\n",
    "    torch.backends.cudnn.deterministic = True\n",
    "    torch.use_deterministic_algorithms = True\n",
    "    \n",
    "# 乱数初期化\n",
    "torch_seed()"
   ]
  },
  {
   "cell_type": "code",
   "execution_count": 6,
   "id": "e0281396-ea36-4461-8e46-5253dd21b3f5",
   "metadata": {},
   "outputs": [
    {
     "data": {
      "text/html": [
       "<div>\n",
       "<style scoped>\n",
       "    .dataframe tbody tr th:only-of-type {\n",
       "        vertical-align: middle;\n",
       "    }\n",
       "\n",
       "    .dataframe tbody tr th {\n",
       "        vertical-align: top;\n",
       "    }\n",
       "\n",
       "    .dataframe thead th {\n",
       "        text-align: right;\n",
       "    }\n",
       "</style>\n",
       "<table border=\"1\" class=\"dataframe\">\n",
       "  <thead>\n",
       "    <tr style=\"text-align: right;\">\n",
       "      <th></th>\n",
       "      <th>0</th>\n",
       "      <th>1</th>\n",
       "      <th>2</th>\n",
       "      <th>3</th>\n",
       "      <th>4</th>\n",
       "      <th>5</th>\n",
       "      <th>6</th>\n",
       "      <th>7</th>\n",
       "      <th>8</th>\n",
       "      <th>9</th>\n",
       "      <th>...</th>\n",
       "      <th>1991</th>\n",
       "      <th>1992</th>\n",
       "      <th>1993</th>\n",
       "      <th>1994</th>\n",
       "      <th>1995</th>\n",
       "      <th>1996</th>\n",
       "      <th>1997</th>\n",
       "      <th>1998</th>\n",
       "      <th>1999</th>\n",
       "      <th>contains_bug</th>\n",
       "    </tr>\n",
       "    <tr>\n",
       "      <th>commit_hash</th>\n",
       "      <th></th>\n",
       "      <th></th>\n",
       "      <th></th>\n",
       "      <th></th>\n",
       "      <th></th>\n",
       "      <th></th>\n",
       "      <th></th>\n",
       "      <th></th>\n",
       "      <th></th>\n",
       "      <th></th>\n",
       "      <th></th>\n",
       "      <th></th>\n",
       "      <th></th>\n",
       "      <th></th>\n",
       "      <th></th>\n",
       "      <th></th>\n",
       "      <th></th>\n",
       "      <th></th>\n",
       "      <th></th>\n",
       "      <th></th>\n",
       "      <th></th>\n",
       "    </tr>\n",
       "  </thead>\n",
       "  <tbody>\n",
       "    <tr>\n",
       "      <th>77b260b65ba821b3443d922320cc3d9b708c8d83</th>\n",
       "      <td>6</td>\n",
       "      <td>6</td>\n",
       "      <td>50</td>\n",
       "      <td>72</td>\n",
       "      <td>30</td>\n",
       "      <td>43</td>\n",
       "      <td>14</td>\n",
       "      <td>9</td>\n",
       "      <td>13</td>\n",
       "      <td>6</td>\n",
       "      <td>...</td>\n",
       "      <td>14</td>\n",
       "      <td>98</td>\n",
       "      <td>9</td>\n",
       "      <td>1</td>\n",
       "      <td>13</td>\n",
       "      <td>1</td>\n",
       "      <td>6</td>\n",
       "      <td>1</td>\n",
       "      <td>37</td>\n",
       "      <td>1</td>\n",
       "    </tr>\n",
       "    <tr>\n",
       "      <th>a4701ac4bf5b50810914796e284b0e3f78a240bc</th>\n",
       "      <td>6</td>\n",
       "      <td>50</td>\n",
       "      <td>72</td>\n",
       "      <td>30</td>\n",
       "      <td>43</td>\n",
       "      <td>14</td>\n",
       "      <td>9</td>\n",
       "      <td>13</td>\n",
       "      <td>6</td>\n",
       "      <td>149</td>\n",
       "      <td>...</td>\n",
       "      <td>2</td>\n",
       "      <td>78</td>\n",
       "      <td>88</td>\n",
       "      <td>2</td>\n",
       "      <td>415</td>\n",
       "      <td>8</td>\n",
       "      <td>704</td>\n",
       "      <td>3</td>\n",
       "      <td>3</td>\n",
       "      <td>1</td>\n",
       "    </tr>\n",
       "    <tr>\n",
       "      <th>0a0bad2c4a35be88f7732def261a03737fab662e</th>\n",
       "      <td>6</td>\n",
       "      <td>50</td>\n",
       "      <td>72</td>\n",
       "      <td>30</td>\n",
       "      <td>43</td>\n",
       "      <td>14</td>\n",
       "      <td>9</td>\n",
       "      <td>13</td>\n",
       "      <td>6</td>\n",
       "      <td>727</td>\n",
       "      <td>...</td>\n",
       "      <td>8</td>\n",
       "      <td>44</td>\n",
       "      <td>34</td>\n",
       "      <td>21</td>\n",
       "      <td>33</td>\n",
       "      <td>33</td>\n",
       "      <td>33</td>\n",
       "      <td>225</td>\n",
       "      <td>10</td>\n",
       "      <td>1</td>\n",
       "    </tr>\n",
       "    <tr>\n",
       "      <th>4de90eba5a4628f573c5e0536ed9160b6f1ea29d</th>\n",
       "      <td>608</td>\n",
       "      <td>30</td>\n",
       "      <td>43</td>\n",
       "      <td>14</td>\n",
       "      <td>9</td>\n",
       "      <td>13</td>\n",
       "      <td>6</td>\n",
       "      <td>138</td>\n",
       "      <td>61</td>\n",
       "      <td>138</td>\n",
       "      <td>...</td>\n",
       "      <td>0</td>\n",
       "      <td>0</td>\n",
       "      <td>0</td>\n",
       "      <td>0</td>\n",
       "      <td>0</td>\n",
       "      <td>0</td>\n",
       "      <td>0</td>\n",
       "      <td>0</td>\n",
       "      <td>0</td>\n",
       "      <td>0</td>\n",
       "    </tr>\n",
       "    <tr>\n",
       "      <th>4292f69f0afd36a7335515cc565ea41521bfa5cd</th>\n",
       "      <td>6</td>\n",
       "      <td>50</td>\n",
       "      <td>72</td>\n",
       "      <td>30</td>\n",
       "      <td>43</td>\n",
       "      <td>14</td>\n",
       "      <td>9</td>\n",
       "      <td>13</td>\n",
       "      <td>6</td>\n",
       "      <td>37</td>\n",
       "      <td>...</td>\n",
       "      <td>0</td>\n",
       "      <td>0</td>\n",
       "      <td>0</td>\n",
       "      <td>0</td>\n",
       "      <td>0</td>\n",
       "      <td>0</td>\n",
       "      <td>0</td>\n",
       "      <td>0</td>\n",
       "      <td>0</td>\n",
       "      <td>1</td>\n",
       "    </tr>\n",
       "    <tr>\n",
       "      <th>...</th>\n",
       "      <td>...</td>\n",
       "      <td>...</td>\n",
       "      <td>...</td>\n",
       "      <td>...</td>\n",
       "      <td>...</td>\n",
       "      <td>...</td>\n",
       "      <td>...</td>\n",
       "      <td>...</td>\n",
       "      <td>...</td>\n",
       "      <td>...</td>\n",
       "      <td>...</td>\n",
       "      <td>...</td>\n",
       "      <td>...</td>\n",
       "      <td>...</td>\n",
       "      <td>...</td>\n",
       "      <td>...</td>\n",
       "      <td>...</td>\n",
       "      <td>...</td>\n",
       "      <td>...</td>\n",
       "      <td>...</td>\n",
       "      <td>...</td>\n",
       "    </tr>\n",
       "    <tr>\n",
       "      <th>da0d0426ebf80387c4eb5f169bed5df813dd22da</th>\n",
       "      <td>6</td>\n",
       "      <td>50</td>\n",
       "      <td>72</td>\n",
       "      <td>30</td>\n",
       "      <td>43</td>\n",
       "      <td>14</td>\n",
       "      <td>9</td>\n",
       "      <td>13</td>\n",
       "      <td>6</td>\n",
       "      <td>22</td>\n",
       "      <td>...</td>\n",
       "      <td>0</td>\n",
       "      <td>0</td>\n",
       "      <td>0</td>\n",
       "      <td>0</td>\n",
       "      <td>0</td>\n",
       "      <td>0</td>\n",
       "      <td>0</td>\n",
       "      <td>0</td>\n",
       "      <td>0</td>\n",
       "      <td>0</td>\n",
       "    </tr>\n",
       "    <tr>\n",
       "      <th>f3f792e763685511088a10afb2d58a75ac131421</th>\n",
       "      <td>6</td>\n",
       "      <td>50</td>\n",
       "      <td>72</td>\n",
       "      <td>30</td>\n",
       "      <td>43</td>\n",
       "      <td>14</td>\n",
       "      <td>9</td>\n",
       "      <td>13</td>\n",
       "      <td>6</td>\n",
       "      <td>6</td>\n",
       "      <td>...</td>\n",
       "      <td>11</td>\n",
       "      <td>9</td>\n",
       "      <td>1</td>\n",
       "      <td>13</td>\n",
       "      <td>1</td>\n",
       "      <td>6</td>\n",
       "      <td>1</td>\n",
       "      <td>44</td>\n",
       "      <td>4</td>\n",
       "      <td>1</td>\n",
       "    </tr>\n",
       "    <tr>\n",
       "      <th>f59887aeaf409d5282548a5d559f5ce58c43c601</th>\n",
       "      <td>6</td>\n",
       "      <td>50</td>\n",
       "      <td>72</td>\n",
       "      <td>30</td>\n",
       "      <td>43</td>\n",
       "      <td>14</td>\n",
       "      <td>9</td>\n",
       "      <td>13</td>\n",
       "      <td>6</td>\n",
       "      <td>136</td>\n",
       "      <td>...</td>\n",
       "      <td>0</td>\n",
       "      <td>0</td>\n",
       "      <td>0</td>\n",
       "      <td>0</td>\n",
       "      <td>0</td>\n",
       "      <td>0</td>\n",
       "      <td>0</td>\n",
       "      <td>0</td>\n",
       "      <td>0</td>\n",
       "      <td>1</td>\n",
       "    </tr>\n",
       "    <tr>\n",
       "      <th>30d818fcd1f76d3eab4484d75677bbcb3300ddcf</th>\n",
       "      <td>6</td>\n",
       "      <td>50</td>\n",
       "      <td>72</td>\n",
       "      <td>30</td>\n",
       "      <td>43</td>\n",
       "      <td>14</td>\n",
       "      <td>9</td>\n",
       "      <td>13</td>\n",
       "      <td>6</td>\n",
       "      <td>136</td>\n",
       "      <td>...</td>\n",
       "      <td>0</td>\n",
       "      <td>0</td>\n",
       "      <td>0</td>\n",
       "      <td>0</td>\n",
       "      <td>0</td>\n",
       "      <td>0</td>\n",
       "      <td>0</td>\n",
       "      <td>0</td>\n",
       "      <td>0</td>\n",
       "      <td>0</td>\n",
       "    </tr>\n",
       "    <tr>\n",
       "      <th>c210132b9219522267adbc0142957ee5a76aeb67</th>\n",
       "      <td>6</td>\n",
       "      <td>50</td>\n",
       "      <td>72</td>\n",
       "      <td>30</td>\n",
       "      <td>43</td>\n",
       "      <td>14</td>\n",
       "      <td>9</td>\n",
       "      <td>13</td>\n",
       "      <td>6</td>\n",
       "      <td>22</td>\n",
       "      <td>...</td>\n",
       "      <td>4</td>\n",
       "      <td>11</td>\n",
       "      <td>9</td>\n",
       "      <td>1</td>\n",
       "      <td>13</td>\n",
       "      <td>1</td>\n",
       "      <td>6</td>\n",
       "      <td>1</td>\n",
       "      <td>17</td>\n",
       "      <td>1</td>\n",
       "    </tr>\n",
       "  </tbody>\n",
       "</table>\n",
       "<p>100 rows × 2001 columns</p>\n",
       "</div>"
      ],
      "text/plain": [
       "                                            0   1   2   3   4   5   6    7   \n",
       "commit_hash                                                                  \n",
       "77b260b65ba821b3443d922320cc3d9b708c8d83    6   6  50  72  30  43  14    9  \\\n",
       "a4701ac4bf5b50810914796e284b0e3f78a240bc    6  50  72  30  43  14   9   13   \n",
       "0a0bad2c4a35be88f7732def261a03737fab662e    6  50  72  30  43  14   9   13   \n",
       "4de90eba5a4628f573c5e0536ed9160b6f1ea29d  608  30  43  14   9  13   6  138   \n",
       "4292f69f0afd36a7335515cc565ea41521bfa5cd    6  50  72  30  43  14   9   13   \n",
       "...                                       ...  ..  ..  ..  ..  ..  ..  ...   \n",
       "da0d0426ebf80387c4eb5f169bed5df813dd22da    6  50  72  30  43  14   9   13   \n",
       "f3f792e763685511088a10afb2d58a75ac131421    6  50  72  30  43  14   9   13   \n",
       "f59887aeaf409d5282548a5d559f5ce58c43c601    6  50  72  30  43  14   9   13   \n",
       "30d818fcd1f76d3eab4484d75677bbcb3300ddcf    6  50  72  30  43  14   9   13   \n",
       "c210132b9219522267adbc0142957ee5a76aeb67    6  50  72  30  43  14   9   13   \n",
       "\n",
       "                                           8    9  ...  1991  1992  1993   \n",
       "commit_hash                                        ...                     \n",
       "77b260b65ba821b3443d922320cc3d9b708c8d83  13    6  ...    14    98     9  \\\n",
       "a4701ac4bf5b50810914796e284b0e3f78a240bc   6  149  ...     2    78    88   \n",
       "0a0bad2c4a35be88f7732def261a03737fab662e   6  727  ...     8    44    34   \n",
       "4de90eba5a4628f573c5e0536ed9160b6f1ea29d  61  138  ...     0     0     0   \n",
       "4292f69f0afd36a7335515cc565ea41521bfa5cd   6   37  ...     0     0     0   \n",
       "...                                       ..  ...  ...   ...   ...   ...   \n",
       "da0d0426ebf80387c4eb5f169bed5df813dd22da   6   22  ...     0     0     0   \n",
       "f3f792e763685511088a10afb2d58a75ac131421   6    6  ...    11     9     1   \n",
       "f59887aeaf409d5282548a5d559f5ce58c43c601   6  136  ...     0     0     0   \n",
       "30d818fcd1f76d3eab4484d75677bbcb3300ddcf   6  136  ...     0     0     0   \n",
       "c210132b9219522267adbc0142957ee5a76aeb67   6   22  ...     4    11     9   \n",
       "\n",
       "                                          1994  1995  1996  1997  1998  1999   \n",
       "commit_hash                                                                    \n",
       "77b260b65ba821b3443d922320cc3d9b708c8d83     1    13     1     6     1    37  \\\n",
       "a4701ac4bf5b50810914796e284b0e3f78a240bc     2   415     8   704     3     3   \n",
       "0a0bad2c4a35be88f7732def261a03737fab662e    21    33    33    33   225    10   \n",
       "4de90eba5a4628f573c5e0536ed9160b6f1ea29d     0     0     0     0     0     0   \n",
       "4292f69f0afd36a7335515cc565ea41521bfa5cd     0     0     0     0     0     0   \n",
       "...                                        ...   ...   ...   ...   ...   ...   \n",
       "da0d0426ebf80387c4eb5f169bed5df813dd22da     0     0     0     0     0     0   \n",
       "f3f792e763685511088a10afb2d58a75ac131421    13     1     6     1    44     4   \n",
       "f59887aeaf409d5282548a5d559f5ce58c43c601     0     0     0     0     0     0   \n",
       "30d818fcd1f76d3eab4484d75677bbcb3300ddcf     0     0     0     0     0     0   \n",
       "c210132b9219522267adbc0142957ee5a76aeb67     1    13     1     6     1    17   \n",
       "\n",
       "                                          contains_bug  \n",
       "commit_hash                                             \n",
       "77b260b65ba821b3443d922320cc3d9b708c8d83             1  \n",
       "a4701ac4bf5b50810914796e284b0e3f78a240bc             1  \n",
       "0a0bad2c4a35be88f7732def261a03737fab662e             1  \n",
       "4de90eba5a4628f573c5e0536ed9160b6f1ea29d             0  \n",
       "4292f69f0afd36a7335515cc565ea41521bfa5cd             1  \n",
       "...                                                ...  \n",
       "da0d0426ebf80387c4eb5f169bed5df813dd22da             0  \n",
       "f3f792e763685511088a10afb2d58a75ac131421             1  \n",
       "f59887aeaf409d5282548a5d559f5ce58c43c601             1  \n",
       "30d818fcd1f76d3eab4484d75677bbcb3300ddcf             0  \n",
       "c210132b9219522267adbc0142957ee5a76aeb67             1  \n",
       "\n",
       "[100 rows x 2001 columns]"
      ]
     },
     "execution_count": 6,
     "metadata": {},
     "output_type": "execute_result"
    }
   ],
   "source": [
    "df = pd.read_csv('../resource/txt_vec_and_label_camel_19.csv', index_col=0)\n",
    "df.head(100)"
   ]
  },
  {
   "cell_type": "code",
   "execution_count": 7,
   "id": "adeb44e7-f3c2-4a24-89aa-2ad1bfda29e8",
   "metadata": {},
   "outputs": [],
   "source": [
    "class MyDataset(torch.utils.data.Dataset):\n",
    "    def __init__(self, df, features, labels):\n",
    "        self.features_values = df[features].values\n",
    "        self.labels = df[labels].values\n",
    "        \n",
    "    # len()を使用すると呼ばれる\n",
    "    def __len__(self):\n",
    "        return len(self.features_values)\n",
    "\n",
    "    # 要素を参照すると呼ばれる関数    \n",
    "    def __getitem__(self, idx):\n",
    "        features_x = torch.LongTensor(self.features_values[idx])\n",
    "        labels = torch.as_tensor(self.labels[idx])\n",
    "        return features_x, labels"
   ]
  },
  {
   "cell_type": "code",
   "execution_count": 8,
   "id": "746e0035-b4db-43fc-9c63-6a05b5d16d8e",
   "metadata": {},
   "outputs": [
    {
     "name": "stdout",
     "output_type": "stream",
     "text": [
      "['0' '1' '2' ... '1997' '1998' '1999']\n",
      "contains_bug\n"
     ]
    }
   ],
   "source": [
    "columns = df.columns.values\n",
    "features_columns = columns[:-1]\n",
    "labels_column = columns[-1]\n",
    "print(features_columns)\n",
    "print(labels_column)\n",
    "dataset = MyDataset(df, features_columns, labels_column)"
   ]
  },
  {
   "cell_type": "code",
   "execution_count": 9,
   "id": "4c0b7b4e-1f97-47b4-9a10-c0c77f4ce5a7",
   "metadata": {},
   "outputs": [
    {
     "data": {
      "text/plain": [
       "contains_bug\n",
       "0    0.630281\n",
       "1    0.369719\n",
       "Name: count, dtype: float64"
      ]
     },
     "execution_count": 9,
     "metadata": {},
     "output_type": "execute_result"
    }
   ],
   "source": [
    "df['contains_bug'].value_counts() / df.shape[0]"
   ]
  },
  {
   "cell_type": "code",
   "execution_count": 10,
   "id": "d41edbfc-6994-4e82-b7c1-b6681fee7fc1",
   "metadata": {},
   "outputs": [
    {
     "data": {
      "text/plain": [
       "2000"
      ]
     },
     "execution_count": 10,
     "metadata": {},
     "output_type": "execute_result"
    }
   ],
   "source": [
    "len(dataset[0][0])"
   ]
  },
  {
   "cell_type": "code",
   "execution_count": 11,
   "id": "f18c4041-6d89-46d7-a064-7792a7be0372",
   "metadata": {
    "tags": []
   },
   "outputs": [
    {
     "name": "stdout",
     "output_type": "stream",
     "text": [
      "n_hidden: 100 n_output: 2\n"
     ]
    }
   ],
   "source": [
    "n_output = 2\n",
    "n_hidden = 100\n",
    "print(f'n_hidden: {n_hidden} n_output: {n_output}')"
   ]
  },
  {
   "cell_type": "code",
   "execution_count": 12,
   "id": "d6bfc489-d1ec-476d-bbf9-6cc9796beac5",
   "metadata": {
    "tags": []
   },
   "outputs": [
    {
     "name": "stdout",
     "output_type": "stream",
     "text": [
      "original target  0/1: 16335/9582\n",
      "undersampled target  0/1: 9582/9582\n"
     ]
    },
    {
     "data": {
      "text/plain": [
       "<torch.utils.data.dataset.TensorDataset at 0x7fae737f8370>"
      ]
     },
     "execution_count": 12,
     "metadata": {},
     "output_type": "execute_result"
    }
   ],
   "source": [
    "def undersampling(dataset):\n",
    "    target = np.zeros(0)\n",
    "    target = (np.hstack(data[1].numpy() for data in dataset))\n",
    "    print (\n",
    "        'original target  0/1: {}/{}'.format(\n",
    "        len(np.where(target == 0)[0]), len(np.where(target == 1)[0]))\n",
    "    )\n",
    "    \n",
    "    class_indices = [np.where(target == t)[0] for t in np.unique(target)]\n",
    "    class_sample_count = np.array([len(idx) for idx in class_indices])\n",
    "    min_class_idx = np.argmin(class_sample_count)\n",
    "    max_class_idx = np.argmax(class_sample_count)\n",
    "    undersample_indices = np.random.choice(class_indices[max_class_idx], size=int(min(class_sample_count)), replace=False)\n",
    "    combined_indices = np.hstack([class_indices[min_class_idx], undersample_indices])\n",
    "    \n",
    "    features = dataset[combined_indices][0]\n",
    "    labels = dataset[combined_indices][1]\n",
    "    \n",
    "    shuffle_indices = torch.randperm(len(features))\n",
    "    features = features[shuffle_indices]\n",
    "    labels = labels[shuffle_indices]\n",
    "    \n",
    "    undersampled_dataset = torch.utils.data.TensorDataset(features, labels)\n",
    "    \n",
    "    target = np.zeros(0)\n",
    "    target = (np.hstack(data[1].numpy() for data in undersampled_dataset))\n",
    "    print (\n",
    "        'undersampled target  0/1: {}/{}'.format(\n",
    "        len(np.where(target == 0)[0]), len(np.where(target == 1)[0]))\n",
    "    )\n",
    "    return undersampled_dataset\n",
    "undersampling(dataset)"
   ]
  },
  {
   "cell_type": "code",
   "execution_count": 13,
   "id": "da87adcb-2ac6-490f-9142-9311c855897b",
   "metadata": {
    "tags": []
   },
   "outputs": [],
   "source": [
    "# dataset2 = undersampling(dataset)\n",
    "# dataset2[0]"
   ]
  },
  {
   "cell_type": "code",
   "execution_count": 14,
   "id": "ce799b94-17a1-409d-b255-36e4c5b7d9a6",
   "metadata": {
    "tags": []
   },
   "outputs": [],
   "source": [
    "# for data in dataset2:\n",
    "#    print(data[1])"
   ]
  },
  {
   "cell_type": "code",
   "execution_count": 16,
   "id": "f35feb48-32c1-47be-a8f4-08e43f2e4dfd",
   "metadata": {},
   "outputs": [
    {
     "name": "stdout",
     "output_type": "stream",
     "text": [
      "original target  0/1: 16335/9582\n",
      "undersampled target  0/1: 9582/9582\n"
     ]
    },
    {
     "data": {
      "application/vnd.jupyter.widget-view+json": {
       "model_id": "c3fceb5961fd4b24ae8d08548b3410a9",
       "version_major": 2,
       "version_minor": 0
      },
      "text/plain": [
       "  0%|          | 0/216 [00:00<?, ?it/s]"
      ]
     },
     "metadata": {},
     "output_type": "display_data"
    },
    {
     "name": "stdout",
     "output_type": "stream",
     "text": [
      "Epoch [1/20], loss: 0.65371 acc: 0.67791 val_loss: 0.55650, val_acc: 0.70423, auc_score:0.77584\n"
     ]
    },
    {
     "data": {
      "application/vnd.jupyter.widget-view+json": {
       "model_id": "7619f0ebe84e442f85b1fec20c0046a3",
       "version_major": 2,
       "version_minor": 0
      },
      "text/plain": [
       "  0%|          | 0/216 [00:00<?, ?it/s]"
      ]
     },
     "metadata": {},
     "output_type": "display_data"
    },
    {
     "name": "stdout",
     "output_type": "stream",
     "text": [
      "Epoch [2/20], loss: 0.55592 acc: 0.71560 val_loss: 0.55123, val_acc: 0.71727, auc_score:0.77980\n"
     ]
    },
    {
     "data": {
      "application/vnd.jupyter.widget-view+json": {
       "model_id": "502544a51ffe44568ef3f775d00a255a",
       "version_major": 2,
       "version_minor": 0
      },
      "text/plain": [
       "  0%|          | 0/216 [00:00<?, ?it/s]"
      ]
     },
     "metadata": {},
     "output_type": "display_data"
    },
    {
     "name": "stdout",
     "output_type": "stream",
     "text": [
      "Epoch [3/20], loss: 0.54001 acc: 0.72789 val_loss: 0.56317, val_acc: 0.70788, auc_score:0.78306\n"
     ]
    },
    {
     "data": {
      "application/vnd.jupyter.widget-view+json": {
       "model_id": "dc2879998c844a7c8ce28d01c6a45212",
       "version_major": 2,
       "version_minor": 0
      },
      "text/plain": [
       "  0%|          | 0/216 [00:00<?, ?it/s]"
      ]
     },
     "metadata": {},
     "output_type": "display_data"
    },
    {
     "name": "stdout",
     "output_type": "stream",
     "text": [
      "Epoch [4/20], loss: 0.53058 acc: 0.73265 val_loss: 0.55057, val_acc: 0.71466, auc_score:0.78321\n"
     ]
    },
    {
     "data": {
      "application/vnd.jupyter.widget-view+json": {
       "model_id": "8fea13bdee934594a962d66e0dbfb092",
       "version_major": 2,
       "version_minor": 0
      },
      "text/plain": [
       "  0%|          | 0/216 [00:00<?, ?it/s]"
      ]
     },
     "metadata": {},
     "output_type": "display_data"
    },
    {
     "name": "stdout",
     "output_type": "stream",
     "text": [
      "Epoch [5/20], loss: 0.52244 acc: 0.73532 val_loss: 0.54026, val_acc: 0.72040, auc_score:0.78889\n"
     ]
    },
    {
     "data": {
      "application/vnd.jupyter.widget-view+json": {
       "model_id": "f83b2fe838c248619313263bec460ab8",
       "version_major": 2,
       "version_minor": 0
      },
      "text/plain": [
       "  0%|          | 0/216 [00:00<?, ?it/s]"
      ]
     },
     "metadata": {},
     "output_type": "display_data"
    },
    {
     "name": "stdout",
     "output_type": "stream",
     "text": [
      "Epoch [6/20], loss: 0.50206 acc: 0.75068 val_loss: 0.54146, val_acc: 0.72457, auc_score:0.79099\n"
     ]
    },
    {
     "data": {
      "application/vnd.jupyter.widget-view+json": {
       "model_id": "3b5d5d66206d4d31b4ac429724447bdc",
       "version_major": 2,
       "version_minor": 0
      },
      "text/plain": [
       "  0%|          | 0/216 [00:00<?, ?it/s]"
      ]
     },
     "metadata": {},
     "output_type": "display_data"
    },
    {
     "name": "stdout",
     "output_type": "stream",
     "text": [
      "Epoch [7/20], loss: 0.50329 acc: 0.75404 val_loss: 0.53750, val_acc: 0.72979, auc_score:0.79504\n"
     ]
    },
    {
     "data": {
      "application/vnd.jupyter.widget-view+json": {
       "model_id": "ae2a58959c25409fa0c04a19e459c70c",
       "version_major": 2,
       "version_minor": 0
      },
      "text/plain": [
       "  0%|          | 0/216 [00:00<?, ?it/s]"
      ]
     },
     "metadata": {},
     "output_type": "display_data"
    },
    {
     "name": "stdout",
     "output_type": "stream",
     "text": [
      "Epoch [8/20], loss: 0.49377 acc: 0.76152 val_loss: 0.56145, val_acc: 0.70214, auc_score:0.79730\n"
     ]
    },
    {
     "data": {
      "application/vnd.jupyter.widget-view+json": {
       "model_id": "78b2ab5ba1c94d8eb1a8983eb45eac84",
       "version_major": 2,
       "version_minor": 0
      },
      "text/plain": [
       "  0%|          | 0/216 [00:00<?, ?it/s]"
      ]
     },
     "metadata": {},
     "output_type": "display_data"
    },
    {
     "name": "stdout",
     "output_type": "stream",
     "text": [
      "Epoch [9/20], loss: 0.48614 acc: 0.76680 val_loss: 0.54208, val_acc: 0.72822, auc_score:0.79855\n"
     ]
    },
    {
     "data": {
      "application/vnd.jupyter.widget-view+json": {
       "model_id": "c87805266bf248f5a6670d76971e5631",
       "version_major": 2,
       "version_minor": 0
      },
      "text/plain": [
       "  0%|          | 0/216 [00:00<?, ?it/s]"
      ]
     },
     "metadata": {},
     "output_type": "display_data"
    },
    {
     "name": "stdout",
     "output_type": "stream",
     "text": [
      "Epoch [10/20], loss: 0.48610 acc: 0.76332 val_loss: 0.55024, val_acc: 0.72144, auc_score:0.79999\n"
     ]
    },
    {
     "data": {
      "application/vnd.jupyter.widget-view+json": {
       "model_id": "c1072f4ed28b47c7a6cf7c7b5985fc46",
       "version_major": 2,
       "version_minor": 0
      },
      "text/plain": [
       "  0%|          | 0/216 [00:00<?, ?it/s]"
      ]
     },
     "metadata": {},
     "output_type": "display_data"
    },
    {
     "name": "stdout",
     "output_type": "stream",
     "text": [
      "Epoch [11/20], loss: 0.46552 acc: 0.77712 val_loss: 0.55079, val_acc: 0.71831, auc_score:0.79021\n"
     ]
    },
    {
     "data": {
      "application/vnd.jupyter.widget-view+json": {
       "model_id": "c0ffd29ffd0a4ac588693896ce6a8a7c",
       "version_major": 2,
       "version_minor": 0
      },
      "text/plain": [
       "  0%|          | 0/216 [00:00<?, ?it/s]"
      ]
     },
     "metadata": {},
     "output_type": "display_data"
    },
    {
     "name": "stdout",
     "output_type": "stream",
     "text": [
      "Epoch [12/20], loss: 0.46119 acc: 0.77956 val_loss: 0.54047, val_acc: 0.72405, auc_score:0.79783\n"
     ]
    },
    {
     "data": {
      "application/vnd.jupyter.widget-view+json": {
       "model_id": "d5d00bf954d740b38a0638dc07fbed0b",
       "version_major": 2,
       "version_minor": 0
      },
      "text/plain": [
       "  0%|          | 0/216 [00:00<?, ?it/s]"
      ]
     },
     "metadata": {},
     "output_type": "display_data"
    },
    {
     "name": "stdout",
     "output_type": "stream",
     "text": [
      "Epoch [13/20], loss: 0.44676 acc: 0.78576 val_loss: 0.54532, val_acc: 0.73031, auc_score:0.79922\n"
     ]
    },
    {
     "data": {
      "application/vnd.jupyter.widget-view+json": {
       "model_id": "cea5f3aead81432dbb2f5959bdae5f91",
       "version_major": 2,
       "version_minor": 0
      },
      "text/plain": [
       "  0%|          | 0/216 [00:00<?, ?it/s]"
      ]
     },
     "metadata": {},
     "output_type": "display_data"
    },
    {
     "name": "stdout",
     "output_type": "stream",
     "text": [
      "Epoch [14/20], loss: 0.43301 acc: 0.80031 val_loss: 0.54170, val_acc: 0.72040, auc_score:0.80078\n"
     ]
    },
    {
     "data": {
      "application/vnd.jupyter.widget-view+json": {
       "model_id": "a42c9fedd84d4ce6913b4189b3902e7d",
       "version_major": 2,
       "version_minor": 0
      },
      "text/plain": [
       "  0%|          | 0/216 [00:00<?, ?it/s]"
      ]
     },
     "metadata": {},
     "output_type": "display_data"
    },
    {
     "name": "stdout",
     "output_type": "stream",
     "text": [
      "Epoch [15/20], loss: 0.41831 acc: 0.80629 val_loss: 0.55126, val_acc: 0.73083, auc_score:0.79757\n"
     ]
    },
    {
     "data": {
      "application/vnd.jupyter.widget-view+json": {
       "model_id": "b498e5e1d41e42888da4a12885ba6728",
       "version_major": 2,
       "version_minor": 0
      },
      "text/plain": [
       "  0%|          | 0/216 [00:00<?, ?it/s]"
      ]
     },
     "metadata": {},
     "output_type": "display_data"
    },
    {
     "name": "stdout",
     "output_type": "stream",
     "text": [
      "Epoch [16/20], loss: 0.40239 acc: 0.81713 val_loss: 0.55670, val_acc: 0.72666, auc_score:0.79807\n"
     ]
    },
    {
     "data": {
      "application/vnd.jupyter.widget-view+json": {
       "model_id": "c9747fcb04414b04b47420ef01a17807",
       "version_major": 2,
       "version_minor": 0
      },
      "text/plain": [
       "  0%|          | 0/216 [00:00<?, ?it/s]"
      ]
     },
     "metadata": {},
     "output_type": "display_data"
    },
    {
     "name": "stdout",
     "output_type": "stream",
     "text": [
      "Epoch [17/20], loss: 0.36141 acc: 0.84403 val_loss: 0.57345, val_acc: 0.72561, auc_score:0.79332\n"
     ]
    },
    {
     "data": {
      "application/vnd.jupyter.widget-view+json": {
       "model_id": "663034e1afab4b2a854be2e5a26b0278",
       "version_major": 2,
       "version_minor": 0
      },
      "text/plain": [
       "  0%|          | 0/216 [00:00<?, ?it/s]"
      ]
     },
     "metadata": {},
     "output_type": "display_data"
    },
    {
     "name": "stdout",
     "output_type": "stream",
     "text": [
      "Epoch [18/20], loss: 0.35072 acc: 0.84739 val_loss: 0.57962, val_acc: 0.71309, auc_score:0.78116\n"
     ]
    },
    {
     "data": {
      "application/vnd.jupyter.widget-view+json": {
       "model_id": "fe00354a55024ff39d66689bf5f1ed88",
       "version_major": 2,
       "version_minor": 0
      },
      "text/plain": [
       "  0%|          | 0/216 [00:00<?, ?it/s]"
      ]
     },
     "metadata": {},
     "output_type": "display_data"
    },
    {
     "name": "stdout",
     "output_type": "stream",
     "text": [
      "Epoch [19/20], loss: 0.33133 acc: 0.85893 val_loss: 0.58367, val_acc: 0.72248, auc_score:0.79619\n"
     ]
    },
    {
     "data": {
      "application/vnd.jupyter.widget-view+json": {
       "model_id": "c0082f671bdd4d399b51a1ec7cc97d14",
       "version_major": 2,
       "version_minor": 0
      },
      "text/plain": [
       "  0%|          | 0/216 [00:00<?, ?it/s]"
      ]
     },
     "metadata": {},
     "output_type": "display_data"
    },
    {
     "name": "stdout",
     "output_type": "stream",
     "text": [
      "Epoch [20/20], loss: 0.31192 acc: 0.86931 val_loss: 0.59639, val_acc: 0.71622, auc_score:0.78988\n",
      "CV [1/10], loss: 0.46283 acc: 0.77858 val_loss: 0.55569, val_acc: 0.71993, auc_score: 0.79184\n"
     ]
    },
    {
     "data": {
      "application/vnd.jupyter.widget-view+json": {
       "model_id": "890bca2e505047e791eb60b620adc153",
       "version_major": 2,
       "version_minor": 0
      },
      "text/plain": [
       "  0%|          | 0/216 [00:00<?, ?it/s]"
      ]
     },
     "metadata": {},
     "output_type": "display_data"
    },
    {
     "name": "stdout",
     "output_type": "stream",
     "text": [
      "Epoch [1/20], loss: 0.65820 acc: 0.67252 val_loss: 0.56990, val_acc: 0.70631, auc_score:0.76445\n"
     ]
    },
    {
     "data": {
      "application/vnd.jupyter.widget-view+json": {
       "model_id": "4574432a644b4aa2acc6bd40b9359b46",
       "version_major": 2,
       "version_minor": 0
      },
      "text/plain": [
       "  0%|          | 0/216 [00:00<?, ?it/s]"
      ]
     },
     "metadata": {},
     "output_type": "display_data"
    },
    {
     "name": "stdout",
     "output_type": "stream",
     "text": [
      "Epoch [2/20], loss: 0.55205 acc: 0.71937 val_loss: 0.58161, val_acc: 0.69118, auc_score:0.75979\n"
     ]
    },
    {
     "data": {
      "application/vnd.jupyter.widget-view+json": {
       "model_id": "15faed120457416b9e02c5888b21e0d9",
       "version_major": 2,
       "version_minor": 0
      },
      "text/plain": [
       "  0%|          | 0/216 [00:00<?, ?it/s]"
      ]
     },
     "metadata": {},
     "output_type": "display_data"
    },
    {
     "name": "stdout",
     "output_type": "stream",
     "text": [
      "Epoch [3/20], loss: 0.53657 acc: 0.72865 val_loss: 0.57647, val_acc: 0.69066, auc_score:0.76538\n"
     ]
    },
    {
     "data": {
      "application/vnd.jupyter.widget-view+json": {
       "model_id": "9f510729d7424306a4b90049aec9d0bf",
       "version_major": 2,
       "version_minor": 0
      },
      "text/plain": [
       "  0%|          | 0/216 [00:00<?, ?it/s]"
      ]
     },
     "metadata": {},
     "output_type": "display_data"
    },
    {
     "name": "stdout",
     "output_type": "stream",
     "text": [
      "Epoch [4/20], loss: 0.51431 acc: 0.74546 val_loss: 0.56226, val_acc: 0.70423, auc_score:0.77005\n"
     ]
    },
    {
     "data": {
      "application/vnd.jupyter.widget-view+json": {
       "model_id": "e1838e7b928f4908b7b69bdb4b652755",
       "version_major": 2,
       "version_minor": 0
      },
      "text/plain": [
       "  0%|          | 0/216 [00:00<?, ?it/s]"
      ]
     },
     "metadata": {},
     "output_type": "display_data"
    },
    {
     "name": "stdout",
     "output_type": "stream",
     "text": [
      "Epoch [5/20], loss: 0.50713 acc: 0.74767 val_loss: 0.59235, val_acc: 0.70892, auc_score:0.77163\n"
     ]
    },
    {
     "data": {
      "application/vnd.jupyter.widget-view+json": {
       "model_id": "ab9a886a5af047fab07bb7805344c8a8",
       "version_major": 2,
       "version_minor": 0
      },
      "text/plain": [
       "  0%|          | 0/216 [00:00<?, ?it/s]"
      ]
     },
     "metadata": {},
     "output_type": "display_data"
    },
    {
     "name": "stdout",
     "output_type": "stream",
     "text": [
      "Epoch [6/20], loss: 0.49425 acc: 0.75770 val_loss: 0.63506, val_acc: 0.65676, auc_score:0.76324\n"
     ]
    },
    {
     "data": {
      "application/vnd.jupyter.widget-view+json": {
       "model_id": "5dc721c0aaab4bb4af93c7ac1ee5cce3",
       "version_major": 2,
       "version_minor": 0
      },
      "text/plain": [
       "  0%|          | 0/216 [00:00<?, ?it/s]"
      ]
     },
     "metadata": {},
     "output_type": "display_data"
    },
    {
     "name": "stdout",
     "output_type": "stream",
     "text": [
      "Epoch [7/20], loss: 0.49671 acc: 0.75532 val_loss: 0.56433, val_acc: 0.70944, auc_score:0.77405\n"
     ]
    },
    {
     "data": {
      "application/vnd.jupyter.widget-view+json": {
       "model_id": "c9b5cc20aab44dca99e58a37e0dd04ca",
       "version_major": 2,
       "version_minor": 0
      },
      "text/plain": [
       "  0%|          | 0/216 [00:00<?, ?it/s]"
      ]
     },
     "metadata": {},
     "output_type": "display_data"
    },
    {
     "name": "stdout",
     "output_type": "stream",
     "text": [
      "Epoch [8/20], loss: 0.46517 acc: 0.77463 val_loss: 0.58610, val_acc: 0.69275, auc_score:0.77100\n"
     ]
    },
    {
     "data": {
      "application/vnd.jupyter.widget-view+json": {
       "model_id": "0ccf38e9d9c142248da0761baa61b571",
       "version_major": 2,
       "version_minor": 0
      },
      "text/plain": [
       "  0%|          | 0/216 [00:00<?, ?it/s]"
      ]
     },
     "metadata": {},
     "output_type": "display_data"
    },
    {
     "name": "stdout",
     "output_type": "stream",
     "text": [
      "Epoch [9/20], loss: 0.45130 acc: 0.78588 val_loss: 0.57486, val_acc: 0.70996, auc_score:0.77275\n"
     ]
    },
    {
     "data": {
      "application/vnd.jupyter.widget-view+json": {
       "model_id": "4ee8de34d7ad40a9ab40e8420970e13d",
       "version_major": 2,
       "version_minor": 0
      },
      "text/plain": [
       "  0%|          | 0/216 [00:00<?, ?it/s]"
      ]
     },
     "metadata": {},
     "output_type": "display_data"
    },
    {
     "name": "stdout",
     "output_type": "stream",
     "text": [
      "Epoch [10/20], loss: 0.44479 acc: 0.78622 val_loss: 0.58326, val_acc: 0.70162, auc_score:0.75960\n"
     ]
    },
    {
     "data": {
      "application/vnd.jupyter.widget-view+json": {
       "model_id": "f825ae84831e42e192d92e73a3e39527",
       "version_major": 2,
       "version_minor": 0
      },
      "text/plain": [
       "  0%|          | 0/216 [00:00<?, ?it/s]"
      ]
     },
     "metadata": {},
     "output_type": "display_data"
    },
    {
     "name": "stdout",
     "output_type": "stream",
     "text": [
      "Epoch [11/20], loss: 0.43702 acc: 0.79631 val_loss: 0.58401, val_acc: 0.70057, auc_score:0.76671\n"
     ]
    },
    {
     "data": {
      "application/vnd.jupyter.widget-view+json": {
       "model_id": "3cd364e5ebf547829ac9caaa5823a6af",
       "version_major": 2,
       "version_minor": 0
      },
      "text/plain": [
       "  0%|          | 0/216 [00:00<?, ?it/s]"
      ]
     },
     "metadata": {},
     "output_type": "display_data"
    },
    {
     "name": "stdout",
     "output_type": "stream",
     "text": [
      "Epoch [12/20], loss: 0.40897 acc: 0.81516 val_loss: 0.64955, val_acc: 0.67658, auc_score:0.75948\n"
     ]
    },
    {
     "data": {
      "application/vnd.jupyter.widget-view+json": {
       "model_id": "6b55887c93214b72aec622cf0a131a2a",
       "version_major": 2,
       "version_minor": 0
      },
      "text/plain": [
       "  0%|          | 0/216 [00:00<?, ?it/s]"
      ]
     },
     "metadata": {},
     "output_type": "display_data"
    },
    {
     "name": "stdout",
     "output_type": "stream",
     "text": [
      "Epoch [13/20], loss: 0.38769 acc: 0.82432 val_loss: 0.61174, val_acc: 0.70110, auc_score:0.76660\n"
     ]
    },
    {
     "data": {
      "application/vnd.jupyter.widget-view+json": {
       "model_id": "b81441e3190344c5838bef471745743c",
       "version_major": 2,
       "version_minor": 0
      },
      "text/plain": [
       "  0%|          | 0/216 [00:00<?, ?it/s]"
      ]
     },
     "metadata": {},
     "output_type": "display_data"
    },
    {
     "name": "stdout",
     "output_type": "stream",
     "text": [
      "Epoch [14/20], loss: 0.37221 acc: 0.83423 val_loss: 0.61729, val_acc: 0.70944, auc_score:0.76888\n"
     ]
    },
    {
     "data": {
      "application/vnd.jupyter.widget-view+json": {
       "model_id": "8a07217e78364b33accb998a6946216f",
       "version_major": 2,
       "version_minor": 0
      },
      "text/plain": [
       "  0%|          | 0/216 [00:00<?, ?it/s]"
      ]
     },
     "metadata": {},
     "output_type": "display_data"
    },
    {
     "name": "stdout",
     "output_type": "stream",
     "text": [
      "Epoch [15/20], loss: 0.36066 acc: 0.83928 val_loss: 0.63807, val_acc: 0.67919, auc_score:0.76043\n"
     ]
    },
    {
     "data": {
      "application/vnd.jupyter.widget-view+json": {
       "model_id": "e46216bae2c74420a33bb51b42d6bf78",
       "version_major": 2,
       "version_minor": 0
      },
      "text/plain": [
       "  0%|          | 0/216 [00:00<?, ?it/s]"
      ]
     },
     "metadata": {},
     "output_type": "display_data"
    },
    {
     "name": "stdout",
     "output_type": "stream",
     "text": [
      "Epoch [16/20], loss: 0.33621 acc: 0.85580 val_loss: 0.63533, val_acc: 0.68962, auc_score:0.75545\n"
     ]
    },
    {
     "data": {
      "application/vnd.jupyter.widget-view+json": {
       "model_id": "ef746ebfa6624a80bb3b2d379688b795",
       "version_major": 2,
       "version_minor": 0
      },
      "text/plain": [
       "  0%|          | 0/216 [00:00<?, ?it/s]"
      ]
     },
     "metadata": {},
     "output_type": "display_data"
    },
    {
     "name": "stdout",
     "output_type": "stream",
     "text": [
      "Epoch [17/20], loss: 0.30396 acc: 0.87441 val_loss: 0.65260, val_acc: 0.69640, auc_score:0.75468\n"
     ]
    },
    {
     "data": {
      "application/vnd.jupyter.widget-view+json": {
       "model_id": "a6f709eb6ae342b0873c1a7f6b4fdd05",
       "version_major": 2,
       "version_minor": 0
      },
      "text/plain": [
       "  0%|          | 0/216 [00:00<?, ?it/s]"
      ]
     },
     "metadata": {},
     "output_type": "display_data"
    },
    {
     "name": "stdout",
     "output_type": "stream",
     "text": [
      "Epoch [18/20], loss: 0.27200 acc: 0.89343 val_loss: 0.67513, val_acc: 0.69223, auc_score:0.75408\n"
     ]
    },
    {
     "data": {
      "application/vnd.jupyter.widget-view+json": {
       "model_id": "c29dbe86d776412ea0f16889f56f4959",
       "version_major": 2,
       "version_minor": 0
      },
      "text/plain": [
       "  0%|          | 0/216 [00:00<?, ?it/s]"
      ]
     },
     "metadata": {},
     "output_type": "display_data"
    },
    {
     "name": "stdout",
     "output_type": "stream",
     "text": [
      "Epoch [19/20], loss: 0.28444 acc: 0.88247 val_loss: 0.67790, val_acc: 0.69953, auc_score:0.76101\n"
     ]
    },
    {
     "data": {
      "application/vnd.jupyter.widget-view+json": {
       "model_id": "9130c716e7884ceea517f1d1d4ebb79c",
       "version_major": 2,
       "version_minor": 0
      },
      "text/plain": [
       "  0%|          | 0/216 [00:00<?, ?it/s]"
      ]
     },
     "metadata": {},
     "output_type": "display_data"
    },
    {
     "name": "stdout",
     "output_type": "stream",
     "text": [
      "Epoch [20/20], loss: 0.23643 acc: 0.91111 val_loss: 0.68661, val_acc: 0.70162, auc_score:0.75372\n",
      "CV [2/10], loss: 0.42600 acc: 0.80000 val_loss: 0.61272, val_acc: 0.69591, auc_score: 0.76365\n"
     ]
    },
    {
     "data": {
      "application/vnd.jupyter.widget-view+json": {
       "model_id": "5a35b3cff5dd45bf9cfa1dfa57c8aafc",
       "version_major": 2,
       "version_minor": 0
      },
      "text/plain": [
       "  0%|          | 0/216 [00:00<?, ?it/s]"
      ]
     },
     "metadata": {},
     "output_type": "display_data"
    },
    {
     "name": "stdout",
     "output_type": "stream",
     "text": [
      "Epoch [1/20], loss: 0.65500 acc: 0.67803 val_loss: 0.57561, val_acc: 0.69379, auc_score:0.75931\n"
     ]
    },
    {
     "data": {
      "application/vnd.jupyter.widget-view+json": {
       "model_id": "b3579ace357143368faf5a297b53f533",
       "version_major": 2,
       "version_minor": 0
      },
      "text/plain": [
       "  0%|          | 0/216 [00:00<?, ?it/s]"
      ]
     },
     "metadata": {},
     "output_type": "display_data"
    },
    {
     "name": "stdout",
     "output_type": "stream",
     "text": [
      "Epoch [2/20], loss: 0.56224 acc: 0.71114 val_loss: 0.57429, val_acc: 0.69066, auc_score:0.76154\n"
     ]
    },
    {
     "data": {
      "application/vnd.jupyter.widget-view+json": {
       "model_id": "9a674e9fe7a94e9797d952a2e838628f",
       "version_major": 2,
       "version_minor": 0
      },
      "text/plain": [
       "  0%|          | 0/216 [00:00<?, ?it/s]"
      ]
     },
     "metadata": {},
     "output_type": "display_data"
    },
    {
     "name": "stdout",
     "output_type": "stream",
     "text": [
      "Epoch [3/20], loss: 0.53872 acc: 0.72795 val_loss: 0.57173, val_acc: 0.70579, auc_score:0.76837\n"
     ]
    },
    {
     "data": {
      "application/vnd.jupyter.widget-view+json": {
       "model_id": "09c8bc510fcf4a23b36d0fee774a15ab",
       "version_major": 2,
       "version_minor": 0
      },
      "text/plain": [
       "  0%|          | 0/216 [00:00<?, ?it/s]"
      ]
     },
     "metadata": {},
     "output_type": "display_data"
    },
    {
     "name": "stdout",
     "output_type": "stream",
     "text": [
      "Epoch [4/20], loss: 0.54010 acc: 0.72360 val_loss: 0.59077, val_acc: 0.68284, auc_score:0.77341\n"
     ]
    },
    {
     "data": {
      "application/vnd.jupyter.widget-view+json": {
       "model_id": "2092fdbe195949c3bd8587e2f5696d23",
       "version_major": 2,
       "version_minor": 0
      },
      "text/plain": [
       "  0%|          | 0/216 [00:00<?, ?it/s]"
      ]
     },
     "metadata": {},
     "output_type": "display_data"
    },
    {
     "name": "stdout",
     "output_type": "stream",
     "text": [
      "Epoch [5/20], loss: 0.52134 acc: 0.73711 val_loss: 0.57046, val_acc: 0.69797, auc_score:0.77028\n"
     ]
    },
    {
     "data": {
      "application/vnd.jupyter.widget-view+json": {
       "model_id": "88a9f7dbbb7d49c2b6c0604d4d36ee8d",
       "version_major": 2,
       "version_minor": 0
      },
      "text/plain": [
       "  0%|          | 0/216 [00:00<?, ?it/s]"
      ]
     },
     "metadata": {},
     "output_type": "display_data"
    },
    {
     "name": "stdout",
     "output_type": "stream",
     "text": [
      "Epoch [6/20], loss: 0.52255 acc: 0.73798 val_loss: 0.56702, val_acc: 0.70318, auc_score:0.77416\n"
     ]
    },
    {
     "data": {
      "application/vnd.jupyter.widget-view+json": {
       "model_id": "c4cebbd15c064ad1b520cbaab726242d",
       "version_major": 2,
       "version_minor": 0
      },
      "text/plain": [
       "  0%|          | 0/216 [00:00<?, ?it/s]"
      ]
     },
     "metadata": {},
     "output_type": "display_data"
    },
    {
     "name": "stdout",
     "output_type": "stream",
     "text": [
      "Epoch [7/20], loss: 0.51508 acc: 0.74285 val_loss: 0.58018, val_acc: 0.69901, auc_score:0.77344\n"
     ]
    },
    {
     "data": {
      "application/vnd.jupyter.widget-view+json": {
       "model_id": "3bb81506fd114384b0971fb8a4989fe2",
       "version_major": 2,
       "version_minor": 0
      },
      "text/plain": [
       "  0%|          | 0/216 [00:00<?, ?it/s]"
      ]
     },
     "metadata": {},
     "output_type": "display_data"
    },
    {
     "name": "stdout",
     "output_type": "stream",
     "text": [
      "Epoch [8/20], loss: 0.51075 acc: 0.74581 val_loss: 0.57656, val_acc: 0.69744, auc_score:0.77083\n"
     ]
    },
    {
     "data": {
      "application/vnd.jupyter.widget-view+json": {
       "model_id": "2fb7b1d79e764f9ea6af319c7967363e",
       "version_major": 2,
       "version_minor": 0
      },
      "text/plain": [
       "  0%|          | 0/216 [00:00<?, ?it/s]"
      ]
     },
     "metadata": {},
     "output_type": "display_data"
    },
    {
     "name": "stdout",
     "output_type": "stream",
     "text": [
      "Epoch [9/20], loss: 0.50174 acc: 0.74743 val_loss: 0.56818, val_acc: 0.70683, auc_score:0.77469\n"
     ]
    },
    {
     "data": {
      "application/vnd.jupyter.widget-view+json": {
       "model_id": "a8d78446ec06457f8ebe0ad7d40c11eb",
       "version_major": 2,
       "version_minor": 0
      },
      "text/plain": [
       "  0%|          | 0/216 [00:00<?, ?it/s]"
      ]
     },
     "metadata": {},
     "output_type": "display_data"
    },
    {
     "name": "stdout",
     "output_type": "stream",
     "text": [
      "Epoch [10/20], loss: 0.49738 acc: 0.75770 val_loss: 0.56859, val_acc: 0.70318, auc_score:0.77454\n"
     ]
    },
    {
     "data": {
      "application/vnd.jupyter.widget-view+json": {
       "model_id": "df0b60c408634da79091a6f3808fb4f7",
       "version_major": 2,
       "version_minor": 0
      },
      "text/plain": [
       "  0%|          | 0/216 [00:00<?, ?it/s]"
      ]
     },
     "metadata": {},
     "output_type": "display_data"
    },
    {
     "name": "stdout",
     "output_type": "stream",
     "text": [
      "Epoch [11/20], loss: 0.49033 acc: 0.75944 val_loss: 0.58421, val_acc: 0.69797, auc_score:0.77680\n"
     ]
    },
    {
     "data": {
      "application/vnd.jupyter.widget-view+json": {
       "model_id": "d2398f43f3664748aedf5619734cfcb5",
       "version_major": 2,
       "version_minor": 0
      },
      "text/plain": [
       "  0%|          | 0/216 [00:00<?, ?it/s]"
      ]
     },
     "metadata": {},
     "output_type": "display_data"
    },
    {
     "name": "stdout",
     "output_type": "stream",
     "text": [
      "Epoch [12/20], loss: 0.47871 acc: 0.76738 val_loss: 0.62396, val_acc: 0.66354, auc_score:0.77339\n"
     ]
    },
    {
     "data": {
      "application/vnd.jupyter.widget-view+json": {
       "model_id": "32a3440d34d645eebe26c186320af2bf",
       "version_major": 2,
       "version_minor": 0
      },
      "text/plain": [
       "  0%|          | 0/216 [00:00<?, ?it/s]"
      ]
     },
     "metadata": {},
     "output_type": "display_data"
    },
    {
     "name": "stdout",
     "output_type": "stream",
     "text": [
      "Epoch [13/20], loss: 0.48268 acc: 0.76494 val_loss: 0.56878, val_acc: 0.70475, auc_score:0.77667\n"
     ]
    },
    {
     "data": {
      "application/vnd.jupyter.widget-view+json": {
       "model_id": "73008361c5da4c89b13aa45e6ab4e1bc",
       "version_major": 2,
       "version_minor": 0
      },
      "text/plain": [
       "  0%|          | 0/216 [00:00<?, ?it/s]"
      ]
     },
     "metadata": {},
     "output_type": "display_data"
    },
    {
     "name": "stdout",
     "output_type": "stream",
     "text": [
      "Epoch [14/20], loss: 0.45858 acc: 0.78298 val_loss: 0.58235, val_acc: 0.69744, auc_score:0.77663\n"
     ]
    },
    {
     "data": {
      "application/vnd.jupyter.widget-view+json": {
       "model_id": "fb1d861c3b7c4baa90315e7609bc0cc2",
       "version_major": 2,
       "version_minor": 0
      },
      "text/plain": [
       "  0%|          | 0/216 [00:00<?, ?it/s]"
      ]
     },
     "metadata": {},
     "output_type": "display_data"
    },
    {
     "name": "stdout",
     "output_type": "stream",
     "text": [
      "Epoch [15/20], loss: 0.44226 acc: 0.79365 val_loss: 0.61410, val_acc: 0.69066, auc_score:0.77667\n"
     ]
    },
    {
     "data": {
      "application/vnd.jupyter.widget-view+json": {
       "model_id": "d36b74219f7049a3b48b4d6883ffb368",
       "version_major": 2,
       "version_minor": 0
      },
      "text/plain": [
       "  0%|          | 0/216 [00:00<?, ?it/s]"
      ]
     },
     "metadata": {},
     "output_type": "display_data"
    },
    {
     "name": "stdout",
     "output_type": "stream",
     "text": [
      "Epoch [16/20], loss: 0.42815 acc: 0.80501 val_loss: 0.58439, val_acc: 0.69953, auc_score:0.77293\n"
     ]
    },
    {
     "data": {
      "application/vnd.jupyter.widget-view+json": {
       "model_id": "9cb6cea4dd644cccbe77043dfcbf53b5",
       "version_major": 2,
       "version_minor": 0
      },
      "text/plain": [
       "  0%|          | 0/216 [00:00<?, ?it/s]"
      ]
     },
     "metadata": {},
     "output_type": "display_data"
    },
    {
     "name": "stdout",
     "output_type": "stream",
     "text": [
      "Epoch [17/20], loss: 0.40398 acc: 0.81550 val_loss: 0.62460, val_acc: 0.70057, auc_score:0.77822\n"
     ]
    },
    {
     "data": {
      "application/vnd.jupyter.widget-view+json": {
       "model_id": "c8b3c521d7f249c4b5c141229ec9f49e",
       "version_major": 2,
       "version_minor": 0
      },
      "text/plain": [
       "  0%|          | 0/216 [00:00<?, ?it/s]"
      ]
     },
     "metadata": {},
     "output_type": "display_data"
    },
    {
     "name": "stdout",
     "output_type": "stream",
     "text": [
      "Epoch [18/20], loss: 0.38012 acc: 0.83342 val_loss: 0.62179, val_acc: 0.69640, auc_score:0.77029\n"
     ]
    },
    {
     "data": {
      "application/vnd.jupyter.widget-view+json": {
       "model_id": "44944be402574f54b6f10deaccf8743c",
       "version_major": 2,
       "version_minor": 0
      },
      "text/plain": [
       "  0%|          | 0/216 [00:00<?, ?it/s]"
      ]
     },
     "metadata": {},
     "output_type": "display_data"
    },
    {
     "name": "stdout",
     "output_type": "stream",
     "text": [
      "Epoch [19/20], loss: 0.37617 acc: 0.83238 val_loss: 0.59439, val_acc: 0.70631, auc_score:0.76954\n"
     ]
    },
    {
     "data": {
      "application/vnd.jupyter.widget-view+json": {
       "model_id": "fbdaa9da98b74ef7b8241fe113c77fa1",
       "version_major": 2,
       "version_minor": 0
      },
      "text/plain": [
       "  0%|          | 0/216 [00:00<?, ?it/s]"
      ]
     },
     "metadata": {},
     "output_type": "display_data"
    },
    {
     "name": "stdout",
     "output_type": "stream",
     "text": [
      "Epoch [20/20], loss: 0.36388 acc: 0.83667 val_loss: 0.61439, val_acc: 0.70057, auc_score:0.76831\n",
      "CV [3/10], loss: 0.48349 acc: 0.76505 val_loss: 0.58782, val_acc: 0.69692, auc_score: 0.77200\n"
     ]
    },
    {
     "data": {
      "application/vnd.jupyter.widget-view+json": {
       "model_id": "22ba6f17f88847dc877fd781b371d967",
       "version_major": 2,
       "version_minor": 0
      },
      "text/plain": [
       "  0%|          | 0/216 [00:00<?, ?it/s]"
      ]
     },
     "metadata": {},
     "output_type": "display_data"
    },
    {
     "name": "stdout",
     "output_type": "stream",
     "text": [
      "Epoch [1/20], loss: 0.67065 acc: 0.67270 val_loss: 0.56035, val_acc: 0.71049, auc_score:0.77721\n"
     ]
    },
    {
     "data": {
      "application/vnd.jupyter.widget-view+json": {
       "model_id": "2b2f3b94df9145a0ba060ad24f2b5c5a",
       "version_major": 2,
       "version_minor": 0
      },
      "text/plain": [
       "  0%|          | 0/216 [00:00<?, ?it/s]"
      ]
     },
     "metadata": {},
     "output_type": "display_data"
    },
    {
     "name": "stdout",
     "output_type": "stream",
     "text": [
      "Epoch [2/20], loss: 0.55153 acc: 0.72123 val_loss: 0.55883, val_acc: 0.71101, auc_score:0.77022\n"
     ]
    },
    {
     "data": {
      "application/vnd.jupyter.widget-view+json": {
       "model_id": "b6595a602b8f4356a3934b76ad2e60a2",
       "version_major": 2,
       "version_minor": 0
      },
      "text/plain": [
       "  0%|          | 0/216 [00:00<?, ?it/s]"
      ]
     },
     "metadata": {},
     "output_type": "display_data"
    },
    {
     "name": "stdout",
     "output_type": "stream",
     "text": [
      "Epoch [3/20], loss: 0.54640 acc: 0.72128 val_loss: 0.55913, val_acc: 0.70423, auc_score:0.77930\n"
     ]
    },
    {
     "data": {
      "application/vnd.jupyter.widget-view+json": {
       "model_id": "363d41fb52444be28507079d8be6f1ab",
       "version_major": 2,
       "version_minor": 0
      },
      "text/plain": [
       "  0%|          | 0/216 [00:00<?, ?it/s]"
      ]
     },
     "metadata": {},
     "output_type": "display_data"
    },
    {
     "name": "stdout",
     "output_type": "stream",
     "text": [
      "Epoch [4/20], loss: 0.52649 acc: 0.73479 val_loss: 0.57552, val_acc: 0.69588, auc_score:0.77749\n"
     ]
    },
    {
     "data": {
      "application/vnd.jupyter.widget-view+json": {
       "model_id": "b00dc8a8b9594d708e52105f53e75536",
       "version_major": 2,
       "version_minor": 0
      },
      "text/plain": [
       "  0%|          | 0/216 [00:00<?, ?it/s]"
      ]
     },
     "metadata": {},
     "output_type": "display_data"
    },
    {
     "name": "stdout",
     "output_type": "stream",
     "text": [
      "Epoch [5/20], loss: 0.51183 acc: 0.74222 val_loss: 0.55734, val_acc: 0.71049, auc_score:0.78316\n"
     ]
    },
    {
     "data": {
      "application/vnd.jupyter.widget-view+json": {
       "model_id": "214dcef140d847768cff29940bd533d0",
       "version_major": 2,
       "version_minor": 0
      },
      "text/plain": [
       "  0%|          | 0/216 [00:00<?, ?it/s]"
      ]
     },
     "metadata": {},
     "output_type": "display_data"
    },
    {
     "name": "stdout",
     "output_type": "stream",
     "text": [
      "Epoch [6/20], loss: 0.51484 acc: 0.74483 val_loss: 0.58053, val_acc: 0.68597, auc_score:0.78170\n"
     ]
    },
    {
     "data": {
      "application/vnd.jupyter.widget-view+json": {
       "model_id": "7d626e2cd89e44899b45ea44ac525c74",
       "version_major": 2,
       "version_minor": 0
      },
      "text/plain": [
       "  0%|          | 0/216 [00:00<?, ?it/s]"
      ]
     },
     "metadata": {},
     "output_type": "display_data"
    },
    {
     "name": "stdout",
     "output_type": "stream",
     "text": [
      "Epoch [7/20], loss: 0.50166 acc: 0.75457 val_loss: 0.56765, val_acc: 0.71309, auc_score:0.78060\n"
     ]
    },
    {
     "data": {
      "application/vnd.jupyter.widget-view+json": {
       "model_id": "5c855e1f3bdc4eeab8877fa260f89d49",
       "version_major": 2,
       "version_minor": 0
      },
      "text/plain": [
       "  0%|          | 0/216 [00:00<?, ?it/s]"
      ]
     },
     "metadata": {},
     "output_type": "display_data"
    },
    {
     "name": "stdout",
     "output_type": "stream",
     "text": [
      "Epoch [8/20], loss: 0.49245 acc: 0.75775 val_loss: 0.56358, val_acc: 0.71674, auc_score:0.78112\n"
     ]
    },
    {
     "data": {
      "application/vnd.jupyter.widget-view+json": {
       "model_id": "b0c7c9b85e694d558501d56110bb2047",
       "version_major": 2,
       "version_minor": 0
      },
      "text/plain": [
       "  0%|          | 0/216 [00:00<?, ?it/s]"
      ]
     },
     "metadata": {},
     "output_type": "display_data"
    },
    {
     "name": "stdout",
     "output_type": "stream",
     "text": [
      "Epoch [9/20], loss: 0.47699 acc: 0.77237 val_loss: 0.56917, val_acc: 0.71101, auc_score:0.78131\n"
     ]
    },
    {
     "data": {
      "application/vnd.jupyter.widget-view+json": {
       "model_id": "a49cf426f5a84aeab63d30d8b6467116",
       "version_major": 2,
       "version_minor": 0
      },
      "text/plain": [
       "  0%|          | 0/216 [00:00<?, ?it/s]"
      ]
     },
     "metadata": {},
     "output_type": "display_data"
    },
    {
     "name": "stdout",
     "output_type": "stream",
     "text": [
      "Epoch [10/20], loss: 0.46345 acc: 0.77985 val_loss: 0.56255, val_acc: 0.71831, auc_score:0.78005\n"
     ]
    },
    {
     "data": {
      "application/vnd.jupyter.widget-view+json": {
       "model_id": "fa8165475140472e8e4aea5764b69404",
       "version_major": 2,
       "version_minor": 0
      },
      "text/plain": [
       "  0%|          | 0/216 [00:00<?, ?it/s]"
      ]
     },
     "metadata": {},
     "output_type": "display_data"
    },
    {
     "name": "stdout",
     "output_type": "stream",
     "text": [
      "Epoch [11/20], loss: 0.45223 acc: 0.78483 val_loss: 0.57544, val_acc: 0.70788, auc_score:0.78102\n"
     ]
    },
    {
     "data": {
      "application/vnd.jupyter.widget-view+json": {
       "model_id": "48adf66592454907b844bfaeb72e5298",
       "version_major": 2,
       "version_minor": 0
      },
      "text/plain": [
       "  0%|          | 0/216 [00:00<?, ?it/s]"
      ]
     },
     "metadata": {},
     "output_type": "display_data"
    },
    {
     "name": "stdout",
     "output_type": "stream",
     "text": [
      "Epoch [12/20], loss: 0.43396 acc: 0.79602 val_loss: 0.57290, val_acc: 0.70370, auc_score:0.77196\n"
     ]
    },
    {
     "data": {
      "application/vnd.jupyter.widget-view+json": {
       "model_id": "4660a11c2d2f46099acc9014c6441405",
       "version_major": 2,
       "version_minor": 0
      },
      "text/plain": [
       "  0%|          | 0/216 [00:00<?, ?it/s]"
      ]
     },
     "metadata": {},
     "output_type": "display_data"
    },
    {
     "name": "stdout",
     "output_type": "stream",
     "text": [
      "Epoch [13/20], loss: 0.43005 acc: 0.79892 val_loss: 0.58374, val_acc: 0.70370, auc_score:0.76169\n"
     ]
    },
    {
     "data": {
      "application/vnd.jupyter.widget-view+json": {
       "model_id": "d144fedc13434d1696c4aa8f2126ac3e",
       "version_major": 2,
       "version_minor": 0
      },
      "text/plain": [
       "  0%|          | 0/216 [00:00<?, ?it/s]"
      ]
     },
     "metadata": {},
     "output_type": "display_data"
    },
    {
     "name": "stdout",
     "output_type": "stream",
     "text": [
      "Epoch [14/20], loss: 0.42697 acc: 0.79921 val_loss: 0.60175, val_acc: 0.69901, auc_score:0.78019\n"
     ]
    },
    {
     "data": {
      "application/vnd.jupyter.widget-view+json": {
       "model_id": "9cc5a3b295924ea693bae712d282360d",
       "version_major": 2,
       "version_minor": 0
      },
      "text/plain": [
       "  0%|          | 0/216 [00:00<?, ?it/s]"
      ]
     },
     "metadata": {},
     "output_type": "display_data"
    },
    {
     "name": "stdout",
     "output_type": "stream",
     "text": [
      "Epoch [15/20], loss: 0.39880 acc: 0.81678 val_loss: 0.58982, val_acc: 0.71414, auc_score:0.78052\n"
     ]
    },
    {
     "data": {
      "application/vnd.jupyter.widget-view+json": {
       "model_id": "292137a946174542bf09ba2c9a8ce13d",
       "version_major": 2,
       "version_minor": 0
      },
      "text/plain": [
       "  0%|          | 0/216 [00:00<?, ?it/s]"
      ]
     },
     "metadata": {},
     "output_type": "display_data"
    },
    {
     "name": "stdout",
     "output_type": "stream",
     "text": [
      "Epoch [16/20], loss: 0.37373 acc: 0.83377 val_loss: 0.59099, val_acc: 0.71570, auc_score:0.78090\n"
     ]
    },
    {
     "data": {
      "application/vnd.jupyter.widget-view+json": {
       "model_id": "7f361a66244445d8b816b37473e2e58b",
       "version_major": 2,
       "version_minor": 0
      },
      "text/plain": [
       "  0%|          | 0/216 [00:00<?, ?it/s]"
      ]
     },
     "metadata": {},
     "output_type": "display_data"
    },
    {
     "name": "stdout",
     "output_type": "stream",
     "text": [
      "Epoch [17/20], loss: 0.36583 acc: 0.83928 val_loss: 0.60698, val_acc: 0.71257, auc_score:0.77912\n"
     ]
    },
    {
     "data": {
      "application/vnd.jupyter.widget-view+json": {
       "model_id": "0bef6016a44c4e0f91926a2d94ca1b92",
       "version_major": 2,
       "version_minor": 0
      },
      "text/plain": [
       "  0%|          | 0/216 [00:00<?, ?it/s]"
      ]
     },
     "metadata": {},
     "output_type": "display_data"
    },
    {
     "name": "stdout",
     "output_type": "stream",
     "text": [
      "Epoch [18/20], loss: 0.32337 acc: 0.86548 val_loss: 0.60469, val_acc: 0.70631, auc_score:0.77482\n"
     ]
    },
    {
     "data": {
      "application/vnd.jupyter.widget-view+json": {
       "model_id": "510d997f397741108e616f79a598f598",
       "version_major": 2,
       "version_minor": 0
      },
      "text/plain": [
       "  0%|          | 0/216 [00:00<?, ?it/s]"
      ]
     },
     "metadata": {},
     "output_type": "display_data"
    },
    {
     "name": "stdout",
     "output_type": "stream",
     "text": [
      "Epoch [19/20], loss: 0.30528 acc: 0.87175 val_loss: 0.63289, val_acc: 0.71570, auc_score:0.77215\n"
     ]
    },
    {
     "data": {
      "application/vnd.jupyter.widget-view+json": {
       "model_id": "b1abef0bd9f042de8ccc86fe5c91f7d1",
       "version_major": 2,
       "version_minor": 0
      },
      "text/plain": [
       "  0%|          | 0/216 [00:00<?, ?it/s]"
      ]
     },
     "metadata": {},
     "output_type": "display_data"
    },
    {
     "name": "stdout",
     "output_type": "stream",
     "text": [
      "Epoch [20/20], loss: 0.27445 acc: 0.89059 val_loss: 0.65006, val_acc: 0.70579, auc_score:0.76746\n",
      "CV [4/10], loss: 0.45205 acc: 0.78491 val_loss: 0.58320, val_acc: 0.70809, auc_score: 0.77710\n"
     ]
    },
    {
     "data": {
      "application/vnd.jupyter.widget-view+json": {
       "model_id": "66d94781e80641c58b8be28f1fb17055",
       "version_major": 2,
       "version_minor": 0
      },
      "text/plain": [
       "  0%|          | 0/216 [00:00<?, ?it/s]"
      ]
     },
     "metadata": {},
     "output_type": "display_data"
    },
    {
     "name": "stdout",
     "output_type": "stream",
     "text": [
      "Epoch [1/20], loss: 0.66809 acc: 0.67851 val_loss: 0.58014, val_acc: 0.69676, auc_score:0.75709\n"
     ]
    },
    {
     "data": {
      "application/vnd.jupyter.widget-view+json": {
       "model_id": "6bc1cd30bb644c5b8b8611bea565b48e",
       "version_major": 2,
       "version_minor": 0
      },
      "text/plain": [
       "  0%|          | 0/216 [00:00<?, ?it/s]"
      ]
     },
     "metadata": {},
     "output_type": "display_data"
    },
    {
     "name": "stdout",
     "output_type": "stream",
     "text": [
      "Epoch [2/20], loss: 0.55954 acc: 0.71278 val_loss: 0.57477, val_acc: 0.69937, auc_score:0.76063\n"
     ]
    },
    {
     "data": {
      "application/vnd.jupyter.widget-view+json": {
       "model_id": "d210f26d8edb43d4898ea31efa0fd5b1",
       "version_major": 2,
       "version_minor": 0
      },
      "text/plain": [
       "  0%|          | 0/216 [00:00<?, ?it/s]"
      ]
     },
     "metadata": {},
     "output_type": "display_data"
    },
    {
     "name": "stdout",
     "output_type": "stream",
     "text": [
      "Epoch [3/20], loss: 0.55483 acc: 0.71452 val_loss: 0.57447, val_acc: 0.70042, auc_score:0.76574\n"
     ]
    },
    {
     "data": {
      "application/vnd.jupyter.widget-view+json": {
       "model_id": "c990cd6c1cf044ec93b1d572a72d80da",
       "version_major": 2,
       "version_minor": 0
      },
      "text/plain": [
       "  0%|          | 0/216 [00:00<?, ?it/s]"
      ]
     },
     "metadata": {},
     "output_type": "display_data"
    },
    {
     "name": "stdout",
     "output_type": "stream",
     "text": [
      "Epoch [4/20], loss: 0.53076 acc: 0.73000 val_loss: 0.57031, val_acc: 0.70355, auc_score:0.77209\n"
     ]
    },
    {
     "data": {
      "application/vnd.jupyter.widget-view+json": {
       "model_id": "c320274154e2431a881e380ca1227103",
       "version_major": 2,
       "version_minor": 0
      },
      "text/plain": [
       "  0%|          | 0/216 [00:00<?, ?it/s]"
      ]
     },
     "metadata": {},
     "output_type": "display_data"
    },
    {
     "name": "stdout",
     "output_type": "stream",
     "text": [
      "Epoch [5/20], loss: 0.52830 acc: 0.73626 val_loss: 0.57647, val_acc: 0.70668, auc_score:0.77030\n"
     ]
    },
    {
     "data": {
      "application/vnd.jupyter.widget-view+json": {
       "model_id": "17e2e1c4a7324f6a8b90eb2ac4afad3f",
       "version_major": 2,
       "version_minor": 0
      },
      "text/plain": [
       "  0%|          | 0/216 [00:00<?, ?it/s]"
      ]
     },
     "metadata": {},
     "output_type": "display_data"
    },
    {
     "name": "stdout",
     "output_type": "stream",
     "text": [
      "Epoch [6/20], loss: 0.51889 acc: 0.73922 val_loss: 0.57096, val_acc: 0.70198, auc_score:0.76937\n"
     ]
    },
    {
     "data": {
      "application/vnd.jupyter.widget-view+json": {
       "model_id": "3298c2267c4345668e808ecbb99b0703",
       "version_major": 2,
       "version_minor": 0
      },
      "text/plain": [
       "  0%|          | 0/216 [00:00<?, ?it/s]"
      ]
     },
     "metadata": {},
     "output_type": "display_data"
    },
    {
     "name": "stdout",
     "output_type": "stream",
     "text": [
      "Epoch [7/20], loss: 0.51268 acc: 0.74304 val_loss: 0.56770, val_acc: 0.70511, auc_score:0.76818\n"
     ]
    },
    {
     "data": {
      "application/vnd.jupyter.widget-view+json": {
       "model_id": "71cba243e0a84cba91bbb9bb3541e3c3",
       "version_major": 2,
       "version_minor": 0
      },
      "text/plain": [
       "  0%|          | 0/216 [00:00<?, ?it/s]"
      ]
     },
     "metadata": {},
     "output_type": "display_data"
    },
    {
     "name": "stdout",
     "output_type": "stream",
     "text": [
      "Epoch [8/20], loss: 0.52932 acc: 0.72942 val_loss: 0.56560, val_acc: 0.71764, auc_score:0.77430\n"
     ]
    },
    {
     "data": {
      "application/vnd.jupyter.widget-view+json": {
       "model_id": "6c065b9313c1430095eb643e59e6e259",
       "version_major": 2,
       "version_minor": 0
      },
      "text/plain": [
       "  0%|          | 0/216 [00:00<?, ?it/s]"
      ]
     },
     "metadata": {},
     "output_type": "display_data"
    },
    {
     "name": "stdout",
     "output_type": "stream",
     "text": [
      "Epoch [9/20], loss: 0.51714 acc: 0.73991 val_loss: 0.57017, val_acc: 0.70668, auc_score:0.77373\n"
     ]
    },
    {
     "data": {
      "application/vnd.jupyter.widget-view+json": {
       "model_id": "522e9e3ed7cd44e2a3d809600714421f",
       "version_major": 2,
       "version_minor": 0
      },
      "text/plain": [
       "  0%|          | 0/216 [00:00<?, ?it/s]"
      ]
     },
     "metadata": {},
     "output_type": "display_data"
    },
    {
     "name": "stdout",
     "output_type": "stream",
     "text": [
      "Epoch [10/20], loss: 0.49886 acc: 0.75215 val_loss: 0.56719, val_acc: 0.70146, auc_score:0.77149\n"
     ]
    },
    {
     "data": {
      "application/vnd.jupyter.widget-view+json": {
       "model_id": "74a9ed40d01b4a09b2a6e2eaf992aee0",
       "version_major": 2,
       "version_minor": 0
      },
      "text/plain": [
       "  0%|          | 0/216 [00:00<?, ?it/s]"
      ]
     },
     "metadata": {},
     "output_type": "display_data"
    },
    {
     "name": "stdout",
     "output_type": "stream",
     "text": [
      "Epoch [11/20], loss: 0.48911 acc: 0.75864 val_loss: 0.57495, val_acc: 0.70616, auc_score:0.77049\n"
     ]
    },
    {
     "data": {
      "application/vnd.jupyter.widget-view+json": {
       "model_id": "56738f6ea7d545a2a08e22bb0391b8f4",
       "version_major": 2,
       "version_minor": 0
      },
      "text/plain": [
       "  0%|          | 0/216 [00:00<?, ?it/s]"
      ]
     },
     "metadata": {},
     "output_type": "display_data"
    },
    {
     "name": "stdout",
     "output_type": "stream",
     "text": [
      "Epoch [12/20], loss: 0.48000 acc: 0.76722 val_loss: 0.57217, val_acc: 0.70720, auc_score:0.76991\n"
     ]
    },
    {
     "data": {
      "application/vnd.jupyter.widget-view+json": {
       "model_id": "7a1ac3a398754a12a0cd76232b0cd3cf",
       "version_major": 2,
       "version_minor": 0
      },
      "text/plain": [
       "  0%|          | 0/216 [00:00<?, ?it/s]"
      ]
     },
     "metadata": {},
     "output_type": "display_data"
    },
    {
     "name": "stdout",
     "output_type": "stream",
     "text": [
      "Epoch [13/20], loss: 0.47512 acc: 0.76983 val_loss: 0.60493, val_acc: 0.68633, auc_score:0.76787\n"
     ]
    },
    {
     "data": {
      "application/vnd.jupyter.widget-view+json": {
       "model_id": "981be38847f048e68d6692fdc17b0525",
       "version_major": 2,
       "version_minor": 0
      },
      "text/plain": [
       "  0%|          | 0/216 [00:00<?, ?it/s]"
      ]
     },
     "metadata": {},
     "output_type": "display_data"
    },
    {
     "name": "stdout",
     "output_type": "stream",
     "text": [
      "Epoch [14/20], loss: 0.47207 acc: 0.76989 val_loss: 0.56994, val_acc: 0.70303, auc_score:0.77261\n"
     ]
    },
    {
     "data": {
      "application/vnd.jupyter.widget-view+json": {
       "model_id": "5091f61ceff84979a3e52a8ee1c73812",
       "version_major": 2,
       "version_minor": 0
      },
      "text/plain": [
       "  0%|          | 0/216 [00:00<?, ?it/s]"
      ]
     },
     "metadata": {},
     "output_type": "display_data"
    },
    {
     "name": "stdout",
     "output_type": "stream",
     "text": [
      "Epoch [15/20], loss: 0.44981 acc: 0.78966 val_loss: 0.57597, val_acc: 0.70198, auc_score:0.76823\n"
     ]
    },
    {
     "data": {
      "application/vnd.jupyter.widget-view+json": {
       "model_id": "178576dc3da348faa417c26f9e8af240",
       "version_major": 2,
       "version_minor": 0
      },
      "text/plain": [
       "  0%|          | 0/216 [00:00<?, ?it/s]"
      ]
     },
     "metadata": {},
     "output_type": "display_data"
    },
    {
     "name": "stdout",
     "output_type": "stream",
     "text": [
      "Epoch [16/20], loss: 0.44204 acc: 0.79058 val_loss: 0.58396, val_acc: 0.70198, auc_score:0.77137\n"
     ]
    },
    {
     "data": {
      "application/vnd.jupyter.widget-view+json": {
       "model_id": "d0ae1255f5104ed2927ed97ba87a9360",
       "version_major": 2,
       "version_minor": 0
      },
      "text/plain": [
       "  0%|          | 0/216 [00:00<?, ?it/s]"
      ]
     },
     "metadata": {},
     "output_type": "display_data"
    },
    {
     "name": "stdout",
     "output_type": "stream",
     "text": [
      "Epoch [17/20], loss: 0.41691 acc: 0.80728 val_loss: 0.59960, val_acc: 0.69154, auc_score:0.76623\n"
     ]
    },
    {
     "data": {
      "application/vnd.jupyter.widget-view+json": {
       "model_id": "62f08d05f0a440368731e58d9198414d",
       "version_major": 2,
       "version_minor": 0
      },
      "text/plain": [
       "  0%|          | 0/216 [00:00<?, ?it/s]"
      ]
     },
     "metadata": {},
     "output_type": "display_data"
    },
    {
     "name": "stdout",
     "output_type": "stream",
     "text": [
      "Epoch [18/20], loss: 0.40917 acc: 0.81285 val_loss: 0.59961, val_acc: 0.70407, auc_score:0.77112\n"
     ]
    },
    {
     "data": {
      "application/vnd.jupyter.widget-view+json": {
       "model_id": "7f348921a23a4cffab66e43c16b40e87",
       "version_major": 2,
       "version_minor": 0
      },
      "text/plain": [
       "  0%|          | 0/216 [00:00<?, ?it/s]"
      ]
     },
     "metadata": {},
     "output_type": "display_data"
    },
    {
     "name": "stdout",
     "output_type": "stream",
     "text": [
      "Epoch [19/20], loss: 0.39539 acc: 0.82050 val_loss: 0.60423, val_acc: 0.69990, auc_score:0.76736\n"
     ]
    },
    {
     "data": {
      "application/vnd.jupyter.widget-view+json": {
       "model_id": "12be0a0bb00b4b758131ca8667d34873",
       "version_major": 2,
       "version_minor": 0
      },
      "text/plain": [
       "  0%|          | 0/216 [00:00<?, ?it/s]"
      ]
     },
     "metadata": {},
     "output_type": "display_data"
    },
    {
     "name": "stdout",
     "output_type": "stream",
     "text": [
      "Epoch [20/20], loss: 0.36298 acc: 0.84027 val_loss: 0.60716, val_acc: 0.69990, auc_score:0.76393\n",
      "CV [5/10], loss: 0.49055 acc: 0.76013 val_loss: 0.58052, val_acc: 0.70209, auc_score: 0.76860\n"
     ]
    },
    {
     "data": {
      "application/vnd.jupyter.widget-view+json": {
       "model_id": "ea8ef53e970d447aabc5bae33054e11a",
       "version_major": 2,
       "version_minor": 0
      },
      "text/plain": [
       "  0%|          | 0/216 [00:00<?, ?it/s]"
      ]
     },
     "metadata": {},
     "output_type": "display_data"
    },
    {
     "name": "stdout",
     "output_type": "stream",
     "text": [
      "Epoch [1/20], loss: 0.66817 acc: 0.66593 val_loss: 0.56768, val_acc: 0.71399, auc_score:0.77830\n"
     ]
    },
    {
     "data": {
      "application/vnd.jupyter.widget-view+json": {
       "model_id": "35cea8863b53407eb6a3ed3d8d3a3ce8",
       "version_major": 2,
       "version_minor": 0
      },
      "text/plain": [
       "  0%|          | 0/216 [00:00<?, ?it/s]"
      ]
     },
     "metadata": {},
     "output_type": "display_data"
    },
    {
     "name": "stdout",
     "output_type": "stream",
     "text": [
      "Epoch [2/20], loss: 0.54921 acc: 0.71655 val_loss: 0.58433, val_acc: 0.70303, auc_score:0.78219\n"
     ]
    },
    {
     "data": {
      "application/vnd.jupyter.widget-view+json": {
       "model_id": "df69ab8d6fa84dde999eb855298cc086",
       "version_major": 2,
       "version_minor": 0
      },
      "text/plain": [
       "  0%|          | 0/216 [00:00<?, ?it/s]"
      ]
     },
     "metadata": {},
     "output_type": "display_data"
    },
    {
     "name": "stdout",
     "output_type": "stream",
     "text": [
      "Epoch [3/20], loss: 0.54736 acc: 0.72084 val_loss: 0.55960, val_acc: 0.71712, auc_score:0.78882\n"
     ]
    },
    {
     "data": {
      "application/vnd.jupyter.widget-view+json": {
       "model_id": "e71e929410eb4c00b872caa3bc27f626",
       "version_major": 2,
       "version_minor": 0
      },
      "text/plain": [
       "  0%|          | 0/216 [00:00<?, ?it/s]"
      ]
     },
     "metadata": {},
     "output_type": "display_data"
    },
    {
     "name": "stdout",
     "output_type": "stream",
     "text": [
      "Epoch [4/20], loss: 0.52707 acc: 0.73417 val_loss: 0.55291, val_acc: 0.70981, auc_score:0.78820\n"
     ]
    },
    {
     "data": {
      "application/vnd.jupyter.widget-view+json": {
       "model_id": "ed9b1d8a675740a798b6844d164764f8",
       "version_major": 2,
       "version_minor": 0
      },
      "text/plain": [
       "  0%|          | 0/216 [00:00<?, ?it/s]"
      ]
     },
     "metadata": {},
     "output_type": "display_data"
    },
    {
     "name": "stdout",
     "output_type": "stream",
     "text": [
      "Epoch [5/20], loss: 0.51904 acc: 0.73823 val_loss: 0.55372, val_acc: 0.71294, auc_score:0.78394\n"
     ]
    },
    {
     "data": {
      "application/vnd.jupyter.widget-view+json": {
       "model_id": "e8793d43d2c64a58940ce82ab33d651e",
       "version_major": 2,
       "version_minor": 0
      },
      "text/plain": [
       "  0%|          | 0/216 [00:00<?, ?it/s]"
      ]
     },
     "metadata": {},
     "output_type": "display_data"
    },
    {
     "name": "stdout",
     "output_type": "stream",
     "text": [
      "Epoch [6/20], loss: 0.51576 acc: 0.73864 val_loss: 0.55617, val_acc: 0.71503, auc_score:0.78534\n"
     ]
    },
    {
     "data": {
      "application/vnd.jupyter.widget-view+json": {
       "model_id": "4e7f16c431544f56947217ab75a3988e",
       "version_major": 2,
       "version_minor": 0
      },
      "text/plain": [
       "  0%|          | 0/216 [00:00<?, ?it/s]"
      ]
     },
     "metadata": {},
     "output_type": "display_data"
    },
    {
     "name": "stdout",
     "output_type": "stream",
     "text": [
      "Epoch [7/20], loss: 0.48858 acc: 0.76299 val_loss: 0.56479, val_acc: 0.71033, auc_score:0.78079\n"
     ]
    },
    {
     "data": {
      "application/vnd.jupyter.widget-view+json": {
       "model_id": "3825448d333241e59e49d8b827187760",
       "version_major": 2,
       "version_minor": 0
      },
      "text/plain": [
       "  0%|          | 0/216 [00:00<?, ?it/s]"
      ]
     },
     "metadata": {},
     "output_type": "display_data"
    },
    {
     "name": "stdout",
     "output_type": "stream",
     "text": [
      "Epoch [8/20], loss: 0.49501 acc: 0.75974 val_loss: 0.55386, val_acc: 0.70929, auc_score:0.78458\n"
     ]
    },
    {
     "data": {
      "application/vnd.jupyter.widget-view+json": {
       "model_id": "38c20c549c534c39bcd8f39ed7afe5b5",
       "version_major": 2,
       "version_minor": 0
      },
      "text/plain": [
       "  0%|          | 0/216 [00:00<?, ?it/s]"
      ]
     },
     "metadata": {},
     "output_type": "display_data"
    },
    {
     "name": "stdout",
     "output_type": "stream",
     "text": [
      "Epoch [9/20], loss: 0.48150 acc: 0.76606 val_loss: 0.55920, val_acc: 0.71138, auc_score:0.78041\n"
     ]
    },
    {
     "data": {
      "application/vnd.jupyter.widget-view+json": {
       "model_id": "8234fac1b5d449498b809045f7e99bba",
       "version_major": 2,
       "version_minor": 0
      },
      "text/plain": [
       "  0%|          | 0/216 [00:00<?, ?it/s]"
      ]
     },
     "metadata": {},
     "output_type": "display_data"
    },
    {
     "name": "stdout",
     "output_type": "stream",
     "text": [
      "Epoch [10/20], loss: 0.47197 acc: 0.77423 val_loss: 0.57372, val_acc: 0.71451, auc_score:0.77978\n"
     ]
    },
    {
     "data": {
      "application/vnd.jupyter.widget-view+json": {
       "model_id": "ae3e6e8b9f2e403184c307d8fce5df96",
       "version_major": 2,
       "version_minor": 0
      },
      "text/plain": [
       "  0%|          | 0/216 [00:00<?, ?it/s]"
      ]
     },
     "metadata": {},
     "output_type": "display_data"
    },
    {
     "name": "stdout",
     "output_type": "stream",
     "text": [
      "Epoch [11/20], loss: 0.46168 acc: 0.77824 val_loss: 0.55831, val_acc: 0.70668, auc_score:0.78219\n"
     ]
    },
    {
     "data": {
      "application/vnd.jupyter.widget-view+json": {
       "model_id": "33e0c6f9fd194e0b9cf14044d957d7d4",
       "version_major": 2,
       "version_minor": 0
      },
      "text/plain": [
       "  0%|          | 0/216 [00:00<?, ?it/s]"
      ]
     },
     "metadata": {},
     "output_type": "display_data"
    },
    {
     "name": "stdout",
     "output_type": "stream",
     "text": [
      "Epoch [12/20], loss: 0.43913 acc: 0.79679 val_loss: 0.57740, val_acc: 0.72025, auc_score:0.78241\n"
     ]
    },
    {
     "data": {
      "application/vnd.jupyter.widget-view+json": {
       "model_id": "acb86eac677b46b7b890065c5f40dbb2",
       "version_major": 2,
       "version_minor": 0
      },
      "text/plain": [
       "  0%|          | 0/216 [00:00<?, ?it/s]"
      ]
     },
     "metadata": {},
     "output_type": "display_data"
    },
    {
     "name": "stdout",
     "output_type": "stream",
     "text": [
      "Epoch [13/20], loss: 0.42405 acc: 0.80351 val_loss: 0.57926, val_acc: 0.70825, auc_score:0.77929\n"
     ]
    },
    {
     "data": {
      "application/vnd.jupyter.widget-view+json": {
       "model_id": "bcd9ac3443014721bdc3e2d95f6d93a0",
       "version_major": 2,
       "version_minor": 0
      },
      "text/plain": [
       "  0%|          | 0/216 [00:00<?, ?it/s]"
      ]
     },
     "metadata": {},
     "output_type": "display_data"
    },
    {
     "name": "stdout",
     "output_type": "stream",
     "text": [
      "Epoch [14/20], loss: 0.40309 acc: 0.82137 val_loss: 0.59684, val_acc: 0.70146, auc_score:0.77038\n"
     ]
    },
    {
     "data": {
      "application/vnd.jupyter.widget-view+json": {
       "model_id": "bae5cddb48f945c5851b0672c3254ce7",
       "version_major": 2,
       "version_minor": 0
      },
      "text/plain": [
       "  0%|          | 0/216 [00:00<?, ?it/s]"
      ]
     },
     "metadata": {},
     "output_type": "display_data"
    },
    {
     "name": "stdout",
     "output_type": "stream",
     "text": [
      "Epoch [15/20], loss: 0.40396 acc: 0.81163 val_loss: 0.60768, val_acc: 0.69781, auc_score:0.77473\n"
     ]
    },
    {
     "data": {
      "application/vnd.jupyter.widget-view+json": {
       "model_id": "613446efb60b412aa4115cb8ddd3bf10",
       "version_major": 2,
       "version_minor": 0
      },
      "text/plain": [
       "  0%|          | 0/216 [00:00<?, ?it/s]"
      ]
     },
     "metadata": {},
     "output_type": "display_data"
    },
    {
     "name": "stdout",
     "output_type": "stream",
     "text": [
      "Epoch [16/20], loss: 0.38807 acc: 0.82583 val_loss: 0.59212, val_acc: 0.70668, auc_score:0.77211\n"
     ]
    },
    {
     "data": {
      "application/vnd.jupyter.widget-view+json": {
       "model_id": "7a866d0a1ef14c63a11e797cebf9c431",
       "version_major": 2,
       "version_minor": 0
      },
      "text/plain": [
       "  0%|          | 0/216 [00:00<?, ?it/s]"
      ]
     },
     "metadata": {},
     "output_type": "display_data"
    },
    {
     "name": "stdout",
     "output_type": "stream",
     "text": [
      "Epoch [17/20], loss: 0.33711 acc: 0.86080 val_loss: 0.61398, val_acc: 0.70094, auc_score:0.76535\n"
     ]
    },
    {
     "data": {
      "application/vnd.jupyter.widget-view+json": {
       "model_id": "15bfdf6bf74a48619cbc9133c63baa86",
       "version_major": 2,
       "version_minor": 0
      },
      "text/plain": [
       "  0%|          | 0/216 [00:00<?, ?it/s]"
      ]
     },
     "metadata": {},
     "output_type": "display_data"
    },
    {
     "name": "stdout",
     "output_type": "stream",
     "text": [
      "Epoch [18/20], loss: 0.30250 acc: 0.87784 val_loss: 0.63733, val_acc: 0.69207, auc_score:0.76696\n"
     ]
    },
    {
     "data": {
      "application/vnd.jupyter.widget-view+json": {
       "model_id": "5ac43d9b343c4b8ab1d554a783cc9d62",
       "version_major": 2,
       "version_minor": 0
      },
      "text/plain": [
       "  0%|          | 0/216 [00:00<?, ?it/s]"
      ]
     },
     "metadata": {},
     "output_type": "display_data"
    },
    {
     "name": "stdout",
     "output_type": "stream",
     "text": [
      "Epoch [19/20], loss: 0.30009 acc: 0.87604 val_loss: 0.63483, val_acc: 0.69937, auc_score:0.77000\n"
     ]
    },
    {
     "data": {
      "application/vnd.jupyter.widget-view+json": {
       "model_id": "1c33ef04a767401da71a047ff3c0fee8",
       "version_major": 2,
       "version_minor": 0
      },
      "text/plain": [
       "  0%|          | 0/216 [00:00<?, ?it/s]"
      ]
     },
     "metadata": {},
     "output_type": "display_data"
    },
    {
     "name": "stdout",
     "output_type": "stream",
     "text": [
      "Epoch [20/20], loss: 0.27420 acc: 0.89292 val_loss: 0.66095, val_acc: 0.68424, auc_score:0.75180\n",
      "CV [6/10], loss: 0.44988 acc: 0.78612 val_loss: 0.58423, val_acc: 0.70676, auc_score: 0.77738\n"
     ]
    },
    {
     "data": {
      "application/vnd.jupyter.widget-view+json": {
       "model_id": "93eddfd868ea400484eaa4a0151461a8",
       "version_major": 2,
       "version_minor": 0
      },
      "text/plain": [
       "  0%|          | 0/216 [00:00<?, ?it/s]"
      ]
     },
     "metadata": {},
     "output_type": "display_data"
    },
    {
     "name": "stdout",
     "output_type": "stream",
     "text": [
      "Epoch [1/20], loss: 0.67762 acc: 0.67457 val_loss: 0.57760, val_acc: 0.69729, auc_score:0.77898\n"
     ]
    },
    {
     "data": {
      "application/vnd.jupyter.widget-view+json": {
       "model_id": "b0ce9e6764424a98847fef407a339659",
       "version_major": 2,
       "version_minor": 0
      },
      "text/plain": [
       "  0%|          | 0/216 [00:00<?, ?it/s]"
      ]
     },
     "metadata": {},
     "output_type": "display_data"
    },
    {
     "name": "stdout",
     "output_type": "stream",
     "text": [
      "Epoch [2/20], loss: 0.56431 acc: 0.70623 val_loss: 0.54277, val_acc: 0.71712, auc_score:0.79090\n"
     ]
    },
    {
     "data": {
      "application/vnd.jupyter.widget-view+json": {
       "model_id": "2a365e08d73a464dbfc252a9b92b83bf",
       "version_major": 2,
       "version_minor": 0
      },
      "text/plain": [
       "  0%|          | 0/216 [00:00<?, ?it/s]"
      ]
     },
     "metadata": {},
     "output_type": "display_data"
    },
    {
     "name": "stdout",
     "output_type": "stream",
     "text": [
      "Epoch [3/20], loss: 0.54153 acc: 0.72223 val_loss: 0.56885, val_acc: 0.70094, auc_score:0.78200\n"
     ]
    },
    {
     "data": {
      "application/vnd.jupyter.widget-view+json": {
       "model_id": "2c0d1bca43ee4d518ce1eda88c91e771",
       "version_major": 2,
       "version_minor": 0
      },
      "text/plain": [
       "  0%|          | 0/216 [00:00<?, ?it/s]"
      ]
     },
     "metadata": {},
     "output_type": "display_data"
    },
    {
     "name": "stdout",
     "output_type": "stream",
     "text": [
      "Epoch [4/20], loss: 0.52837 acc: 0.73232 val_loss: 0.54088, val_acc: 0.71086, auc_score:0.78869\n"
     ]
    },
    {
     "data": {
      "application/vnd.jupyter.widget-view+json": {
       "model_id": "d5fcd3fdc9ab4dc5af25fb8600a655bd",
       "version_major": 2,
       "version_minor": 0
      },
      "text/plain": [
       "  0%|          | 0/216 [00:00<?, ?it/s]"
      ]
     },
     "metadata": {},
     "output_type": "display_data"
    },
    {
     "name": "stdout",
     "output_type": "stream",
     "text": [
      "Epoch [5/20], loss: 0.52344 acc: 0.73597 val_loss: 0.54438, val_acc: 0.71347, auc_score:0.79327\n"
     ]
    },
    {
     "data": {
      "application/vnd.jupyter.widget-view+json": {
       "model_id": "fec187ab55db43c794cb3404c78ff868",
       "version_major": 2,
       "version_minor": 0
      },
      "text/plain": [
       "  0%|          | 0/216 [00:00<?, ?it/s]"
      ]
     },
     "metadata": {},
     "output_type": "display_data"
    },
    {
     "name": "stdout",
     "output_type": "stream",
     "text": [
      "Epoch [6/20], loss: 0.50833 acc: 0.74954 val_loss: 0.54841, val_acc: 0.70825, auc_score:0.80125\n"
     ]
    },
    {
     "data": {
      "application/vnd.jupyter.widget-view+json": {
       "model_id": "09ea210937544348b2ab10aa3839efbc",
       "version_major": 2,
       "version_minor": 0
      },
      "text/plain": [
       "  0%|          | 0/216 [00:00<?, ?it/s]"
      ]
     },
     "metadata": {},
     "output_type": "display_data"
    },
    {
     "name": "stdout",
     "output_type": "stream",
     "text": [
      "Epoch [7/20], loss: 0.49864 acc: 0.75551 val_loss: 0.54184, val_acc: 0.71503, auc_score:0.79167\n"
     ]
    },
    {
     "data": {
      "application/vnd.jupyter.widget-view+json": {
       "model_id": "2ac73f5df18c4fabbddbbabc86cec4bf",
       "version_major": 2,
       "version_minor": 0
      },
      "text/plain": [
       "  0%|          | 0/216 [00:00<?, ?it/s]"
      ]
     },
     "metadata": {},
     "output_type": "display_data"
    },
    {
     "name": "stdout",
     "output_type": "stream",
     "text": [
      "Epoch [8/20], loss: 0.49466 acc: 0.75626 val_loss: 0.53777, val_acc: 0.72495, auc_score:0.79867\n"
     ]
    },
    {
     "data": {
      "application/vnd.jupyter.widget-view+json": {
       "model_id": "616fbcafabe149519451336fe3f33815",
       "version_major": 2,
       "version_minor": 0
      },
      "text/plain": [
       "  0%|          | 0/216 [00:00<?, ?it/s]"
      ]
     },
     "metadata": {},
     "output_type": "display_data"
    },
    {
     "name": "stdout",
     "output_type": "stream",
     "text": [
      "Epoch [9/20], loss: 0.47870 acc: 0.77058 val_loss: 0.53902, val_acc: 0.72860, auc_score:0.79937\n"
     ]
    },
    {
     "data": {
      "application/vnd.jupyter.widget-view+json": {
       "model_id": "34b4cb8495c247a5947b16117dbe08da",
       "version_major": 2,
       "version_minor": 0
      },
      "text/plain": [
       "  0%|          | 0/216 [00:00<?, ?it/s]"
      ]
     },
     "metadata": {},
     "output_type": "display_data"
    },
    {
     "name": "stdout",
     "output_type": "stream",
     "text": [
      "Epoch [10/20], loss: 0.47530 acc: 0.77047 val_loss: 0.53808, val_acc: 0.72025, auc_score:0.80257\n"
     ]
    },
    {
     "data": {
      "application/vnd.jupyter.widget-view+json": {
       "model_id": "c96a1533ccd64b119c77e2f4259d9500",
       "version_major": 2,
       "version_minor": 0
      },
      "text/plain": [
       "  0%|          | 0/216 [00:00<?, ?it/s]"
      ]
     },
     "metadata": {},
     "output_type": "display_data"
    },
    {
     "name": "stdout",
     "output_type": "stream",
     "text": [
      "Epoch [11/20], loss: 0.46277 acc: 0.78096 val_loss: 0.53890, val_acc: 0.72912, auc_score:0.80098\n"
     ]
    },
    {
     "data": {
      "application/vnd.jupyter.widget-view+json": {
       "model_id": "e64568b54e784c24a7ab1b6b8a68c884",
       "version_major": 2,
       "version_minor": 0
      },
      "text/plain": [
       "  0%|          | 0/216 [00:00<?, ?it/s]"
      ]
     },
     "metadata": {},
     "output_type": "display_data"
    },
    {
     "name": "stdout",
     "output_type": "stream",
     "text": [
      "Epoch [12/20], loss: 0.44126 acc: 0.79621 val_loss: 0.54880, val_acc: 0.71973, auc_score:0.79499\n"
     ]
    },
    {
     "data": {
      "application/vnd.jupyter.widget-view+json": {
       "model_id": "053f46992c4b4f769674ef0c0328ee0f",
       "version_major": 2,
       "version_minor": 0
      },
      "text/plain": [
       "  0%|          | 0/216 [00:00<?, ?it/s]"
      ]
     },
     "metadata": {},
     "output_type": "display_data"
    },
    {
     "name": "stdout",
     "output_type": "stream",
     "text": [
      "Epoch [13/20], loss: 0.40571 acc: 0.81952 val_loss: 0.55326, val_acc: 0.71608, auc_score:0.78623\n"
     ]
    },
    {
     "data": {
      "application/vnd.jupyter.widget-view+json": {
       "model_id": "ae53a53ae3944b84885f2911e9e060f9",
       "version_major": 2,
       "version_minor": 0
      },
      "text/plain": [
       "  0%|          | 0/216 [00:00<?, ?it/s]"
      ]
     },
     "metadata": {},
     "output_type": "display_data"
    },
    {
     "name": "stdout",
     "output_type": "stream",
     "text": [
      "Epoch [14/20], loss: 0.41427 acc: 0.80850 val_loss: 0.55622, val_acc: 0.72651, auc_score:0.79325\n"
     ]
    },
    {
     "data": {
      "application/vnd.jupyter.widget-view+json": {
       "model_id": "497efbcab9994d23993a11bade49fcda",
       "version_major": 2,
       "version_minor": 0
      },
      "text/plain": [
       "  0%|          | 0/216 [00:00<?, ?it/s]"
      ]
     },
     "metadata": {},
     "output_type": "display_data"
    },
    {
     "name": "stdout",
     "output_type": "stream",
     "text": [
      "Epoch [15/20], loss: 0.36935 acc: 0.83987 val_loss: 0.57470, val_acc: 0.71294, auc_score:0.78987\n"
     ]
    },
    {
     "data": {
      "application/vnd.jupyter.widget-view+json": {
       "model_id": "e7c6bcc4e4b0450896b685349b7bc72f",
       "version_major": 2,
       "version_minor": 0
      },
      "text/plain": [
       "  0%|          | 0/216 [00:00<?, ?it/s]"
      ]
     },
     "metadata": {},
     "output_type": "display_data"
    },
    {
     "name": "stdout",
     "output_type": "stream",
     "text": [
      "Epoch [16/20], loss: 0.35070 acc: 0.84497 val_loss: 0.56936, val_acc: 0.71921, auc_score:0.79043\n"
     ]
    },
    {
     "data": {
      "application/vnd.jupyter.widget-view+json": {
       "model_id": "44542233e0844d20af8e5977c43dfd2c",
       "version_major": 2,
       "version_minor": 0
      },
      "text/plain": [
       "  0%|          | 0/216 [00:00<?, ?it/s]"
      ]
     },
     "metadata": {},
     "output_type": "display_data"
    },
    {
     "name": "stdout",
     "output_type": "stream",
     "text": [
      "Epoch [17/20], loss: 0.33425 acc: 0.85882 val_loss: 0.56427, val_acc: 0.71347, auc_score:0.78910\n"
     ]
    },
    {
     "data": {
      "application/vnd.jupyter.widget-view+json": {
       "model_id": "dfc1ae9dc49f4341a290834d963bb97c",
       "version_major": 2,
       "version_minor": 0
      },
      "text/plain": [
       "  0%|          | 0/216 [00:00<?, ?it/s]"
      ]
     },
     "metadata": {},
     "output_type": "display_data"
    },
    {
     "name": "stdout",
     "output_type": "stream",
     "text": [
      "Epoch [18/20], loss: 0.30819 acc: 0.87117 val_loss: 0.59932, val_acc: 0.70511, auc_score:0.78406\n"
     ]
    },
    {
     "data": {
      "application/vnd.jupyter.widget-view+json": {
       "model_id": "bfb7823fa6f84c69923264d4b92169df",
       "version_major": 2,
       "version_minor": 0
      },
      "text/plain": [
       "  0%|          | 0/216 [00:00<?, ?it/s]"
      ]
     },
     "metadata": {},
     "output_type": "display_data"
    },
    {
     "name": "stdout",
     "output_type": "stream",
     "text": [
      "Epoch [19/20], loss: 0.29171 acc: 0.88155 val_loss: 0.63272, val_acc: 0.70303, auc_score:0.78064\n"
     ]
    },
    {
     "data": {
      "application/vnd.jupyter.widget-view+json": {
       "model_id": "9cc5b0857cc44f0c8b95e20e4d1ec66b",
       "version_major": 2,
       "version_minor": 0
      },
      "text/plain": [
       "  0%|          | 0/216 [00:00<?, ?it/s]"
      ]
     },
     "metadata": {},
     "output_type": "display_data"
    },
    {
     "name": "stdout",
     "output_type": "stream",
     "text": [
      "Epoch [20/20], loss: 0.26715 acc: 0.89906 val_loss: 0.62693, val_acc: 0.70459, auc_score:0.77764\n",
      "CV [7/10], loss: 0.44681 acc: 0.78871 val_loss: 0.56220, val_acc: 0.71433, auc_score: 0.79073\n"
     ]
    },
    {
     "data": {
      "application/vnd.jupyter.widget-view+json": {
       "model_id": "c8436510e89345db9ceea4290fd6fd0e",
       "version_major": 2,
       "version_minor": 0
      },
      "text/plain": [
       "  0%|          | 0/216 [00:00<?, ?it/s]"
      ]
     },
     "metadata": {},
     "output_type": "display_data"
    },
    {
     "name": "stdout",
     "output_type": "stream",
     "text": [
      "Epoch [1/20], loss: 0.65184 acc: 0.67463 val_loss: 0.58147, val_acc: 0.70303, auc_score:0.76896\n"
     ]
    },
    {
     "data": {
      "application/vnd.jupyter.widget-view+json": {
       "model_id": "9977a7de8c754ce995f9098fda6237a8",
       "version_major": 2,
       "version_minor": 0
      },
      "text/plain": [
       "  0%|          | 0/216 [00:00<?, ?it/s]"
      ]
     },
     "metadata": {},
     "output_type": "display_data"
    },
    {
     "name": "stdout",
     "output_type": "stream",
     "text": [
      "Epoch [2/20], loss: 0.55797 acc: 0.71260 val_loss: 0.56116, val_acc: 0.71399, auc_score:0.77918\n"
     ]
    },
    {
     "data": {
      "application/vnd.jupyter.widget-view+json": {
       "model_id": "925125f3ddcf4bf4be2b348d53c73238",
       "version_major": 2,
       "version_minor": 0
      },
      "text/plain": [
       "  0%|          | 0/216 [00:00<?, ?it/s]"
      ]
     },
     "metadata": {},
     "output_type": "display_data"
    },
    {
     "name": "stdout",
     "output_type": "stream",
     "text": [
      "Epoch [3/20], loss: 0.53789 acc: 0.72698 val_loss: 0.56494, val_acc: 0.71294, auc_score:0.77921\n"
     ]
    },
    {
     "data": {
      "application/vnd.jupyter.widget-view+json": {
       "model_id": "f4cbd14661814c26931594bb25e3529d",
       "version_major": 2,
       "version_minor": 0
      },
      "text/plain": [
       "  0%|          | 0/216 [00:00<?, ?it/s]"
      ]
     },
     "metadata": {},
     "output_type": "display_data"
    },
    {
     "name": "stdout",
     "output_type": "stream",
     "text": [
      "Epoch [4/20], loss: 0.53387 acc: 0.72704 val_loss: 0.55974, val_acc: 0.72182, auc_score:0.78152\n"
     ]
    },
    {
     "data": {
      "application/vnd.jupyter.widget-view+json": {
       "model_id": "d33c004ae0134c598ca3f6620c6754b6",
       "version_major": 2,
       "version_minor": 0
      },
      "text/plain": [
       "  0%|          | 0/216 [00:00<?, ?it/s]"
      ]
     },
     "metadata": {},
     "output_type": "display_data"
    },
    {
     "name": "stdout",
     "output_type": "stream",
     "text": [
      "Epoch [5/20], loss: 0.52630 acc: 0.73469 val_loss: 0.55566, val_acc: 0.72495, auc_score:0.78366\n"
     ]
    },
    {
     "data": {
      "application/vnd.jupyter.widget-view+json": {
       "model_id": "8513f24a387040518166d625b0cad805",
       "version_major": 2,
       "version_minor": 0
      },
      "text/plain": [
       "  0%|          | 0/216 [00:00<?, ?it/s]"
      ]
     },
     "metadata": {},
     "output_type": "display_data"
    },
    {
     "name": "stdout",
     "output_type": "stream",
     "text": [
      "Epoch [6/20], loss: 0.50781 acc: 0.74536 val_loss: 0.55613, val_acc: 0.71764, auc_score:0.78859\n"
     ]
    },
    {
     "data": {
      "application/vnd.jupyter.widget-view+json": {
       "model_id": "49651db27010404389018c39873a60f3",
       "version_major": 2,
       "version_minor": 0
      },
      "text/plain": [
       "  0%|          | 0/216 [00:00<?, ?it/s]"
      ]
     },
     "metadata": {},
     "output_type": "display_data"
    },
    {
     "name": "stdout",
     "output_type": "stream",
     "text": [
      "Epoch [7/20], loss: 0.49994 acc: 0.75441 val_loss: 0.55697, val_acc: 0.72129, auc_score:0.78610\n"
     ]
    },
    {
     "data": {
      "application/vnd.jupyter.widget-view+json": {
       "model_id": "9aa9476528af427a876c0d3e1815df8e",
       "version_major": 2,
       "version_minor": 0
      },
      "text/plain": [
       "  0%|          | 0/216 [00:00<?, ?it/s]"
      ]
     },
     "metadata": {},
     "output_type": "display_data"
    },
    {
     "name": "stdout",
     "output_type": "stream",
     "text": [
      "Epoch [8/20], loss: 0.49261 acc: 0.76090 val_loss: 0.57066, val_acc: 0.71555, auc_score:0.78401\n"
     ]
    },
    {
     "data": {
      "application/vnd.jupyter.widget-view+json": {
       "model_id": "a9fd759e87f4496a9fcdb2420386c67f",
       "version_major": 2,
       "version_minor": 0
      },
      "text/plain": [
       "  0%|          | 0/216 [00:00<?, ?it/s]"
      ]
     },
     "metadata": {},
     "output_type": "display_data"
    },
    {
     "name": "stdout",
     "output_type": "stream",
     "text": [
      "Epoch [9/20], loss: 0.48710 acc: 0.76003 val_loss: 0.58096, val_acc: 0.69937, auc_score:0.78563\n"
     ]
    },
    {
     "data": {
      "application/vnd.jupyter.widget-view+json": {
       "model_id": "e7eb0ca3e18f473e89718744b705eccc",
       "version_major": 2,
       "version_minor": 0
      },
      "text/plain": [
       "  0%|          | 0/216 [00:00<?, ?it/s]"
      ]
     },
     "metadata": {},
     "output_type": "display_data"
    },
    {
     "name": "stdout",
     "output_type": "stream",
     "text": [
      "Epoch [10/20], loss: 0.48147 acc: 0.76797 val_loss: 0.57494, val_acc: 0.73069, auc_score:0.78901\n"
     ]
    },
    {
     "data": {
      "application/vnd.jupyter.widget-view+json": {
       "model_id": "390088e4ba764f60b1e64962c4e0494b",
       "version_major": 2,
       "version_minor": 0
      },
      "text/plain": [
       "  0%|          | 0/216 [00:00<?, ?it/s]"
      ]
     },
     "metadata": {},
     "output_type": "display_data"
    },
    {
     "name": "stdout",
     "output_type": "stream",
     "text": [
      "Epoch [11/20], loss: 0.46915 acc: 0.77319 val_loss: 0.55470, val_acc: 0.72495, auc_score:0.78910\n"
     ]
    },
    {
     "data": {
      "application/vnd.jupyter.widget-view+json": {
       "model_id": "b59c662acc2f4a4c9aa7a9995fe6234f",
       "version_major": 2,
       "version_minor": 0
      },
      "text/plain": [
       "  0%|          | 0/216 [00:00<?, ?it/s]"
      ]
     },
     "metadata": {},
     "output_type": "display_data"
    },
    {
     "name": "stdout",
     "output_type": "stream",
     "text": [
      "Epoch [12/20], loss: 0.44750 acc: 0.78705 val_loss: 0.57088, val_acc: 0.71712, auc_score:0.78337\n"
     ]
    },
    {
     "data": {
      "application/vnd.jupyter.widget-view+json": {
       "model_id": "c21fe900246f41ab9475b95dd516fc78",
       "version_major": 2,
       "version_minor": 0
      },
      "text/plain": [
       "  0%|          | 0/216 [00:00<?, ?it/s]"
      ]
     },
     "metadata": {},
     "output_type": "display_data"
    },
    {
     "name": "stdout",
     "output_type": "stream",
     "text": [
      "Epoch [13/20], loss: 0.43608 acc: 0.79534 val_loss: 0.56948, val_acc: 0.72077, auc_score:0.78004\n"
     ]
    },
    {
     "data": {
      "application/vnd.jupyter.widget-view+json": {
       "model_id": "f2a97b38c79446f884454e0c474dfaed",
       "version_major": 2,
       "version_minor": 0
      },
      "text/plain": [
       "  0%|          | 0/216 [00:00<?, ?it/s]"
      ]
     },
     "metadata": {},
     "output_type": "display_data"
    },
    {
     "name": "stdout",
     "output_type": "stream",
     "text": [
      "Epoch [14/20], loss: 0.41279 acc: 0.81325 val_loss: 0.57571, val_acc: 0.70720, auc_score:0.78285\n"
     ]
    },
    {
     "data": {
      "application/vnd.jupyter.widget-view+json": {
       "model_id": "f6dc0bbe31334529bd2194b73210eeed",
       "version_major": 2,
       "version_minor": 0
      },
      "text/plain": [
       "  0%|          | 0/216 [00:00<?, ?it/s]"
      ]
     },
     "metadata": {},
     "output_type": "display_data"
    },
    {
     "name": "stdout",
     "output_type": "stream",
     "text": [
      "Epoch [15/20], loss: 0.39286 acc: 0.82340 val_loss: 0.58275, val_acc: 0.71608, auc_score:0.77971\n"
     ]
    },
    {
     "data": {
      "application/vnd.jupyter.widget-view+json": {
       "model_id": "f7738a9060194d49857bccf33e6f89bc",
       "version_major": 2,
       "version_minor": 0
      },
      "text/plain": [
       "  0%|          | 0/216 [00:00<?, ?it/s]"
      ]
     },
     "metadata": {},
     "output_type": "display_data"
    },
    {
     "name": "stdout",
     "output_type": "stream",
     "text": [
      "Epoch [16/20], loss: 0.39952 acc: 0.81696 val_loss: 0.59176, val_acc: 0.71033, auc_score:0.77940\n"
     ]
    },
    {
     "data": {
      "application/vnd.jupyter.widget-view+json": {
       "model_id": "df9c2f63c62149bc87122c85876ebadf",
       "version_major": 2,
       "version_minor": 0
      },
      "text/plain": [
       "  0%|          | 0/216 [00:00<?, ?it/s]"
      ]
     },
     "metadata": {},
     "output_type": "display_data"
    },
    {
     "name": "stdout",
     "output_type": "stream",
     "text": [
      "Epoch [17/20], loss: 0.35281 acc: 0.85158 val_loss: 0.61441, val_acc: 0.70198, auc_score:0.77461\n"
     ]
    },
    {
     "data": {
      "application/vnd.jupyter.widget-view+json": {
       "model_id": "dccddd3010004e68aa366e35bb4e5ae1",
       "version_major": 2,
       "version_minor": 0
      },
      "text/plain": [
       "  0%|          | 0/216 [00:00<?, ?it/s]"
      ]
     },
     "metadata": {},
     "output_type": "display_data"
    },
    {
     "name": "stdout",
     "output_type": "stream",
     "text": [
      "Epoch [18/20], loss: 0.33490 acc: 0.85801 val_loss: 0.61236, val_acc: 0.69520, auc_score:0.76631\n"
     ]
    },
    {
     "data": {
      "application/vnd.jupyter.widget-view+json": {
       "model_id": "afbb52a7ce50419d8fe49fe9ceb2f409",
       "version_major": 2,
       "version_minor": 0
      },
      "text/plain": [
       "  0%|          | 0/216 [00:00<?, ?it/s]"
      ]
     },
     "metadata": {},
     "output_type": "display_data"
    },
    {
     "name": "stdout",
     "output_type": "stream",
     "text": [
      "Epoch [19/20], loss: 0.30013 acc: 0.87854 val_loss: 0.63622, val_acc: 0.69885, auc_score:0.77060\n"
     ]
    },
    {
     "data": {
      "application/vnd.jupyter.widget-view+json": {
       "model_id": "58f47c5c220b491caa679cae31d1c121",
       "version_major": 2,
       "version_minor": 0
      },
      "text/plain": [
       "  0%|          | 0/216 [00:00<?, ?it/s]"
      ]
     },
     "metadata": {},
     "output_type": "display_data"
    },
    {
     "name": "stdout",
     "output_type": "stream",
     "text": [
      "Epoch [20/20], loss: 0.27760 acc: 0.89228 val_loss: 0.65411, val_acc: 0.69885, auc_score:0.76814\n",
      "CV [8/10], loss: 0.45501 acc: 0.78271 val_loss: 0.58125, val_acc: 0.71263, auc_score: 0.78000\n"
     ]
    },
    {
     "data": {
      "application/vnd.jupyter.widget-view+json": {
       "model_id": "90472198ee61453e8366dd5a1a6f9c5b",
       "version_major": 2,
       "version_minor": 0
      },
      "text/plain": [
       "  0%|          | 0/216 [00:00<?, ?it/s]"
      ]
     },
     "metadata": {},
     "output_type": "display_data"
    },
    {
     "name": "stdout",
     "output_type": "stream",
     "text": [
      "Epoch [1/20], loss: 0.65801 acc: 0.67921 val_loss: 0.56966, val_acc: 0.71294, auc_score:0.77417\n"
     ]
    },
    {
     "data": {
      "application/vnd.jupyter.widget-view+json": {
       "model_id": "50210a1b74944692a8c46683f5c4ef35",
       "version_major": 2,
       "version_minor": 0
      },
      "text/plain": [
       "  0%|          | 0/216 [00:00<?, ?it/s]"
      ]
     },
     "metadata": {},
     "output_type": "display_data"
    },
    {
     "name": "stdout",
     "output_type": "stream",
     "text": [
      "Epoch [2/20], loss: 0.55587 acc: 0.71487 val_loss: 0.56196, val_acc: 0.71086, auc_score:0.77872\n"
     ]
    },
    {
     "data": {
      "application/vnd.jupyter.widget-view+json": {
       "model_id": "415e99c265b644819615af8465334811",
       "version_major": 2,
       "version_minor": 0
      },
      "text/plain": [
       "  0%|          | 0/216 [00:00<?, ?it/s]"
      ]
     },
     "metadata": {},
     "output_type": "display_data"
    },
    {
     "name": "stdout",
     "output_type": "stream",
     "text": [
      "Epoch [3/20], loss: 0.54430 acc: 0.72420 val_loss: 0.55579, val_acc: 0.72599, auc_score:0.78574\n"
     ]
    },
    {
     "data": {
      "application/vnd.jupyter.widget-view+json": {
       "model_id": "52602438940241e0a1d472ab4cf92770",
       "version_major": 2,
       "version_minor": 0
      },
      "text/plain": [
       "  0%|          | 0/216 [00:00<?, ?it/s]"
      ]
     },
     "metadata": {},
     "output_type": "display_data"
    },
    {
     "name": "stdout",
     "output_type": "stream",
     "text": [
      "Epoch [4/20], loss: 0.52857 acc: 0.73440 val_loss: 0.55541, val_acc: 0.71608, auc_score:0.78990\n"
     ]
    },
    {
     "data": {
      "application/vnd.jupyter.widget-view+json": {
       "model_id": "cd287942ae894dbbadf25c035bb4a4d4",
       "version_major": 2,
       "version_minor": 0
      },
      "text/plain": [
       "  0%|          | 0/216 [00:00<?, ?it/s]"
      ]
     },
     "metadata": {},
     "output_type": "display_data"
    },
    {
     "name": "stdout",
     "output_type": "stream",
     "text": [
      "Epoch [5/20], loss: 0.51964 acc: 0.74154 val_loss: 0.54822, val_acc: 0.72860, auc_score:0.79061\n"
     ]
    },
    {
     "data": {
      "application/vnd.jupyter.widget-view+json": {
       "model_id": "d3af536853274b11a549aba7c2a28c93",
       "version_major": 2,
       "version_minor": 0
      },
      "text/plain": [
       "  0%|          | 0/216 [00:00<?, ?it/s]"
      ]
     },
     "metadata": {},
     "output_type": "display_data"
    },
    {
     "name": "stdout",
     "output_type": "stream",
     "text": [
      "Epoch [6/20], loss: 0.51404 acc: 0.74125 val_loss: 0.55650, val_acc: 0.71555, auc_score:0.78775\n"
     ]
    },
    {
     "data": {
      "application/vnd.jupyter.widget-view+json": {
       "model_id": "3ecec458776c4630878f77cf77d47d05",
       "version_major": 2,
       "version_minor": 0
      },
      "text/plain": [
       "  0%|          | 0/216 [00:00<?, ?it/s]"
      ]
     },
     "metadata": {},
     "output_type": "display_data"
    },
    {
     "name": "stdout",
     "output_type": "stream",
     "text": [
      "Epoch [7/20], loss: 0.50236 acc: 0.75104 val_loss: 0.57553, val_acc: 0.70251, auc_score:0.79262\n"
     ]
    },
    {
     "data": {
      "application/vnd.jupyter.widget-view+json": {
       "model_id": "5b6f8c9dfec64548b6d174ab3b2c6a63",
       "version_major": 2,
       "version_minor": 0
      },
      "text/plain": [
       "  0%|          | 0/216 [00:00<?, ?it/s]"
      ]
     },
     "metadata": {},
     "output_type": "display_data"
    },
    {
     "name": "stdout",
     "output_type": "stream",
     "text": [
      "Epoch [8/20], loss: 0.49723 acc: 0.75707 val_loss: 0.54906, val_acc: 0.72756, auc_score:0.79230\n"
     ]
    },
    {
     "data": {
      "application/vnd.jupyter.widget-view+json": {
       "model_id": "dceda001648043d5b4ad642e48ceb9d7",
       "version_major": 2,
       "version_minor": 0
      },
      "text/plain": [
       "  0%|          | 0/216 [00:00<?, ?it/s]"
      ]
     },
     "metadata": {},
     "output_type": "display_data"
    },
    {
     "name": "stdout",
     "output_type": "stream",
     "text": [
      "Epoch [9/20], loss: 0.47843 acc: 0.76687 val_loss: 0.55503, val_acc: 0.71816, auc_score:0.78936\n"
     ]
    },
    {
     "data": {
      "application/vnd.jupyter.widget-view+json": {
       "model_id": "60d12a31102e40d3841c8f8eb2a304e7",
       "version_major": 2,
       "version_minor": 0
      },
      "text/plain": [
       "  0%|          | 0/216 [00:00<?, ?it/s]"
      ]
     },
     "metadata": {},
     "output_type": "display_data"
    },
    {
     "name": "stdout",
     "output_type": "stream",
     "text": [
      "Epoch [10/20], loss: 0.49052 acc: 0.76003 val_loss: 0.56592, val_acc: 0.71608, auc_score:0.78878\n"
     ]
    },
    {
     "data": {
      "application/vnd.jupyter.widget-view+json": {
       "model_id": "956481a4ad964842b4316012e93e42ee",
       "version_major": 2,
       "version_minor": 0
      },
      "text/plain": [
       "  0%|          | 0/216 [00:00<?, ?it/s]"
      ]
     },
     "metadata": {},
     "output_type": "display_data"
    },
    {
     "name": "stdout",
     "output_type": "stream",
     "text": [
      "Epoch [11/20], loss: 0.47195 acc: 0.77377 val_loss: 0.56254, val_acc: 0.71451, auc_score:0.78569\n"
     ]
    },
    {
     "data": {
      "application/vnd.jupyter.widget-view+json": {
       "model_id": "05c2ee1fbccb4d80a5caf44b990b472c",
       "version_major": 2,
       "version_minor": 0
      },
      "text/plain": [
       "  0%|          | 0/216 [00:00<?, ?it/s]"
      ]
     },
     "metadata": {},
     "output_type": "display_data"
    },
    {
     "name": "stdout",
     "output_type": "stream",
     "text": [
      "Epoch [12/20], loss: 0.45255 acc: 0.78780 val_loss: 0.56419, val_acc: 0.71086, auc_score:0.78846\n"
     ]
    },
    {
     "data": {
      "application/vnd.jupyter.widget-view+json": {
       "model_id": "7405262b39dd4cf59a468c839ed5a94d",
       "version_major": 2,
       "version_minor": 0
      },
      "text/plain": [
       "  0%|          | 0/216 [00:00<?, ?it/s]"
      ]
     },
     "metadata": {},
     "output_type": "display_data"
    },
    {
     "name": "stdout",
     "output_type": "stream",
     "text": [
      "Epoch [13/20], loss: 0.46897 acc: 0.77244 val_loss: 0.55531, val_acc: 0.71712, auc_score:0.79370\n"
     ]
    },
    {
     "data": {
      "application/vnd.jupyter.widget-view+json": {
       "model_id": "4f8e769bde614ce98882b55e73b46488",
       "version_major": 2,
       "version_minor": 0
      },
      "text/plain": [
       "  0%|          | 0/216 [00:00<?, ?it/s]"
      ]
     },
     "metadata": {},
     "output_type": "display_data"
    },
    {
     "name": "stdout",
     "output_type": "stream",
     "text": [
      "Epoch [14/20], loss: 0.43835 acc: 0.79806 val_loss: 0.56341, val_acc: 0.71347, auc_score:0.78800\n"
     ]
    },
    {
     "data": {
      "application/vnd.jupyter.widget-view+json": {
       "model_id": "ad0cd21555a744fababa1b4599635d67",
       "version_major": 2,
       "version_minor": 0
      },
      "text/plain": [
       "  0%|          | 0/216 [00:00<?, ?it/s]"
      ]
     },
     "metadata": {},
     "output_type": "display_data"
    },
    {
     "name": "stdout",
     "output_type": "stream",
     "text": [
      "Epoch [15/20], loss: 0.40448 acc: 0.81853 val_loss: 0.57050, val_acc: 0.71764, auc_score:0.79004\n"
     ]
    },
    {
     "data": {
      "application/vnd.jupyter.widget-view+json": {
       "model_id": "f9c5f120541148388a500b8b8531adcb",
       "version_major": 2,
       "version_minor": 0
      },
      "text/plain": [
       "  0%|          | 0/216 [00:00<?, ?it/s]"
      ]
     },
     "metadata": {},
     "output_type": "display_data"
    },
    {
     "name": "stdout",
     "output_type": "stream",
     "text": [
      "Epoch [16/20], loss: 0.40747 acc: 0.81447 val_loss: 0.56854, val_acc: 0.70511, auc_score:0.78376\n"
     ]
    },
    {
     "data": {
      "application/vnd.jupyter.widget-view+json": {
       "model_id": "5e25c18609814e91b2a2a54382535223",
       "version_major": 2,
       "version_minor": 0
      },
      "text/plain": [
       "  0%|          | 0/216 [00:00<?, ?it/s]"
      ]
     },
     "metadata": {},
     "output_type": "display_data"
    },
    {
     "name": "stdout",
     "output_type": "stream",
     "text": [
      "Epoch [17/20], loss: 0.38323 acc: 0.83175 val_loss: 0.60346, val_acc: 0.69207, auc_score:0.76671\n"
     ]
    },
    {
     "data": {
      "application/vnd.jupyter.widget-view+json": {
       "model_id": "d54176a5d1b64ad5bf7c97a96f590930",
       "version_major": 2,
       "version_minor": 0
      },
      "text/plain": [
       "  0%|          | 0/216 [00:00<?, ?it/s]"
      ]
     },
     "metadata": {},
     "output_type": "display_data"
    },
    {
     "name": "stdout",
     "output_type": "stream",
     "text": [
      "Epoch [18/20], loss: 0.38261 acc: 0.82734 val_loss: 0.58240, val_acc: 0.71033, auc_score:0.78532\n"
     ]
    },
    {
     "data": {
      "application/vnd.jupyter.widget-view+json": {
       "model_id": "feb0f85064544ec2970b1f99e7f5134e",
       "version_major": 2,
       "version_minor": 0
      },
      "text/plain": [
       "  0%|          | 0/216 [00:00<?, ?it/s]"
      ]
     },
     "metadata": {},
     "output_type": "display_data"
    },
    {
     "name": "stdout",
     "output_type": "stream",
     "text": [
      "Epoch [19/20], loss: 0.33585 acc: 0.85998 val_loss: 0.59035, val_acc: 0.71451, auc_score:0.78288\n"
     ]
    },
    {
     "data": {
      "application/vnd.jupyter.widget-view+json": {
       "model_id": "69f6e314926447ccb107b9c0e8486933",
       "version_major": 2,
       "version_minor": 0
      },
      "text/plain": [
       "  0%|          | 0/216 [00:00<?, ?it/s]"
      ]
     },
     "metadata": {},
     "output_type": "display_data"
    },
    {
     "name": "stdout",
     "output_type": "stream",
     "text": [
      "Epoch [20/20], loss: 0.30549 acc: 0.87790 val_loss: 0.61069, val_acc: 0.71451, auc_score:0.77983\n",
      "CV [9/10], loss: 0.46700 acc: 0.77663 val_loss: 0.56822, val_acc: 0.71422, auc_score: 0.78572\n"
     ]
    },
    {
     "data": {
      "application/vnd.jupyter.widget-view+json": {
       "model_id": "adf8d645a8d149f3b8c0be6685aad524",
       "version_major": 2,
       "version_minor": 0
      },
      "text/plain": [
       "  0%|          | 0/216 [00:00<?, ?it/s]"
      ]
     },
     "metadata": {},
     "output_type": "display_data"
    },
    {
     "name": "stdout",
     "output_type": "stream",
     "text": [
      "Epoch [1/20], loss: 0.65186 acc: 0.67359 val_loss: 0.58314, val_acc: 0.68267, auc_score:0.76766\n"
     ]
    },
    {
     "data": {
      "application/vnd.jupyter.widget-view+json": {
       "model_id": "d5a3507645094f3a936f41209e8193e6",
       "version_major": 2,
       "version_minor": 0
      },
      "text/plain": [
       "  0%|          | 0/216 [00:00<?, ?it/s]"
      ]
     },
     "metadata": {},
     "output_type": "display_data"
    },
    {
     "name": "stdout",
     "output_type": "stream",
     "text": [
      "Epoch [2/20], loss: 0.56595 acc: 0.70588 val_loss: 0.57711, val_acc: 0.70668, auc_score:0.77725\n"
     ]
    },
    {
     "data": {
      "application/vnd.jupyter.widget-view+json": {
       "model_id": "30f690410a894b6d9d08e689bc17c38f",
       "version_major": 2,
       "version_minor": 0
      },
      "text/plain": [
       "  0%|          | 0/216 [00:00<?, ?it/s]"
      ]
     },
     "metadata": {},
     "output_type": "display_data"
    },
    {
     "name": "stdout",
     "output_type": "stream",
     "text": [
      "Epoch [3/20], loss: 0.52954 acc: 0.73365 val_loss: 0.55824, val_acc: 0.71712, auc_score:0.76238\n"
     ]
    },
    {
     "data": {
      "application/vnd.jupyter.widget-view+json": {
       "model_id": "a40436f07b1d48d591e050b9c0a2706b",
       "version_major": 2,
       "version_minor": 0
      },
      "text/plain": [
       "  0%|          | 0/216 [00:00<?, ?it/s]"
      ]
     },
     "metadata": {},
     "output_type": "display_data"
    },
    {
     "name": "stdout",
     "output_type": "stream",
     "text": [
      "Epoch [4/20], loss: 0.52613 acc: 0.73464 val_loss: 0.56112, val_acc: 0.71138, auc_score:0.77700\n"
     ]
    },
    {
     "data": {
      "application/vnd.jupyter.widget-view+json": {
       "model_id": "d3e870501b1c40399856a2a31d5e2afc",
       "version_major": 2,
       "version_minor": 0
      },
      "text/plain": [
       "  0%|          | 0/216 [00:00<?, ?it/s]"
      ]
     },
     "metadata": {},
     "output_type": "display_data"
    },
    {
     "name": "stdout",
     "output_type": "stream",
     "text": [
      "Epoch [5/20], loss: 0.50177 acc: 0.75238 val_loss: 0.56675, val_acc: 0.70877, auc_score:0.78169\n"
     ]
    },
    {
     "data": {
      "application/vnd.jupyter.widget-view+json": {
       "model_id": "9897b3a0f01246ff9ad476d46a354d70",
       "version_major": 2,
       "version_minor": 0
      },
      "text/plain": [
       "  0%|          | 0/216 [00:00<?, ?it/s]"
      ]
     },
     "metadata": {},
     "output_type": "display_data"
    },
    {
     "name": "stdout",
     "output_type": "stream",
     "text": [
      "Epoch [6/20], loss: 0.51245 acc: 0.74385 val_loss: 0.55738, val_acc: 0.72234, auc_score:0.79290\n"
     ]
    },
    {
     "data": {
      "application/vnd.jupyter.widget-view+json": {
       "model_id": "af466ed8c18748008bc834f1b5380e95",
       "version_major": 2,
       "version_minor": 0
      },
      "text/plain": [
       "  0%|          | 0/216 [00:00<?, ?it/s]"
      ]
     },
     "metadata": {},
     "output_type": "display_data"
    },
    {
     "name": "stdout",
     "output_type": "stream",
     "text": [
      "Epoch [7/20], loss: 0.48278 acc: 0.76699 val_loss: 0.55156, val_acc: 0.72756, auc_score:0.78484\n"
     ]
    },
    {
     "data": {
      "application/vnd.jupyter.widget-view+json": {
       "model_id": "3e90c07ef57144d98e0d1710dd5eb073",
       "version_major": 2,
       "version_minor": 0
      },
      "text/plain": [
       "  0%|          | 0/216 [00:00<?, ?it/s]"
      ]
     },
     "metadata": {},
     "output_type": "display_data"
    },
    {
     "name": "stdout",
     "output_type": "stream",
     "text": [
      "Epoch [8/20], loss: 0.49519 acc: 0.75203 val_loss: 0.56008, val_acc: 0.71138, auc_score:0.79210\n"
     ]
    },
    {
     "data": {
      "application/vnd.jupyter.widget-view+json": {
       "model_id": "6538f1f3cf15483c9c23bbf798544257",
       "version_major": 2,
       "version_minor": 0
      },
      "text/plain": [
       "  0%|          | 0/216 [00:00<?, ?it/s]"
      ]
     },
     "metadata": {},
     "output_type": "display_data"
    },
    {
     "name": "stdout",
     "output_type": "stream",
     "text": [
      "Epoch [9/20], loss: 0.47729 acc: 0.77006 val_loss: 0.55448, val_acc: 0.72704, auc_score:0.79006\n"
     ]
    },
    {
     "data": {
      "application/vnd.jupyter.widget-view+json": {
       "model_id": "2d70d95c5982447699c438a12779304b",
       "version_major": 2,
       "version_minor": 0
      },
      "text/plain": [
       "  0%|          | 0/216 [00:00<?, ?it/s]"
      ]
     },
     "metadata": {},
     "output_type": "display_data"
    },
    {
     "name": "stdout",
     "output_type": "stream",
     "text": [
      "Epoch [10/20], loss: 0.45725 acc: 0.78189 val_loss: 0.54591, val_acc: 0.73017, auc_score:0.79107\n"
     ]
    },
    {
     "data": {
      "application/vnd.jupyter.widget-view+json": {
       "model_id": "5be03ea8efde46ad81104686f1a7bf25",
       "version_major": 2,
       "version_minor": 0
      },
      "text/plain": [
       "  0%|          | 0/216 [00:00<?, ?it/s]"
      ]
     },
     "metadata": {},
     "output_type": "display_data"
    },
    {
     "name": "stdout",
     "output_type": "stream",
     "text": [
      "Epoch [11/20], loss: 0.44465 acc: 0.79180 val_loss: 0.56851, val_acc: 0.72182, auc_score:0.79064\n"
     ]
    },
    {
     "data": {
      "application/vnd.jupyter.widget-view+json": {
       "model_id": "0fd20c81ed4d4fdbb8ce8077dff0423b",
       "version_major": 2,
       "version_minor": 0
      },
      "text/plain": [
       "  0%|          | 0/216 [00:00<?, ?it/s]"
      ]
     },
     "metadata": {},
     "output_type": "display_data"
    },
    {
     "name": "stdout",
     "output_type": "stream",
     "text": [
      "Epoch [12/20], loss: 0.42560 acc: 0.80485 val_loss: 0.58592, val_acc: 0.71608, auc_score:0.79103\n"
     ]
    },
    {
     "data": {
      "application/vnd.jupyter.widget-view+json": {
       "model_id": "55f74d567ccb40b693c2a068b16346fa",
       "version_major": 2,
       "version_minor": 0
      },
      "text/plain": [
       "  0%|          | 0/216 [00:00<?, ?it/s]"
      ]
     },
     "metadata": {},
     "output_type": "display_data"
    },
    {
     "name": "stdout",
     "output_type": "stream",
     "text": [
      "Epoch [13/20], loss: 0.43658 acc: 0.79563 val_loss: 0.55875, val_acc: 0.71868, auc_score:0.78383\n"
     ]
    },
    {
     "data": {
      "application/vnd.jupyter.widget-view+json": {
       "model_id": "940bb03253b14c23b20ee0ce92faeb5a",
       "version_major": 2,
       "version_minor": 0
      },
      "text/plain": [
       "  0%|          | 0/216 [00:00<?, ?it/s]"
      ]
     },
     "metadata": {},
     "output_type": "display_data"
    },
    {
     "name": "stdout",
     "output_type": "stream",
     "text": [
      "Epoch [14/20], loss: 0.41199 acc: 0.81093 val_loss: 0.56417, val_acc: 0.73173, auc_score:0.78771\n"
     ]
    },
    {
     "data": {
      "application/vnd.jupyter.widget-view+json": {
       "model_id": "4cd2d09f2bc94335b65b4a00e6abca55",
       "version_major": 2,
       "version_minor": 0
      },
      "text/plain": [
       "  0%|          | 0/216 [00:00<?, ?it/s]"
      ]
     },
     "metadata": {},
     "output_type": "display_data"
    },
    {
     "name": "stdout",
     "output_type": "stream",
     "text": [
      "Epoch [15/20], loss: 0.37414 acc: 0.83795 val_loss: 0.58740, val_acc: 0.72077, auc_score:0.78318\n"
     ]
    },
    {
     "data": {
      "application/vnd.jupyter.widget-view+json": {
       "model_id": "4a672a8780c7459fb0e9ecb904a7c7d6",
       "version_major": 2,
       "version_minor": 0
      },
      "text/plain": [
       "  0%|          | 0/216 [00:00<?, ?it/s]"
      ]
     },
     "metadata": {},
     "output_type": "display_data"
    },
    {
     "name": "stdout",
     "output_type": "stream",
     "text": [
      "Epoch [16/20], loss: 0.36740 acc: 0.83708 val_loss: 0.59863, val_acc: 0.72182, auc_score:0.77994\n"
     ]
    },
    {
     "data": {
      "application/vnd.jupyter.widget-view+json": {
       "model_id": "c71114b12df84f71861c164f0d331117",
       "version_major": 2,
       "version_minor": 0
      },
      "text/plain": [
       "  0%|          | 0/216 [00:00<?, ?it/s]"
      ]
     },
     "metadata": {},
     "output_type": "display_data"
    },
    {
     "name": "stdout",
     "output_type": "stream",
     "text": [
      "Epoch [17/20], loss: 0.36771 acc: 0.83836 val_loss: 0.59408, val_acc: 0.71347, auc_score:0.78641\n"
     ]
    },
    {
     "data": {
      "application/vnd.jupyter.widget-view+json": {
       "model_id": "ae003af88e6a44078f4be0be3c1f3e36",
       "version_major": 2,
       "version_minor": 0
      },
      "text/plain": [
       "  0%|          | 0/216 [00:00<?, ?it/s]"
      ]
     },
     "metadata": {},
     "output_type": "display_data"
    },
    {
     "name": "stdout",
     "output_type": "stream",
     "text": [
      "Epoch [18/20], loss: 0.32618 acc: 0.86474 val_loss: 0.60948, val_acc: 0.72025, auc_score:0.78751\n"
     ]
    },
    {
     "data": {
      "application/vnd.jupyter.widget-view+json": {
       "model_id": "6d3dfb0c9ade43dd9bc359f2c396f8d0",
       "version_major": 2,
       "version_minor": 0
      },
      "text/plain": [
       "  0%|          | 0/216 [00:00<?, ?it/s]"
      ]
     },
     "metadata": {},
     "output_type": "display_data"
    },
    {
     "name": "stdout",
     "output_type": "stream",
     "text": [
      "Epoch [19/20], loss: 0.29970 acc: 0.88062 val_loss: 0.63659, val_acc: 0.70668, auc_score:0.77211\n"
     ]
    },
    {
     "data": {
      "application/vnd.jupyter.widget-view+json": {
       "model_id": "e783619474ae44afb608102cbdc13432",
       "version_major": 2,
       "version_minor": 0
      },
      "text/plain": [
       "  0%|          | 0/216 [00:00<?, ?it/s]"
      ]
     },
     "metadata": {},
     "output_type": "display_data"
    },
    {
     "name": "stdout",
     "output_type": "stream",
     "text": [
      "Epoch [20/20], loss: 0.26519 acc: 0.89697 val_loss: 0.63551, val_acc: 0.70877, auc_score:0.77195\n",
      "CV [10/10], loss: 0.44597 acc: 0.78869 val_loss: 0.57774, val_acc: 0.71626, auc_score: 0.78256\n"
     ]
    }
   ],
   "source": [
    "# 学習率\n",
    "lr = 0.001\n",
    "\n",
    "# 繰り返し回数\n",
    "num_epochs = 20\n",
    "\n",
    "# 評価結果記録用\n",
    "cv_history = np.zeros((0,6))\n",
    "each_history = np.zeros((0,num_epochs,6))\n",
    "log_dir = \"../logs/\"\n",
    "writer = SummaryWriter(log_dir)\n",
    "\n",
    "batch_size = 80\n",
    "num_splits = 10\n",
    "kf = KFold(n_splits=num_splits)\n",
    "cv_cnt = 0\n",
    "\n",
    "undersampled_dataset = undersampling(dataset)\n",
    "\n",
    "for train_index, test_index in kf.split(undersampled_dataset):\n",
    "    cv_cnt += 1\n",
    "    history = np.zeros((0,6))\n",
    "    train_dataset = Subset(undersampled_dataset, train_index)\n",
    "    train_loader = DataLoader(train_dataset, batch_size, shuffle=True, num_workers=8)\n",
    "    test_dataset   = Subset(undersampled_dataset, test_index)\n",
    "    test_loader = DataLoader(test_dataset, batch_size, shuffle=False, num_workers=8)\n",
    "    \n",
    "    # モデルインスタンス生成\n",
    "    net = CNN(n_output, n_hidden).to(device)\n",
    "    # net._initialize_weights()\n",
    "    # 最適化関数: 勾配降下法\n",
    "    optimizer = optim.Adam(net.parameters(), lr=lr, weight_decay=0.0001)\n",
    "    # optimizer = torch.optim.SGD(net.parameters(), lr=lr)\n",
    "    # 損失関数： 交差エントロピー関数\n",
    "    criterion = nn.CrossEntropyLoss()\n",
    "    \n",
    "    #学習\n",
    "    history = fit(net, optimizer, criterion, num_epochs, train_loader, test_loader, device, history, writer)\n",
    "    \n",
    "    #1交差ごとの記録\n",
    "    each_history = np.vstack((each_history, [history]))\n",
    "    cv_avg_train_loss = np.average(history[:,1])\n",
    "    cv_train_acc = np.average(history[:,2])\n",
    "    cv_avg_val_loss = np.average(history[:,3])\n",
    "    cv_val_acc = np.average(history[:,4])\n",
    "    cv_avg_auc = np.average(history[:,5])\n",
    "    item = np.array([cv_cnt, cv_avg_train_loss, cv_train_acc, cv_avg_val_loss, cv_val_acc, cv_avg_auc])\n",
    "    cv_history = np.vstack((cv_history, item))\n",
    "    print(f'CV [{cv_cnt}/{num_splits}], loss: {cv_avg_train_loss:.5f} acc: {cv_train_acc:.5f} val_loss: {cv_avg_val_loss:.5f}, val_acc: {cv_val_acc:.5f}, auc_score: {cv_avg_auc:.5f}')"
   ]
  },
  {
   "cell_type": "code",
   "execution_count": 17,
   "id": "683a33c8-81bf-49ee-a541-fa3579c713f7",
   "metadata": {},
   "outputs": [
    {
     "name": "stdout",
     "output_type": "stream",
     "text": [
      "初期状態: 損失: 0.55569 精度: 0.71993\n",
      "最終状態: 損失: 0.57774 精度: 0.71626\n"
     ]
    },
    {
     "data": {
      "image/png": "[encoded data removed]",
      "text/plain": [
       "<Figure size 900x800 with 1 Axes>"
      ]
     },
     "metadata": {},
     "output_type": "display_data"
    },
    {
     "data": {
      "image/png": "[encoded data removed]",
      "text/plain": [
       "<Figure size 900x800 with 1 Axes>"
      ]
     },
     "metadata": {},
     "output_type": "display_data"
    },
    {
     "data": {
      "image/png": "[encoded data removed]",
      "text/plain": [
       "<Figure size 900x800 with 1 Axes>"
      ]
     },
     "metadata": {},
     "output_type": "display_data"
    }
   ],
   "source": [
    "evaluate_history(cv_history)"
   ]
  },
  {
   "cell_type": "code",
   "execution_count": 24,
   "id": "7c89334f-dd05-4100-94bf-c5180ecdb3a4",
   "metadata": {
    "tags": []
   },
   "outputs": [
    {
     "name": "stdout",
     "output_type": "stream",
     "text": [
      "初期状態: 損失: 0.56035 精度: 0.71049\n",
      "最終状態: 損失: 0.65006 精度: 0.70579\n"
     ]
    },
    {
     "data": {
      "image/png": "[encoded data removed]",
      "text/plain": [
       "<Figure size 900x800 with 1 Axes>"
      ]
     },
     "metadata": {},
     "output_type": "display_data"
    },
    {
     "data": {
      "image/png": "[encoded data removed]",
      "text/plain": [
       "<Figure size 900x800 with 1 Axes>"
      ]
     },
     "metadata": {},
     "output_type": "display_data"
    },
    {
     "data": {
      "image/png": "[encoded data removed]",
      "text/plain": [
       "<Figure size 900x800 with 1 Axes>"
      ]
     },
     "metadata": {},
     "output_type": "display_data"
    }
   ],
   "source": [
    "evaluate_history(each_history[3,:,:])"
   ]
  },
  {
   "cell_type": "code",
   "execution_count": 19,
   "id": "1d11ce1d-910b-473b-a8ed-9625f0643124",
   "metadata": {
    "tags": []
   },
   "outputs": [],
   "source": [
    "np.save('../result/cv_history', cv_history)\n",
    "np.save('../result/each_history', each_history)"
   ]
  },
  {
   "cell_type": "code",
   "execution_count": null,
   "id": "6eb1f4a6-42a5-4388-907f-382ad80ec040",
   "metadata": {},
   "outputs": [],
   "source": []
  }
 ],
 "metadata": {
  "kernelspec": {
   "display_name": "Python 3 (ipykernel)",
   "language": "python",
   "name": "python3"
  },
  "language_info": {
   "codemirror_mode": {
    "name": "ipython",
    "version": 3
   },
   "file_extension": ".py",
   "mimetype": "text/x-python",
   "name": "python",
   "nbconvert_exporter": "python",
   "pygments_lexer": "ipython3",
   "version": "3.8.10"
  }
 },
 "nbformat": 4,
 "nbformat_minor": 5
}
