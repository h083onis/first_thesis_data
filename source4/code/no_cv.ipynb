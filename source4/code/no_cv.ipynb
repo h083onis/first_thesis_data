{
 "cells": [
  {
   "cell_type": "code",
   "execution_count": 1,
   "id": "651faf0b-9255-45d5-886e-a3a4387c70e0",
   "metadata": {},
   "outputs": [
    {
     "name": "stderr",
     "output_type": "stream",
     "text": [
      "2023-08-01 15:25:34.707333: I tensorflow/core/platform/cpu_feature_guard.cc:182] This TensorFlow binary is optimized to use available CPU instructions in performance-critical operations.\n",
      "To enable the following instructions: AVX2 FMA, in other operations, rebuild TensorFlow with the appropriate compiler flags.\n",
      "2023-08-01 15:25:35.447610: W tensorflow/compiler/tf2tensorrt/utils/py_utils.cc:38] TF-TRT Warning: Could not find TensorRT\n"
     ]
    }
   ],
   "source": [
    "import torch\n",
    "import torch.nn as nn\n",
    "import torch.optim as optim\n",
    "from torchinfo import summary\n",
    "from torchviz import make_dot\n",
    "import torchvision.datasets as datasets\n",
    "import torchvision.transforms as transforms\n",
    "from torch.utils.data import DataLoader\n",
    "from torch.utils.data.sampler import WeightedRandomSampler\n",
    "from accelerate import Accelerator\n",
    "import multiprocessing as mp\n",
    "from learning_tool import *\n",
    "import sys\n",
    "sys.path.append('..')\n",
    "\n",
    "from model.model import *"
   ]
  },
  {
   "cell_type": "code",
   "execution_count": 2,
   "id": "d1c280ac-9085-4478-bc66-45c9b63a30e7",
   "metadata": {},
   "outputs": [],
   "source": [
    "%matplotlib inline\n",
    "import numpy as np\n",
    "import pandas as pd\n",
    "import matplotlib.pyplot as plt\n",
    "import japanize_matplotlib\n",
    "from tqdm.notebook import tqdm\n",
    "from IPython.display import display\n",
    "from sklearn.model_selection import train_test_split"
   ]
  },
  {
   "cell_type": "code",
   "execution_count": 3,
   "id": "a41359a9-b9a5-4959-8042-dbafd0df619f",
   "metadata": {},
   "outputs": [],
   "source": [
    "# warning表示off\n",
    "import warnings\n",
    "warnings.simplefilter('ignore')\n",
    "\n",
    "# デフォルトフォントサイズ変更\n",
    "plt.rcParams['font.size'] = 14\n",
    "\n",
    "# デフォルトグラフサイズ変更\n",
    "plt.rcParams['figure.figsize'] = (6,6)\n",
    "\n",
    "# デフォルトで方眼表示ON\n",
    "plt.rcParams['axes.grid'] = True\n",
    "\n",
    "# numpyの表示桁数設定\n",
    "np.set_printoptions(suppress=True, precision=5)"
   ]
  },
  {
   "cell_type": "code",
   "execution_count": 4,
   "id": "c3a67522-4f4a-4bff-9fc8-668d1bcd229b",
   "metadata": {},
   "outputs": [],
   "source": [
    "# デバイスの割り当て\n",
    "\n",
    "# device = torch.device(\"cuda:0\" if torch.cuda.is_available() else \"cpu\")\n",
    "# print(device)\n",
    "# device = torch.device('cpu')\n",
    "# デバイスの指定\n",
    "accelerator = Accelerator()\n",
    "device = accelerator.device"
   ]
  },
  {
   "cell_type": "code",
   "execution_count": 5,
   "id": "7420c8cf-f024-4831-a4eb-dcfa8ae801c6",
   "metadata": {},
   "outputs": [],
   "source": [
    "# PyTorch乱数固定用\n",
    "\n",
    "def torch_seed(seed=123):\n",
    "    torch.manual_seed(seed)\n",
    "    torch.cuda.manual_seed(seed)\n",
    "    torch.backends.cudnn.deterministic = True\n",
    "    torch.use_deterministic_algorithms = True\n",
    "    \n",
    "# 乱数初期化\n",
    "torch_seed()"
   ]
  },
  {
   "cell_type": "code",
   "execution_count": 6,
   "id": "6b7554d3-87cc-4008-a6fd-29531575201c",
   "metadata": {},
   "outputs": [
    {
     "data": {
      "text/html": [
       "<div>\n",
       "<style scoped>\n",
       "    .dataframe tbody tr th:only-of-type {\n",
       "        vertical-align: middle;\n",
       "    }\n",
       "\n",
       "    .dataframe tbody tr th {\n",
       "        vertical-align: top;\n",
       "    }\n",
       "\n",
       "    .dataframe thead th {\n",
       "        text-align: right;\n",
       "    }\n",
       "</style>\n",
       "<table border=\"1\" class=\"dataframe\">\n",
       "  <thead>\n",
       "    <tr style=\"text-align: right;\">\n",
       "      <th></th>\n",
       "      <th>0</th>\n",
       "      <th>1</th>\n",
       "      <th>2</th>\n",
       "      <th>3</th>\n",
       "      <th>4</th>\n",
       "      <th>5</th>\n",
       "      <th>6</th>\n",
       "      <th>7</th>\n",
       "      <th>8</th>\n",
       "      <th>9</th>\n",
       "      <th>...</th>\n",
       "      <th>1991</th>\n",
       "      <th>1992</th>\n",
       "      <th>1993</th>\n",
       "      <th>1994</th>\n",
       "      <th>1995</th>\n",
       "      <th>1996</th>\n",
       "      <th>1997</th>\n",
       "      <th>1998</th>\n",
       "      <th>1999</th>\n",
       "      <th>contains_bug</th>\n",
       "    </tr>\n",
       "    <tr>\n",
       "      <th>commit_hash</th>\n",
       "      <th></th>\n",
       "      <th></th>\n",
       "      <th></th>\n",
       "      <th></th>\n",
       "      <th></th>\n",
       "      <th></th>\n",
       "      <th></th>\n",
       "      <th></th>\n",
       "      <th></th>\n",
       "      <th></th>\n",
       "      <th></th>\n",
       "      <th></th>\n",
       "      <th></th>\n",
       "      <th></th>\n",
       "      <th></th>\n",
       "      <th></th>\n",
       "      <th></th>\n",
       "      <th></th>\n",
       "      <th></th>\n",
       "      <th></th>\n",
       "      <th></th>\n",
       "    </tr>\n",
       "  </thead>\n",
       "  <tbody>\n",
       "    <tr>\n",
       "      <th>77b260b65ba821b3443d922320cc3d9b708c8d83</th>\n",
       "      <td>5</td>\n",
       "      <td>5</td>\n",
       "      <td>40</td>\n",
       "      <td>56</td>\n",
       "      <td>26</td>\n",
       "      <td>36</td>\n",
       "      <td>11</td>\n",
       "      <td>9</td>\n",
       "      <td>12</td>\n",
       "      <td>5</td>\n",
       "      <td>...</td>\n",
       "      <td>11</td>\n",
       "      <td>106</td>\n",
       "      <td>9</td>\n",
       "      <td>1</td>\n",
       "      <td>12</td>\n",
       "      <td>1</td>\n",
       "      <td>5</td>\n",
       "      <td>1</td>\n",
       "      <td>38</td>\n",
       "      <td>1</td>\n",
       "    </tr>\n",
       "    <tr>\n",
       "      <th>a4701ac4bf5b50810914796e284b0e3f78a240bc</th>\n",
       "      <td>5</td>\n",
       "      <td>40</td>\n",
       "      <td>56</td>\n",
       "      <td>26</td>\n",
       "      <td>36</td>\n",
       "      <td>11</td>\n",
       "      <td>9</td>\n",
       "      <td>12</td>\n",
       "      <td>5</td>\n",
       "      <td>151</td>\n",
       "      <td>...</td>\n",
       "      <td>0</td>\n",
       "      <td>0</td>\n",
       "      <td>0</td>\n",
       "      <td>0</td>\n",
       "      <td>0</td>\n",
       "      <td>0</td>\n",
       "      <td>0</td>\n",
       "      <td>0</td>\n",
       "      <td>0</td>\n",
       "      <td>1</td>\n",
       "    </tr>\n",
       "    <tr>\n",
       "      <th>0a0bad2c4a35be88f7732def261a03737fab662e</th>\n",
       "      <td>5</td>\n",
       "      <td>40</td>\n",
       "      <td>56</td>\n",
       "      <td>26</td>\n",
       "      <td>36</td>\n",
       "      <td>11</td>\n",
       "      <td>9</td>\n",
       "      <td>12</td>\n",
       "      <td>5</td>\n",
       "      <td>718</td>\n",
       "      <td>...</td>\n",
       "      <td>46</td>\n",
       "      <td>1</td>\n",
       "      <td>13</td>\n",
       "      <td>24</td>\n",
       "      <td>1</td>\n",
       "      <td>13</td>\n",
       "      <td>376</td>\n",
       "      <td>3</td>\n",
       "      <td>2</td>\n",
       "      <td>1</td>\n",
       "    </tr>\n",
       "    <tr>\n",
       "      <th>4de90eba5a4628f573c5e0536ed9160b6f1ea29d</th>\n",
       "      <td>538</td>\n",
       "      <td>26</td>\n",
       "      <td>36</td>\n",
       "      <td>11</td>\n",
       "      <td>9</td>\n",
       "      <td>12</td>\n",
       "      <td>5</td>\n",
       "      <td>135</td>\n",
       "      <td>61</td>\n",
       "      <td>135</td>\n",
       "      <td>...</td>\n",
       "      <td>0</td>\n",
       "      <td>0</td>\n",
       "      <td>0</td>\n",
       "      <td>0</td>\n",
       "      <td>0</td>\n",
       "      <td>0</td>\n",
       "      <td>0</td>\n",
       "      <td>0</td>\n",
       "      <td>0</td>\n",
       "      <td>0</td>\n",
       "    </tr>\n",
       "    <tr>\n",
       "      <th>4292f69f0afd36a7335515cc565ea41521bfa5cd</th>\n",
       "      <td>5</td>\n",
       "      <td>40</td>\n",
       "      <td>56</td>\n",
       "      <td>26</td>\n",
       "      <td>36</td>\n",
       "      <td>11</td>\n",
       "      <td>9</td>\n",
       "      <td>12</td>\n",
       "      <td>5</td>\n",
       "      <td>38</td>\n",
       "      <td>...</td>\n",
       "      <td>0</td>\n",
       "      <td>0</td>\n",
       "      <td>0</td>\n",
       "      <td>0</td>\n",
       "      <td>0</td>\n",
       "      <td>0</td>\n",
       "      <td>0</td>\n",
       "      <td>0</td>\n",
       "      <td>0</td>\n",
       "      <td>1</td>\n",
       "    </tr>\n",
       "    <tr>\n",
       "      <th>...</th>\n",
       "      <td>...</td>\n",
       "      <td>...</td>\n",
       "      <td>...</td>\n",
       "      <td>...</td>\n",
       "      <td>...</td>\n",
       "      <td>...</td>\n",
       "      <td>...</td>\n",
       "      <td>...</td>\n",
       "      <td>...</td>\n",
       "      <td>...</td>\n",
       "      <td>...</td>\n",
       "      <td>...</td>\n",
       "      <td>...</td>\n",
       "      <td>...</td>\n",
       "      <td>...</td>\n",
       "      <td>...</td>\n",
       "      <td>...</td>\n",
       "      <td>...</td>\n",
       "      <td>...</td>\n",
       "      <td>...</td>\n",
       "      <td>...</td>\n",
       "    </tr>\n",
       "    <tr>\n",
       "      <th>da0d0426ebf80387c4eb5f169bed5df813dd22da</th>\n",
       "      <td>5</td>\n",
       "      <td>40</td>\n",
       "      <td>56</td>\n",
       "      <td>26</td>\n",
       "      <td>36</td>\n",
       "      <td>11</td>\n",
       "      <td>9</td>\n",
       "      <td>12</td>\n",
       "      <td>5</td>\n",
       "      <td>20</td>\n",
       "      <td>...</td>\n",
       "      <td>0</td>\n",
       "      <td>0</td>\n",
       "      <td>0</td>\n",
       "      <td>0</td>\n",
       "      <td>0</td>\n",
       "      <td>0</td>\n",
       "      <td>0</td>\n",
       "      <td>0</td>\n",
       "      <td>0</td>\n",
       "      <td>0</td>\n",
       "    </tr>\n",
       "    <tr>\n",
       "      <th>f3f792e763685511088a10afb2d58a75ac131421</th>\n",
       "      <td>5</td>\n",
       "      <td>40</td>\n",
       "      <td>56</td>\n",
       "      <td>26</td>\n",
       "      <td>36</td>\n",
       "      <td>11</td>\n",
       "      <td>9</td>\n",
       "      <td>12</td>\n",
       "      <td>5</td>\n",
       "      <td>5</td>\n",
       "      <td>...</td>\n",
       "      <td>4</td>\n",
       "      <td>51</td>\n",
       "      <td>1</td>\n",
       "      <td>20</td>\n",
       "      <td>19</td>\n",
       "      <td>10</td>\n",
       "      <td>20</td>\n",
       "      <td>19</td>\n",
       "      <td>4</td>\n",
       "      <td>1</td>\n",
       "    </tr>\n",
       "    <tr>\n",
       "      <th>f59887aeaf409d5282548a5d559f5ce58c43c601</th>\n",
       "      <td>5</td>\n",
       "      <td>40</td>\n",
       "      <td>56</td>\n",
       "      <td>26</td>\n",
       "      <td>36</td>\n",
       "      <td>11</td>\n",
       "      <td>9</td>\n",
       "      <td>12</td>\n",
       "      <td>5</td>\n",
       "      <td>132</td>\n",
       "      <td>...</td>\n",
       "      <td>0</td>\n",
       "      <td>0</td>\n",
       "      <td>0</td>\n",
       "      <td>0</td>\n",
       "      <td>0</td>\n",
       "      <td>0</td>\n",
       "      <td>0</td>\n",
       "      <td>0</td>\n",
       "      <td>0</td>\n",
       "      <td>1</td>\n",
       "    </tr>\n",
       "    <tr>\n",
       "      <th>30d818fcd1f76d3eab4484d75677bbcb3300ddcf</th>\n",
       "      <td>5</td>\n",
       "      <td>40</td>\n",
       "      <td>56</td>\n",
       "      <td>26</td>\n",
       "      <td>36</td>\n",
       "      <td>11</td>\n",
       "      <td>9</td>\n",
       "      <td>12</td>\n",
       "      <td>5</td>\n",
       "      <td>132</td>\n",
       "      <td>...</td>\n",
       "      <td>0</td>\n",
       "      <td>0</td>\n",
       "      <td>0</td>\n",
       "      <td>0</td>\n",
       "      <td>0</td>\n",
       "      <td>0</td>\n",
       "      <td>0</td>\n",
       "      <td>0</td>\n",
       "      <td>0</td>\n",
       "      <td>0</td>\n",
       "    </tr>\n",
       "    <tr>\n",
       "      <th>c210132b9219522267adbc0142957ee5a76aeb67</th>\n",
       "      <td>5</td>\n",
       "      <td>40</td>\n",
       "      <td>56</td>\n",
       "      <td>26</td>\n",
       "      <td>36</td>\n",
       "      <td>11</td>\n",
       "      <td>9</td>\n",
       "      <td>12</td>\n",
       "      <td>5</td>\n",
       "      <td>20</td>\n",
       "      <td>...</td>\n",
       "      <td>1022</td>\n",
       "      <td>292</td>\n",
       "      <td>1</td>\n",
       "      <td>325</td>\n",
       "      <td>102</td>\n",
       "      <td>29</td>\n",
       "      <td>3</td>\n",
       "      <td>2</td>\n",
       "      <td>4</td>\n",
       "      <td>1</td>\n",
       "    </tr>\n",
       "  </tbody>\n",
       "</table>\n",
       "<p>100 rows × 2001 columns</p>\n",
       "</div>"
      ],
      "text/plain": [
       "                                            0   1   2   3   4   5   6    7   \n",
       "commit_hash                                                                  \n",
       "77b260b65ba821b3443d922320cc3d9b708c8d83    5   5  40  56  26  36  11    9  \\\n",
       "a4701ac4bf5b50810914796e284b0e3f78a240bc    5  40  56  26  36  11   9   12   \n",
       "0a0bad2c4a35be88f7732def261a03737fab662e    5  40  56  26  36  11   9   12   \n",
       "4de90eba5a4628f573c5e0536ed9160b6f1ea29d  538  26  36  11   9  12   5  135   \n",
       "4292f69f0afd36a7335515cc565ea41521bfa5cd    5  40  56  26  36  11   9   12   \n",
       "...                                       ...  ..  ..  ..  ..  ..  ..  ...   \n",
       "da0d0426ebf80387c4eb5f169bed5df813dd22da    5  40  56  26  36  11   9   12   \n",
       "f3f792e763685511088a10afb2d58a75ac131421    5  40  56  26  36  11   9   12   \n",
       "f59887aeaf409d5282548a5d559f5ce58c43c601    5  40  56  26  36  11   9   12   \n",
       "30d818fcd1f76d3eab4484d75677bbcb3300ddcf    5  40  56  26  36  11   9   12   \n",
       "c210132b9219522267adbc0142957ee5a76aeb67    5  40  56  26  36  11   9   12   \n",
       "\n",
       "                                           8    9  ...  1991  1992  1993   \n",
       "commit_hash                                        ...                     \n",
       "77b260b65ba821b3443d922320cc3d9b708c8d83  12    5  ...    11   106     9  \\\n",
       "a4701ac4bf5b50810914796e284b0e3f78a240bc   5  151  ...     0     0     0   \n",
       "0a0bad2c4a35be88f7732def261a03737fab662e   5  718  ...    46     1    13   \n",
       "4de90eba5a4628f573c5e0536ed9160b6f1ea29d  61  135  ...     0     0     0   \n",
       "4292f69f0afd36a7335515cc565ea41521bfa5cd   5   38  ...     0     0     0   \n",
       "...                                       ..  ...  ...   ...   ...   ...   \n",
       "da0d0426ebf80387c4eb5f169bed5df813dd22da   5   20  ...     0     0     0   \n",
       "f3f792e763685511088a10afb2d58a75ac131421   5    5  ...     4    51     1   \n",
       "f59887aeaf409d5282548a5d559f5ce58c43c601   5  132  ...     0     0     0   \n",
       "30d818fcd1f76d3eab4484d75677bbcb3300ddcf   5  132  ...     0     0     0   \n",
       "c210132b9219522267adbc0142957ee5a76aeb67   5   20  ...  1022   292     1   \n",
       "\n",
       "                                          1994  1995  1996  1997  1998  1999   \n",
       "commit_hash                                                                    \n",
       "77b260b65ba821b3443d922320cc3d9b708c8d83     1    12     1     5     1    38  \\\n",
       "a4701ac4bf5b50810914796e284b0e3f78a240bc     0     0     0     0     0     0   \n",
       "0a0bad2c4a35be88f7732def261a03737fab662e    24     1    13   376     3     2   \n",
       "4de90eba5a4628f573c5e0536ed9160b6f1ea29d     0     0     0     0     0     0   \n",
       "4292f69f0afd36a7335515cc565ea41521bfa5cd     0     0     0     0     0     0   \n",
       "...                                        ...   ...   ...   ...   ...   ...   \n",
       "da0d0426ebf80387c4eb5f169bed5df813dd22da     0     0     0     0     0     0   \n",
       "f3f792e763685511088a10afb2d58a75ac131421    20    19    10    20    19     4   \n",
       "f59887aeaf409d5282548a5d559f5ce58c43c601     0     0     0     0     0     0   \n",
       "30d818fcd1f76d3eab4484d75677bbcb3300ddcf     0     0     0     0     0     0   \n",
       "c210132b9219522267adbc0142957ee5a76aeb67   325   102    29     3     2     4   \n",
       "\n",
       "                                          contains_bug  \n",
       "commit_hash                                             \n",
       "77b260b65ba821b3443d922320cc3d9b708c8d83             1  \n",
       "a4701ac4bf5b50810914796e284b0e3f78a240bc             1  \n",
       "0a0bad2c4a35be88f7732def261a03737fab662e             1  \n",
       "4de90eba5a4628f573c5e0536ed9160b6f1ea29d             0  \n",
       "4292f69f0afd36a7335515cc565ea41521bfa5cd             1  \n",
       "...                                                ...  \n",
       "da0d0426ebf80387c4eb5f169bed5df813dd22da             0  \n",
       "f3f792e763685511088a10afb2d58a75ac131421             1  \n",
       "f59887aeaf409d5282548a5d559f5ce58c43c601             1  \n",
       "30d818fcd1f76d3eab4484d75677bbcb3300ddcf             0  \n",
       "c210132b9219522267adbc0142957ee5a76aeb67             1  \n",
       "\n",
       "[100 rows x 2001 columns]"
      ]
     },
     "execution_count": 6,
     "metadata": {},
     "output_type": "execute_result"
    }
   ],
   "source": [
    "df = pd.read_csv('../resource/txt_vec_and_label_camel_10.csv', index_col=0)\n",
    "df.head(100)"
   ]
  },
  {
   "cell_type": "code",
   "execution_count": 7,
   "id": "594f062a-a5f7-41ef-b06b-aabb2a726e06",
   "metadata": {},
   "outputs": [],
   "source": [
    "class MyDataset(torch.utils.data.Dataset):\n",
    "    def __init__(self, df, features, labels):\n",
    "        self.features_values = df[features].values\n",
    "        self.labels = df[labels].values\n",
    "        \n",
    "    # len()を使用すると呼ばれる\n",
    "    def __len__(self):\n",
    "        return len(self.features_values)\n",
    "\n",
    "    # 要素を参照すると呼ばれる関数    \n",
    "    def __getitem__(self, idx):\n",
    "        features_x = torch.LongTensor(self.features_values[idx])\n",
    "        labels = torch.as_tensor(self.labels[idx])\n",
    "        return features_x, labels"
   ]
  },
  {
   "cell_type": "code",
   "execution_count": 8,
   "id": "2d6f7d4d-d88d-4bb1-b0b9-42411d61a826",
   "metadata": {},
   "outputs": [
    {
     "name": "stdout",
     "output_type": "stream",
     "text": [
      "['0' '1' '2' ... '1997' '1998' '1999']\n",
      "contains_bug\n"
     ]
    }
   ],
   "source": [
    "columns = df.columns.values\n",
    "features_columns = columns[:-1]\n",
    "labels_column = columns[-1]\n",
    "print(features_columns)\n",
    "print(labels_column)\n",
    "dataset = MyDataset(df, features_columns, labels_column)"
   ]
  },
  {
   "cell_type": "code",
   "execution_count": 9,
   "id": "a81f2d49-52d1-4979-92b7-a8c09889b69d",
   "metadata": {
    "tags": []
   },
   "outputs": [
    {
     "data": {
      "text/plain": [
       "contains_bug\n",
       "0    0.630281\n",
       "1    0.369719\n",
       "Name: count, dtype: float64"
      ]
     },
     "execution_count": 9,
     "metadata": {},
     "output_type": "execute_result"
    }
   ],
   "source": [
    "df['contains_bug'].value_counts() / df.shape[0]"
   ]
  },
  {
   "cell_type": "code",
   "execution_count": 10,
   "id": "3235343b-9da4-4dba-b53a-acad56b5df25",
   "metadata": {
    "tags": []
   },
   "outputs": [
    {
     "data": {
      "text/plain": [
       "2000"
      ]
     },
     "execution_count": 10,
     "metadata": {},
     "output_type": "execute_result"
    }
   ],
   "source": [
    "len(dataset[0][0])"
   ]
  },
  {
   "cell_type": "code",
   "execution_count": 11,
   "id": "873c572b-e947-4de2-962c-e99ed4005140",
   "metadata": {},
   "outputs": [
    {
     "name": "stdout",
     "output_type": "stream",
     "text": [
      "23325\n",
      "2592\n"
     ]
    }
   ],
   "source": [
    "n_samples = len(dataset) # n_samples is 27000\n",
    "train_size = int(len(dataset) * 0.9) # train_size \n",
    "test_size = n_samples - train_size # val_size\n",
    "train_set, test_set = torch.utils.data.random_split(dataset, [train_size, test_size])\n",
    "print(len(train_set))\n",
    "print(len(test_set))"
   ]
  },
  {
   "cell_type": "code",
   "execution_count": 12,
   "id": "49711f4f-20f4-48aa-9963-d43351b44290",
   "metadata": {
    "tags": []
   },
   "outputs": [
    {
     "name": "stdout",
     "output_type": "stream",
     "text": [
      "torch.int64 torch.int64\n"
     ]
    }
   ],
   "source": [
    "for data, label in train_set:\n",
    "    break\n",
    "print(data.dtype, label.dtype)"
   ]
  },
  {
   "cell_type": "code",
   "execution_count": 13,
   "id": "dacde6a6-8acd-4cf9-9e7f-20d00a9a95e1",
   "metadata": {
    "tags": []
   },
   "outputs": [
    {
     "name": "stdout",
     "output_type": "stream",
     "text": [
      "[0 1 0 ... 1 0 0]\n",
      "target train 0/1: 14649/8676\n"
     ]
    }
   ],
   "source": [
    "numDataPoints = len(train_set)\n",
    "data_dim = len(train_set[0][0])\n",
    "\n",
    "# Create dummy data with class imbalance 9 to 1\n",
    "data = torch.FloatTensor(numDataPoints, data_dim)\n",
    "target = np.zeros(0)\n",
    "target = (np.hstack(data[1].numpy() for data in train_set))\n",
    "target\n",
    "print(target)\n",
    "print ('target train 0/1: {}/{}'.format(\n",
    "    len(np.where(target == 0)[0]), len(np.where(target == 1)[0])))\n",
    "\n",
    "class_sample_count = np.array(\n",
    "    [len(np.where(target == t)[0]) for t in np.unique(target)])\n",
    "weight = 1. / class_sample_count\n",
    "samples_weight = np.array([weight[t] for t in target])\n",
    "\n",
    "samples_weight = torch.from_numpy(samples_weight)\n",
    "samples_weigth = samples_weight.double()\n",
    "sampler = WeightedRandomSampler(samples_weight, len(samples_weight))"
   ]
  },
  {
   "cell_type": "code",
   "execution_count": 14,
   "id": "9567afb1-16ba-475e-b765-4d939c2beabe",
   "metadata": {},
   "outputs": [],
   "source": [
    "batch_size = 75\n",
    "\n",
    "train_loader = DataLoader(train_set,\n",
    "                          sampler=sampler,\n",
    "                         batch_size = batch_size,\n",
    "                          shuffle = False,\n",
    "                          num_workers = 8\n",
    "                         )\n",
    "# train_loader = DataLoader(train_set, batch_size=batch_size, shuffle=True)\n",
    "test_loader = DataLoader(test_set, batch_size=batch_size, shuffle=False, num_workers = 8)"
   ]
  },
  {
   "cell_type": "code",
   "execution_count": 15,
   "id": "d31e9e64-a8b6-4efe-8b4c-96b2ebc1c5b8",
   "metadata": {
    "tags": []
   },
   "outputs": [],
   "source": [
    "for vec, labels in train_loader:\n",
    "    # break\n",
    "# print(labels)\n",
    "    output, counts  = torch.unique(labels, return_counts=True)\n",
    "# print(output)\n",
    "    # print(counts)\n",
    "    # break"
   ]
  },
  {
   "cell_type": "code",
   "execution_count": 16,
   "id": "0d9e24f7-fa95-4a47-8401-47cc93701870",
   "metadata": {},
   "outputs": [
    {
     "name": "stdout",
     "output_type": "stream",
     "text": [
      "n_hidden: 100 n_output: 2\n"
     ]
    }
   ],
   "source": [
    "n_output = 2\n",
    "n_hidden = 100\n",
    "print(f'n_hidden: {n_hidden} n_output: {n_output}')"
   ]
  },
  {
   "cell_type": "code",
   "execution_count": 17,
   "id": "4293931a-35f3-466c-9a0d-3354c88ad02f",
   "metadata": {},
   "outputs": [],
   "source": [
    "import numpy as np\n",
    "import matplotlib.pyplot as plt\n",
    "import torch\n",
    "from torcheval.metrics.functional import multiclass_auroc\n",
    "\n",
    "# 学習用関数\n",
    "def fit(net, optimizer, criterion, num_epochs, train_loader, test_loader, device, history, inputs_auc_test, labels_auc_test):\n",
    "    \n",
    "    # tqdmライブラリのインポート\n",
    "    from tqdm.notebook import tqdm\n",
    "\n",
    "    base_epochs = len(history)\n",
    "  \n",
    "    for epoch in range(base_epochs, num_epochs+base_epochs):\n",
    "        # 1エポックあたりの正解数(精度計算用)\n",
    "        train_acc, test_acc = 0, 0\n",
    "        # 1エポックあたりの累積損失(平均化前)\n",
    "        train_loss, test_loss = 0, 0\n",
    "        # 1エポックあたりのデータ累積件数\n",
    "        n_train, n_test = 0, 0\n",
    "       \n",
    "        # print(device)\n",
    "        #訓練フェーズ\n",
    "        net.train()\n",
    "\n",
    "        for inputs, labels in tqdm(train_loader):\n",
    "            # 1バッチあたりのデータ件数\n",
    "            train_batch_size = len(labels)\n",
    "            # 1エポックあたりのデータ累積件数\n",
    "            n_train += train_batch_size\n",
    "    \n",
    "            # GPUヘ転送\n",
    "            inputs = inputs.to(device)\n",
    "            labels = labels.to(device)\n",
    "\n",
    "            # 勾配の初期化\n",
    "            optimizer.zero_grad()\n",
    "\n",
    "            # 予測計算\n",
    "            outputs = net(inputs)\n",
    "\n",
    "            # 損失計算\n",
    "            loss = criterion(outputs, labels)\n",
    "\n",
    "            # 勾配計算\n",
    "            accelerator.backward(loss)\n",
    "\n",
    "            # パラメータ修正\n",
    "            optimizer.step()\n",
    "\n",
    "            # 予測ラベル導出\n",
    "            predicted = torch.max(outputs, 1)[1]\n",
    "            \n",
    "            # statistics\n",
    "            train_loss += loss * inputs.size(0)\n",
    "            train_acc += torch.sum(predicted == labels.data)\n",
    "            \n",
    "            all_running_train_loss = accelerator.gather(train_loss)\n",
    "            all_running_train_acc = accelerator.gather(train_acc)\n",
    "            \n",
    "            if accelerator.is_local_main_process:\n",
    "                epoch_train_loss = all_running_train_loss.sum().item() / len(train_loader.dataset)\n",
    "                epoch_train_acc = all_running_train_acc.sum().double() / len(train_loader.dataset)\n",
    "            # # 平均前の損失と正解数の計算\n",
    "            # # lossは平均計算が行われているので平均前の損失に戻して加算\n",
    "            # train_loss += loss.item() * train_batch_size \n",
    "            # n_train_acc += (predicted == labels).sum().item() \n",
    "            # # print(n_train_acc / n_train)\n",
    "        \n",
    "        #予測フェーズ\n",
    "        net.eval()\n",
    "        with torch.no_grad():\n",
    "            for inputs_test, labels_test in test_loader:\n",
    "                # 1バッチあたりのデータ件数\n",
    "                test_batch_size = len(labels_test)\n",
    "                # 1エポックあたりのデータ累積件数\n",
    "                n_test += test_batch_size\n",
    "\n",
    "                # GPUヘ転送\n",
    "                inputs_test = inputs_test.to(device)\n",
    "                labels_test = labels_test.to(device)\n",
    "\n",
    "                # 予測計算\n",
    "                outputs_test = net(inputs_test)\n",
    "\n",
    "                # 損失計算\n",
    "                loss_test = criterion(outputs_test, labels_test)\n",
    "\n",
    "                # 予測ラベル導出\n",
    "                predicted_test = torch.max(outputs_test, 1)[1]\n",
    "                \n",
    "                \n",
    "                test_loss += loss_test * inputs_test.size(0)\n",
    "                test_acc += torch.sum(predicted_test == labels_test.data)\n",
    "            \n",
    "                all_running_test_loss = accelerator.gather(test_loss)\n",
    "                all_running_test_acc = accelerator.gather(test_acc)\n",
    "                \n",
    "                if accelerator.is_local_main_process:\n",
    "                    epoch_test_loss = all_running_test_loss.sum().item() / len(test_loader.dataset)\n",
    "                    epoch_test_acc = all_running_test_acc.sum().double() / len(test_loader.dataset)\n",
    "                    \n",
    "        #AUC\n",
    "        auc_score = cal_auc(net, inputs_auc_test, labels_auc_test, device)\n",
    "        \n",
    "        epoch_train_loss = epoch_train_loss\n",
    "        epoch_train_acc = epoch_train_acc.to(\"cpu\").numpy() \n",
    "        epoch_test_loss  = epoch_test_loss \n",
    "        epoch_test_acc = epoch_test_acc.to(\"cpu\").numpy() \n",
    "        \n",
    "        # 結果表示\n",
    "        print (f'Epoch [{(epoch+1)}/{num_epochs+base_epochs}], loss: {epoch_train_loss:.5f} acc: {epoch_train_acc:.5f} test_loss: {epoch_test_loss:.5f}, test_acc: {epoch_test_acc:.5f}, auc_score: {auc_score:.5f}')\n",
    "        # 記録\n",
    "        item = np.array([epoch+1, epoch_train_loss, epoch_train_acc, epoch_test_loss, epoch_test_acc, auc_score])\n",
    "        history = np.vstack((history, item))\n",
    "\n",
    "    return history\n",
    "    \n",
    "\n",
    "def cal_auc(net, inputs_auc_test, labels_auc_test, device):\n",
    "    \n",
    "    class_cnt = len(torch.unique(labels_auc_test))\n",
    "    with torch.no_grad():\n",
    "        inputs_auc_test = inputs_auc_test.to(device)\n",
    "        labels_auc_test = labels_auc_test.to(device)\n",
    "        outputs_test = net(inputs_auc_test)\n",
    "        auc = multiclass_auroc(\n",
    "            input = outputs_test,\n",
    "            target = labels_auc_test,\n",
    "            num_classes = class_cnt,\n",
    "            average=\"macro\"\n",
    "        ).item()\n",
    "    \n",
    "    return auc\n"
   ]
  },
  {
   "cell_type": "code",
   "execution_count": 18,
   "id": "247023d9-335b-4819-bc57-e39ec73e6c50",
   "metadata": {
    "tags": []
   },
   "outputs": [],
   "source": [
    "inputs_auc_test = np.zeros((0,2000), dtype=np.int64)\n",
    "inputs_auc_test = torch.tensor(inputs_auc_test, dtype=torch.int64)\n",
    "labels_auc_test = np.zeros(0, dtype=np.int64)\n",
    "labels_auc_test = torch.tensor(labels_auc_test, dtype=torch.int64)\n",
    "    \n",
    "for data, label in test_set:\n",
    "    inputs_auc_test = torch.vstack((inputs_auc_test, data))\n",
    "    labels_auc_test = torch.hstack((labels_auc_test, label))"
   ]
  },
  {
   "cell_type": "code",
   "execution_count": 19,
   "id": "1094f60a-7c7f-4211-af3b-df1c294daa0e",
   "metadata": {
    "tags": []
   },
   "outputs": [
    {
     "data": {
      "application/vnd.jupyter.widget-view+json": {
       "model_id": "a28a8511ffa54f78aa40f79bb6ed89fe",
       "version_major": 2,
       "version_minor": 0
      },
      "text/plain": [
       "  0%|          | 0/311 [00:00<?, ?it/s]"
      ]
     },
     "metadata": {},
     "output_type": "display_data"
    },
    {
     "name": "stdout",
     "output_type": "stream",
     "text": [
      "Epoch [1/50], loss: 0.72458 acc: 0.61188 test_loss: 0.55885, test_acc: 0.71836, auc_score: 0.76715\n"
     ]
    },
    {
     "data": {
      "application/vnd.jupyter.widget-view+json": {
       "model_id": "7035495ec9664d54b87f2b1cc0244046",
       "version_major": 2,
       "version_minor": 0
      },
      "text/plain": [
       "  0%|          | 0/311 [00:00<?, ?it/s]"
      ]
     },
     "metadata": {},
     "output_type": "display_data"
    },
    {
     "name": "stdout",
     "output_type": "stream",
     "text": [
      "Epoch [2/50], loss: 0.63556 acc: 0.66422 test_loss: 0.58917, test_acc: 0.68750, auc_score: 0.77441\n"
     ]
    },
    {
     "data": {
      "application/vnd.jupyter.widget-view+json": {
       "model_id": "ef51e6600e66408181627b8f789b3862",
       "version_major": 2,
       "version_minor": 0
      },
      "text/plain": [
       "  0%|          | 0/311 [00:00<?, ?it/s]"
      ]
     },
     "metadata": {},
     "output_type": "display_data"
    },
    {
     "name": "stdout",
     "output_type": "stream",
     "text": [
      "Epoch [3/50], loss: 0.60642 acc: 0.67751 test_loss: 0.57465, test_acc: 0.70679, auc_score: 0.77905\n"
     ]
    },
    {
     "data": {
      "application/vnd.jupyter.widget-view+json": {
       "model_id": "421cb77c91a042a5b66b1579d52e02ce",
       "version_major": 2,
       "version_minor": 0
      },
      "text/plain": [
       "  0%|          | 0/311 [00:00<?, ?it/s]"
      ]
     },
     "metadata": {},
     "output_type": "display_data"
    },
    {
     "name": "stdout",
     "output_type": "stream",
     "text": [
      "Epoch [4/50], loss: 0.58658 acc: 0.68853 test_loss: 0.58216, test_acc: 0.69985, auc_score: 0.78201\n"
     ]
    },
    {
     "data": {
      "application/vnd.jupyter.widget-view+json": {
       "model_id": "2e75c1779c8c4da5b2375b72b86db602",
       "version_major": 2,
       "version_minor": 0
      },
      "text/plain": [
       "  0%|          | 0/311 [00:00<?, ?it/s]"
      ]
     },
     "metadata": {},
     "output_type": "display_data"
    },
    {
     "name": "stdout",
     "output_type": "stream",
     "text": [
      "Epoch [5/50], loss: 0.57621 acc: 0.69882 test_loss: 0.55660, test_acc: 0.72106, auc_score: 0.78301\n"
     ]
    },
    {
     "data": {
      "application/vnd.jupyter.widget-view+json": {
       "model_id": "00d3974dcd074c9f8ed7746413624e30",
       "version_major": 2,
       "version_minor": 0
      },
      "text/plain": [
       "  0%|          | 0/311 [00:00<?, ?it/s]"
      ]
     },
     "metadata": {},
     "output_type": "display_data"
    },
    {
     "name": "stdout",
     "output_type": "stream",
     "text": [
      "Epoch [6/50], loss: 0.56965 acc: 0.70469 test_loss: 0.54722, test_acc: 0.72801, auc_score: 0.78671\n"
     ]
    },
    {
     "data": {
      "application/vnd.jupyter.widget-view+json": {
       "model_id": "de334fda0c66475ebd20c7e57cc234db",
       "version_major": 2,
       "version_minor": 0
      },
      "text/plain": [
       "  0%|          | 0/311 [00:00<?, ?it/s]"
      ]
     },
     "metadata": {},
     "output_type": "display_data"
    },
    {
     "name": "stdout",
     "output_type": "stream",
     "text": [
      "Epoch [7/50], loss: 0.55911 acc: 0.71061 test_loss: 0.57122, test_acc: 0.71142, auc_score: 0.78782\n"
     ]
    },
    {
     "data": {
      "application/vnd.jupyter.widget-view+json": {
       "model_id": "4072192a85b4473db6a18f8b114569ab",
       "version_major": 2,
       "version_minor": 0
      },
      "text/plain": [
       "  0%|          | 0/311 [00:00<?, ?it/s]"
      ]
     },
     "metadata": {},
     "output_type": "display_data"
    },
    {
     "name": "stdout",
     "output_type": "stream",
     "text": [
      "Epoch [8/50], loss: 0.55482 acc: 0.71777 test_loss: 0.54037, test_acc: 0.73110, auc_score: 0.78769\n"
     ]
    },
    {
     "data": {
      "application/vnd.jupyter.widget-view+json": {
       "model_id": "9413e7b85da74bdd824ec5d316e48eec",
       "version_major": 2,
       "version_minor": 0
      },
      "text/plain": [
       "  0%|          | 0/311 [00:00<?, ?it/s]"
      ]
     },
     "metadata": {},
     "output_type": "display_data"
    },
    {
     "name": "stdout",
     "output_type": "stream",
     "text": [
      "Epoch [9/50], loss: 0.55711 acc: 0.70920 test_loss: 0.54865, test_acc: 0.72724, auc_score: 0.78896\n"
     ]
    },
    {
     "data": {
      "application/vnd.jupyter.widget-view+json": {
       "model_id": "4950ac13f051421ca51b7d5765f42c6d",
       "version_major": 2,
       "version_minor": 0
      },
      "text/plain": [
       "  0%|          | 0/311 [00:00<?, ?it/s]"
      ]
     },
     "metadata": {},
     "output_type": "display_data"
    },
    {
     "name": "stdout",
     "output_type": "stream",
     "text": [
      "Epoch [10/50], loss: 0.55049 acc: 0.71670 test_loss: 0.53639, test_acc: 0.73495, auc_score: 0.79056\n"
     ]
    },
    {
     "data": {
      "application/vnd.jupyter.widget-view+json": {
       "model_id": "b8300356914e470eaa6c5c248f192f30",
       "version_major": 2,
       "version_minor": 0
      },
      "text/plain": [
       "  0%|          | 0/311 [00:00<?, ?it/s]"
      ]
     },
     "metadata": {},
     "output_type": "display_data"
    },
    {
     "name": "stdout",
     "output_type": "stream",
     "text": [
      "Epoch [11/50], loss: 0.55235 acc: 0.71914 test_loss: 0.55473, test_acc: 0.72492, auc_score: 0.79220\n"
     ]
    },
    {
     "data": {
      "application/vnd.jupyter.widget-view+json": {
       "model_id": "6c6968b68d10407ab94dfd935a2d13cc",
       "version_major": 2,
       "version_minor": 0
      },
      "text/plain": [
       "  0%|          | 0/311 [00:00<?, ?it/s]"
      ]
     },
     "metadata": {},
     "output_type": "display_data"
    },
    {
     "name": "stdout",
     "output_type": "stream",
     "text": [
      "Epoch [12/50], loss: 0.54922 acc: 0.71627 test_loss: 0.53912, test_acc: 0.73688, auc_score: 0.79292\n"
     ]
    },
    {
     "data": {
      "application/vnd.jupyter.widget-view+json": {
       "model_id": "819ff1c7626c4edc828a4fb9f445f0f5",
       "version_major": 2,
       "version_minor": 0
      },
      "text/plain": [
       "  0%|          | 0/311 [00:00<?, ?it/s]"
      ]
     },
     "metadata": {},
     "output_type": "display_data"
    },
    {
     "name": "stdout",
     "output_type": "stream",
     "text": [
      "Epoch [13/50], loss: 0.54074 acc: 0.72643 test_loss: 0.53680, test_acc: 0.73380, auc_score: 0.79438\n"
     ]
    },
    {
     "data": {
      "application/vnd.jupyter.widget-view+json": {
       "model_id": "3f5ed948b7d241e09e8b226e3074cb39",
       "version_major": 2,
       "version_minor": 0
      },
      "text/plain": [
       "  0%|          | 0/311 [00:00<?, ?it/s]"
      ]
     },
     "metadata": {},
     "output_type": "display_data"
    },
    {
     "name": "stdout",
     "output_type": "stream",
     "text": [
      "Epoch [14/50], loss: 0.54296 acc: 0.72613 test_loss: 0.54500, test_acc: 0.72994, auc_score: 0.79398\n"
     ]
    },
    {
     "data": {
      "application/vnd.jupyter.widget-view+json": {
       "model_id": "6e55be789a72446dbe86458643e0dfea",
       "version_major": 2,
       "version_minor": 0
      },
      "text/plain": [
       "  0%|          | 0/311 [00:00<?, ?it/s]"
      ]
     },
     "metadata": {},
     "output_type": "display_data"
    },
    {
     "name": "stdout",
     "output_type": "stream",
     "text": [
      "Epoch [15/50], loss: 0.53820 acc: 0.72999 test_loss: 0.53362, test_acc: 0.73958, auc_score: 0.79230\n"
     ]
    },
    {
     "data": {
      "application/vnd.jupyter.widget-view+json": {
       "model_id": "5eeb6bb4f3d24b9caeac9f391438ea60",
       "version_major": 2,
       "version_minor": 0
      },
      "text/plain": [
       "  0%|          | 0/311 [00:00<?, ?it/s]"
      ]
     },
     "metadata": {},
     "output_type": "display_data"
    },
    {
     "name": "stdout",
     "output_type": "stream",
     "text": [
      "Epoch [16/50], loss: 0.53606 acc: 0.73162 test_loss: 0.55131, test_acc: 0.73187, auc_score: 0.79541\n"
     ]
    },
    {
     "data": {
      "application/vnd.jupyter.widget-view+json": {
       "model_id": "8873f43086a84302b9de5b07255df00c",
       "version_major": 2,
       "version_minor": 0
      },
      "text/plain": [
       "  0%|          | 0/311 [00:00<?, ?it/s]"
      ]
     },
     "metadata": {},
     "output_type": "display_data"
    },
    {
     "name": "stdout",
     "output_type": "stream",
     "text": [
      "Epoch [17/50], loss: 0.53600 acc: 0.72793 test_loss: 0.55008, test_acc: 0.72724, auc_score: 0.79568\n"
     ]
    },
    {
     "data": {
      "application/vnd.jupyter.widget-view+json": {
       "model_id": "d4388c19d1e24484b4c35cc26531f5c9",
       "version_major": 2,
       "version_minor": 0
      },
      "text/plain": [
       "  0%|          | 0/311 [00:00<?, ?it/s]"
      ]
     },
     "metadata": {},
     "output_type": "display_data"
    },
    {
     "name": "stdout",
     "output_type": "stream",
     "text": [
      "Epoch [18/50], loss: 0.53365 acc: 0.73235 test_loss: 0.53967, test_acc: 0.73071, auc_score: 0.79565\n"
     ]
    },
    {
     "data": {
      "application/vnd.jupyter.widget-view+json": {
       "model_id": "d1c6a23617c24f1e86d1587b7bee4d34",
       "version_major": 2,
       "version_minor": 0
      },
      "text/plain": [
       "  0%|          | 0/311 [00:00<?, ?it/s]"
      ]
     },
     "metadata": {},
     "output_type": "display_data"
    },
    {
     "name": "stdout",
     "output_type": "stream",
     "text": [
      "Epoch [19/50], loss: 0.53674 acc: 0.73441 test_loss: 0.55000, test_acc: 0.72801, auc_score: 0.79556\n"
     ]
    },
    {
     "data": {
      "application/vnd.jupyter.widget-view+json": {
       "model_id": "2ca14a3299ff43f19379f37b4c6eeafd",
       "version_major": 2,
       "version_minor": 0
      },
      "text/plain": [
       "  0%|          | 0/311 [00:00<?, ?it/s]"
      ]
     },
     "metadata": {},
     "output_type": "display_data"
    },
    {
     "name": "stdout",
     "output_type": "stream",
     "text": [
      "Epoch [20/50], loss: 0.53120 acc: 0.73565 test_loss: 0.54619, test_acc: 0.72955, auc_score: 0.79921\n"
     ]
    },
    {
     "data": {
      "application/vnd.jupyter.widget-view+json": {
       "model_id": "29786545dacb4717bb8502124f8bb49b",
       "version_major": 2,
       "version_minor": 0
      },
      "text/plain": [
       "  0%|          | 0/311 [00:00<?, ?it/s]"
      ]
     },
     "metadata": {},
     "output_type": "display_data"
    },
    {
     "name": "stdout",
     "output_type": "stream",
     "text": [
      "Epoch [21/50], loss: 0.52738 acc: 0.73934 test_loss: 0.54701, test_acc: 0.73187, auc_score: 0.79933\n"
     ]
    },
    {
     "data": {
      "application/vnd.jupyter.widget-view+json": {
       "model_id": "bf7359823a2d48c38a02ac4225daf023",
       "version_major": 2,
       "version_minor": 0
      },
      "text/plain": [
       "  0%|          | 0/311 [00:00<?, ?it/s]"
      ]
     },
     "metadata": {},
     "output_type": "display_data"
    },
    {
     "name": "stdout",
     "output_type": "stream",
     "text": [
      "Epoch [22/50], loss: 0.52670 acc: 0.73548 test_loss: 0.53307, test_acc: 0.73920, auc_score: 0.80061\n"
     ]
    },
    {
     "data": {
      "application/vnd.jupyter.widget-view+json": {
       "model_id": "df5f695b6c2d44d6afacb1cfef3d1e52",
       "version_major": 2,
       "version_minor": 0
      },
      "text/plain": [
       "  0%|          | 0/311 [00:00<?, ?it/s]"
      ]
     },
     "metadata": {},
     "output_type": "display_data"
    },
    {
     "name": "stdout",
     "output_type": "stream",
     "text": [
      "Epoch [23/50], loss: 0.52406 acc: 0.74006 test_loss: 0.52994, test_acc: 0.74306, auc_score: 0.80205\n"
     ]
    },
    {
     "data": {
      "application/vnd.jupyter.widget-view+json": {
       "model_id": "040649567bb741008913398ba3e89e06",
       "version_major": 2,
       "version_minor": 0
      },
      "text/plain": [
       "  0%|          | 0/311 [00:00<?, ?it/s]"
      ]
     },
     "metadata": {},
     "output_type": "display_data"
    },
    {
     "name": "stdout",
     "output_type": "stream",
     "text": [
      "Epoch [24/50], loss: 0.52341 acc: 0.74049 test_loss: 0.53335, test_acc: 0.73727, auc_score: 0.80041\n"
     ]
    },
    {
     "data": {
      "application/vnd.jupyter.widget-view+json": {
       "model_id": "525cc335486243729a7a3a272f51e49d",
       "version_major": 2,
       "version_minor": 0
      },
      "text/plain": [
       "  0%|          | 0/311 [00:00<?, ?it/s]"
      ]
     },
     "metadata": {},
     "output_type": "display_data"
    },
    {
     "name": "stdout",
     "output_type": "stream",
     "text": [
      "Epoch [25/50], loss: 0.51737 acc: 0.74770 test_loss: 0.54972, test_acc: 0.72801, auc_score: 0.80116\n"
     ]
    },
    {
     "data": {
      "application/vnd.jupyter.widget-view+json": {
       "model_id": "8a9420678bae4ef5b3944b3cf4875de2",
       "version_major": 2,
       "version_minor": 0
      },
      "text/plain": [
       "  0%|          | 0/311 [00:00<?, ?it/s]"
      ]
     },
     "metadata": {},
     "output_type": "display_data"
    },
    {
     "name": "stdout",
     "output_type": "stream",
     "text": [
      "Epoch [26/50], loss: 0.51808 acc: 0.74461 test_loss: 0.52547, test_acc: 0.74730, auc_score: 0.80047\n"
     ]
    },
    {
     "data": {
      "application/vnd.jupyter.widget-view+json": {
       "model_id": "3fe41cd1e21542b9a7fedf5189470ff8",
       "version_major": 2,
       "version_minor": 0
      },
      "text/plain": [
       "  0%|          | 0/311 [00:00<?, ?it/s]"
      ]
     },
     "metadata": {},
     "output_type": "display_data"
    },
    {
     "name": "stdout",
     "output_type": "stream",
     "text": [
      "Epoch [27/50], loss: 0.51973 acc: 0.74555 test_loss: 0.53558, test_acc: 0.73573, auc_score: 0.80231\n"
     ]
    },
    {
     "data": {
      "application/vnd.jupyter.widget-view+json": {
       "model_id": "d5764b31c6eb4e0b8f0beaf55ad81300",
       "version_major": 2,
       "version_minor": 0
      },
      "text/plain": [
       "  0%|          | 0/311 [00:00<?, ?it/s]"
      ]
     },
     "metadata": {},
     "output_type": "display_data"
    },
    {
     "name": "stdout",
     "output_type": "stream",
     "text": [
      "Epoch [28/50], loss: 0.51636 acc: 0.74354 test_loss: 0.53419, test_acc: 0.73727, auc_score: 0.80297\n"
     ]
    },
    {
     "data": {
      "application/vnd.jupyter.widget-view+json": {
       "model_id": "229c50b56cf94df682c9ba44ad092a00",
       "version_major": 2,
       "version_minor": 0
      },
      "text/plain": [
       "  0%|          | 0/311 [00:00<?, ?it/s]"
      ]
     },
     "metadata": {},
     "output_type": "display_data"
    },
    {
     "name": "stdout",
     "output_type": "stream",
     "text": [
      "Epoch [29/50], loss: 0.51056 acc: 0.75395 test_loss: 0.53893, test_acc: 0.74035, auc_score: 0.80055\n"
     ]
    },
    {
     "data": {
      "application/vnd.jupyter.widget-view+json": {
       "model_id": "7c33f1850bd74d9cb6e0c28bc4cccd9c",
       "version_major": 2,
       "version_minor": 0
      },
      "text/plain": [
       "  0%|          | 0/311 [00:00<?, ?it/s]"
      ]
     },
     "metadata": {},
     "output_type": "display_data"
    },
    {
     "name": "stdout",
     "output_type": "stream",
     "text": [
      "Epoch [30/50], loss: 0.51021 acc: 0.75078 test_loss: 0.52694, test_acc: 0.74190, auc_score: 0.80363\n"
     ]
    },
    {
     "data": {
      "application/vnd.jupyter.widget-view+json": {
       "model_id": "147c52d3734b4ec0af637ea6128981a1",
       "version_major": 2,
       "version_minor": 0
      },
      "text/plain": [
       "  0%|          | 0/311 [00:00<?, ?it/s]"
      ]
     },
     "metadata": {},
     "output_type": "display_data"
    },
    {
     "name": "stdout",
     "output_type": "stream",
     "text": [
      "Epoch [31/50], loss: 0.51881 acc: 0.74581 test_loss: 0.52760, test_acc: 0.74460, auc_score: 0.80269\n"
     ]
    },
    {
     "data": {
      "application/vnd.jupyter.widget-view+json": {
       "model_id": "d8d7bdd7df4f47b383bbfb516366ef05",
       "version_major": 2,
       "version_minor": 0
      },
      "text/plain": [
       "  0%|          | 0/311 [00:00<?, ?it/s]"
      ]
     },
     "metadata": {},
     "output_type": "display_data"
    },
    {
     "name": "stdout",
     "output_type": "stream",
     "text": [
      "Epoch [32/50], loss: 0.51250 acc: 0.75040 test_loss: 0.52455, test_acc: 0.74421, auc_score: 0.80261\n"
     ]
    },
    {
     "data": {
      "application/vnd.jupyter.widget-view+json": {
       "model_id": "0528f276151c48e28bd5c0d655616de1",
       "version_major": 2,
       "version_minor": 0
      },
      "text/plain": [
       "  0%|          | 0/311 [00:00<?, ?it/s]"
      ]
     },
     "metadata": {},
     "output_type": "display_data"
    },
    {
     "name": "stdout",
     "output_type": "stream",
     "text": [
      "Epoch [33/50], loss: 0.50667 acc: 0.75387 test_loss: 0.53028, test_acc: 0.73727, auc_score: 0.80095\n"
     ]
    },
    {
     "data": {
      "application/vnd.jupyter.widget-view+json": {
       "model_id": "77e1de97df344e4a968811673d9cfeac",
       "version_major": 2,
       "version_minor": 0
      },
      "text/plain": [
       "  0%|          | 0/311 [00:00<?, ?it/s]"
      ]
     },
     "metadata": {},
     "output_type": "display_data"
    },
    {
     "name": "stdout",
     "output_type": "stream",
     "text": [
      "Epoch [34/50], loss: 0.51171 acc: 0.74765 test_loss: 0.54057, test_acc: 0.73341, auc_score: 0.80276\n"
     ]
    },
    {
     "data": {
      "application/vnd.jupyter.widget-view+json": {
       "model_id": "14e8dfc1f33145d6bb3f8750dbb74daf",
       "version_major": 2,
       "version_minor": 0
      },
      "text/plain": [
       "  0%|          | 0/311 [00:00<?, ?it/s]"
      ]
     },
     "metadata": {},
     "output_type": "display_data"
    },
    {
     "name": "stdout",
     "output_type": "stream",
     "text": [
      "Epoch [35/50], loss: 0.50658 acc: 0.75747 test_loss: 0.53383, test_acc: 0.74074, auc_score: 0.80154\n"
     ]
    },
    {
     "data": {
      "application/vnd.jupyter.widget-view+json": {
       "model_id": "0fd75f1f83e94d20ae6d28dc1ad5ae3c",
       "version_major": 2,
       "version_minor": 0
      },
      "text/plain": [
       "  0%|          | 0/311 [00:00<?, ?it/s]"
      ]
     },
     "metadata": {},
     "output_type": "display_data"
    },
    {
     "name": "stdout",
     "output_type": "stream",
     "text": [
      "Epoch [36/50], loss: 0.50977 acc: 0.74920 test_loss: 0.54151, test_acc: 0.73380, auc_score: 0.80292\n"
     ]
    },
    {
     "data": {
      "application/vnd.jupyter.widget-view+json": {
       "model_id": "cb32fafc0c0b4aa299c71b990dff0b23",
       "version_major": 2,
       "version_minor": 0
      },
      "text/plain": [
       "  0%|          | 0/311 [00:00<?, ?it/s]"
      ]
     },
     "metadata": {},
     "output_type": "display_data"
    },
    {
     "name": "stdout",
     "output_type": "stream",
     "text": [
      "Epoch [37/50], loss: 0.50260 acc: 0.75764 test_loss: 0.53055, test_acc: 0.74267, auc_score: 0.80181\n"
     ]
    },
    {
     "data": {
      "application/vnd.jupyter.widget-view+json": {
       "model_id": "3291d38628054d9791a438cb78b6c3c7",
       "version_major": 2,
       "version_minor": 0
      },
      "text/plain": [
       "  0%|          | 0/311 [00:00<?, ?it/s]"
      ]
     },
     "metadata": {},
     "output_type": "display_data"
    },
    {
     "name": "stdout",
     "output_type": "stream",
     "text": [
      "Epoch [38/50], loss: 0.50509 acc: 0.75571 test_loss: 0.53687, test_acc: 0.73418, auc_score: 0.80337\n"
     ]
    },
    {
     "data": {
      "application/vnd.jupyter.widget-view+json": {
       "model_id": "c1bc55809fd14f35822f4d4d177842ae",
       "version_major": 2,
       "version_minor": 0
      },
      "text/plain": [
       "  0%|          | 0/311 [00:00<?, ?it/s]"
      ]
     },
     "metadata": {},
     "output_type": "display_data"
    },
    {
     "name": "stdout",
     "output_type": "stream",
     "text": [
      "Epoch [39/50], loss: 0.51187 acc: 0.75344 test_loss: 0.51978, test_acc: 0.74537, auc_score: 0.80512\n"
     ]
    },
    {
     "data": {
      "application/vnd.jupyter.widget-view+json": {
       "model_id": "06266b2c98894c37b998f1306e5c3063",
       "version_major": 2,
       "version_minor": 0
      },
      "text/plain": [
       "  0%|          | 0/311 [00:00<?, ?it/s]"
      ]
     },
     "metadata": {},
     "output_type": "display_data"
    },
    {
     "name": "stdout",
     "output_type": "stream",
     "text": [
      "Epoch [40/50], loss: 0.50870 acc: 0.75083 test_loss: 0.53712, test_acc: 0.73727, auc_score: 0.80305\n"
     ]
    },
    {
     "data": {
      "application/vnd.jupyter.widget-view+json": {
       "model_id": "a91400718c774de88b2d5d4e843f98df",
       "version_major": 2,
       "version_minor": 0
      },
      "text/plain": [
       "  0%|          | 0/311 [00:00<?, ?it/s]"
      ]
     },
     "metadata": {},
     "output_type": "display_data"
    },
    {
     "name": "stdout",
     "output_type": "stream",
     "text": [
      "Epoch [41/50], loss: 0.50449 acc: 0.75833 test_loss: 0.52933, test_acc: 0.74190, auc_score: 0.80382\n"
     ]
    },
    {
     "data": {
      "application/vnd.jupyter.widget-view+json": {
       "model_id": "d678e377ec0a47948d8f83319ac74a34",
       "version_major": 2,
       "version_minor": 0
      },
      "text/plain": [
       "  0%|          | 0/311 [00:00<?, ?it/s]"
      ]
     },
     "metadata": {},
     "output_type": "display_data"
    },
    {
     "name": "stdout",
     "output_type": "stream",
     "text": [
      "Epoch [42/50], loss: 0.51021 acc: 0.75267 test_loss: 0.54348, test_acc: 0.73573, auc_score: 0.80310\n"
     ]
    },
    {
     "data": {
      "application/vnd.jupyter.widget-view+json": {
       "model_id": "a200ef21871b4766aed0fcd4778a1d21",
       "version_major": 2,
       "version_minor": 0
      },
      "text/plain": [
       "  0%|          | 0/311 [00:00<?, ?it/s]"
      ]
     },
     "metadata": {},
     "output_type": "display_data"
    },
    {
     "name": "stdout",
     "output_type": "stream",
     "text": [
      "Epoch [43/50], loss: 0.50363 acc: 0.75790 test_loss: 0.53417, test_acc: 0.74035, auc_score: 0.80189\n"
     ]
    },
    {
     "data": {
      "application/vnd.jupyter.widget-view+json": {
       "model_id": "695dc8abdd1c4271b3cfecf2b140e2b2",
       "version_major": 2,
       "version_minor": 0
      },
      "text/plain": [
       "  0%|          | 0/311 [00:00<?, ?it/s]"
      ]
     },
     "metadata": {},
     "output_type": "display_data"
    },
    {
     "name": "stdout",
     "output_type": "stream",
     "text": [
      "Epoch [44/50], loss: 0.50468 acc: 0.75833 test_loss: 0.53974, test_acc: 0.73534, auc_score: 0.80389\n"
     ]
    },
    {
     "data": {
      "application/vnd.jupyter.widget-view+json": {
       "model_id": "c7f718e6782c41e1ae614a3a71bcf80b",
       "version_major": 2,
       "version_minor": 0
      },
      "text/plain": [
       "  0%|          | 0/311 [00:00<?, ?it/s]"
      ]
     },
     "metadata": {},
     "output_type": "display_data"
    },
    {
     "name": "stdout",
     "output_type": "stream",
     "text": [
      "Epoch [45/50], loss: 0.50531 acc: 0.75460 test_loss: 0.53829, test_acc: 0.74113, auc_score: 0.80279\n"
     ]
    },
    {
     "data": {
      "application/vnd.jupyter.widget-view+json": {
       "model_id": "f751dd6d40b74bcaa0c825685083f856",
       "version_major": 2,
       "version_minor": 0
      },
      "text/plain": [
       "  0%|          | 0/311 [00:00<?, ?it/s]"
      ]
     },
     "metadata": {},
     "output_type": "display_data"
    },
    {
     "name": "stdout",
     "output_type": "stream",
     "text": [
      "Epoch [46/50], loss: 0.51005 acc: 0.75121 test_loss: 0.53805, test_acc: 0.73881, auc_score: 0.80330\n"
     ]
    },
    {
     "data": {
      "application/vnd.jupyter.widget-view+json": {
       "model_id": "744266830e774c3a989ac2c7c17f6246",
       "version_major": 2,
       "version_minor": 0
      },
      "text/plain": [
       "  0%|          | 0/311 [00:00<?, ?it/s]"
      ]
     },
     "metadata": {},
     "output_type": "display_data"
    },
    {
     "name": "stdout",
     "output_type": "stream",
     "text": [
      "Epoch [47/50], loss: 0.51250 acc: 0.75177 test_loss: 0.52763, test_acc: 0.74576, auc_score: 0.80473\n"
     ]
    },
    {
     "data": {
      "application/vnd.jupyter.widget-view+json": {
       "model_id": "039b6fe1f9d548b4bc414f716351239f",
       "version_major": 2,
       "version_minor": 0
      },
      "text/plain": [
       "  0%|          | 0/311 [00:00<?, ?it/s]"
      ]
     },
     "metadata": {},
     "output_type": "display_data"
    },
    {
     "name": "stdout",
     "output_type": "stream",
     "text": [
      "Epoch [48/50], loss: 0.50666 acc: 0.75610 test_loss: 0.53647, test_acc: 0.73997, auc_score: 0.80287\n"
     ]
    },
    {
     "data": {
      "application/vnd.jupyter.widget-view+json": {
       "model_id": "6a89c950dcbc4f9e9d5fb1d1c4d37044",
       "version_major": 2,
       "version_minor": 0
      },
      "text/plain": [
       "  0%|          | 0/311 [00:00<?, ?it/s]"
      ]
     },
     "metadata": {},
     "output_type": "display_data"
    },
    {
     "name": "stdout",
     "output_type": "stream",
     "text": [
      "Epoch [49/50], loss: 0.50994 acc: 0.75387 test_loss: 0.53491, test_acc: 0.74190, auc_score: 0.80416\n"
     ]
    },
    {
     "data": {
      "application/vnd.jupyter.widget-view+json": {
       "model_id": "a097bc1bc16f46f3a7fe895cc4443a7d",
       "version_major": 2,
       "version_minor": 0
      },
      "text/plain": [
       "  0%|          | 0/311 [00:00<?, ?it/s]"
      ]
     },
     "metadata": {},
     "output_type": "display_data"
    },
    {
     "name": "stdout",
     "output_type": "stream",
     "text": [
      "Epoch [50/50], loss: 0.51080 acc: 0.75254 test_loss: 0.55479, test_acc: 0.73032, auc_score: 0.80266\n"
     ]
    }
   ],
   "source": [
    "net = CNN(n_output, n_hidden).to(device)\n",
    "\n",
    "criterion = nn.CrossEntropyLoss()\n",
    "\n",
    "lr = 0.0001\n",
    "\n",
    "optimizer = optim.Adam(net.parameters(), lr=lr, weight_decay=0.01)\n",
    "# optimizer = optim.SGD(net.parameters(), lr=lr, momentum=0.9)\n",
    "\n",
    "net, optimizer, train_loader, test_loader = accelerator.prepare(\n",
    "    net, optimizer, train_loader, test_loader)\n",
    "num_epochs = 50\n",
    "\n",
    "history = np.zeros((0,6))\n",
    "\n",
    "history = fit(net, optimizer, criterion, num_epochs, train_loader, test_loader, device, history, inputs_auc_test, labels_auc_test)"
   ]
  },
  {
   "cell_type": "code",
   "execution_count": 20,
   "id": "635a7281-675d-4e95-acee-9468ed807136",
   "metadata": {
    "tags": []
   },
   "outputs": [
    {
     "name": "stdout",
     "output_type": "stream",
     "text": [
      "初期状態: 損失: 0.55885 精度: 0.71836\n",
      "最終状態: 損失: 0.55479 精度: 0.73032\n"
     ]
    },
    {
     "data": {
      "image/png": "[encoded data removed]",
      "text/plain": [
       "<Figure size 900x800 with 1 Axes>"
      ]
     },
     "metadata": {},
     "output_type": "display_data"
    },
    {
     "data": {
      "image/png": "[encoded data removed]",
      "text/plain": [
       "<Figure size 900x800 with 1 Axes>"
      ]
     },
     "metadata": {},
     "output_type": "display_data"
    },
    {
     "data": {
      "image/png": "[encoded data removed]",
      "text/plain": [
       "<Figure size 900x800 with 1 Axes>"
      ]
     },
     "metadata": {},
     "output_type": "display_data"
    }
   ],
   "source": [
    "evaluate_history(history)"
   ]
  }
 ],
 "metadata": {
  "kernelspec": {
   "display_name": "Python 3 (ipykernel)",
   "language": "python",
   "name": "python3"
  },
  "language_info": {
   "codemirror_mode": {
    "name": "ipython",
    "version": 3
   },
   "file_extension": ".py",
   "mimetype": "text/x-python",
   "name": "python",
   "nbconvert_exporter": "python",
   "pygments_lexer": "ipython3",
   "version": "3.8.10"
  }
 },
 "nbformat": 4,
 "nbformat_minor": 5
}
