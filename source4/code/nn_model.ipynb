{
 "cells": [
  {
   "cell_type": "code",
   "execution_count": 2,
   "metadata": {},
   "outputs": [],
   "source": [
    "import torch\n",
    "import torch.nn as nn\n",
    "import torch.optim as optim\n",
    "from torchinfo import summary\n",
    "from torchviz import make_dot\n",
    "import torchvision.datasets as datasets\n",
    "import torchvision.transforms as transforms\n",
    "from torch.utils.data import DataLoader\n",
    "from learning_tool import *"
   ]
  },
  {
   "cell_type": "code",
   "execution_count": null,
   "metadata": {},
   "outputs": [],
   "source": [
    "%matplotlib inline\n",
    "import numpy as np\n",
    "import pandas as pd\n",
    "import matplotlib.pyplot as plt\n",
    "import japanize_matplotlib\n",
    "from IPython.display import display"
   ]
  },
  {
   "cell_type": "code",
   "execution_count": null,
   "metadata": {},
   "outputs": [],
   "source": [
    "# warning表示off\n",
    "import warnings\n",
    "warnings.simplefilter('ignore')\n",
    "\n",
    "# デフォルトフォントサイズ変更\n",
    "plt.rcParams['font.size'] = 14\n",
    "\n",
    "# デフォルトグラフサイズ変更\n",
    "plt.rcParams['figure.figsize'] = (6,6)\n",
    "\n",
    "# デフォルトで方眼表示ON\n",
    "plt.rcParams['axes.grid'] = True\n",
    "\n",
    "# numpyの表示桁数設定\n",
    "np.set_printoptions(suppress=True, precision=5)"
   ]
  },
  {
   "cell_type": "code",
   "execution_count": 5,
   "metadata": {},
   "outputs": [
    {
     "name": "stdout",
     "output_type": "stream",
     "text": [
      "cpu\n"
     ]
    }
   ],
   "source": [
    "# デバイスの割り当て\n",
    "\n",
    "device = torch.device(\"cuda:0\" if torch.cuda.is_available() else \"cpu\")\n",
    "print(device)"
   ]
  },
  {
   "cell_type": "code",
   "execution_count": null,
   "metadata": {},
   "outputs": [],
   "source": [
    "transform = transforms.Compose([\n",
    "    transforms.ToTensor(),\n",
    "])\n",
    "\n",
    "df = pd.read_csv()\n",
    "\n",
    "\n",
    "# train_set = \n",
    "\n",
    "# test_set = "
   ]
  },
  {
   "cell_type": "code",
   "execution_count": null,
   "metadata": {},
   "outputs": [],
   "source": [
    "batch_size = 100\n",
    "train_loader = DataLoader(train_set, batch_size=batch_size, shuffle=True)\n",
    "\n",
    "test_loader = DataLoader(test_set, batch_size=batch_size, shuffle=False)"
   ]
  },
  {
   "cell_type": "code",
   "execution_count": null,
   "metadata": {},
   "outputs": [],
   "source": [
    "for txt_vec, labels in train_loader:\n",
    "  break\n",
    "\n",
    "print(txt_vec.shape)"
   ]
  },
  {
   "cell_type": "code",
   "execution_count": null,
   "metadata": {},
   "outputs": [],
   "source": [
    "# 出力次元数\n",
    "# 分類先クラス数　今回は10になる\n",
    "n_output = len(set(list(txt_vec.data.numpy())))\n",
    "\n",
    "# 隠れ層のノード数\n",
    "n_hidden = 100\n",
    "\n",
    "# 結果確認\n",
    "print(f'n_hidden: {n_hidden} n_output: {n_output}')"
   ]
  },
  {
   "cell_type": "code",
   "execution_count": null,
   "metadata": {},
   "outputs": [],
   "source": [
    "class CNN(nn.Module):\n",
    "  def __init__(self, n_output, n_hidden):\n",
    "    super().__init__()\n",
    "    self.relu = nn.ReLU(inplace=True)\n",
    "    self.embedding = nn.Embedding(2000,128)\n",
    "    self.conv1 = nn.Conv2d(1, 128, (3,128))\n",
    "    self.maxpool1 = nn.MaxPool1d(1998)\n",
    "    self.conv2 = nn.Conv2d(1, 128, (4,128))\n",
    "    self.maxpool2 = nn.MaxPool2d(1997)\n",
    "    self.conv3 = nn.Conv2d(1, 128, (5,128))\n",
    "    self.maxpool3 = nn.MaxPool2d(1996)\n",
    "    self.flatten = nn.Flatten()\n",
    "    self.l1 = nn.Linear(384, n_hidden)\n",
    "    self.l2 = nn.Linear(n_hidden, n_output)\n",
    "\n",
    "    self.features1 = nn.Sequential(\n",
    "        self.conv1,\n",
    "        self.relu,\n",
    "        self.maxpool1)\n",
    "    \n",
    "    self.features2 = nn.Sequential(\n",
    "        self.conv2,\n",
    "        self.relu,\n",
    "        self.maxpool2)\n",
    "    \n",
    "    self.features3 = nn.Sequential(\n",
    "        self.conv3,\n",
    "        self.relu,\n",
    "        self.maxpool3)\n",
    "    \n",
    "    self.classifier = nn.Sequential(\n",
    "       self.l1,\n",
    "       self.relu,\n",
    "       self.l2)\n",
    "\n",
    "  def forward(self, x):\n",
    "    x1 = self.embedding(x)\n",
    "    x2_1 = self.features(x1)\n",
    "    x2_2 = self.features(x1)\n",
    "    x2_3 = self.features(x1)\n",
    "    x3 = self.flatten(x2_1, x2_2, x2_3)\n",
    "    x4 = self.classifier(x3)\n",
    "    return x4   "
   ]
  },
  {
   "cell_type": "code",
   "execution_count": null,
   "metadata": {},
   "outputs": [],
   "source": [
    "# 出力次元数\n",
    "# 分類先クラス数　今回は10になる\n",
    "n_output = len(set(list(labels.data.numpy())))\n",
    "\n",
    "# 隠れ層のノード数\n",
    "n_hidden = 100\n",
    "\n",
    "# 結果確認\n",
    "print(f'n_hidden: {n_hidden} n_output: {n_output}')"
   ]
  },
  {
   "cell_type": "code",
   "execution_count": null,
   "metadata": {},
   "outputs": [],
   "source": [
    "net = CNN(n_output, n_hidden).to(device)\n",
    "print(net)"
   ]
  },
  {
   "cell_type": "code",
   "execution_count": null,
   "metadata": {},
   "outputs": [],
   "source": [
    "# モデルインスタンス生成\n",
    "net = CNN(n_output, n_hidden).to(device)\n",
    "\n",
    "# 損失関数： 交差エントロピー関数\n",
    "criterion = nn.CrossEntropyLoss()\n",
    "\n",
    "# 学習率\n",
    "lr = 0.001\n",
    "\n",
    "# 最適化関数: 勾配降下法\n",
    "# optimizer = torch.optim.SGD(net.parameters(), lr=lr)\n",
    "optimizer = optim.Adam(net.parameters(), lr=lr)\n",
    "\n",
    "# 繰り返し回数\n",
    "num_epochs = 20\n",
    "\n",
    "# 評価結果記録用\n",
    "history = np.zeros((0,5))\n",
    "\n",
    "# 学習\n",
    "history = fit(net, optimizer, criterion, num_epochs, train_loader, test_loader, device, history)"
   ]
  },
  {
   "cell_type": "code",
   "execution_count": null,
   "metadata": {},
   "outputs": [],
   "source": [
    "evaluate_history(history)"
   ]
  }
 ],
 "metadata": {
  "kernelspec": {
   "display_name": "test",
   "language": "python",
   "name": "python3"
  },
  "language_info": {
   "codemirror_mode": {
    "name": "ipython",
    "version": 3
   },
   "file_extension": ".py",
   "mimetype": "text/x-python",
   "name": "python",
   "nbconvert_exporter": "python",
   "pygments_lexer": "ipython3",
   "version": "3.9.16"
  },
  "orig_nbformat": 4
 },
 "nbformat": 4,
 "nbformat_minor": 2
}
