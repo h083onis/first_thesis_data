{
 "cells": [
  {
   "cell_type": "code",
   "execution_count": 1,
   "id": "4c5a39c7-0f06-4f07-acea-639edfe9ac17",
   "metadata": {},
   "outputs": [],
   "source": [
    "import torch\n",
    "import torch.nn as nn\n",
    "import torch.optim as optim\n",
    "from torchinfo import summary\n",
    "from torchviz import make_dot\n",
    "import torchvision.datasets as datasets\n",
    "import torchvision.transforms as transforms\n",
    "from torch.utils.data import DataLoader\n",
    "from torch.utils.data.dataset import Subset,TensorDataset\n",
    "from sklearn.model_selection import KFold\n",
    "from learning_tool import *\n",
    "import sys\n",
    "sys.path.append('..')\n",
    "\n",
    "from model.model import *"
   ]
  },
  {
   "cell_type": "code",
   "execution_count": 2,
   "id": "c97c9003-b8c5-4d67-997e-cc64a0306bd0",
   "metadata": {},
   "outputs": [],
   "source": [
    "%matplotlib inline\n",
    "import numpy as np\n",
    "import pandas as pd\n",
    "import matplotlib.pyplot as plt\n",
    "import japanize_matplotlib\n",
    "from tqdm.notebook import tqdm\n",
    "from IPython.display import display\n",
    "from sklearn.model_selection import train_test_split"
   ]
  },
  {
   "cell_type": "code",
   "execution_count": 3,
   "id": "a6207efe-d823-45ae-9494-20d7f5ff52a7",
   "metadata": {},
   "outputs": [],
   "source": [
    "# warning表示off\n",
    "import warnings\n",
    "warnings.simplefilter('ignore')\n",
    "\n",
    "# デフォルトフォントサイズ変更\n",
    "plt.rcParams['font.size'] = 14\n",
    "\n",
    "# デフォルトグラフサイズ変更\n",
    "plt.rcParams['figure.figsize'] = (6,6)\n",
    "\n",
    "# デフォルトで方眼表示ON\n",
    "plt.rcParams['axes.grid'] = True\n",
    "\n",
    "# numpyの表示桁数設定\n",
    "np.set_printoptions(suppress=True, precision=5)"
   ]
  },
  {
   "cell_type": "code",
   "execution_count": 4,
   "id": "861118c2-5941-4604-b5b3-970de7468731",
   "metadata": {},
   "outputs": [
    {
     "name": "stdout",
     "output_type": "stream",
     "text": [
      "cuda:0\n"
     ]
    }
   ],
   "source": [
    "# デバイスの割り当て\n",
    "\n",
    "device = torch.device(\"cuda:0\" if torch.cuda.is_available() else \"cpu\")\n",
    "print(device)\n",
    "# device = torch.device('cpu')"
   ]
  },
  {
   "cell_type": "code",
   "execution_count": 5,
   "id": "bdfd9d43-1be3-4e1e-8685-48a4c6e2a4ec",
   "metadata": {},
   "outputs": [],
   "source": [
    "# PyTorch乱数固定用\n",
    "\n",
    "def torch_seed(seed=123):\n",
    "    torch.manual_seed(seed)\n",
    "    torch.cuda.manual_seed(seed)\n",
    "    torch.backends.cudnn.deterministic = True\n",
    "    torch.use_deterministic_algorithms = True\n",
    "    \n",
    "# 乱数初期化\n",
    "torch_seed()"
   ]
  },
  {
   "cell_type": "code",
   "execution_count": 6,
   "id": "e0281396-ea36-4461-8e46-5253dd21b3f5",
   "metadata": {},
   "outputs": [
    {
     "data": {
      "text/html": [
       "<div>\n",
       "<style scoped>\n",
       "    .dataframe tbody tr th:only-of-type {\n",
       "        vertical-align: middle;\n",
       "    }\n",
       "\n",
       "    .dataframe tbody tr th {\n",
       "        vertical-align: top;\n",
       "    }\n",
       "\n",
       "    .dataframe thead th {\n",
       "        text-align: right;\n",
       "    }\n",
       "</style>\n",
       "<table border=\"1\" class=\"dataframe\">\n",
       "  <thead>\n",
       "    <tr style=\"text-align: right;\">\n",
       "      <th></th>\n",
       "      <th>0</th>\n",
       "      <th>1</th>\n",
       "      <th>2</th>\n",
       "      <th>3</th>\n",
       "      <th>4</th>\n",
       "      <th>5</th>\n",
       "      <th>6</th>\n",
       "      <th>7</th>\n",
       "      <th>8</th>\n",
       "      <th>9</th>\n",
       "      <th>...</th>\n",
       "      <th>1991</th>\n",
       "      <th>1992</th>\n",
       "      <th>1993</th>\n",
       "      <th>1994</th>\n",
       "      <th>1995</th>\n",
       "      <th>1996</th>\n",
       "      <th>1997</th>\n",
       "      <th>1998</th>\n",
       "      <th>1999</th>\n",
       "      <th>contains_bug</th>\n",
       "    </tr>\n",
       "    <tr>\n",
       "      <th>commit_hash</th>\n",
       "      <th></th>\n",
       "      <th></th>\n",
       "      <th></th>\n",
       "      <th></th>\n",
       "      <th></th>\n",
       "      <th></th>\n",
       "      <th></th>\n",
       "      <th></th>\n",
       "      <th></th>\n",
       "      <th></th>\n",
       "      <th></th>\n",
       "      <th></th>\n",
       "      <th></th>\n",
       "      <th></th>\n",
       "      <th></th>\n",
       "      <th></th>\n",
       "      <th></th>\n",
       "      <th></th>\n",
       "      <th></th>\n",
       "      <th></th>\n",
       "      <th></th>\n",
       "    </tr>\n",
       "  </thead>\n",
       "  <tbody>\n",
       "    <tr>\n",
       "      <th>77b260b65ba821b3443d922320cc3d9b708c8d83</th>\n",
       "      <td>5</td>\n",
       "      <td>5</td>\n",
       "      <td>25</td>\n",
       "      <td>36</td>\n",
       "      <td>16</td>\n",
       "      <td>23</td>\n",
       "      <td>6</td>\n",
       "      <td>7</td>\n",
       "      <td>11</td>\n",
       "      <td>5</td>\n",
       "      <td>...</td>\n",
       "      <td>6</td>\n",
       "      <td>92</td>\n",
       "      <td>7</td>\n",
       "      <td>1</td>\n",
       "      <td>11</td>\n",
       "      <td>1</td>\n",
       "      <td>5</td>\n",
       "      <td>1</td>\n",
       "      <td>34</td>\n",
       "      <td>1</td>\n",
       "    </tr>\n",
       "    <tr>\n",
       "      <th>a4701ac4bf5b50810914796e284b0e3f78a240bc</th>\n",
       "      <td>5</td>\n",
       "      <td>25</td>\n",
       "      <td>36</td>\n",
       "      <td>16</td>\n",
       "      <td>23</td>\n",
       "      <td>6</td>\n",
       "      <td>7</td>\n",
       "      <td>11</td>\n",
       "      <td>5</td>\n",
       "      <td>161</td>\n",
       "      <td>...</td>\n",
       "      <td>0</td>\n",
       "      <td>0</td>\n",
       "      <td>0</td>\n",
       "      <td>0</td>\n",
       "      <td>0</td>\n",
       "      <td>0</td>\n",
       "      <td>0</td>\n",
       "      <td>0</td>\n",
       "      <td>0</td>\n",
       "      <td>1</td>\n",
       "    </tr>\n",
       "    <tr>\n",
       "      <th>0a0bad2c4a35be88f7732def261a03737fab662e</th>\n",
       "      <td>5</td>\n",
       "      <td>25</td>\n",
       "      <td>36</td>\n",
       "      <td>16</td>\n",
       "      <td>23</td>\n",
       "      <td>6</td>\n",
       "      <td>7</td>\n",
       "      <td>11</td>\n",
       "      <td>5</td>\n",
       "      <td>681</td>\n",
       "      <td>...</td>\n",
       "      <td>0</td>\n",
       "      <td>0</td>\n",
       "      <td>0</td>\n",
       "      <td>0</td>\n",
       "      <td>0</td>\n",
       "      <td>0</td>\n",
       "      <td>0</td>\n",
       "      <td>0</td>\n",
       "      <td>0</td>\n",
       "      <td>1</td>\n",
       "    </tr>\n",
       "    <tr>\n",
       "      <th>4de90eba5a4628f573c5e0536ed9160b6f1ea29d</th>\n",
       "      <td>374</td>\n",
       "      <td>16</td>\n",
       "      <td>23</td>\n",
       "      <td>6</td>\n",
       "      <td>7</td>\n",
       "      <td>11</td>\n",
       "      <td>5</td>\n",
       "      <td>122</td>\n",
       "      <td>65</td>\n",
       "      <td>122</td>\n",
       "      <td>...</td>\n",
       "      <td>0</td>\n",
       "      <td>0</td>\n",
       "      <td>0</td>\n",
       "      <td>0</td>\n",
       "      <td>0</td>\n",
       "      <td>0</td>\n",
       "      <td>0</td>\n",
       "      <td>0</td>\n",
       "      <td>0</td>\n",
       "      <td>0</td>\n",
       "    </tr>\n",
       "    <tr>\n",
       "      <th>4292f69f0afd36a7335515cc565ea41521bfa5cd</th>\n",
       "      <td>5</td>\n",
       "      <td>25</td>\n",
       "      <td>36</td>\n",
       "      <td>16</td>\n",
       "      <td>23</td>\n",
       "      <td>6</td>\n",
       "      <td>7</td>\n",
       "      <td>11</td>\n",
       "      <td>5</td>\n",
       "      <td>34</td>\n",
       "      <td>...</td>\n",
       "      <td>0</td>\n",
       "      <td>0</td>\n",
       "      <td>0</td>\n",
       "      <td>0</td>\n",
       "      <td>0</td>\n",
       "      <td>0</td>\n",
       "      <td>0</td>\n",
       "      <td>0</td>\n",
       "      <td>0</td>\n",
       "      <td>1</td>\n",
       "    </tr>\n",
       "    <tr>\n",
       "      <th>...</th>\n",
       "      <td>...</td>\n",
       "      <td>...</td>\n",
       "      <td>...</td>\n",
       "      <td>...</td>\n",
       "      <td>...</td>\n",
       "      <td>...</td>\n",
       "      <td>...</td>\n",
       "      <td>...</td>\n",
       "      <td>...</td>\n",
       "      <td>...</td>\n",
       "      <td>...</td>\n",
       "      <td>...</td>\n",
       "      <td>...</td>\n",
       "      <td>...</td>\n",
       "      <td>...</td>\n",
       "      <td>...</td>\n",
       "      <td>...</td>\n",
       "      <td>...</td>\n",
       "      <td>...</td>\n",
       "      <td>...</td>\n",
       "      <td>...</td>\n",
       "    </tr>\n",
       "    <tr>\n",
       "      <th>da0d0426ebf80387c4eb5f169bed5df813dd22da</th>\n",
       "      <td>5</td>\n",
       "      <td>25</td>\n",
       "      <td>36</td>\n",
       "      <td>16</td>\n",
       "      <td>23</td>\n",
       "      <td>6</td>\n",
       "      <td>7</td>\n",
       "      <td>11</td>\n",
       "      <td>5</td>\n",
       "      <td>17</td>\n",
       "      <td>...</td>\n",
       "      <td>0</td>\n",
       "      <td>0</td>\n",
       "      <td>0</td>\n",
       "      <td>0</td>\n",
       "      <td>0</td>\n",
       "      <td>0</td>\n",
       "      <td>0</td>\n",
       "      <td>0</td>\n",
       "      <td>0</td>\n",
       "      <td>0</td>\n",
       "    </tr>\n",
       "    <tr>\n",
       "      <th>f3f792e763685511088a10afb2d58a75ac131421</th>\n",
       "      <td>5</td>\n",
       "      <td>25</td>\n",
       "      <td>36</td>\n",
       "      <td>16</td>\n",
       "      <td>23</td>\n",
       "      <td>6</td>\n",
       "      <td>7</td>\n",
       "      <td>11</td>\n",
       "      <td>5</td>\n",
       "      <td>5</td>\n",
       "      <td>...</td>\n",
       "      <td>3</td>\n",
       "      <td>4</td>\n",
       "      <td>18</td>\n",
       "      <td>32</td>\n",
       "      <td>13</td>\n",
       "      <td>5</td>\n",
       "      <td>0</td>\n",
       "      <td>821</td>\n",
       "      <td>1034</td>\n",
       "      <td>1</td>\n",
       "    </tr>\n",
       "    <tr>\n",
       "      <th>f59887aeaf409d5282548a5d559f5ce58c43c601</th>\n",
       "      <td>5</td>\n",
       "      <td>25</td>\n",
       "      <td>36</td>\n",
       "      <td>16</td>\n",
       "      <td>23</td>\n",
       "      <td>6</td>\n",
       "      <td>7</td>\n",
       "      <td>11</td>\n",
       "      <td>5</td>\n",
       "      <td>124</td>\n",
       "      <td>...</td>\n",
       "      <td>0</td>\n",
       "      <td>0</td>\n",
       "      <td>0</td>\n",
       "      <td>0</td>\n",
       "      <td>0</td>\n",
       "      <td>0</td>\n",
       "      <td>0</td>\n",
       "      <td>0</td>\n",
       "      <td>0</td>\n",
       "      <td>1</td>\n",
       "    </tr>\n",
       "    <tr>\n",
       "      <th>30d818fcd1f76d3eab4484d75677bbcb3300ddcf</th>\n",
       "      <td>5</td>\n",
       "      <td>25</td>\n",
       "      <td>36</td>\n",
       "      <td>16</td>\n",
       "      <td>23</td>\n",
       "      <td>6</td>\n",
       "      <td>7</td>\n",
       "      <td>11</td>\n",
       "      <td>5</td>\n",
       "      <td>124</td>\n",
       "      <td>...</td>\n",
       "      <td>0</td>\n",
       "      <td>0</td>\n",
       "      <td>0</td>\n",
       "      <td>0</td>\n",
       "      <td>0</td>\n",
       "      <td>0</td>\n",
       "      <td>0</td>\n",
       "      <td>0</td>\n",
       "      <td>0</td>\n",
       "      <td>0</td>\n",
       "    </tr>\n",
       "    <tr>\n",
       "      <th>c210132b9219522267adbc0142957ee5a76aeb67</th>\n",
       "      <td>5</td>\n",
       "      <td>25</td>\n",
       "      <td>36</td>\n",
       "      <td>16</td>\n",
       "      <td>23</td>\n",
       "      <td>6</td>\n",
       "      <td>7</td>\n",
       "      <td>11</td>\n",
       "      <td>5</td>\n",
       "      <td>17</td>\n",
       "      <td>...</td>\n",
       "      <td>0</td>\n",
       "      <td>0</td>\n",
       "      <td>0</td>\n",
       "      <td>0</td>\n",
       "      <td>0</td>\n",
       "      <td>0</td>\n",
       "      <td>0</td>\n",
       "      <td>0</td>\n",
       "      <td>0</td>\n",
       "      <td>1</td>\n",
       "    </tr>\n",
       "  </tbody>\n",
       "</table>\n",
       "<p>100 rows × 2001 columns</p>\n",
       "</div>"
      ],
      "text/plain": [
       "                                            0   1   2   3   4   5  6    7   8   \n",
       "commit_hash                                                                     \n",
       "77b260b65ba821b3443d922320cc3d9b708c8d83    5   5  25  36  16  23  6    7  11  \\\n",
       "a4701ac4bf5b50810914796e284b0e3f78a240bc    5  25  36  16  23   6  7   11   5   \n",
       "0a0bad2c4a35be88f7732def261a03737fab662e    5  25  36  16  23   6  7   11   5   \n",
       "4de90eba5a4628f573c5e0536ed9160b6f1ea29d  374  16  23   6   7  11  5  122  65   \n",
       "4292f69f0afd36a7335515cc565ea41521bfa5cd    5  25  36  16  23   6  7   11   5   \n",
       "...                                       ...  ..  ..  ..  ..  .. ..  ...  ..   \n",
       "da0d0426ebf80387c4eb5f169bed5df813dd22da    5  25  36  16  23   6  7   11   5   \n",
       "f3f792e763685511088a10afb2d58a75ac131421    5  25  36  16  23   6  7   11   5   \n",
       "f59887aeaf409d5282548a5d559f5ce58c43c601    5  25  36  16  23   6  7   11   5   \n",
       "30d818fcd1f76d3eab4484d75677bbcb3300ddcf    5  25  36  16  23   6  7   11   5   \n",
       "c210132b9219522267adbc0142957ee5a76aeb67    5  25  36  16  23   6  7   11   5   \n",
       "\n",
       "                                            9  ...  1991  1992  1993  1994   \n",
       "commit_hash                                    ...                           \n",
       "77b260b65ba821b3443d922320cc3d9b708c8d83    5  ...     6    92     7     1  \\\n",
       "a4701ac4bf5b50810914796e284b0e3f78a240bc  161  ...     0     0     0     0   \n",
       "0a0bad2c4a35be88f7732def261a03737fab662e  681  ...     0     0     0     0   \n",
       "4de90eba5a4628f573c5e0536ed9160b6f1ea29d  122  ...     0     0     0     0   \n",
       "4292f69f0afd36a7335515cc565ea41521bfa5cd   34  ...     0     0     0     0   \n",
       "...                                       ...  ...   ...   ...   ...   ...   \n",
       "da0d0426ebf80387c4eb5f169bed5df813dd22da   17  ...     0     0     0     0   \n",
       "f3f792e763685511088a10afb2d58a75ac131421    5  ...     3     4    18    32   \n",
       "f59887aeaf409d5282548a5d559f5ce58c43c601  124  ...     0     0     0     0   \n",
       "30d818fcd1f76d3eab4484d75677bbcb3300ddcf  124  ...     0     0     0     0   \n",
       "c210132b9219522267adbc0142957ee5a76aeb67   17  ...     0     0     0     0   \n",
       "\n",
       "                                          1995  1996  1997  1998  1999   \n",
       "commit_hash                                                              \n",
       "77b260b65ba821b3443d922320cc3d9b708c8d83    11     1     5     1    34  \\\n",
       "a4701ac4bf5b50810914796e284b0e3f78a240bc     0     0     0     0     0   \n",
       "0a0bad2c4a35be88f7732def261a03737fab662e     0     0     0     0     0   \n",
       "4de90eba5a4628f573c5e0536ed9160b6f1ea29d     0     0     0     0     0   \n",
       "4292f69f0afd36a7335515cc565ea41521bfa5cd     0     0     0     0     0   \n",
       "...                                        ...   ...   ...   ...   ...   \n",
       "da0d0426ebf80387c4eb5f169bed5df813dd22da     0     0     0     0     0   \n",
       "f3f792e763685511088a10afb2d58a75ac131421    13     5     0   821  1034   \n",
       "f59887aeaf409d5282548a5d559f5ce58c43c601     0     0     0     0     0   \n",
       "30d818fcd1f76d3eab4484d75677bbcb3300ddcf     0     0     0     0     0   \n",
       "c210132b9219522267adbc0142957ee5a76aeb67     0     0     0     0     0   \n",
       "\n",
       "                                          contains_bug  \n",
       "commit_hash                                             \n",
       "77b260b65ba821b3443d922320cc3d9b708c8d83             1  \n",
       "a4701ac4bf5b50810914796e284b0e3f78a240bc             1  \n",
       "0a0bad2c4a35be88f7732def261a03737fab662e             1  \n",
       "4de90eba5a4628f573c5e0536ed9160b6f1ea29d             0  \n",
       "4292f69f0afd36a7335515cc565ea41521bfa5cd             1  \n",
       "...                                                ...  \n",
       "da0d0426ebf80387c4eb5f169bed5df813dd22da             0  \n",
       "f3f792e763685511088a10afb2d58a75ac131421             1  \n",
       "f59887aeaf409d5282548a5d559f5ce58c43c601             1  \n",
       "30d818fcd1f76d3eab4484d75677bbcb3300ddcf             0  \n",
       "c210132b9219522267adbc0142957ee5a76aeb67             1  \n",
       "\n",
       "[100 rows x 2001 columns]"
      ]
     },
     "execution_count": 6,
     "metadata": {},
     "output_type": "execute_result"
    }
   ],
   "source": [
    "df = pd.read_csv('../resource/txt_vec_and_label_camel_0.csv', index_col=0)\n",
    "df.head(100)"
   ]
  },
  {
   "cell_type": "code",
   "execution_count": 7,
   "id": "adeb44e7-f3c2-4a24-89aa-2ad1bfda29e8",
   "metadata": {},
   "outputs": [],
   "source": [
    "class MyDataset(torch.utils.data.Dataset):\n",
    "    def __init__(self, df, features, labels):\n",
    "        self.features_values = df[features].values\n",
    "        self.labels = df[labels].values\n",
    "        \n",
    "    # len()を使用すると呼ばれる\n",
    "    def __len__(self):\n",
    "        return len(self.features_values)\n",
    "\n",
    "    # 要素を参照すると呼ばれる関数    \n",
    "    def __getitem__(self, idx):\n",
    "        features_x = torch.LongTensor(self.features_values[idx])\n",
    "        labels = torch.as_tensor(self.labels[idx])\n",
    "        return features_x, labels"
   ]
  },
  {
   "cell_type": "code",
   "execution_count": 8,
   "id": "746e0035-b4db-43fc-9c63-6a05b5d16d8e",
   "metadata": {},
   "outputs": [
    {
     "name": "stdout",
     "output_type": "stream",
     "text": [
      "['0' '1' '2' ... '1997' '1998' '1999']\n",
      "contains_bug\n"
     ]
    }
   ],
   "source": [
    "columns = df.columns.values\n",
    "features_columns = columns[:-1]\n",
    "labels_column = columns[-1]\n",
    "print(features_columns)\n",
    "print(labels_column)\n",
    "dataset = MyDataset(df, features_columns, labels_column)"
   ]
  },
  {
   "cell_type": "code",
   "execution_count": 9,
   "id": "4c0b7b4e-1f97-47b4-9a10-c0c77f4ce5a7",
   "metadata": {},
   "outputs": [
    {
     "data": {
      "text/plain": [
       "contains_bug\n",
       "0    0.630281\n",
       "1    0.369719\n",
       "Name: count, dtype: float64"
      ]
     },
     "execution_count": 9,
     "metadata": {},
     "output_type": "execute_result"
    }
   ],
   "source": [
    "df['contains_bug'].value_counts() / df.shape[0]"
   ]
  },
  {
   "cell_type": "code",
   "execution_count": 10,
   "id": "d41edbfc-6994-4e82-b7c1-b6681fee7fc1",
   "metadata": {},
   "outputs": [
    {
     "data": {
      "text/plain": [
       "2000"
      ]
     },
     "execution_count": 10,
     "metadata": {},
     "output_type": "execute_result"
    }
   ],
   "source": [
    "len(dataset[0][0])"
   ]
  },
  {
   "cell_type": "code",
   "execution_count": 11,
   "id": "f18c4041-6d89-46d7-a064-7792a7be0372",
   "metadata": {
    "tags": []
   },
   "outputs": [
    {
     "name": "stdout",
     "output_type": "stream",
     "text": [
      "n_hidden: 100 n_output: 2\n"
     ]
    }
   ],
   "source": [
    "n_output = 2\n",
    "n_hidden = 100\n",
    "print(f'n_hidden: {n_hidden} n_output: {n_output}')"
   ]
  },
  {
   "cell_type": "code",
   "execution_count": 12,
   "id": "d6bfc489-d1ec-476d-bbf9-6cc9796beac5",
   "metadata": {
    "tags": []
   },
   "outputs": [
    {
     "name": "stdout",
     "output_type": "stream",
     "text": [
      "original target  0/1: 16335/9582\n",
      "undersampled target  0/1: 9582/9582\n"
     ]
    },
    {
     "data": {
      "text/plain": [
       "<torch.utils.data.dataset.TensorDataset at 0x7f19d00e7580>"
      ]
     },
     "execution_count": 12,
     "metadata": {},
     "output_type": "execute_result"
    }
   ],
   "source": [
    "def undersampling(dataset):\n",
    "    target = np.zeros(0)\n",
    "    target = (np.hstack(data[1].numpy() for data in dataset))\n",
    "    print (\n",
    "        'original target  0/1: {}/{}'.format(\n",
    "        len(np.where(target == 0)[0]), len(np.where(target == 1)[0]))\n",
    "    )\n",
    "    \n",
    "    class_indices = [np.where(target == t)[0] for t in np.unique(target)]\n",
    "    class_sample_count = np.array([len(idx) for idx in class_indices])\n",
    "    min_class_idx = np.argmin(class_sample_count)\n",
    "    max_class_idx = np.argmax(class_sample_count)\n",
    "    undersample_indices = np.random.choice(class_indices[max_class_idx], size=int(min(class_sample_count)), replace=False)\n",
    "    combined_indices = np.hstack([class_indices[min_class_idx], undersample_indices])\n",
    "    \n",
    "    features = dataset[combined_indices][0]\n",
    "    labels = dataset[combined_indices][1]\n",
    "    \n",
    "    shuffle_indices = torch.randperm(len(features))\n",
    "    features = features[shuffle_indices]\n",
    "    labels = labels[shuffle_indices]\n",
    "    \n",
    "    undersampled_dataset = torch.utils.data.TensorDataset(features, labels)\n",
    "    \n",
    "    target = np.zeros(0)\n",
    "    target = (np.hstack(data[1].numpy() for data in undersampled_dataset))\n",
    "    print (\n",
    "        'undersampled target  0/1: {}/{}'.format(\n",
    "        len(np.where(target == 0)[0]), len(np.where(target == 1)[0]))\n",
    "    )\n",
    "    return undersampled_dataset\n",
    "undersampling(dataset)"
   ]
  },
  {
   "cell_type": "code",
   "execution_count": 13,
   "id": "f35feb48-32c1-47be-a8f4-08e43f2e4dfd",
   "metadata": {
    "tags": []
   },
   "outputs": [
    {
     "name": "stdout",
     "output_type": "stream",
     "text": [
      "original target  0/1: 16335/9582\n",
      "undersampled target  0/1: 9582/9582\n"
     ]
    },
    {
     "data": {
      "application/vnd.jupyter.widget-view+json": {
       "model_id": "d3e87ecb5b8a4845af8d12bd4ec940c7",
       "version_major": 2,
       "version_minor": 0
      },
      "text/plain": [
       "  0%|          | 0/262 [00:00<?, ?it/s]"
      ]
     },
     "metadata": {},
     "output_type": "display_data"
    },
    {
     "name": "stdout",
     "output_type": "stream",
     "text": [
      "Epoch [1/20], loss: 0.59395 acc: 0.68760 val_loss: 0.56656, val_acc: 0.70318, auc_score: 0.77453\n"
     ]
    },
    {
     "data": {
      "application/vnd.jupyter.widget-view+json": {
       "model_id": "b26deb379eb843c2b14753d696b33ea6",
       "version_major": 2,
       "version_minor": 0
      },
      "text/plain": [
       "  0%|          | 0/262 [00:00<?, ?it/s]"
      ]
     },
     "metadata": {},
     "output_type": "display_data"
    },
    {
     "name": "stdout",
     "output_type": "stream",
     "text": [
      "Epoch [2/20], loss: 0.53821 acc: 0.72702 val_loss: 0.56044, val_acc: 0.70683, auc_score: 0.77648\n"
     ]
    },
    {
     "data": {
      "application/vnd.jupyter.widget-view+json": {
       "model_id": "d89ebaae988d431aa1b9563d5c202a53",
       "version_major": 2,
       "version_minor": 0
      },
      "text/plain": [
       "  0%|          | 0/262 [00:00<?, ?it/s]"
      ]
     },
     "metadata": {},
     "output_type": "display_data"
    },
    {
     "name": "stdout",
     "output_type": "stream",
     "text": [
      "Epoch [3/20], loss: 0.51065 acc: 0.74738 val_loss: 0.55868, val_acc: 0.71153, auc_score: 0.78116\n"
     ]
    },
    {
     "data": {
      "application/vnd.jupyter.widget-view+json": {
       "model_id": "2546fd51394b4ad7b1f1d010a8cdcf18",
       "version_major": 2,
       "version_minor": 0
      },
      "text/plain": [
       "  0%|          | 0/262 [00:00<?, ?it/s]"
      ]
     },
     "metadata": {},
     "output_type": "display_data"
    },
    {
     "name": "stdout",
     "output_type": "stream",
     "text": [
      "Epoch [4/20], loss: 0.49651 acc: 0.75770 val_loss: 0.55893, val_acc: 0.70788, auc_score: 0.78502\n"
     ]
    },
    {
     "data": {
      "application/vnd.jupyter.widget-view+json": {
       "model_id": "8d754f248425422c8a8f7d7d6419ec17",
       "version_major": 2,
       "version_minor": 0
      },
      "text/plain": [
       "  0%|          | 0/262 [00:00<?, ?it/s]"
      ]
     },
     "metadata": {},
     "output_type": "display_data"
    },
    {
     "name": "stdout",
     "output_type": "stream",
     "text": [
      "Epoch [5/20], loss: 0.47181 acc: 0.77764 val_loss: 0.56592, val_acc: 0.70214, auc_score: 0.78713\n"
     ]
    },
    {
     "data": {
      "application/vnd.jupyter.widget-view+json": {
       "model_id": "158d8c44a9d5492cb029db4804c06698",
       "version_major": 2,
       "version_minor": 0
      },
      "text/plain": [
       "  0%|          | 0/262 [00:00<?, ?it/s]"
      ]
     },
     "metadata": {},
     "output_type": "display_data"
    },
    {
     "name": "stdout",
     "output_type": "stream",
     "text": [
      "Epoch [6/20], loss: 0.45777 acc: 0.78953 val_loss: 0.56225, val_acc: 0.71570, auc_score: 0.78711\n"
     ]
    },
    {
     "data": {
      "application/vnd.jupyter.widget-view+json": {
       "model_id": "82f87ea3c5e1484b8e4ce69be34f08e8",
       "version_major": 2,
       "version_minor": 0
      },
      "text/plain": [
       "  0%|          | 0/262 [00:00<?, ?it/s]"
      ]
     },
     "metadata": {},
     "output_type": "display_data"
    },
    {
     "name": "stdout",
     "output_type": "stream",
     "text": [
      "Epoch [7/20], loss: 0.44805 acc: 0.79533 val_loss: 0.56133, val_acc: 0.71414, auc_score: 0.78468\n"
     ]
    },
    {
     "data": {
      "application/vnd.jupyter.widget-view+json": {
       "model_id": "e9ee1f43cb434e94bbf78f0e6ed45e9a",
       "version_major": 2,
       "version_minor": 0
      },
      "text/plain": [
       "  0%|          | 0/262 [00:00<?, ?it/s]"
      ]
     },
     "metadata": {},
     "output_type": "display_data"
    },
    {
     "name": "stdout",
     "output_type": "stream",
     "text": [
      "Epoch [8/20], loss: 0.44410 acc: 0.79898 val_loss: 0.55894, val_acc: 0.70788, auc_score: 0.78798\n"
     ]
    },
    {
     "data": {
      "application/vnd.jupyter.widget-view+json": {
       "model_id": "d8001115801d47df9d5940a3dbac0b9d",
       "version_major": 2,
       "version_minor": 0
      },
      "text/plain": [
       "  0%|          | 0/262 [00:00<?, ?it/s]"
      ]
     },
     "metadata": {},
     "output_type": "display_data"
    },
    {
     "name": "stdout",
     "output_type": "stream",
     "text": [
      "Epoch [9/20], loss: 0.43918 acc: 0.80692 val_loss: 0.55268, val_acc: 0.71622, auc_score: 0.79103\n"
     ]
    },
    {
     "data": {
      "application/vnd.jupyter.widget-view+json": {
       "model_id": "0288f219fbbc453ba7319ddcf06c14e9",
       "version_major": 2,
       "version_minor": 0
      },
      "text/plain": [
       "  0%|          | 0/262 [00:00<?, ?it/s]"
      ]
     },
     "metadata": {},
     "output_type": "display_data"
    },
    {
     "name": "stdout",
     "output_type": "stream",
     "text": [
      "Epoch [10/20], loss: 0.43820 acc: 0.80571 val_loss: 0.56864, val_acc: 0.70266, auc_score: 0.79365\n"
     ]
    },
    {
     "data": {
      "application/vnd.jupyter.widget-view+json": {
       "model_id": "c74fada053ec42df84b721498e5e2648",
       "version_major": 2,
       "version_minor": 0
      },
      "text/plain": [
       "  0%|          | 0/262 [00:00<?, ?it/s]"
      ]
     },
     "metadata": {},
     "output_type": "display_data"
    },
    {
     "name": "stdout",
     "output_type": "stream",
     "text": [
      "Epoch [11/20], loss: 0.44338 acc: 0.80159 val_loss: 0.56378, val_acc: 0.71622, auc_score: 0.79105\n"
     ]
    },
    {
     "data": {
      "application/vnd.jupyter.widget-view+json": {
       "model_id": "a9772f3b5b05463ca71f0ca7533c8d46",
       "version_major": 2,
       "version_minor": 0
      },
      "text/plain": [
       "  0%|          | 0/262 [00:00<?, ?it/s]"
      ]
     },
     "metadata": {},
     "output_type": "display_data"
    },
    {
     "name": "stdout",
     "output_type": "stream",
     "text": [
      "Epoch [12/20], loss: 0.44281 acc: 0.80072 val_loss: 0.55507, val_acc: 0.71935, auc_score: 0.78873\n"
     ]
    },
    {
     "data": {
      "application/vnd.jupyter.widget-view+json": {
       "model_id": "dc2c1358c38b492f8529312e7ab16f7c",
       "version_major": 2,
       "version_minor": 0
      },
      "text/plain": [
       "  0%|          | 0/262 [00:00<?, ?it/s]"
      ]
     },
     "metadata": {},
     "output_type": "display_data"
    },
    {
     "name": "stdout",
     "output_type": "stream",
     "text": [
      "Epoch [13/20], loss: 0.44382 acc: 0.80078 val_loss: 0.55357, val_acc: 0.71883, auc_score: 0.79158\n"
     ]
    },
    {
     "data": {
      "application/vnd.jupyter.widget-view+json": {
       "model_id": "8c7aeda5c78c410a8720808f70a02e79",
       "version_major": 2,
       "version_minor": 0
      },
      "text/plain": [
       "  0%|          | 0/262 [00:00<?, ?it/s]"
      ]
     },
     "metadata": {},
     "output_type": "display_data"
    },
    {
     "name": "stdout",
     "output_type": "stream",
     "text": [
      "Epoch [14/20], loss: 0.44693 acc: 0.79585 val_loss: 0.55613, val_acc: 0.71935, auc_score: 0.78794\n"
     ]
    },
    {
     "data": {
      "application/vnd.jupyter.widget-view+json": {
       "model_id": "c789c4297f9845b9af4104bf1d247434",
       "version_major": 2,
       "version_minor": 0
      },
      "text/plain": [
       "  0%|          | 0/262 [00:00<?, ?it/s]"
      ]
     },
     "metadata": {},
     "output_type": "display_data"
    },
    {
     "name": "stdout",
     "output_type": "stream",
     "text": [
      "Epoch [15/20], loss: 0.44445 acc: 0.79881 val_loss: 0.57035, val_acc: 0.70579, auc_score: 0.78926\n"
     ]
    },
    {
     "data": {
      "application/vnd.jupyter.widget-view+json": {
       "model_id": "1d0ab1104e644349af0be67d65699283",
       "version_major": 2,
       "version_minor": 0
      },
      "text/plain": [
       "  0%|          | 0/262 [00:00<?, ?it/s]"
      ]
     },
     "metadata": {},
     "output_type": "display_data"
    },
    {
     "name": "stdout",
     "output_type": "stream",
     "text": [
      "Epoch [16/20], loss: 0.44403 acc: 0.79892 val_loss: 0.55145, val_acc: 0.72770, auc_score: 0.79219\n"
     ]
    },
    {
     "data": {
      "application/vnd.jupyter.widget-view+json": {
       "model_id": "84740e84d4764e3fafb4fb22d670937d",
       "version_major": 2,
       "version_minor": 0
      },
      "text/plain": [
       "  0%|          | 0/262 [00:00<?, ?it/s]"
      ]
     },
     "metadata": {},
     "output_type": "display_data"
    },
    {
     "name": "stdout",
     "output_type": "stream",
     "text": [
      "Epoch [17/20], loss: 0.43851 acc: 0.80391 val_loss: 0.56680, val_acc: 0.71622, auc_score: 0.78689\n"
     ]
    },
    {
     "data": {
      "application/vnd.jupyter.widget-view+json": {
       "model_id": "f47561b0ace74f73a654e2fe5afae6c2",
       "version_major": 2,
       "version_minor": 0
      },
      "text/plain": [
       "  0%|          | 0/262 [00:00<?, ?it/s]"
      ]
     },
     "metadata": {},
     "output_type": "display_data"
    },
    {
     "name": "stdout",
     "output_type": "stream",
     "text": [
      "Epoch [18/20], loss: 0.43564 acc: 0.80408 val_loss: 0.55903, val_acc: 0.72353, auc_score: 0.78938\n"
     ]
    },
    {
     "data": {
      "application/vnd.jupyter.widget-view+json": {
       "model_id": "123e45a5659c4f1f933062164ede3a3a",
       "version_major": 2,
       "version_minor": 0
      },
      "text/plain": [
       "  0%|          | 0/262 [00:00<?, ?it/s]"
      ]
     },
     "metadata": {},
     "output_type": "display_data"
    },
    {
     "name": "stdout",
     "output_type": "stream",
     "text": [
      "Epoch [19/20], loss: 0.42735 acc: 0.80779 val_loss: 0.55944, val_acc: 0.71674, auc_score: 0.78982\n"
     ]
    },
    {
     "data": {
      "application/vnd.jupyter.widget-view+json": {
       "model_id": "f2737c6664bb4f81953d080be9aa61db",
       "version_major": 2,
       "version_minor": 0
      },
      "text/plain": [
       "  0%|          | 0/262 [00:00<?, ?it/s]"
      ]
     },
     "metadata": {},
     "output_type": "display_data"
    },
    {
     "name": "stdout",
     "output_type": "stream",
     "text": [
      "Epoch [20/20], loss: 0.41738 acc: 0.81626 val_loss: 0.57247, val_acc: 0.70527, auc_score: 0.78833\n",
      "CV [1/10], loss: 0.46114 acc: 0.78613 val_loss: 0.56112, val_acc: 0.71286, auc_score: 0.78720\n"
     ]
    },
    {
     "data": {
      "application/vnd.jupyter.widget-view+json": {
       "model_id": "f4db5e7d445d4713a92672f2950cd932",
       "version_major": 2,
       "version_minor": 0
      },
      "text/plain": [
       "  0%|          | 0/262 [00:00<?, ?it/s]"
      ]
     },
     "metadata": {},
     "output_type": "display_data"
    },
    {
     "name": "stdout",
     "output_type": "stream",
     "text": [
      "Epoch [1/20], loss: 0.59365 acc: 0.68795 val_loss: 0.55755, val_acc: 0.71674, auc_score: 0.78372\n"
     ]
    },
    {
     "data": {
      "application/vnd.jupyter.widget-view+json": {
       "model_id": "d649d2116f3947da8fe6251943f02c80",
       "version_major": 2,
       "version_minor": 0
      },
      "text/plain": [
       "  0%|          | 0/262 [00:00<?, ?it/s]"
      ]
     },
     "metadata": {},
     "output_type": "display_data"
    },
    {
     "name": "stdout",
     "output_type": "stream",
     "text": [
      "Epoch [2/20], loss: 0.54093 acc: 0.72384 val_loss: 0.58762, val_acc: 0.67501, auc_score: 0.79106\n"
     ]
    },
    {
     "data": {
      "application/vnd.jupyter.widget-view+json": {
       "model_id": "f389171bbcf54b62bccbc55fc367f883",
       "version_major": 2,
       "version_minor": 0
      },
      "text/plain": [
       "  0%|          | 0/262 [00:00<?, ?it/s]"
      ]
     },
     "metadata": {},
     "output_type": "display_data"
    },
    {
     "name": "stdout",
     "output_type": "stream",
     "text": [
      "Epoch [3/20], loss: 0.51465 acc: 0.74540 val_loss: 0.60796, val_acc: 0.65884, auc_score: 0.79323\n"
     ]
    },
    {
     "data": {
      "application/vnd.jupyter.widget-view+json": {
       "model_id": "a8ede465b1514d1b90741c5cba6cefa5",
       "version_major": 2,
       "version_minor": 0
      },
      "text/plain": [
       "  0%|          | 0/262 [00:00<?, ?it/s]"
      ]
     },
     "metadata": {},
     "output_type": "display_data"
    },
    {
     "name": "stdout",
     "output_type": "stream",
     "text": [
      "Epoch [4/20], loss: 0.49708 acc: 0.75810 val_loss: 0.54148, val_acc: 0.72666, auc_score: 0.80044\n"
     ]
    },
    {
     "data": {
      "application/vnd.jupyter.widget-view+json": {
       "model_id": "8b11350bc89c4c0b904e91d0a4a96244",
       "version_major": 2,
       "version_minor": 0
      },
      "text/plain": [
       "  0%|          | 0/262 [00:00<?, ?it/s]"
      ]
     },
     "metadata": {},
     "output_type": "display_data"
    },
    {
     "name": "stdout",
     "output_type": "stream",
     "text": [
      "Epoch [5/20], loss: 0.47186 acc: 0.77828 val_loss: 0.55265, val_acc: 0.72248, auc_score: 0.79607\n"
     ]
    },
    {
     "data": {
      "application/vnd.jupyter.widget-view+json": {
       "model_id": "31229467e9db4e8c8f0f6ecf4591f699",
       "version_major": 2,
       "version_minor": 0
      },
      "text/plain": [
       "  0%|          | 0/262 [00:00<?, ?it/s]"
      ]
     },
     "metadata": {},
     "output_type": "display_data"
    },
    {
     "name": "stdout",
     "output_type": "stream",
     "text": [
      "Epoch [6/20], loss: 0.45963 acc: 0.78883 val_loss: 0.56834, val_acc: 0.69953, auc_score: 0.79760\n"
     ]
    },
    {
     "data": {
      "application/vnd.jupyter.widget-view+json": {
       "model_id": "cadb4c14316f4c5fbc3b4aa03c2493ed",
       "version_major": 2,
       "version_minor": 0
      },
      "text/plain": [
       "  0%|          | 0/262 [00:00<?, ?it/s]"
      ]
     },
     "metadata": {},
     "output_type": "display_data"
    },
    {
     "name": "stdout",
     "output_type": "stream",
     "text": [
      "Epoch [7/20], loss: 0.44856 acc: 0.79927 val_loss: 0.54036, val_acc: 0.71883, auc_score: 0.80087\n"
     ]
    },
    {
     "data": {
      "application/vnd.jupyter.widget-view+json": {
       "model_id": "f5962cfb9ba24bbfad916fcf5785c725",
       "version_major": 2,
       "version_minor": 0
      },
      "text/plain": [
       "  0%|          | 0/262 [00:00<?, ?it/s]"
      ]
     },
     "metadata": {},
     "output_type": "display_data"
    },
    {
     "name": "stdout",
     "output_type": "stream",
     "text": [
      "Epoch [8/20], loss: 0.44388 acc: 0.80449 val_loss: 0.53899, val_acc: 0.73761, auc_score: 0.80467\n"
     ]
    },
    {
     "data": {
      "application/vnd.jupyter.widget-view+json": {
       "model_id": "84bb6ed65cb546a28b919eee8ce20a38",
       "version_major": 2,
       "version_minor": 0
      },
      "text/plain": [
       "  0%|          | 0/262 [00:00<?, ?it/s]"
      ]
     },
     "metadata": {},
     "output_type": "display_data"
    },
    {
     "name": "stdout",
     "output_type": "stream",
     "text": [
      "Epoch [9/20], loss: 0.43855 acc: 0.80431 val_loss: 0.54230, val_acc: 0.71570, auc_score: 0.79978\n"
     ]
    },
    {
     "data": {
      "application/vnd.jupyter.widget-view+json": {
       "model_id": "b1d12fd467ee44e7846b708a3bd5e395",
       "version_major": 2,
       "version_minor": 0
      },
      "text/plain": [
       "  0%|          | 0/262 [00:00<?, ?it/s]"
      ]
     },
     "metadata": {},
     "output_type": "display_data"
    },
    {
     "name": "stdout",
     "output_type": "stream",
     "text": [
      "Epoch [10/20], loss: 0.43914 acc: 0.80588 val_loss: 0.53651, val_acc: 0.72405, auc_score: 0.80577\n"
     ]
    },
    {
     "data": {
      "application/vnd.jupyter.widget-view+json": {
       "model_id": "7671671f36ce423884addb791500a0fe",
       "version_major": 2,
       "version_minor": 0
      },
      "text/plain": [
       "  0%|          | 0/262 [00:00<?, ?it/s]"
      ]
     },
     "metadata": {},
     "output_type": "display_data"
    },
    {
     "name": "stdout",
     "output_type": "stream",
     "text": [
      "Epoch [11/20], loss: 0.43617 acc: 0.81029 val_loss: 0.55553, val_acc: 0.70840, auc_score: 0.80725\n"
     ]
    },
    {
     "data": {
      "application/vnd.jupyter.widget-view+json": {
       "model_id": "64d5802434ee4feb99b4fa4093692cbc",
       "version_major": 2,
       "version_minor": 0
      },
      "text/plain": [
       "  0%|          | 0/262 [00:00<?, ?it/s]"
      ]
     },
     "metadata": {},
     "output_type": "display_data"
    },
    {
     "name": "stdout",
     "output_type": "stream",
     "text": [
      "Epoch [12/20], loss: 0.44047 acc: 0.80576 val_loss: 0.53878, val_acc: 0.72561, auc_score: 0.80400\n"
     ]
    },
    {
     "data": {
      "application/vnd.jupyter.widget-view+json": {
       "model_id": "516d5a063c574362a998a4fee8e33143",
       "version_major": 2,
       "version_minor": 0
      },
      "text/plain": [
       "  0%|          | 0/262 [00:00<?, ?it/s]"
      ]
     },
     "metadata": {},
     "output_type": "display_data"
    },
    {
     "name": "stdout",
     "output_type": "stream",
     "text": [
      "Epoch [13/20], loss: 0.44104 acc: 0.80460 val_loss: 0.53576, val_acc: 0.72770, auc_score: 0.80648\n"
     ]
    },
    {
     "data": {
      "application/vnd.jupyter.widget-view+json": {
       "model_id": "0a17e84698364a27a4d170e62167dc5a",
       "version_major": 2,
       "version_minor": 0
      },
      "text/plain": [
       "  0%|          | 0/262 [00:00<?, ?it/s]"
      ]
     },
     "metadata": {},
     "output_type": "display_data"
    },
    {
     "name": "stdout",
     "output_type": "stream",
     "text": [
      "Epoch [14/20], loss: 0.44288 acc: 0.79939 val_loss: 0.53837, val_acc: 0.73031, auc_score: 0.80695\n"
     ]
    },
    {
     "data": {
      "application/vnd.jupyter.widget-view+json": {
       "model_id": "cc20447904114c9f8c194dd6c8923139",
       "version_major": 2,
       "version_minor": 0
      },
      "text/plain": [
       "  0%|          | 0/262 [00:00<?, ?it/s]"
      ]
     },
     "metadata": {},
     "output_type": "display_data"
    },
    {
     "name": "stdout",
     "output_type": "stream",
     "text": [
      "Epoch [15/20], loss: 0.44237 acc: 0.80321 val_loss: 0.53473, val_acc: 0.73187, auc_score: 0.80903\n"
     ]
    },
    {
     "data": {
      "application/vnd.jupyter.widget-view+json": {
       "model_id": "48b1cbde89d8420286af0123750ed72c",
       "version_major": 2,
       "version_minor": 0
      },
      "text/plain": [
       "  0%|          | 0/262 [00:00<?, ?it/s]"
      ]
     },
     "metadata": {},
     "output_type": "display_data"
    },
    {
     "name": "stdout",
     "output_type": "stream",
     "text": [
      "Epoch [16/20], loss: 0.43889 acc: 0.80478 val_loss: 0.53269, val_acc: 0.73552, auc_score: 0.80935\n"
     ]
    },
    {
     "data": {
      "application/vnd.jupyter.widget-view+json": {
       "model_id": "32223964ad1f4db6a9184ab1e6554512",
       "version_major": 2,
       "version_minor": 0
      },
      "text/plain": [
       "  0%|          | 0/262 [00:00<?, ?it/s]"
      ]
     },
     "metadata": {},
     "output_type": "display_data"
    },
    {
     "name": "stdout",
     "output_type": "stream",
     "text": [
      "Epoch [17/20], loss: 0.43486 acc: 0.80733 val_loss: 0.56016, val_acc: 0.70944, auc_score: 0.80844\n"
     ]
    },
    {
     "data": {
      "application/vnd.jupyter.widget-view+json": {
       "model_id": "00423be3dbb04cb9aee594d2597158ed",
       "version_major": 2,
       "version_minor": 0
      },
      "text/plain": [
       "  0%|          | 0/262 [00:00<?, ?it/s]"
      ]
     },
     "metadata": {},
     "output_type": "display_data"
    },
    {
     "name": "stdout",
     "output_type": "stream",
     "text": [
      "Epoch [18/20], loss: 0.42816 acc: 0.81174 val_loss: 0.54028, val_acc: 0.71987, auc_score: 0.81007\n"
     ]
    },
    {
     "data": {
      "application/vnd.jupyter.widget-view+json": {
       "model_id": "e53413a9d39a467d983e51afac7c1cf2",
       "version_major": 2,
       "version_minor": 0
      },
      "text/plain": [
       "  0%|          | 0/262 [00:00<?, ?it/s]"
      ]
     },
     "metadata": {},
     "output_type": "display_data"
    },
    {
     "name": "stdout",
     "output_type": "stream",
     "text": [
      "Epoch [19/20], loss: 0.41986 acc: 0.81603 val_loss: 0.53689, val_acc: 0.73396, auc_score: 0.80989\n"
     ]
    },
    {
     "data": {
      "application/vnd.jupyter.widget-view+json": {
       "model_id": "a0777cddad424a7a804205c24ce68574",
       "version_major": 2,
       "version_minor": 0
      },
      "text/plain": [
       "  0%|          | 0/262 [00:00<?, ?it/s]"
      ]
     },
     "metadata": {},
     "output_type": "display_data"
    },
    {
     "name": "stdout",
     "output_type": "stream",
     "text": [
      "Epoch [20/20], loss: 0.41152 acc: 0.82061 val_loss: 0.54105, val_acc: 0.72144, auc_score: 0.80361\n",
      "CV [2/10], loss: 0.45921 acc: 0.78900 val_loss: 0.54940, val_acc: 0.71698, auc_score: 0.80241\n"
     ]
    },
    {
     "data": {
      "application/vnd.jupyter.widget-view+json": {
       "model_id": "06324285eaeb49008acc522ba41a2264",
       "version_major": 2,
       "version_minor": 0
      },
      "text/plain": [
       "  0%|          | 0/262 [00:00<?, ?it/s]"
      ]
     },
     "metadata": {},
     "output_type": "display_data"
    },
    {
     "name": "stdout",
     "output_type": "stream",
     "text": [
      "Epoch [1/20], loss: 0.59275 acc: 0.68522 val_loss: 0.58278, val_acc: 0.69588, auc_score: 0.76947\n"
     ]
    },
    {
     "data": {
      "application/vnd.jupyter.widget-view+json": {
       "model_id": "1b034817a16c4debb6c62f98561339a3",
       "version_major": 2,
       "version_minor": 0
      },
      "text/plain": [
       "  0%|          | 0/262 [00:00<?, ?it/s]"
      ]
     },
     "metadata": {},
     "output_type": "display_data"
    },
    {
     "name": "stdout",
     "output_type": "stream",
     "text": [
      "Epoch [2/20], loss: 0.54424 acc: 0.72366 val_loss: 0.57397, val_acc: 0.70527, auc_score: 0.77670\n"
     ]
    },
    {
     "data": {
      "application/vnd.jupyter.widget-view+json": {
       "model_id": "9369a82fa2934e6cb8e8e47c0cfed691",
       "version_major": 2,
       "version_minor": 0
      },
      "text/plain": [
       "  0%|          | 0/262 [00:00<?, ?it/s]"
      ]
     },
     "metadata": {},
     "output_type": "display_data"
    },
    {
     "name": "stdout",
     "output_type": "stream",
     "text": [
      "Epoch [3/20], loss: 0.51881 acc: 0.74448 val_loss: 0.55991, val_acc: 0.71101, auc_score: 0.78113\n"
     ]
    },
    {
     "data": {
      "application/vnd.jupyter.widget-view+json": {
       "model_id": "50dbcb4af0e64a2684404852fc933462",
       "version_major": 2,
       "version_minor": 0
      },
      "text/plain": [
       "  0%|          | 0/262 [00:00<?, ?it/s]"
      ]
     },
     "metadata": {},
     "output_type": "display_data"
    },
    {
     "name": "stdout",
     "output_type": "stream",
     "text": [
      "Epoch [4/20], loss: 0.49775 acc: 0.75613 val_loss: 0.55672, val_acc: 0.71205, auc_score: 0.78658\n"
     ]
    },
    {
     "data": {
      "application/vnd.jupyter.widget-view+json": {
       "model_id": "4cf0598424da4471a288dfd59001e042",
       "version_major": 2,
       "version_minor": 0
      },
      "text/plain": [
       "  0%|          | 0/262 [00:00<?, ?it/s]"
      ]
     },
     "metadata": {},
     "output_type": "display_data"
    },
    {
     "name": "stdout",
     "output_type": "stream",
     "text": [
      "Epoch [5/20], loss: 0.47694 acc: 0.77579 val_loss: 0.57356, val_acc: 0.71309, auc_score: 0.78771\n"
     ]
    },
    {
     "data": {
      "application/vnd.jupyter.widget-view+json": {
       "model_id": "df42919157a34d0babdbf0c232efc96e",
       "version_major": 2,
       "version_minor": 0
      },
      "text/plain": [
       "  0%|          | 0/262 [00:00<?, ?it/s]"
      ]
     },
     "metadata": {},
     "output_type": "display_data"
    },
    {
     "name": "stdout",
     "output_type": "stream",
     "text": [
      "Epoch [6/20], loss: 0.46389 acc: 0.78576 val_loss: 0.55746, val_acc: 0.71466, auc_score: 0.78514\n"
     ]
    },
    {
     "data": {
      "application/vnd.jupyter.widget-view+json": {
       "model_id": "14d24956856c48f187f9c32246089682",
       "version_major": 2,
       "version_minor": 0
      },
      "text/plain": [
       "  0%|          | 0/262 [00:00<?, ?it/s]"
      ]
     },
     "metadata": {},
     "output_type": "display_data"
    },
    {
     "name": "stdout",
     "output_type": "stream",
     "text": [
      "Epoch [7/20], loss: 0.45193 acc: 0.79724 val_loss: 0.57790, val_acc: 0.70683, auc_score: 0.78870\n"
     ]
    },
    {
     "data": {
      "application/vnd.jupyter.widget-view+json": {
       "model_id": "754ebe26f63f4fa189c9cf5f8de63f21",
       "version_major": 2,
       "version_minor": 0
      },
      "text/plain": [
       "  0%|          | 0/262 [00:00<?, ?it/s]"
      ]
     },
     "metadata": {},
     "output_type": "display_data"
    },
    {
     "name": "stdout",
     "output_type": "stream",
     "text": [
      "Epoch [8/20], loss: 0.44976 acc: 0.79695 val_loss: 0.55717, val_acc: 0.71518, auc_score: 0.79084\n"
     ]
    },
    {
     "data": {
      "application/vnd.jupyter.widget-view+json": {
       "model_id": "bc36b49a6e1444089c6cffbfc43ac3e5",
       "version_major": 2,
       "version_minor": 0
      },
      "text/plain": [
       "  0%|          | 0/262 [00:00<?, ?it/s]"
      ]
     },
     "metadata": {},
     "output_type": "display_data"
    },
    {
     "name": "stdout",
     "output_type": "stream",
     "text": [
      "Epoch [9/20], loss: 0.44344 acc: 0.80692 val_loss: 0.56293, val_acc: 0.71153, auc_score: 0.78859\n"
     ]
    },
    {
     "data": {
      "application/vnd.jupyter.widget-view+json": {
       "model_id": "734be96b59d248deb35d4c1abca9f2e7",
       "version_major": 2,
       "version_minor": 0
      },
      "text/plain": [
       "  0%|          | 0/262 [00:00<?, ?it/s]"
      ]
     },
     "metadata": {},
     "output_type": "display_data"
    },
    {
     "name": "stdout",
     "output_type": "stream",
     "text": [
      "Epoch [10/20], loss: 0.44231 acc: 0.80594 val_loss: 0.55083, val_acc: 0.71257, auc_score: 0.79369\n"
     ]
    },
    {
     "data": {
      "application/vnd.jupyter.widget-view+json": {
       "model_id": "4bb00c72a4c7478792f82774761e9d38",
       "version_major": 2,
       "version_minor": 0
      },
      "text/plain": [
       "  0%|          | 0/262 [00:00<?, ?it/s]"
      ]
     },
     "metadata": {},
     "output_type": "display_data"
    },
    {
     "name": "stdout",
     "output_type": "stream",
     "text": [
      "Epoch [11/20], loss: 0.44565 acc: 0.80014 val_loss: 0.56023, val_acc: 0.70892, auc_score: 0.78741\n"
     ]
    },
    {
     "data": {
      "application/vnd.jupyter.widget-view+json": {
       "model_id": "bcda5e86d5bc4ab38a08f98cf386d249",
       "version_major": 2,
       "version_minor": 0
      },
      "text/plain": [
       "  0%|          | 0/262 [00:00<?, ?it/s]"
      ]
     },
     "metadata": {},
     "output_type": "display_data"
    },
    {
     "name": "stdout",
     "output_type": "stream",
     "text": [
      "Epoch [12/20], loss: 0.44774 acc: 0.79950 val_loss: 0.55401, val_acc: 0.71101, auc_score: 0.79108\n"
     ]
    },
    {
     "data": {
      "application/vnd.jupyter.widget-view+json": {
       "model_id": "eadbaa60bfa84ede8d87e0d7c72f3962",
       "version_major": 2,
       "version_minor": 0
      },
      "text/plain": [
       "  0%|          | 0/262 [00:00<?, ?it/s]"
      ]
     },
     "metadata": {},
     "output_type": "display_data"
    },
    {
     "name": "stdout",
     "output_type": "stream",
     "text": [
      "Epoch [13/20], loss: 0.44822 acc: 0.79608 val_loss: 0.55877, val_acc: 0.71570, auc_score: 0.79328\n"
     ]
    },
    {
     "data": {
      "application/vnd.jupyter.widget-view+json": {
       "model_id": "5dc75bf98e514894ae1ca27bcfe8f565",
       "version_major": 2,
       "version_minor": 0
      },
      "text/plain": [
       "  0%|          | 0/262 [00:00<?, ?it/s]"
      ]
     },
     "metadata": {},
     "output_type": "display_data"
    },
    {
     "name": "stdout",
     "output_type": "stream",
     "text": [
      "Epoch [14/20], loss: 0.44959 acc: 0.79567 val_loss: 0.55717, val_acc: 0.71362, auc_score: 0.79171\n"
     ]
    },
    {
     "data": {
      "application/vnd.jupyter.widget-view+json": {
       "model_id": "e9d9e1c8a7364a0c87522a33c4fb5dde",
       "version_major": 2,
       "version_minor": 0
      },
      "text/plain": [
       "  0%|          | 0/262 [00:00<?, ?it/s]"
      ]
     },
     "metadata": {},
     "output_type": "display_data"
    },
    {
     "name": "stdout",
     "output_type": "stream",
     "text": [
      "Epoch [15/20], loss: 0.44851 acc: 0.79504 val_loss: 0.55040, val_acc: 0.71727, auc_score: 0.79476\n"
     ]
    },
    {
     "data": {
      "application/vnd.jupyter.widget-view+json": {
       "model_id": "a17e59c5dcf342929f0925baa690481c",
       "version_major": 2,
       "version_minor": 0
      },
      "text/plain": [
       "  0%|          | 0/262 [00:00<?, ?it/s]"
      ]
     },
     "metadata": {},
     "output_type": "display_data"
    },
    {
     "name": "stdout",
     "output_type": "stream",
     "text": [
      "Epoch [16/20], loss: 0.44735 acc: 0.79828 val_loss: 0.55749, val_acc: 0.71257, auc_score: 0.79253\n"
     ]
    },
    {
     "data": {
      "application/vnd.jupyter.widget-view+json": {
       "model_id": "84d9a536ee1347188ac8dabdfcebf0f7",
       "version_major": 2,
       "version_minor": 0
      },
      "text/plain": [
       "  0%|          | 0/262 [00:00<?, ?it/s]"
      ]
     },
     "metadata": {},
     "output_type": "display_data"
    },
    {
     "name": "stdout",
     "output_type": "stream",
     "text": [
      "Epoch [17/20], loss: 0.44445 acc: 0.80037 val_loss: 0.55534, val_acc: 0.71101, auc_score: 0.78973\n"
     ]
    },
    {
     "data": {
      "application/vnd.jupyter.widget-view+json": {
       "model_id": "f378ed8314814889aac035b9aae92541",
       "version_major": 2,
       "version_minor": 0
      },
      "text/plain": [
       "  0%|          | 0/262 [00:00<?, ?it/s]"
      ]
     },
     "metadata": {},
     "output_type": "display_data"
    },
    {
     "name": "stdout",
     "output_type": "stream",
     "text": [
      "Epoch [18/20], loss: 0.43838 acc: 0.80026 val_loss: 0.55715, val_acc: 0.70996, auc_score: 0.79149\n"
     ]
    },
    {
     "data": {
      "application/vnd.jupyter.widget-view+json": {
       "model_id": "42d364f247484736a6d58d4156dca92e",
       "version_major": 2,
       "version_minor": 0
      },
      "text/plain": [
       "  0%|          | 0/262 [00:00<?, ?it/s]"
      ]
     },
     "metadata": {},
     "output_type": "display_data"
    },
    {
     "name": "stdout",
     "output_type": "stream",
     "text": [
      "Epoch [19/20], loss: 0.43152 acc: 0.80704 val_loss: 0.55358, val_acc: 0.71362, auc_score: 0.79200\n"
     ]
    },
    {
     "data": {
      "application/vnd.jupyter.widget-view+json": {
       "model_id": "32992e646d8b49d7955e83b1ed5d37b3",
       "version_major": 2,
       "version_minor": 0
      },
      "text/plain": [
       "  0%|          | 0/262 [00:00<?, ?it/s]"
      ]
     },
     "metadata": {},
     "output_type": "display_data"
    },
    {
     "name": "stdout",
     "output_type": "stream",
     "text": [
      "Epoch [20/20], loss: 0.42630 acc: 0.81069 val_loss: 0.57039, val_acc: 0.71101, auc_score: 0.79042\n",
      "CV [3/10], loss: 0.46548 acc: 0.78406 val_loss: 0.56139, val_acc: 0.71114, auc_score: 0.78815\n"
     ]
    },
    {
     "data": {
      "application/vnd.jupyter.widget-view+json": {
       "model_id": "a1eca26fcaee40ba8d9cd72c916ee9b6",
       "version_major": 2,
       "version_minor": 0
      },
      "text/plain": [
       "  0%|          | 0/262 [00:00<?, ?it/s]"
      ]
     },
     "metadata": {},
     "output_type": "display_data"
    },
    {
     "name": "stdout",
     "output_type": "stream",
     "text": [
      "Epoch [1/20], loss: 0.59724 acc: 0.68667 val_loss: 0.54381, val_acc: 0.71674, auc_score: 0.79740\n"
     ]
    },
    {
     "data": {
      "application/vnd.jupyter.widget-view+json": {
       "model_id": "90c9f0457bea4f8b945772ce4c0d5ba2",
       "version_major": 2,
       "version_minor": 0
      },
      "text/plain": [
       "  0%|          | 0/262 [00:00<?, ?it/s]"
      ]
     },
     "metadata": {},
     "output_type": "display_data"
    },
    {
     "name": "stdout",
     "output_type": "stream",
     "text": [
      "Epoch [2/20], loss: 0.53856 acc: 0.72726 val_loss: 0.54298, val_acc: 0.71414, auc_score: 0.80310\n"
     ]
    },
    {
     "data": {
      "application/vnd.jupyter.widget-view+json": {
       "model_id": "18635ad6ef1140f3a62cdbb3a0be145f",
       "version_major": 2,
       "version_minor": 0
      },
      "text/plain": [
       "  0%|          | 0/262 [00:00<?, ?it/s]"
      ]
     },
     "metadata": {},
     "output_type": "display_data"
    },
    {
     "name": "stdout",
     "output_type": "stream",
     "text": [
      "Epoch [3/20], loss: 0.51505 acc: 0.74367 val_loss: 0.54203, val_acc: 0.72979, auc_score: 0.80470\n"
     ]
    },
    {
     "data": {
      "application/vnd.jupyter.widget-view+json": {
       "model_id": "d3ecc4886e5a434e9a989636d451552a",
       "version_major": 2,
       "version_minor": 0
      },
      "text/plain": [
       "  0%|          | 0/262 [00:00<?, ?it/s]"
      ]
     },
     "metadata": {},
     "output_type": "display_data"
    },
    {
     "name": "stdout",
     "output_type": "stream",
     "text": [
      "Epoch [4/20], loss: 0.49651 acc: 0.76083 val_loss: 0.53426, val_acc: 0.72822, auc_score: 0.80319\n"
     ]
    },
    {
     "data": {
      "application/vnd.jupyter.widget-view+json": {
       "model_id": "776156b34ab540999e777e953bb4d2ff",
       "version_major": 2,
       "version_minor": 0
      },
      "text/plain": [
       "  0%|          | 0/262 [00:00<?, ?it/s]"
      ]
     },
     "metadata": {},
     "output_type": "display_data"
    },
    {
     "name": "stdout",
     "output_type": "stream",
     "text": [
      "Epoch [5/20], loss: 0.47307 acc: 0.77845 val_loss: 0.53468, val_acc: 0.71987, auc_score: 0.80394\n"
     ]
    },
    {
     "data": {
      "application/vnd.jupyter.widget-view+json": {
       "model_id": "c8db050286ba4af391fc6a43c70b2efc",
       "version_major": 2,
       "version_minor": 0
      },
      "text/plain": [
       "  0%|          | 0/262 [00:00<?, ?it/s]"
      ]
     },
     "metadata": {},
     "output_type": "display_data"
    },
    {
     "name": "stdout",
     "output_type": "stream",
     "text": [
      "Epoch [6/20], loss: 0.46380 acc: 0.78825 val_loss: 0.53493, val_acc: 0.72718, auc_score: 0.80776\n"
     ]
    },
    {
     "data": {
      "application/vnd.jupyter.widget-view+json": {
       "model_id": "c734061ccaa44303ad27658de131918e",
       "version_major": 2,
       "version_minor": 0
      },
      "text/plain": [
       "  0%|          | 0/262 [00:00<?, ?it/s]"
      ]
     },
     "metadata": {},
     "output_type": "display_data"
    },
    {
     "name": "stdout",
     "output_type": "stream",
     "text": [
      "Epoch [7/20], loss: 0.45039 acc: 0.79846 val_loss: 0.54038, val_acc: 0.71674, auc_score: 0.79865\n"
     ]
    },
    {
     "data": {
      "application/vnd.jupyter.widget-view+json": {
       "model_id": "01ea7d38f87a4c5eb20656a6b4158a47",
       "version_major": 2,
       "version_minor": 0
      },
      "text/plain": [
       "  0%|          | 0/262 [00:00<?, ?it/s]"
      ]
     },
     "metadata": {},
     "output_type": "display_data"
    },
    {
     "name": "stdout",
     "output_type": "stream",
     "text": [
      "Epoch [8/20], loss: 0.44570 acc: 0.80356 val_loss: 0.53503, val_acc: 0.72770, auc_score: 0.80689\n"
     ]
    },
    {
     "data": {
      "application/vnd.jupyter.widget-view+json": {
       "model_id": "fce0bc9574cf42b887670a3ea48c35a8",
       "version_major": 2,
       "version_minor": 0
      },
      "text/plain": [
       "  0%|          | 0/262 [00:00<?, ?it/s]"
      ]
     },
     "metadata": {},
     "output_type": "display_data"
    },
    {
     "name": "stdout",
     "output_type": "stream",
     "text": [
      "Epoch [9/20], loss: 0.44194 acc: 0.80692 val_loss: 0.53641, val_acc: 0.71987, auc_score: 0.80482\n"
     ]
    },
    {
     "data": {
      "application/vnd.jupyter.widget-view+json": {
       "model_id": "f01533633e6f4d17a8946aa5d6290535",
       "version_major": 2,
       "version_minor": 0
      },
      "text/plain": [
       "  0%|          | 0/262 [00:00<?, ?it/s]"
      ]
     },
     "metadata": {},
     "output_type": "display_data"
    },
    {
     "name": "stdout",
     "output_type": "stream",
     "text": [
      "Epoch [10/20], loss: 0.44190 acc: 0.80733 val_loss: 0.55364, val_acc: 0.72718, auc_score: 0.80692\n"
     ]
    },
    {
     "data": {
      "application/vnd.jupyter.widget-view+json": {
       "model_id": "4f5d68ee5fa94ccc9ed8af18919e8579",
       "version_major": 2,
       "version_minor": 0
      },
      "text/plain": [
       "  0%|          | 0/262 [00:00<?, ?it/s]"
      ]
     },
     "metadata": {},
     "output_type": "display_data"
    },
    {
     "name": "stdout",
     "output_type": "stream",
     "text": [
      "Epoch [11/20], loss: 0.44363 acc: 0.80721 val_loss: 0.54490, val_acc: 0.72405, auc_score: 0.80653\n"
     ]
    },
    {
     "data": {
      "application/vnd.jupyter.widget-view+json": {
       "model_id": "be92336c83c74b1cba87e34441dbd71d",
       "version_major": 2,
       "version_minor": 0
      },
      "text/plain": [
       "  0%|          | 0/262 [00:00<?, ?it/s]"
      ]
     },
     "metadata": {},
     "output_type": "display_data"
    },
    {
     "name": "stdout",
     "output_type": "stream",
     "text": [
      "Epoch [12/20], loss: 0.44857 acc: 0.79898 val_loss: 0.53905, val_acc: 0.72561, auc_score: 0.80649\n"
     ]
    },
    {
     "data": {
      "application/vnd.jupyter.widget-view+json": {
       "model_id": "739ec7177cb9475a8b4550f936c8f10e",
       "version_major": 2,
       "version_minor": 0
      },
      "text/plain": [
       "  0%|          | 0/262 [00:00<?, ?it/s]"
      ]
     },
     "metadata": {},
     "output_type": "display_data"
    },
    {
     "name": "stdout",
     "output_type": "stream",
     "text": [
      "Epoch [13/20], loss: 0.44678 acc: 0.80130 val_loss: 0.53824, val_acc: 0.72770, auc_score: 0.80374\n"
     ]
    },
    {
     "data": {
      "application/vnd.jupyter.widget-view+json": {
       "model_id": "d7717849d8944300a206224fd5964fb9",
       "version_major": 2,
       "version_minor": 0
      },
      "text/plain": [
       "  0%|          | 0/262 [00:00<?, ?it/s]"
      ]
     },
     "metadata": {},
     "output_type": "display_data"
    },
    {
     "name": "stdout",
     "output_type": "stream",
     "text": [
      "Epoch [14/20], loss: 0.44893 acc: 0.79689 val_loss: 0.53486, val_acc: 0.73552, auc_score: 0.80470\n"
     ]
    },
    {
     "data": {
      "application/vnd.jupyter.widget-view+json": {
       "model_id": "13bbc7cf114c46f4b180f635b7e43f98",
       "version_major": 2,
       "version_minor": 0
      },
      "text/plain": [
       "  0%|          | 0/262 [00:00<?, ?it/s]"
      ]
     },
     "metadata": {},
     "output_type": "display_data"
    },
    {
     "name": "stdout",
     "output_type": "stream",
     "text": [
      "Epoch [15/20], loss: 0.45172 acc: 0.79301 val_loss: 0.54805, val_acc: 0.72926, auc_score: 0.80696\n"
     ]
    },
    {
     "data": {
      "application/vnd.jupyter.widget-view+json": {
       "model_id": "8764bff44bea464484aef4e0f3e419fe",
       "version_major": 2,
       "version_minor": 0
      },
      "text/plain": [
       "  0%|          | 0/262 [00:00<?, ?it/s]"
      ]
     },
     "metadata": {},
     "output_type": "display_data"
    },
    {
     "name": "stdout",
     "output_type": "stream",
     "text": [
      "Epoch [16/20], loss: 0.44652 acc: 0.79602 val_loss: 0.54214, val_acc: 0.71466, auc_score: 0.80597\n"
     ]
    },
    {
     "data": {
      "application/vnd.jupyter.widget-view+json": {
       "model_id": "94f184b8fc4a48fcb6ecf56fd4fb0734",
       "version_major": 2,
       "version_minor": 0
      },
      "text/plain": [
       "  0%|          | 0/262 [00:00<?, ?it/s]"
      ]
     },
     "metadata": {},
     "output_type": "display_data"
    },
    {
     "name": "stdout",
     "output_type": "stream",
     "text": [
      "Epoch [17/20], loss: 0.44191 acc: 0.80257 val_loss: 0.54304, val_acc: 0.72144, auc_score: 0.79951\n"
     ]
    },
    {
     "data": {
      "application/vnd.jupyter.widget-view+json": {
       "model_id": "d1b6dbad57c949b5a698a1c02722234c",
       "version_major": 2,
       "version_minor": 0
      },
      "text/plain": [
       "  0%|          | 0/262 [00:00<?, ?it/s]"
      ]
     },
     "metadata": {},
     "output_type": "display_data"
    },
    {
     "name": "stdout",
     "output_type": "stream",
     "text": [
      "Epoch [18/20], loss: 0.43724 acc: 0.80414 val_loss: 0.54059, val_acc: 0.72457, auc_score: 0.80212\n"
     ]
    },
    {
     "data": {
      "application/vnd.jupyter.widget-view+json": {
       "model_id": "7b3d832f817c483596750ac0a14f8788",
       "version_major": 2,
       "version_minor": 0
      },
      "text/plain": [
       "  0%|          | 0/262 [00:00<?, ?it/s]"
      ]
     },
     "metadata": {},
     "output_type": "display_data"
    },
    {
     "name": "stdout",
     "output_type": "stream",
     "text": [
      "Epoch [19/20], loss: 0.42922 acc: 0.80907 val_loss: 0.56489, val_acc: 0.71414, auc_score: 0.79572\n"
     ]
    },
    {
     "data": {
      "application/vnd.jupyter.widget-view+json": {
       "model_id": "5e9ecbd273a24fb59f266530773c30f3",
       "version_major": 2,
       "version_minor": 0
      },
      "text/plain": [
       "  0%|          | 0/262 [00:00<?, ?it/s]"
      ]
     },
     "metadata": {},
     "output_type": "display_data"
    },
    {
     "name": "stdout",
     "output_type": "stream",
     "text": [
      "Epoch [20/20], loss: 0.41865 acc: 0.81672 val_loss: 0.54676, val_acc: 0.73552, auc_score: 0.80390\n",
      "CV [4/10], loss: 0.46387 acc: 0.78637 val_loss: 0.54203, val_acc: 0.72400, auc_score: 0.80365\n"
     ]
    },
    {
     "data": {
      "application/vnd.jupyter.widget-view+json": {
       "model_id": "5ec70c2ae61044c99528de99e54d9dbf",
       "version_major": 2,
       "version_minor": 0
      },
      "text/plain": [
       "  0%|          | 0/262 [00:00<?, ?it/s]"
      ]
     },
     "metadata": {},
     "output_type": "display_data"
    },
    {
     "name": "stdout",
     "output_type": "stream",
     "text": [
      "Epoch [1/20], loss: 0.59269 acc: 0.68675 val_loss: 0.59224, val_acc: 0.68998, auc_score: 0.76340\n"
     ]
    },
    {
     "data": {
      "application/vnd.jupyter.widget-view+json": {
       "model_id": "3c47ff2b26d34dfc8d361995b698ed7d",
       "version_major": 2,
       "version_minor": 0
      },
      "text/plain": [
       "  0%|          | 0/262 [00:00<?, ?it/s]"
      ]
     },
     "metadata": {},
     "output_type": "display_data"
    },
    {
     "name": "stdout",
     "output_type": "stream",
     "text": [
      "Epoch [2/20], loss: 0.54000 acc: 0.72832 val_loss: 0.58120, val_acc: 0.70355, auc_score: 0.77109\n"
     ]
    },
    {
     "data": {
      "application/vnd.jupyter.widget-view+json": {
       "model_id": "7113d8eb925140fc986dc5535ef56d0b",
       "version_major": 2,
       "version_minor": 0
      },
      "text/plain": [
       "  0%|          | 0/262 [00:00<?, ?it/s]"
      ]
     },
     "metadata": {},
     "output_type": "display_data"
    },
    {
     "name": "stdout",
     "output_type": "stream",
     "text": [
      "Epoch [3/20], loss: 0.51493 acc: 0.74583 val_loss: 0.57460, val_acc: 0.71138, auc_score: 0.77043\n"
     ]
    },
    {
     "data": {
      "application/vnd.jupyter.widget-view+json": {
       "model_id": "022d2f7e2b5d415fabbb887013e74e5f",
       "version_major": 2,
       "version_minor": 0
      },
      "text/plain": [
       "  0%|          | 0/262 [00:00<?, ?it/s]"
      ]
     },
     "metadata": {},
     "output_type": "display_data"
    },
    {
     "name": "stdout",
     "output_type": "stream",
     "text": [
      "Epoch [4/20], loss: 0.48462 acc: 0.77029 val_loss: 0.58084, val_acc: 0.70668, auc_score: 0.76711\n"
     ]
    },
    {
     "data": {
      "application/vnd.jupyter.widget-view+json": {
       "model_id": "27072a123e254d1a8747f76b4eabc58c",
       "version_major": 2,
       "version_minor": 0
      },
      "text/plain": [
       "  0%|          | 0/262 [00:00<?, ?it/s]"
      ]
     },
     "metadata": {},
     "output_type": "display_data"
    },
    {
     "name": "stdout",
     "output_type": "stream",
     "text": [
      "Epoch [5/20], loss: 0.47462 acc: 0.77429 val_loss: 0.58614, val_acc: 0.69885, auc_score: 0.77108\n"
     ]
    },
    {
     "data": {
      "application/vnd.jupyter.widget-view+json": {
       "model_id": "337e32d0b25942599d8ce3d5a7d14523",
       "version_major": 2,
       "version_minor": 0
      },
      "text/plain": [
       "  0%|          | 0/262 [00:00<?, ?it/s]"
      ]
     },
     "metadata": {},
     "output_type": "display_data"
    },
    {
     "name": "stdout",
     "output_type": "stream",
     "text": [
      "Epoch [6/20], loss: 0.46766 acc: 0.77963 val_loss: 0.58889, val_acc: 0.70198, auc_score: 0.76903\n"
     ]
    },
    {
     "data": {
      "application/vnd.jupyter.widget-view+json": {
       "model_id": "a60630e64fdf441092842b10fc740a28",
       "version_major": 2,
       "version_minor": 0
      },
      "text/plain": [
       "  0%|          | 0/262 [00:00<?, ?it/s]"
      ]
     },
     "metadata": {},
     "output_type": "display_data"
    },
    {
     "name": "stdout",
     "output_type": "stream",
     "text": [
      "Epoch [7/20], loss: 0.44851 acc: 0.79870 val_loss: 0.57463, val_acc: 0.70407, auc_score: 0.77122\n"
     ]
    },
    {
     "data": {
      "application/vnd.jupyter.widget-view+json": {
       "model_id": "fa6b7b9544364bc09d6b3738483b0bc1",
       "version_major": 2,
       "version_minor": 0
      },
      "text/plain": [
       "  0%|          | 0/262 [00:00<?, ?it/s]"
      ]
     },
     "metadata": {},
     "output_type": "display_data"
    },
    {
     "name": "stdout",
     "output_type": "stream",
     "text": [
      "Epoch [8/20], loss: 0.44079 acc: 0.80624 val_loss: 0.58205, val_acc: 0.71033, auc_score: 0.77537\n"
     ]
    },
    {
     "data": {
      "application/vnd.jupyter.widget-view+json": {
       "model_id": "ec985e9740c544d887f25a2792e04d3b",
       "version_major": 2,
       "version_minor": 0
      },
      "text/plain": [
       "  0%|          | 0/262 [00:00<?, ?it/s]"
      ]
     },
     "metadata": {},
     "output_type": "display_data"
    },
    {
     "name": "stdout",
     "output_type": "stream",
     "text": [
      "Epoch [9/20], loss: 0.43800 acc: 0.80908 val_loss: 0.58152, val_acc: 0.70198, auc_score: 0.77174\n"
     ]
    },
    {
     "data": {
      "application/vnd.jupyter.widget-view+json": {
       "model_id": "9385854bf5184b65b994975166dd29ca",
       "version_major": 2,
       "version_minor": 0
      },
      "text/plain": [
       "  0%|          | 0/262 [00:00<?, ?it/s]"
      ]
     },
     "metadata": {},
     "output_type": "display_data"
    },
    {
     "name": "stdout",
     "output_type": "stream",
     "text": [
      "Epoch [10/20], loss: 0.43663 acc: 0.80792 val_loss: 0.57860, val_acc: 0.69468, auc_score: 0.76868\n"
     ]
    },
    {
     "data": {
      "application/vnd.jupyter.widget-view+json": {
       "model_id": "02697d50926d46279013e47d8479f36f",
       "version_major": 2,
       "version_minor": 0
      },
      "text/plain": [
       "  0%|          | 0/262 [00:00<?, ?it/s]"
      ]
     },
     "metadata": {},
     "output_type": "display_data"
    },
    {
     "name": "stdout",
     "output_type": "stream",
     "text": [
      "Epoch [11/20], loss: 0.43847 acc: 0.80653 val_loss: 0.57096, val_acc: 0.69781, auc_score: 0.77721\n"
     ]
    },
    {
     "data": {
      "application/vnd.jupyter.widget-view+json": {
       "model_id": "e648b5457e1049bdacf0c333ba462921",
       "version_major": 2,
       "version_minor": 0
      },
      "text/plain": [
       "  0%|          | 0/262 [00:00<?, ?it/s]"
      ]
     },
     "metadata": {},
     "output_type": "display_data"
    },
    {
     "name": "stdout",
     "output_type": "stream",
     "text": [
      "Epoch [12/20], loss: 0.44119 acc: 0.80624 val_loss: 0.56794, val_acc: 0.70303, auc_score: 0.77666\n"
     ]
    },
    {
     "data": {
      "application/vnd.jupyter.widget-view+json": {
       "model_id": "a642720bcec3422d9adb333d7ce9bc6c",
       "version_major": 2,
       "version_minor": 0
      },
      "text/plain": [
       "  0%|          | 0/262 [00:00<?, ?it/s]"
      ]
     },
     "metadata": {},
     "output_type": "display_data"
    },
    {
     "name": "stdout",
     "output_type": "stream",
     "text": [
      "Epoch [13/20], loss: 0.44299 acc: 0.80537 val_loss: 0.57231, val_acc: 0.69676, auc_score: 0.77429\n"
     ]
    },
    {
     "data": {
      "application/vnd.jupyter.widget-view+json": {
       "model_id": "04abdde7f772479eb596b93c50c1af63",
       "version_major": 2,
       "version_minor": 0
      },
      "text/plain": [
       "  0%|          | 0/262 [00:00<?, ?it/s]"
      ]
     },
     "metadata": {},
     "output_type": "display_data"
    },
    {
     "name": "stdout",
     "output_type": "stream",
     "text": [
      "Epoch [14/20], loss: 0.44491 acc: 0.79940 val_loss: 0.57590, val_acc: 0.69415, auc_score: 0.77135\n"
     ]
    },
    {
     "data": {
      "application/vnd.jupyter.widget-view+json": {
       "model_id": "e199e536780a49239f275bf144c4fb8c",
       "version_major": 2,
       "version_minor": 0
      },
      "text/plain": [
       "  0%|          | 0/262 [00:00<?, ?it/s]"
      ]
     },
     "metadata": {},
     "output_type": "display_data"
    },
    {
     "name": "stdout",
     "output_type": "stream",
     "text": [
      "Epoch [15/20], loss: 0.44596 acc: 0.79893 val_loss: 0.57636, val_acc: 0.69624, auc_score: 0.77182\n"
     ]
    },
    {
     "data": {
      "application/vnd.jupyter.widget-view+json": {
       "model_id": "ba137c2fc581437fb1bbc50050d2bcd5",
       "version_major": 2,
       "version_minor": 0
      },
      "text/plain": [
       "  0%|          | 0/262 [00:00<?, ?it/s]"
      ]
     },
     "metadata": {},
     "output_type": "display_data"
    },
    {
     "name": "stdout",
     "output_type": "stream",
     "text": [
      "Epoch [16/20], loss: 0.44226 acc: 0.79980 val_loss: 0.57234, val_acc: 0.70929, auc_score: 0.77722\n"
     ]
    },
    {
     "data": {
      "application/vnd.jupyter.widget-view+json": {
       "model_id": "712c0df551644598bc04ff6765a978c6",
       "version_major": 2,
       "version_minor": 0
      },
      "text/plain": [
       "  0%|          | 0/262 [00:00<?, ?it/s]"
      ]
     },
     "metadata": {},
     "output_type": "display_data"
    },
    {
     "name": "stdout",
     "output_type": "stream",
     "text": [
      "Epoch [17/20], loss: 0.44009 acc: 0.79946 val_loss: 0.57885, val_acc: 0.70407, auc_score: 0.77393\n"
     ]
    },
    {
     "data": {
      "application/vnd.jupyter.widget-view+json": {
       "model_id": "f93c5530c4724828874836e76ae85985",
       "version_major": 2,
       "version_minor": 0
      },
      "text/plain": [
       "  0%|          | 0/262 [00:00<?, ?it/s]"
      ]
     },
     "metadata": {},
     "output_type": "display_data"
    },
    {
     "name": "stdout",
     "output_type": "stream",
     "text": [
      "Epoch [18/20], loss: 0.43498 acc: 0.80386 val_loss: 0.57445, val_acc: 0.69520, auc_score: 0.77578\n"
     ]
    },
    {
     "data": {
      "application/vnd.jupyter.widget-view+json": {
       "model_id": "735906fba8a74d80afecb3e92f3f6e11",
       "version_major": 2,
       "version_minor": 0
      },
      "text/plain": [
       "  0%|          | 0/262 [00:00<?, ?it/s]"
      ]
     },
     "metadata": {},
     "output_type": "display_data"
    },
    {
     "name": "stdout",
     "output_type": "stream",
     "text": [
      "Epoch [19/20], loss: 0.42918 acc: 0.80943 val_loss: 0.57265, val_acc: 0.69729, auc_score: 0.77586\n"
     ]
    },
    {
     "data": {
      "application/vnd.jupyter.widget-view+json": {
       "model_id": "07677b33e6454a9cbef130fb5c40dd1d",
       "version_major": 2,
       "version_minor": 0
      },
      "text/plain": [
       "  0%|          | 0/262 [00:00<?, ?it/s]"
      ]
     },
     "metadata": {},
     "output_type": "display_data"
    },
    {
     "name": "stdout",
     "output_type": "stream",
     "text": [
      "Epoch [20/20], loss: 0.41652 acc: 0.81847 val_loss: 0.57964, val_acc: 0.69729, auc_score: 0.76940\n",
      "CV [5/10], loss: 0.46075 acc: 0.78773 val_loss: 0.57811, val_acc: 0.70073, auc_score: 0.77213\n"
     ]
    },
    {
     "data": {
      "application/vnd.jupyter.widget-view+json": {
       "model_id": "bad3eb012cd64bdaa8eb80824efc0a32",
       "version_major": 2,
       "version_minor": 0
      },
      "text/plain": [
       "  0%|          | 0/262 [00:00<?, ?it/s]"
      ]
     },
     "metadata": {},
     "output_type": "display_data"
    },
    {
     "name": "stdout",
     "output_type": "stream",
     "text": [
      "Epoch [1/20], loss: 0.59660 acc: 0.68767 val_loss: 0.55678, val_acc: 0.71294, auc_score: 0.77592\n"
     ]
    },
    {
     "data": {
      "application/vnd.jupyter.widget-view+json": {
       "model_id": "4bd0ac42145e4a9f9f69b1c0e6cb9c96",
       "version_major": 2,
       "version_minor": 0
      },
      "text/plain": [
       "  0%|          | 0/262 [00:00<?, ?it/s]"
      ]
     },
     "metadata": {},
     "output_type": "display_data"
    },
    {
     "name": "stdout",
     "output_type": "stream",
     "text": [
      "Epoch [2/20], loss: 0.53965 acc: 0.72745 val_loss: 0.55226, val_acc: 0.70251, auc_score: 0.78432\n"
     ]
    },
    {
     "data": {
      "application/vnd.jupyter.widget-view+json": {
       "model_id": "d1b5282e02724188a91f40cf9a1cb785",
       "version_major": 2,
       "version_minor": 0
      },
      "text/plain": [
       "  0%|          | 0/262 [00:00<?, ?it/s]"
      ]
     },
     "metadata": {},
     "output_type": "display_data"
    },
    {
     "name": "stdout",
     "output_type": "stream",
     "text": [
      "Epoch [3/20], loss: 0.51662 acc: 0.74333 val_loss: 0.61741, val_acc: 0.68372, auc_score: 0.79384\n"
     ]
    },
    {
     "data": {
      "application/vnd.jupyter.widget-view+json": {
       "model_id": "5f19bd3b7d994877b4bab54fe1587e74",
       "version_major": 2,
       "version_minor": 0
      },
      "text/plain": [
       "  0%|          | 0/262 [00:00<?, ?it/s]"
      ]
     },
     "metadata": {},
     "output_type": "display_data"
    },
    {
     "name": "stdout",
     "output_type": "stream",
     "text": [
      "Epoch [4/20], loss: 0.49879 acc: 0.75765 val_loss: 0.58142, val_acc: 0.68267, auc_score: 0.78778\n"
     ]
    },
    {
     "data": {
      "application/vnd.jupyter.widget-view+json": {
       "model_id": "f105579b89214b8cbcd68f6e9f15d92a",
       "version_major": 2,
       "version_minor": 0
      },
      "text/plain": [
       "  0%|          | 0/262 [00:00<?, ?it/s]"
      ]
     },
     "metadata": {},
     "output_type": "display_data"
    },
    {
     "name": "stdout",
     "output_type": "stream",
     "text": [
      "Epoch [5/20], loss: 0.47960 acc: 0.77180 val_loss: 0.55070, val_acc: 0.70877, auc_score: 0.79510\n"
     ]
    },
    {
     "data": {
      "application/vnd.jupyter.widget-view+json": {
       "model_id": "75a7998cc8ae45e1be03e57504de293c",
       "version_major": 2,
       "version_minor": 0
      },
      "text/plain": [
       "  0%|          | 0/262 [00:00<?, ?it/s]"
      ]
     },
     "metadata": {},
     "output_type": "display_data"
    },
    {
     "name": "stdout",
     "output_type": "stream",
     "text": [
      "Epoch [6/20], loss: 0.46428 acc: 0.78600 val_loss: 0.54019, val_acc: 0.71451, auc_score: 0.80246\n"
     ]
    },
    {
     "data": {
      "application/vnd.jupyter.widget-view+json": {
       "model_id": "31614b4b181e4c63853182563e9550c2",
       "version_major": 2,
       "version_minor": 0
      },
      "text/plain": [
       "  0%|          | 0/262 [00:00<?, ?it/s]"
      ]
     },
     "metadata": {},
     "output_type": "display_data"
    },
    {
     "name": "stdout",
     "output_type": "stream",
     "text": [
      "Epoch [7/20], loss: 0.45574 acc: 0.79250 val_loss: 0.54543, val_acc: 0.72286, auc_score: 0.79373\n"
     ]
    },
    {
     "data": {
      "application/vnd.jupyter.widget-view+json": {
       "model_id": "a5cc6e654fd346578368fe79d015530d",
       "version_major": 2,
       "version_minor": 0
      },
      "text/plain": [
       "  0%|          | 0/262 [00:00<?, ?it/s]"
      ]
     },
     "metadata": {},
     "output_type": "display_data"
    },
    {
     "name": "stdout",
     "output_type": "stream",
     "text": [
      "Epoch [8/20], loss: 0.44686 acc: 0.80160 val_loss: 0.57673, val_acc: 0.70407, auc_score: 0.79888\n"
     ]
    },
    {
     "data": {
      "application/vnd.jupyter.widget-view+json": {
       "model_id": "65edd2165dd94ddbb5e7fb5402f6616a",
       "version_major": 2,
       "version_minor": 0
      },
      "text/plain": [
       "  0%|          | 0/262 [00:00<?, ?it/s]"
      ]
     },
     "metadata": {},
     "output_type": "display_data"
    },
    {
     "name": "stdout",
     "output_type": "stream",
     "text": [
      "Epoch [9/20], loss: 0.44382 acc: 0.80357 val_loss: 0.54830, val_acc: 0.71347, auc_score: 0.79805\n"
     ]
    },
    {
     "data": {
      "application/vnd.jupyter.widget-view+json": {
       "model_id": "caf0d01468814950a46c186e6681ee4b",
       "version_major": 2,
       "version_minor": 0
      },
      "text/plain": [
       "  0%|          | 0/262 [00:00<?, ?it/s]"
      ]
     },
     "metadata": {},
     "output_type": "display_data"
    },
    {
     "name": "stdout",
     "output_type": "stream",
     "text": [
      "Epoch [10/20], loss: 0.44433 acc: 0.80224 val_loss: 0.53713, val_acc: 0.72860, auc_score: 0.80254\n"
     ]
    },
    {
     "data": {
      "application/vnd.jupyter.widget-view+json": {
       "model_id": "3540fda144a94caaa699946869c1d75f",
       "version_major": 2,
       "version_minor": 0
      },
      "text/plain": [
       "  0%|          | 0/262 [00:00<?, ?it/s]"
      ]
     },
     "metadata": {},
     "output_type": "display_data"
    },
    {
     "name": "stdout",
     "output_type": "stream",
     "text": [
      "Epoch [11/20], loss: 0.44487 acc: 0.80224 val_loss: 0.53490, val_acc: 0.72651, auc_score: 0.80366\n"
     ]
    },
    {
     "data": {
      "application/vnd.jupyter.widget-view+json": {
       "model_id": "7373f3728f8244499c950e516b5229bb",
       "version_major": 2,
       "version_minor": 0
      },
      "text/plain": [
       "  0%|          | 0/262 [00:00<?, ?it/s]"
      ]
     },
     "metadata": {},
     "output_type": "display_data"
    },
    {
     "name": "stdout",
     "output_type": "stream",
     "text": [
      "Epoch [12/20], loss: 0.44848 acc: 0.79986 val_loss: 0.53237, val_acc: 0.72808, auc_score: 0.80751\n"
     ]
    },
    {
     "data": {
      "application/vnd.jupyter.widget-view+json": {
       "model_id": "e74c1ddeeb184baca1e7272a88e19760",
       "version_major": 2,
       "version_minor": 0
      },
      "text/plain": [
       "  0%|          | 0/262 [00:00<?, ?it/s]"
      ]
     },
     "metadata": {},
     "output_type": "display_data"
    },
    {
     "name": "stdout",
     "output_type": "stream",
     "text": [
      "Epoch [13/20], loss: 0.44905 acc: 0.79946 val_loss: 0.54115, val_acc: 0.71764, auc_score: 0.80314\n"
     ]
    },
    {
     "data": {
      "application/vnd.jupyter.widget-view+json": {
       "model_id": "194a18a51c6a450abd74c8d2f209ba8a",
       "version_major": 2,
       "version_minor": 0
      },
      "text/plain": [
       "  0%|          | 0/262 [00:00<?, ?it/s]"
      ]
     },
     "metadata": {},
     "output_type": "display_data"
    },
    {
     "name": "stdout",
     "output_type": "stream",
     "text": [
      "Epoch [14/20], loss: 0.45304 acc: 0.79499 val_loss: 0.54088, val_acc: 0.71503, auc_score: 0.79900\n"
     ]
    },
    {
     "data": {
      "application/vnd.jupyter.widget-view+json": {
       "model_id": "bceb115c3a4d466d9c8795dd0734711f",
       "version_major": 2,
       "version_minor": 0
      },
      "text/plain": [
       "  0%|          | 0/262 [00:00<?, ?it/s]"
      ]
     },
     "metadata": {},
     "output_type": "display_data"
    },
    {
     "name": "stdout",
     "output_type": "stream",
     "text": [
      "Epoch [15/20], loss: 0.45147 acc: 0.79453 val_loss: 0.54885, val_acc: 0.71555, auc_score: 0.80298\n"
     ]
    },
    {
     "data": {
      "application/vnd.jupyter.widget-view+json": {
       "model_id": "038bab60cb8a4a8c939b23c05399a621",
       "version_major": 2,
       "version_minor": 0
      },
      "text/plain": [
       "  0%|          | 0/262 [00:00<?, ?it/s]"
      ]
     },
     "metadata": {},
     "output_type": "display_data"
    },
    {
     "name": "stdout",
     "output_type": "stream",
     "text": [
      "Epoch [16/20], loss: 0.45005 acc: 0.79296 val_loss: 0.53444, val_acc: 0.73591, auc_score: 0.80516\n"
     ]
    },
    {
     "data": {
      "application/vnd.jupyter.widget-view+json": {
       "model_id": "c923ef1ba7e04948abe1f6f4a1023b9b",
       "version_major": 2,
       "version_minor": 0
      },
      "text/plain": [
       "  0%|          | 0/262 [00:00<?, ?it/s]"
      ]
     },
     "metadata": {},
     "output_type": "display_data"
    },
    {
     "name": "stdout",
     "output_type": "stream",
     "text": [
      "Epoch [17/20], loss: 0.44528 acc: 0.80183 val_loss: 0.53928, val_acc: 0.72756, auc_score: 0.80369\n"
     ]
    },
    {
     "data": {
      "application/vnd.jupyter.widget-view+json": {
       "model_id": "a7369e8c6dcd429a907abd0138327210",
       "version_major": 2,
       "version_minor": 0
      },
      "text/plain": [
       "  0%|          | 0/262 [00:00<?, ?it/s]"
      ]
     },
     "metadata": {},
     "output_type": "display_data"
    },
    {
     "name": "stdout",
     "output_type": "stream",
     "text": [
      "Epoch [18/20], loss: 0.43896 acc: 0.80137 val_loss: 0.54579, val_acc: 0.72495, auc_score: 0.80127\n"
     ]
    },
    {
     "data": {
      "application/vnd.jupyter.widget-view+json": {
       "model_id": "78a7c8a7adff474b94451bd99b427132",
       "version_major": 2,
       "version_minor": 0
      },
      "text/plain": [
       "  0%|          | 0/262 [00:00<?, ?it/s]"
      ]
     },
     "metadata": {},
     "output_type": "display_data"
    },
    {
     "name": "stdout",
     "output_type": "stream",
     "text": [
      "Epoch [19/20], loss: 0.43305 acc: 0.80780 val_loss: 0.53974, val_acc: 0.72286, auc_score: 0.79936\n"
     ]
    },
    {
     "data": {
      "application/vnd.jupyter.widget-view+json": {
       "model_id": "62228fe221a84e64bb08f6f325fac45d",
       "version_major": 2,
       "version_minor": 0
      },
      "text/plain": [
       "  0%|          | 0/262 [00:00<?, ?it/s]"
      ]
     },
     "metadata": {},
     "output_type": "display_data"
    },
    {
     "name": "stdout",
     "output_type": "stream",
     "text": [
      "Epoch [20/20], loss: 0.42303 acc: 0.81366 val_loss: 0.55938, val_acc: 0.71764, auc_score: 0.79629\n",
      "CV [6/10], loss: 0.46618 acc: 0.78413 val_loss: 0.55116, val_acc: 0.71529, auc_score: 0.79773\n"
     ]
    },
    {
     "data": {
      "application/vnd.jupyter.widget-view+json": {
       "model_id": "f7842dcf14934f248aa08d8f14e6c612",
       "version_major": 2,
       "version_minor": 0
      },
      "text/plain": [
       "  0%|          | 0/262 [00:00<?, ?it/s]"
      ]
     },
     "metadata": {},
     "output_type": "display_data"
    },
    {
     "name": "stdout",
     "output_type": "stream",
     "text": [
      "Epoch [1/20], loss: 0.59822 acc: 0.68246 val_loss: 0.57495, val_acc: 0.68580, auc_score: 0.76148\n"
     ]
    },
    {
     "data": {
      "application/vnd.jupyter.widget-view+json": {
       "model_id": "6431fdf1d4ed4f5286474d8205131f24",
       "version_major": 2,
       "version_minor": 0
      },
      "text/plain": [
       "  0%|          | 0/262 [00:00<?, ?it/s]"
      ]
     },
     "metadata": {},
     "output_type": "display_data"
    },
    {
     "name": "stdout",
     "output_type": "stream",
     "text": [
      "Epoch [2/20], loss: 0.53924 acc: 0.72681 val_loss: 0.57336, val_acc: 0.69624, auc_score: 0.76728\n"
     ]
    },
    {
     "data": {
      "application/vnd.jupyter.widget-view+json": {
       "model_id": "aed4f19e119b4953a88e7d73be4a7c0b",
       "version_major": 2,
       "version_minor": 0
      },
      "text/plain": [
       "  0%|          | 0/262 [00:00<?, ?it/s]"
      ]
     },
     "metadata": {},
     "output_type": "display_data"
    },
    {
     "name": "stdout",
     "output_type": "stream",
     "text": [
      "Epoch [3/20], loss: 0.51291 acc: 0.74930 val_loss: 0.57496, val_acc: 0.68163, auc_score: 0.76554\n"
     ]
    },
    {
     "data": {
      "application/vnd.jupyter.widget-view+json": {
       "model_id": "d61697444f054caea59d417f4998d8e8",
       "version_major": 2,
       "version_minor": 0
      },
      "text/plain": [
       "  0%|          | 0/262 [00:00<?, ?it/s]"
      ]
     },
     "metadata": {},
     "output_type": "display_data"
    },
    {
     "name": "stdout",
     "output_type": "stream",
     "text": [
      "Epoch [4/20], loss: 0.49254 acc: 0.76583 val_loss: 0.57625, val_acc: 0.67641, auc_score: 0.76909\n"
     ]
    },
    {
     "data": {
      "application/vnd.jupyter.widget-view+json": {
       "model_id": "c2dc81e52cb1411fb5cdd6fa9c7a8297",
       "version_major": 2,
       "version_minor": 0
      },
      "text/plain": [
       "  0%|          | 0/262 [00:00<?, ?it/s]"
      ]
     },
     "metadata": {},
     "output_type": "display_data"
    },
    {
     "name": "stdout",
     "output_type": "stream",
     "text": [
      "Epoch [5/20], loss: 0.47735 acc: 0.77551 val_loss: 0.57304, val_acc: 0.69311, auc_score: 0.76526\n"
     ]
    },
    {
     "data": {
      "application/vnd.jupyter.widget-view+json": {
       "model_id": "f30d03cda25046cab4f466eecd502304",
       "version_major": 2,
       "version_minor": 0
      },
      "text/plain": [
       "  0%|          | 0/262 [00:00<?, ?it/s]"
      ]
     },
     "metadata": {},
     "output_type": "display_data"
    },
    {
     "name": "stdout",
     "output_type": "stream",
     "text": [
      "Epoch [6/20], loss: 0.46261 acc: 0.78722 val_loss: 0.57980, val_acc: 0.69207, auc_score: 0.77251\n"
     ]
    },
    {
     "data": {
      "application/vnd.jupyter.widget-view+json": {
       "model_id": "37f4243576194ef5b280505945e70d91",
       "version_major": 2,
       "version_minor": 0
      },
      "text/plain": [
       "  0%|          | 0/262 [00:00<?, ?it/s]"
      ]
     },
     "metadata": {},
     "output_type": "display_data"
    },
    {
     "name": "stdout",
     "output_type": "stream",
     "text": [
      "Epoch [7/20], loss: 0.45102 acc: 0.79853 val_loss: 0.57147, val_acc: 0.69311, auc_score: 0.77186\n"
     ]
    },
    {
     "data": {
      "application/vnd.jupyter.widget-view+json": {
       "model_id": "687db697ee7a4292a2e1e0e605a2e014",
       "version_major": 2,
       "version_minor": 0
      },
      "text/plain": [
       "  0%|          | 0/262 [00:00<?, ?it/s]"
      ]
     },
     "metadata": {},
     "output_type": "display_data"
    },
    {
     "name": "stdout",
     "output_type": "stream",
     "text": [
      "Epoch [8/20], loss: 0.44610 acc: 0.80270 val_loss: 0.57596, val_acc: 0.69729, auc_score: 0.77478\n"
     ]
    },
    {
     "data": {
      "application/vnd.jupyter.widget-view+json": {
       "model_id": "2adf0950fb534fccb8380b4604dc5d25",
       "version_major": 2,
       "version_minor": 0
      },
      "text/plain": [
       "  0%|          | 0/262 [00:00<?, ?it/s]"
      ]
     },
     "metadata": {},
     "output_type": "display_data"
    },
    {
     "name": "stdout",
     "output_type": "stream",
     "text": [
      "Epoch [9/20], loss: 0.44011 acc: 0.80902 val_loss: 0.66858, val_acc: 0.66180, auc_score: 0.77227\n"
     ]
    },
    {
     "data": {
      "application/vnd.jupyter.widget-view+json": {
       "model_id": "4ea8de17b4d44b558c097a7d9c76b35e",
       "version_major": 2,
       "version_minor": 0
      },
      "text/plain": [
       "  0%|          | 0/262 [00:00<?, ?it/s]"
      ]
     },
     "metadata": {},
     "output_type": "display_data"
    },
    {
     "name": "stdout",
     "output_type": "stream",
     "text": [
      "Epoch [10/20], loss: 0.44280 acc: 0.80519 val_loss: 0.58249, val_acc: 0.68841, auc_score: 0.77110\n"
     ]
    },
    {
     "data": {
      "application/vnd.jupyter.widget-view+json": {
       "model_id": "91cde8fe4df649b690ae1ecf2aef9e1a",
       "version_major": 2,
       "version_minor": 0
      },
      "text/plain": [
       "  0%|          | 0/262 [00:00<?, ?it/s]"
      ]
     },
     "metadata": {},
     "output_type": "display_data"
    },
    {
     "name": "stdout",
     "output_type": "stream",
     "text": [
      "Epoch [11/20], loss: 0.44462 acc: 0.80288 val_loss: 0.57389, val_acc: 0.69259, auc_score: 0.77272\n"
     ]
    },
    {
     "data": {
      "application/vnd.jupyter.widget-view+json": {
       "model_id": "fb44b49804b94c3f86be9f68c24cc75c",
       "version_major": 2,
       "version_minor": 0
      },
      "text/plain": [
       "  0%|          | 0/262 [00:00<?, ?it/s]"
      ]
     },
     "metadata": {},
     "output_type": "display_data"
    },
    {
     "name": "stdout",
     "output_type": "stream",
     "text": [
      "Epoch [12/20], loss: 0.44728 acc: 0.79922 val_loss: 0.56738, val_acc: 0.68946, auc_score: 0.77563\n"
     ]
    },
    {
     "data": {
      "application/vnd.jupyter.widget-view+json": {
       "model_id": "1cd87f12bddf49e392ab7edd430729a7",
       "version_major": 2,
       "version_minor": 0
      },
      "text/plain": [
       "  0%|          | 0/262 [00:00<?, ?it/s]"
      ]
     },
     "metadata": {},
     "output_type": "display_data"
    },
    {
     "name": "stdout",
     "output_type": "stream",
     "text": [
      "Epoch [13/20], loss: 0.44832 acc: 0.80177 val_loss: 0.57537, val_acc: 0.69990, auc_score: 0.77408\n"
     ]
    },
    {
     "data": {
      "application/vnd.jupyter.widget-view+json": {
       "model_id": "b5120566e39f48cbb265a007d04f4ff4",
       "version_major": 2,
       "version_minor": 0
      },
      "text/plain": [
       "  0%|          | 0/262 [00:00<?, ?it/s]"
      ]
     },
     "metadata": {},
     "output_type": "display_data"
    },
    {
     "name": "stdout",
     "output_type": "stream",
     "text": [
      "Epoch [14/20], loss: 0.44992 acc: 0.79754 val_loss: 0.57076, val_acc: 0.68998, auc_score: 0.77197\n"
     ]
    },
    {
     "data": {
      "application/vnd.jupyter.widget-view+json": {
       "model_id": "57eae35ab2c44fc99858452ede4c6561",
       "version_major": 2,
       "version_minor": 0
      },
      "text/plain": [
       "  0%|          | 0/262 [00:00<?, ?it/s]"
      ]
     },
     "metadata": {},
     "output_type": "display_data"
    },
    {
     "name": "stdout",
     "output_type": "stream",
     "text": [
      "Epoch [15/20], loss: 0.44714 acc: 0.80160 val_loss: 0.57348, val_acc: 0.68633, auc_score: 0.77011\n"
     ]
    },
    {
     "data": {
      "application/vnd.jupyter.widget-view+json": {
       "model_id": "21fddb0d744442948a17fba94a3cb55b",
       "version_major": 2,
       "version_minor": 0
      },
      "text/plain": [
       "  0%|          | 0/262 [00:00<?, ?it/s]"
      ]
     },
     "metadata": {},
     "output_type": "display_data"
    },
    {
     "name": "stdout",
     "output_type": "stream",
     "text": [
      "Epoch [16/20], loss: 0.44847 acc: 0.79679 val_loss: 0.57441, val_acc: 0.69207, auc_score: 0.77313\n"
     ]
    },
    {
     "data": {
      "application/vnd.jupyter.widget-view+json": {
       "model_id": "6aa75d6ece95488186c99bcd8db6e528",
       "version_major": 2,
       "version_minor": 0
      },
      "text/plain": [
       "  0%|          | 0/262 [00:00<?, ?it/s]"
      ]
     },
     "metadata": {},
     "output_type": "display_data"
    },
    {
     "name": "stdout",
     "output_type": "stream",
     "text": [
      "Epoch [17/20], loss: 0.44484 acc: 0.80166 val_loss: 0.57383, val_acc: 0.69102, auc_score: 0.77027\n"
     ]
    },
    {
     "data": {
      "application/vnd.jupyter.widget-view+json": {
       "model_id": "122f26680eb14dcdb5490e81b6051145",
       "version_major": 2,
       "version_minor": 0
      },
      "text/plain": [
       "  0%|          | 0/262 [00:00<?, ?it/s]"
      ]
     },
     "metadata": {},
     "output_type": "display_data"
    },
    {
     "name": "stdout",
     "output_type": "stream",
     "text": [
      "Epoch [18/20], loss: 0.44175 acc: 0.80189 val_loss: 0.57507, val_acc: 0.69311, auc_score: 0.77007\n"
     ]
    },
    {
     "data": {
      "application/vnd.jupyter.widget-view+json": {
       "model_id": "b8be501637354755857d9a94279a0065",
       "version_major": 2,
       "version_minor": 0
      },
      "text/plain": [
       "  0%|          | 0/262 [00:00<?, ?it/s]"
      ]
     },
     "metadata": {},
     "output_type": "display_data"
    },
    {
     "name": "stdout",
     "output_type": "stream",
     "text": [
      "Epoch [19/20], loss: 0.43589 acc: 0.80630 val_loss: 0.57831, val_acc: 0.69676, auc_score: 0.77211\n"
     ]
    },
    {
     "data": {
      "application/vnd.jupyter.widget-view+json": {
       "model_id": "6135e22f1ba14cdf8fc1db4640015b27",
       "version_major": 2,
       "version_minor": 0
      },
      "text/plain": [
       "  0%|          | 0/262 [00:00<?, ?it/s]"
      ]
     },
     "metadata": {},
     "output_type": "display_data"
    },
    {
     "name": "stdout",
     "output_type": "stream",
     "text": [
      "Epoch [20/20], loss: 0.42592 acc: 0.81082 val_loss: 0.57915, val_acc: 0.69415, auc_score: 0.76652\n",
      "CV [7/10], loss: 0.46485 acc: 0.78615 val_loss: 0.57963, val_acc: 0.68956, auc_score: 0.77039\n"
     ]
    },
    {
     "data": {
      "application/vnd.jupyter.widget-view+json": {
       "model_id": "75db9ae00a8343149ef2e980eaf72f5a",
       "version_major": 2,
       "version_minor": 0
      },
      "text/plain": [
       "  0%|          | 0/262 [00:00<?, ?it/s]"
      ]
     },
     "metadata": {},
     "output_type": "display_data"
    },
    {
     "name": "stdout",
     "output_type": "stream",
     "text": [
      "Epoch [1/20], loss: 0.59378 acc: 0.68959 val_loss: 0.55823, val_acc: 0.71712, auc_score: 0.78136\n"
     ]
    },
    {
     "data": {
      "application/vnd.jupyter.widget-view+json": {
       "model_id": "69902ff5612c403fa81dd8baba54ed83",
       "version_major": 2,
       "version_minor": 0
      },
      "text/plain": [
       "  0%|          | 0/262 [00:00<?, ?it/s]"
      ]
     },
     "metadata": {},
     "output_type": "display_data"
    },
    {
     "name": "stdout",
     "output_type": "stream",
     "text": [
      "Epoch [2/20], loss: 0.53550 acc: 0.73023 val_loss: 0.61935, val_acc: 0.69050, auc_score: 0.78964\n"
     ]
    },
    {
     "data": {
      "application/vnd.jupyter.widget-view+json": {
       "model_id": "76ac526ce4b44cd2993e150882be4227",
       "version_major": 2,
       "version_minor": 0
      },
      "text/plain": [
       "  0%|          | 0/262 [00:00<?, ?it/s]"
      ]
     },
     "metadata": {},
     "output_type": "display_data"
    },
    {
     "name": "stdout",
     "output_type": "stream",
     "text": [
      "Epoch [3/20], loss: 0.51289 acc: 0.74217 val_loss: 0.55007, val_acc: 0.72129, auc_score: 0.79247\n"
     ]
    },
    {
     "data": {
      "application/vnd.jupyter.widget-view+json": {
       "model_id": "7f248326b24343089fdf2d56dfb378e6",
       "version_major": 2,
       "version_minor": 0
      },
      "text/plain": [
       "  0%|          | 0/262 [00:00<?, ?it/s]"
      ]
     },
     "metadata": {},
     "output_type": "display_data"
    },
    {
     "name": "stdout",
     "output_type": "stream",
     "text": [
      "Epoch [4/20], loss: 0.48987 acc: 0.76583 val_loss: 0.56106, val_acc: 0.71294, auc_score: 0.79706\n"
     ]
    },
    {
     "data": {
      "application/vnd.jupyter.widget-view+json": {
       "model_id": "dfbdf55afbd342cb8ce80d301b85d1b4",
       "version_major": 2,
       "version_minor": 0
      },
      "text/plain": [
       "  0%|          | 0/262 [00:00<?, ?it/s]"
      ]
     },
     "metadata": {},
     "output_type": "display_data"
    },
    {
     "name": "stdout",
     "output_type": "stream",
     "text": [
      "Epoch [5/20], loss: 0.47601 acc: 0.77737 val_loss: 0.55086, val_acc: 0.72547, auc_score: 0.79356\n"
     ]
    },
    {
     "data": {
      "application/vnd.jupyter.widget-view+json": {
       "model_id": "ce18473ca0354c108a68b0521411e462",
       "version_major": 2,
       "version_minor": 0
      },
      "text/plain": [
       "  0%|          | 0/262 [00:00<?, ?it/s]"
      ]
     },
     "metadata": {},
     "output_type": "display_data"
    },
    {
     "name": "stdout",
     "output_type": "stream",
     "text": [
      "Epoch [6/20], loss: 0.46049 acc: 0.78931 val_loss: 0.55508, val_acc: 0.71086, auc_score: 0.79314\n"
     ]
    },
    {
     "data": {
      "application/vnd.jupyter.widget-view+json": {
       "model_id": "6944de92cd2146c2aa6396a0b7e7b51b",
       "version_major": 2,
       "version_minor": 0
      },
      "text/plain": [
       "  0%|          | 0/262 [00:00<?, ?it/s]"
      ]
     },
     "metadata": {},
     "output_type": "display_data"
    },
    {
     "name": "stdout",
     "output_type": "stream",
     "text": [
      "Epoch [7/20], loss: 0.45375 acc: 0.79429 val_loss: 0.54748, val_acc: 0.71868, auc_score: 0.79425\n"
     ]
    },
    {
     "data": {
      "application/vnd.jupyter.widget-view+json": {
       "model_id": "0686147513ca4b3fbc12e95196db7370",
       "version_major": 2,
       "version_minor": 0
      },
      "text/plain": [
       "  0%|          | 0/262 [00:00<?, ?it/s]"
      ]
     },
     "metadata": {},
     "output_type": "display_data"
    },
    {
     "name": "stdout",
     "output_type": "stream",
     "text": [
      "Epoch [8/20], loss: 0.44380 acc: 0.80328 val_loss: 0.54845, val_acc: 0.72286, auc_score: 0.79585\n"
     ]
    },
    {
     "data": {
      "application/vnd.jupyter.widget-view+json": {
       "model_id": "2fd78cbfea934d8f9f2f5d8081fa9962",
       "version_major": 2,
       "version_minor": 0
      },
      "text/plain": [
       "  0%|          | 0/262 [00:00<?, ?it/s]"
      ]
     },
     "metadata": {},
     "output_type": "display_data"
    },
    {
     "name": "stdout",
     "output_type": "stream",
     "text": [
      "Epoch [9/20], loss: 0.44186 acc: 0.80079 val_loss: 0.54481, val_acc: 0.72547, auc_score: 0.79970\n"
     ]
    },
    {
     "data": {
      "application/vnd.jupyter.widget-view+json": {
       "model_id": "d56d5beb7f5049ff8ebd8f9acd8703c5",
       "version_major": 2,
       "version_minor": 0
      },
      "text/plain": [
       "  0%|          | 0/262 [00:00<?, ?it/s]"
      ]
     },
     "metadata": {},
     "output_type": "display_data"
    },
    {
     "name": "stdout",
     "output_type": "stream",
     "text": [
      "Epoch [10/20], loss: 0.44138 acc: 0.80264 val_loss: 0.57582, val_acc: 0.70459, auc_score: 0.79862\n"
     ]
    },
    {
     "data": {
      "application/vnd.jupyter.widget-view+json": {
       "model_id": "88e50a578b6c4be69a61cf157814a017",
       "version_major": 2,
       "version_minor": 0
      },
      "text/plain": [
       "  0%|          | 0/262 [00:00<?, ?it/s]"
      ]
     },
     "metadata": {},
     "output_type": "display_data"
    },
    {
     "name": "stdout",
     "output_type": "stream",
     "text": [
      "Epoch [11/20], loss: 0.44294 acc: 0.79969 val_loss: 0.59265, val_acc: 0.68528, auc_score: 0.78964\n"
     ]
    },
    {
     "data": {
      "application/vnd.jupyter.widget-view+json": {
       "model_id": "8cea6d41e9bf46f09fbf6e4857a5e357",
       "version_major": 2,
       "version_minor": 0
      },
      "text/plain": [
       "  0%|          | 0/262 [00:00<?, ?it/s]"
      ]
     },
     "metadata": {},
     "output_type": "display_data"
    },
    {
     "name": "stdout",
     "output_type": "stream",
     "text": [
      "Epoch [12/20], loss: 0.44533 acc: 0.80073 val_loss: 0.56101, val_acc: 0.71451, auc_score: 0.79156\n"
     ]
    },
    {
     "data": {
      "application/vnd.jupyter.widget-view+json": {
       "model_id": "e2ad52636c4f4635af100cd98c077e41",
       "version_major": 2,
       "version_minor": 0
      },
      "text/plain": [
       "  0%|          | 0/262 [00:00<?, ?it/s]"
      ]
     },
     "metadata": {},
     "output_type": "display_data"
    },
    {
     "name": "stdout",
     "output_type": "stream",
     "text": [
      "Epoch [13/20], loss: 0.44588 acc: 0.79917 val_loss: 0.54917, val_acc: 0.71503, auc_score: 0.79398\n"
     ]
    },
    {
     "data": {
      "application/vnd.jupyter.widget-view+json": {
       "model_id": "f2440e970c96493bb754c3768ee3f1dd",
       "version_major": 2,
       "version_minor": 0
      },
      "text/plain": [
       "  0%|          | 0/262 [00:00<?, ?it/s]"
      ]
     },
     "metadata": {},
     "output_type": "display_data"
    },
    {
     "name": "stdout",
     "output_type": "stream",
     "text": [
      "Epoch [14/20], loss: 0.44705 acc: 0.79754 val_loss: 0.55120, val_acc: 0.71921, auc_score: 0.79327\n"
     ]
    },
    {
     "data": {
      "application/vnd.jupyter.widget-view+json": {
       "model_id": "926d0f16d0394d9bab0f60c171f9a7fa",
       "version_major": 2,
       "version_minor": 0
      },
      "text/plain": [
       "  0%|          | 0/262 [00:00<?, ?it/s]"
      ]
     },
     "metadata": {},
     "output_type": "display_data"
    },
    {
     "name": "stdout",
     "output_type": "stream",
     "text": [
      "Epoch [15/20], loss: 0.44701 acc: 0.79812 val_loss: 0.55183, val_acc: 0.72234, auc_score: 0.79377\n"
     ]
    },
    {
     "data": {
      "application/vnd.jupyter.widget-view+json": {
       "model_id": "b09ed9a7ef28417da078abe66ed91f65",
       "version_major": 2,
       "version_minor": 0
      },
      "text/plain": [
       "  0%|          | 0/262 [00:00<?, ?it/s]"
      ]
     },
     "metadata": {},
     "output_type": "display_data"
    },
    {
     "name": "stdout",
     "output_type": "stream",
     "text": [
      "Epoch [16/20], loss: 0.44180 acc: 0.79946 val_loss: 0.57276, val_acc: 0.70094, auc_score: 0.79169\n"
     ]
    },
    {
     "data": {
      "application/vnd.jupyter.widget-view+json": {
       "model_id": "32ce993ce247461c871f3e033a8f2ee0",
       "version_major": 2,
       "version_minor": 0
      },
      "text/plain": [
       "  0%|          | 0/262 [00:00<?, ?it/s]"
      ]
     },
     "metadata": {},
     "output_type": "display_data"
    },
    {
     "name": "stdout",
     "output_type": "stream",
     "text": [
      "Epoch [17/20], loss: 0.43936 acc: 0.80508 val_loss: 0.55138, val_acc: 0.72286, auc_score: 0.79359\n"
     ]
    },
    {
     "data": {
      "application/vnd.jupyter.widget-view+json": {
       "model_id": "35a21c9829904652bd0354f2d568dee3",
       "version_major": 2,
       "version_minor": 0
      },
      "text/plain": [
       "  0%|          | 0/262 [00:00<?, ?it/s]"
      ]
     },
     "metadata": {},
     "output_type": "display_data"
    },
    {
     "name": "stdout",
     "output_type": "stream",
     "text": [
      "Epoch [18/20], loss: 0.43375 acc: 0.80363 val_loss: 0.55476, val_acc: 0.72286, auc_score: 0.79523\n"
     ]
    },
    {
     "data": {
      "application/vnd.jupyter.widget-view+json": {
       "model_id": "84403186b49841daaa7863ba0b02a695",
       "version_major": 2,
       "version_minor": 0
      },
      "text/plain": [
       "  0%|          | 0/262 [00:00<?, ?it/s]"
      ]
     },
     "metadata": {},
     "output_type": "display_data"
    },
    {
     "name": "stdout",
     "output_type": "stream",
     "text": [
      "Epoch [19/20], loss: 0.42965 acc: 0.80780 val_loss: 0.55271, val_acc: 0.72495, auc_score: 0.79528\n"
     ]
    },
    {
     "data": {
      "application/vnd.jupyter.widget-view+json": {
       "model_id": "aabfbc9cac4244df89f517d1ca0e74f8",
       "version_major": 2,
       "version_minor": 0
      },
      "text/plain": [
       "  0%|          | 0/262 [00:00<?, ?it/s]"
      ]
     },
     "metadata": {},
     "output_type": "display_data"
    },
    {
     "name": "stdout",
     "output_type": "stream",
     "text": [
      "Epoch [20/20], loss: 0.41683 acc: 0.81679 val_loss: 0.56211, val_acc: 0.72077, auc_score: 0.79158\n",
      "CV [8/10], loss: 0.46195 acc: 0.78618 val_loss: 0.56054, val_acc: 0.71493, auc_score: 0.79326\n"
     ]
    },
    {
     "data": {
      "application/vnd.jupyter.widget-view+json": {
       "model_id": "6b530ec29c5b4c3e9ad03577456cc51b",
       "version_major": 2,
       "version_minor": 0
      },
      "text/plain": [
       "  0%|          | 0/262 [00:00<?, ?it/s]"
      ]
     },
     "metadata": {},
     "output_type": "display_data"
    },
    {
     "name": "stdout",
     "output_type": "stream",
     "text": [
      "Epoch [1/20], loss: 0.59305 acc: 0.68744 val_loss: 0.55987, val_acc: 0.70929, auc_score: 0.78041\n"
     ]
    },
    {
     "data": {
      "application/vnd.jupyter.widget-view+json": {
       "model_id": "670dbe6d015540a9b77e6631d21ff153",
       "version_major": 2,
       "version_minor": 0
      },
      "text/plain": [
       "  0%|          | 0/262 [00:00<?, ?it/s]"
      ]
     },
     "metadata": {},
     "output_type": "display_data"
    },
    {
     "name": "stdout",
     "output_type": "stream",
     "text": [
      "Epoch [2/20], loss: 0.53661 acc: 0.72843 val_loss: 0.58877, val_acc: 0.68998, auc_score: 0.78678\n"
     ]
    },
    {
     "data": {
      "application/vnd.jupyter.widget-view+json": {
       "model_id": "8c85bae78d9143a3aea1b5e263048142",
       "version_major": 2,
       "version_minor": 0
      },
      "text/plain": [
       "  0%|          | 0/262 [00:00<?, ?it/s]"
      ]
     },
     "metadata": {},
     "output_type": "display_data"
    },
    {
     "name": "stdout",
     "output_type": "stream",
     "text": [
      "Epoch [3/20], loss: 0.51616 acc: 0.74403 val_loss: 0.55626, val_acc: 0.70198, auc_score: 0.78667\n"
     ]
    },
    {
     "data": {
      "application/vnd.jupyter.widget-view+json": {
       "model_id": "cb63861ac7b14bb9bc58fcca17b3d8d6",
       "version_major": 2,
       "version_minor": 0
      },
      "text/plain": [
       "  0%|          | 0/262 [00:00<?, ?it/s]"
      ]
     },
     "metadata": {},
     "output_type": "display_data"
    },
    {
     "name": "stdout",
     "output_type": "stream",
     "text": [
      "Epoch [4/20], loss: 0.48945 acc: 0.76531 val_loss: 0.57218, val_acc: 0.71190, auc_score: 0.78934\n"
     ]
    },
    {
     "data": {
      "application/vnd.jupyter.widget-view+json": {
       "model_id": "172dddd41af846918e5dcbfde69215f0",
       "version_major": 2,
       "version_minor": 0
      },
      "text/plain": [
       "  0%|          | 0/262 [00:00<?, ?it/s]"
      ]
     },
     "metadata": {},
     "output_type": "display_data"
    },
    {
     "name": "stdout",
     "output_type": "stream",
     "text": [
      "Epoch [5/20], loss: 0.47187 acc: 0.77992 val_loss: 0.55232, val_acc: 0.70459, auc_score: 0.79039\n"
     ]
    },
    {
     "data": {
      "application/vnd.jupyter.widget-view+json": {
       "model_id": "300b3bbd49fb4e0fac410963ede3be27",
       "version_major": 2,
       "version_minor": 0
      },
      "text/plain": [
       "  0%|          | 0/262 [00:00<?, ?it/s]"
      ]
     },
     "metadata": {},
     "output_type": "display_data"
    },
    {
     "name": "stdout",
     "output_type": "stream",
     "text": [
      "Epoch [6/20], loss: 0.45780 acc: 0.79128 val_loss: 0.54489, val_acc: 0.72182, auc_score: 0.79606\n"
     ]
    },
    {
     "data": {
      "application/vnd.jupyter.widget-view+json": {
       "model_id": "fa0c7ab2434f4e97bdaa6e050b711e40",
       "version_major": 2,
       "version_minor": 0
      },
      "text/plain": [
       "  0%|          | 0/262 [00:00<?, ?it/s]"
      ]
     },
     "metadata": {},
     "output_type": "display_data"
    },
    {
     "name": "stdout",
     "output_type": "stream",
     "text": [
      "Epoch [7/20], loss: 0.44452 acc: 0.79841 val_loss: 0.55138, val_acc: 0.71764, auc_score: 0.79028\n"
     ]
    },
    {
     "data": {
      "application/vnd.jupyter.widget-view+json": {
       "model_id": "2c0729df42df4342ba70a51b7cdb8467",
       "version_major": 2,
       "version_minor": 0
      },
      "text/plain": [
       "  0%|          | 0/262 [00:00<?, ?it/s]"
      ]
     },
     "metadata": {},
     "output_type": "display_data"
    },
    {
     "name": "stdout",
     "output_type": "stream",
     "text": [
      "Epoch [8/20], loss: 0.43840 acc: 0.80827 val_loss: 0.57320, val_acc: 0.70407, auc_score: 0.78999\n"
     ]
    },
    {
     "data": {
      "application/vnd.jupyter.widget-view+json": {
       "model_id": "c858109234af453995faac592a3d5de5",
       "version_major": 2,
       "version_minor": 0
      },
      "text/plain": [
       "  0%|          | 0/262 [00:00<?, ?it/s]"
      ]
     },
     "metadata": {},
     "output_type": "display_data"
    },
    {
     "name": "stdout",
     "output_type": "stream",
     "text": [
      "Epoch [9/20], loss: 0.43684 acc: 0.80560 val_loss: 0.54949, val_acc: 0.71399, auc_score: 0.79147\n"
     ]
    },
    {
     "data": {
      "application/vnd.jupyter.widget-view+json": {
       "model_id": "7357f482e33f4cdfb9f6f9018e0b61d8",
       "version_major": 2,
       "version_minor": 0
      },
      "text/plain": [
       "  0%|          | 0/262 [00:00<?, ?it/s]"
      ]
     },
     "metadata": {},
     "output_type": "display_data"
    },
    {
     "name": "stdout",
     "output_type": "stream",
     "text": [
      "Epoch [10/20], loss: 0.43424 acc: 0.80734 val_loss: 0.54677, val_acc: 0.71451, auc_score: 0.79468\n"
     ]
    },
    {
     "data": {
      "application/vnd.jupyter.widget-view+json": {
       "model_id": "1ef4d46fc2674f808fc587e45c0e9f84",
       "version_major": 2,
       "version_minor": 0
      },
      "text/plain": [
       "  0%|          | 0/262 [00:00<?, ?it/s]"
      ]
     },
     "metadata": {},
     "output_type": "display_data"
    },
    {
     "name": "stdout",
     "output_type": "stream",
     "text": [
      "Epoch [11/20], loss: 0.43809 acc: 0.80722 val_loss: 0.54805, val_acc: 0.70981, auc_score: 0.79455\n"
     ]
    },
    {
     "data": {
      "application/vnd.jupyter.widget-view+json": {
       "model_id": "3daf352ba66a4b38a5ff2fe73e1098d2",
       "version_major": 2,
       "version_minor": 0
      },
      "text/plain": [
       "  0%|          | 0/262 [00:00<?, ?it/s]"
      ]
     },
     "metadata": {},
     "output_type": "display_data"
    },
    {
     "name": "stdout",
     "output_type": "stream",
     "text": [
      "Epoch [12/20], loss: 0.43999 acc: 0.80473 val_loss: 0.54546, val_acc: 0.71190, auc_score: 0.80037\n"
     ]
    },
    {
     "data": {
      "application/vnd.jupyter.widget-view+json": {
       "model_id": "78019f3f22214fd1b173e3b4a3682595",
       "version_major": 2,
       "version_minor": 0
      },
      "text/plain": [
       "  0%|          | 0/262 [00:00<?, ?it/s]"
      ]
     },
     "metadata": {},
     "output_type": "display_data"
    },
    {
     "name": "stdout",
     "output_type": "stream",
     "text": [
      "Epoch [13/20], loss: 0.44387 acc: 0.80264 val_loss: 0.55601, val_acc: 0.71555, auc_score: 0.79349\n"
     ]
    },
    {
     "data": {
      "application/vnd.jupyter.widget-view+json": {
       "model_id": "6d5e96579b8344958261b0103767da05",
       "version_major": 2,
       "version_minor": 0
      },
      "text/plain": [
       "  0%|          | 0/262 [00:00<?, ?it/s]"
      ]
     },
     "metadata": {},
     "output_type": "display_data"
    },
    {
     "name": "stdout",
     "output_type": "stream",
     "text": [
      "Epoch [14/20], loss: 0.44306 acc: 0.79957 val_loss: 0.54242, val_acc: 0.72025, auc_score: 0.79935\n"
     ]
    },
    {
     "data": {
      "application/vnd.jupyter.widget-view+json": {
       "model_id": "596b9ddb523643bcbb76c9f26052c6f6",
       "version_major": 2,
       "version_minor": 0
      },
      "text/plain": [
       "  0%|          | 0/262 [00:00<?, ?it/s]"
      ]
     },
     "metadata": {},
     "output_type": "display_data"
    },
    {
     "name": "stdout",
     "output_type": "stream",
     "text": [
      "Epoch [15/20], loss: 0.44539 acc: 0.79615 val_loss: 0.55054, val_acc: 0.71086, auc_score: 0.79776\n"
     ]
    },
    {
     "data": {
      "application/vnd.jupyter.widget-view+json": {
       "model_id": "4e2722408fa8410db66a3b3d200724a2",
       "version_major": 2,
       "version_minor": 0
      },
      "text/plain": [
       "  0%|          | 0/262 [00:00<?, ?it/s]"
      ]
     },
     "metadata": {},
     "output_type": "display_data"
    },
    {
     "name": "stdout",
     "output_type": "stream",
     "text": [
      "Epoch [16/20], loss: 0.44081 acc: 0.80328 val_loss: 0.62904, val_acc: 0.67589, auc_score: 0.79332\n"
     ]
    },
    {
     "data": {
      "application/vnd.jupyter.widget-view+json": {
       "model_id": "49b6cdfe4b9246538c5f7379a22a97fa",
       "version_major": 2,
       "version_minor": 0
      },
      "text/plain": [
       "  0%|          | 0/262 [00:00<?, ?it/s]"
      ]
     },
     "metadata": {},
     "output_type": "display_data"
    },
    {
     "name": "stdout",
     "output_type": "stream",
     "text": [
      "Epoch [17/20], loss: 0.43829 acc: 0.80386 val_loss: 0.54985, val_acc: 0.71347, auc_score: 0.79172\n"
     ]
    },
    {
     "data": {
      "application/vnd.jupyter.widget-view+json": {
       "model_id": "8f0dcd808f2344119b2bc69f1e68f418",
       "version_major": 2,
       "version_minor": 0
      },
      "text/plain": [
       "  0%|          | 0/262 [00:00<?, ?it/s]"
      ]
     },
     "metadata": {},
     "output_type": "display_data"
    },
    {
     "name": "stdout",
     "output_type": "stream",
     "text": [
      "Epoch [18/20], loss: 0.43191 acc: 0.80537 val_loss: 0.55278, val_acc: 0.71660, auc_score: 0.79604\n"
     ]
    },
    {
     "data": {
      "application/vnd.jupyter.widget-view+json": {
       "model_id": "f191ae7beceb47db809dd3c67b4b532f",
       "version_major": 2,
       "version_minor": 0
      },
      "text/plain": [
       "  0%|          | 0/262 [00:00<?, ?it/s]"
      ]
     },
     "metadata": {},
     "output_type": "display_data"
    },
    {
     "name": "stdout",
     "output_type": "stream",
     "text": [
      "Epoch [19/20], loss: 0.42271 acc: 0.81476 val_loss: 0.55583, val_acc: 0.71555, auc_score: 0.79699\n"
     ]
    },
    {
     "data": {
      "application/vnd.jupyter.widget-view+json": {
       "model_id": "5f1257985a5b4931b166cb71dee2b273",
       "version_major": 2,
       "version_minor": 0
      },
      "text/plain": [
       "  0%|          | 0/262 [00:00<?, ?it/s]"
      ]
     },
     "metadata": {},
     "output_type": "display_data"
    },
    {
     "name": "stdout",
     "output_type": "stream",
     "text": [
      "Epoch [20/20], loss: 0.41401 acc: 0.81772 val_loss: 0.56424, val_acc: 0.71399, auc_score: 0.79209\n",
      "CV [9/10], loss: 0.45885 acc: 0.78857 val_loss: 0.55947, val_acc: 0.70968, auc_score: 0.79259\n"
     ]
    },
    {
     "data": {
      "application/vnd.jupyter.widget-view+json": {
       "model_id": "d4ae8643901a476b82d62f12704b294c",
       "version_major": 2,
       "version_minor": 0
      },
      "text/plain": [
       "  0%|          | 0/262 [00:00<?, ?it/s]"
      ]
     },
     "metadata": {},
     "output_type": "display_data"
    },
    {
     "name": "stdout",
     "output_type": "stream",
     "text": [
      "Epoch [1/20], loss: 0.59456 acc: 0.68976 val_loss: 0.61772, val_acc: 0.65292, auc_score: 0.78785\n"
     ]
    },
    {
     "data": {
      "application/vnd.jupyter.widget-view+json": {
       "model_id": "61031759443c4ee0bc1972ba7c1527fa",
       "version_major": 2,
       "version_minor": 0
      },
      "text/plain": [
       "  0%|          | 0/262 [00:00<?, ?it/s]"
      ]
     },
     "metadata": {},
     "output_type": "display_data"
    },
    {
     "name": "stdout",
     "output_type": "stream",
     "text": [
      "Epoch [2/20], loss: 0.53946 acc: 0.72536 val_loss: 0.56333, val_acc: 0.71086, auc_score: 0.78696\n"
     ]
    },
    {
     "data": {
      "application/vnd.jupyter.widget-view+json": {
       "model_id": "54aaccd6917c425796fbfb1811c2319b",
       "version_major": 2,
       "version_minor": 0
      },
      "text/plain": [
       "  0%|          | 0/262 [00:00<?, ?it/s]"
      ]
     },
     "metadata": {},
     "output_type": "display_data"
    },
    {
     "name": "stdout",
     "output_type": "stream",
     "text": [
      "Epoch [3/20], loss: 0.50991 acc: 0.74855 val_loss: 0.58294, val_acc: 0.70042, auc_score: 0.78841\n"
     ]
    },
    {
     "data": {
      "application/vnd.jupyter.widget-view+json": {
       "model_id": "3050dcdfcf6842f0975aa68ff1cb9bd3",
       "version_major": 2,
       "version_minor": 0
      },
      "text/plain": [
       "  0%|          | 0/262 [00:00<?, ?it/s]"
      ]
     },
     "metadata": {},
     "output_type": "display_data"
    },
    {
     "name": "stdout",
     "output_type": "stream",
     "text": [
      "Epoch [4/20], loss: 0.49191 acc: 0.76200 val_loss: 0.54639, val_acc: 0.72756, auc_score: 0.79113\n"
     ]
    },
    {
     "data": {
      "application/vnd.jupyter.widget-view+json": {
       "model_id": "ed731b0f7c8c4501954c137ef9c2874e",
       "version_major": 2,
       "version_minor": 0
      },
      "text/plain": [
       "  0%|          | 0/262 [00:00<?, ?it/s]"
      ]
     },
     "metadata": {},
     "output_type": "display_data"
    },
    {
     "name": "stdout",
     "output_type": "stream",
     "text": [
      "Epoch [5/20], loss: 0.47303 acc: 0.77922 val_loss: 0.54889, val_acc: 0.71608, auc_score: 0.79042\n"
     ]
    },
    {
     "data": {
      "application/vnd.jupyter.widget-view+json": {
       "model_id": "b5e1128329f044b69f87cc13f200f994",
       "version_major": 2,
       "version_minor": 0
      },
      "text/plain": [
       "  0%|          | 0/262 [00:00<?, ?it/s]"
      ]
     },
     "metadata": {},
     "output_type": "display_data"
    },
    {
     "name": "stdout",
     "output_type": "stream",
     "text": [
      "Epoch [6/20], loss: 0.45904 acc: 0.78977 val_loss: 0.56265, val_acc: 0.70198, auc_score: 0.79521\n"
     ]
    },
    {
     "data": {
      "application/vnd.jupyter.widget-view+json": {
       "model_id": "1ba8c891535b4cc1ba7a5ea670acece7",
       "version_major": 2,
       "version_minor": 0
      },
      "text/plain": [
       "  0%|          | 0/262 [00:00<?, ?it/s]"
      ]
     },
     "metadata": {},
     "output_type": "display_data"
    },
    {
     "name": "stdout",
     "output_type": "stream",
     "text": [
      "Epoch [7/20], loss: 0.44683 acc: 0.80114 val_loss: 0.54903, val_acc: 0.72443, auc_score: 0.79699\n"
     ]
    },
    {
     "data": {
      "application/vnd.jupyter.widget-view+json": {
       "model_id": "c1ce92677f14401c812390776ee3b9a3",
       "version_major": 2,
       "version_minor": 0
      },
      "text/plain": [
       "  0%|          | 0/262 [00:00<?, ?it/s]"
      ]
     },
     "metadata": {},
     "output_type": "display_data"
    },
    {
     "name": "stdout",
     "output_type": "stream",
     "text": [
      "Epoch [8/20], loss: 0.44052 acc: 0.80659 val_loss: 0.56383, val_acc: 0.69572, auc_score: 0.79035\n"
     ]
    },
    {
     "data": {
      "application/vnd.jupyter.widget-view+json": {
       "model_id": "a0a58e5ef6e14aa4b15d343a67233eb0",
       "version_major": 2,
       "version_minor": 0
      },
      "text/plain": [
       "  0%|          | 0/262 [00:00<?, ?it/s]"
      ]
     },
     "metadata": {},
     "output_type": "display_data"
    },
    {
     "name": "stdout",
     "output_type": "stream",
     "text": [
      "Epoch [9/20], loss: 0.43708 acc: 0.81006 val_loss: 0.54669, val_acc: 0.72182, auc_score: 0.79624\n"
     ]
    },
    {
     "data": {
      "application/vnd.jupyter.widget-view+json": {
       "model_id": "c23e1c0a90724a84a032aa995c06bc95",
       "version_major": 2,
       "version_minor": 0
      },
      "text/plain": [
       "  0%|          | 0/262 [00:00<?, ?it/s]"
      ]
     },
     "metadata": {},
     "output_type": "display_data"
    },
    {
     "name": "stdout",
     "output_type": "stream",
     "text": [
      "Epoch [10/20], loss: 0.44065 acc: 0.80404 val_loss: 0.55945, val_acc: 0.70877, auc_score: 0.79374\n"
     ]
    },
    {
     "data": {
      "application/vnd.jupyter.widget-view+json": {
       "model_id": "2b9c2406b7774109b967921ba88a7344",
       "version_major": 2,
       "version_minor": 0
      },
      "text/plain": [
       "  0%|          | 0/262 [00:00<?, ?it/s]"
      ]
     },
     "metadata": {},
     "output_type": "display_data"
    },
    {
     "name": "stdout",
     "output_type": "stream",
     "text": [
      "Epoch [11/20], loss: 0.43689 acc: 0.80838 val_loss: 0.54666, val_acc: 0.73121, auc_score: 0.79857\n"
     ]
    },
    {
     "data": {
      "application/vnd.jupyter.widget-view+json": {
       "model_id": "3663212a895646968d6533009f189323",
       "version_major": 2,
       "version_minor": 0
      },
      "text/plain": [
       "  0%|          | 0/262 [00:00<?, ?it/s]"
      ]
     },
     "metadata": {},
     "output_type": "display_data"
    },
    {
     "name": "stdout",
     "output_type": "stream",
     "text": [
      "Epoch [12/20], loss: 0.43868 acc: 0.80624 val_loss: 0.54250, val_acc: 0.72182, auc_score: 0.79734\n"
     ]
    },
    {
     "data": {
      "application/vnd.jupyter.widget-view+json": {
       "model_id": "cd71162cbc7e4e40b633571ae2d18301",
       "version_major": 2,
       "version_minor": 0
      },
      "text/plain": [
       "  0%|          | 0/262 [00:00<?, ?it/s]"
      ]
     },
     "metadata": {},
     "output_type": "display_data"
    },
    {
     "name": "stdout",
     "output_type": "stream",
     "text": [
      "Epoch [13/20], loss: 0.44247 acc: 0.80369 val_loss: 0.54593, val_acc: 0.72756, auc_score: 0.79896\n"
     ]
    },
    {
     "data": {
      "application/vnd.jupyter.widget-view+json": {
       "model_id": "da3221f5e6ac4149a95036ae14e8feab",
       "version_major": 2,
       "version_minor": 0
      },
      "text/plain": [
       "  0%|          | 0/262 [00:00<?, ?it/s]"
      ]
     },
     "metadata": {},
     "output_type": "display_data"
    },
    {
     "name": "stdout",
     "output_type": "stream",
     "text": [
      "Epoch [14/20], loss: 0.44089 acc: 0.80543 val_loss: 0.54456, val_acc: 0.72390, auc_score: 0.79506\n"
     ]
    },
    {
     "data": {
      "application/vnd.jupyter.widget-view+json": {
       "model_id": "1c44cf3f343e410d84db7f1c3b71be16",
       "version_major": 2,
       "version_minor": 0
      },
      "text/plain": [
       "  0%|          | 0/262 [00:00<?, ?it/s]"
      ]
     },
     "metadata": {},
     "output_type": "display_data"
    },
    {
     "name": "stdout",
     "output_type": "stream",
     "text": [
      "Epoch [15/20], loss: 0.44237 acc: 0.80780 val_loss: 0.54350, val_acc: 0.72182, auc_score: 0.79996\n"
     ]
    },
    {
     "data": {
      "application/vnd.jupyter.widget-view+json": {
       "model_id": "de8704ccfff447a28d1c8ea704d236d9",
       "version_major": 2,
       "version_minor": 0
      },
      "text/plain": [
       "  0%|          | 0/262 [00:00<?, ?it/s]"
      ]
     },
     "metadata": {},
     "output_type": "display_data"
    },
    {
     "name": "stdout",
     "output_type": "stream",
     "text": [
      "Epoch [16/20], loss: 0.43962 acc: 0.80346 val_loss: 0.55119, val_acc: 0.71347, auc_score: 0.79445\n"
     ]
    },
    {
     "data": {
      "application/vnd.jupyter.widget-view+json": {
       "model_id": "336e60243f9c4dd79d2f80256b853a31",
       "version_major": 2,
       "version_minor": 0
      },
      "text/plain": [
       "  0%|          | 0/262 [00:00<?, ?it/s]"
      ]
     },
     "metadata": {},
     "output_type": "display_data"
    },
    {
     "name": "stdout",
     "output_type": "stream",
     "text": [
      "Epoch [17/20], loss: 0.43494 acc: 0.80519 val_loss: 0.54772, val_acc: 0.72077, auc_score: 0.79523\n"
     ]
    },
    {
     "data": {
      "application/vnd.jupyter.widget-view+json": {
       "model_id": "757d582e34644b98948fb0ad25561def",
       "version_major": 2,
       "version_minor": 0
      },
      "text/plain": [
       "  0%|          | 0/262 [00:00<?, ?it/s]"
      ]
     },
     "metadata": {},
     "output_type": "display_data"
    },
    {
     "name": "stdout",
     "output_type": "stream",
     "text": [
      "Epoch [18/20], loss: 0.42912 acc: 0.81099 val_loss: 0.55908, val_acc: 0.70303, auc_score: 0.78935\n"
     ]
    },
    {
     "data": {
      "application/vnd.jupyter.widget-view+json": {
       "model_id": "4e18d45abc124b7ca0d86c60a22edf79",
       "version_major": 2,
       "version_minor": 0
      },
      "text/plain": [
       "  0%|          | 0/262 [00:00<?, ?it/s]"
      ]
     },
     "metadata": {},
     "output_type": "display_data"
    },
    {
     "name": "stdout",
     "output_type": "stream",
     "text": [
      "Epoch [19/20], loss: 0.41908 acc: 0.81859 val_loss: 0.55424, val_acc: 0.72286, auc_score: 0.79459\n"
     ]
    },
    {
     "data": {
      "application/vnd.jupyter.widget-view+json": {
       "model_id": "eb3581f451f34390a1aacabab0f2a018",
       "version_major": 2,
       "version_minor": 0
      },
      "text/plain": [
       "  0%|          | 0/262 [00:00<?, ?it/s]"
      ]
     },
     "metadata": {},
     "output_type": "display_data"
    },
    {
     "name": "stdout",
     "output_type": "stream",
     "text": [
      "Epoch [20/20], loss: 0.40944 acc: 0.82537 val_loss: 0.56948, val_acc: 0.71608, auc_score: 0.79120\n",
      "CV [10/10], loss: 0.45832 acc: 0.79058 val_loss: 0.55729, val_acc: 0.71315, auc_score: 0.79360\n"
     ]
    }
   ],
   "source": [
    "# 学習率\n",
    "lr = 0.001\n",
    "\n",
    "# 繰り返し回数\n",
    "num_epochs = 20\n",
    "\n",
    "# 評価結果記録用\n",
    "cv_history = np.zeros((0,6))\n",
    "each_history = np.zeros((0,num_epochs,6))\n",
    "\n",
    "batch_size = 66\n",
    "num_splits = 10\n",
    "kf = KFold(n_splits=num_splits)\n",
    "cv_cnt = 0\n",
    "\n",
    "# random_seed_list = [100,101,102,103,104,105,106,107,108,109,110]\n",
    "# for seed in random_seed_list:\n",
    "#     torch_seed(seed)\n",
    "undersampled_dataset = undersampling(dataset)\n",
    "\n",
    "for train_index, test_index in kf.split(undersampled_dataset):\n",
    "    cv_cnt += 1\n",
    "    history = np.zeros((0,6))\n",
    "    train_dataset = Subset(undersampled_dataset, train_index)\n",
    "    train_loader = DataLoader(train_dataset, batch_size, shuffle=True, num_workers=2)\n",
    "    test_dataset   = Subset(undersampled_dataset, test_index)\n",
    "    test_loader = DataLoader(test_dataset, batch_size, shuffle=False, num_workers=2)\n",
    "    \n",
    "    # モデルインスタンス生成\n",
    "    net = CNN(n_output, n_hidden).to(device)\n",
    "    # net._initialize_weights()\n",
    "    # 最適化関数: 勾配降下法\n",
    "    optimizer = optim.Adam(net.parameters(), lr=lr, weight_decay=0.001)\n",
    "    # optimizer = torch.optim.SGD(net.parameters(), lr=lr)\n",
    "    # 損失関数： 交差エントロピー関数\n",
    "    criterion = nn.CrossEntropyLoss()\n",
    "    \n",
    "    #学習\n",
    "    history = fit(net, optimizer, criterion, num_epochs, train_loader, test_loader, device, history, test_dataset)\n",
    "    \n",
    "    #1交差ごとの記録\n",
    "    each_history = np.vstack((each_history, [history]))\n",
    "    cv_avg_train_loss = np.average(history[:,1])\n",
    "    cv_train_acc = np.average(history[:,2])\n",
    "    cv_avg_val_loss = np.average(history[:,3])\n",
    "    cv_val_acc = np.average(history[:,4])\n",
    "    cv_avg_auc = np.average(history[:,5])\n",
    "    item = np.array([cv_cnt, cv_avg_train_loss, cv_train_acc, cv_avg_val_loss, cv_val_acc, cv_avg_auc])\n",
    "    cv_history = np.vstack((cv_history, item))\n",
    "    print(f'CV [{cv_cnt}/{num_splits}], loss: {cv_avg_train_loss:.5f} acc: {cv_train_acc:.5f} val_loss: {cv_avg_val_loss:.5f}, val_acc: {cv_val_acc:.5f}, auc_score: {cv_avg_auc:.5f}')"
   ]
  },
  {
   "cell_type": "code",
   "execution_count": 14,
   "id": "683a33c8-81bf-49ee-a541-fa3579c713f7",
   "metadata": {},
   "outputs": [
    {
     "name": "stdout",
     "output_type": "stream",
     "text": [
      "初期状態: 損失: 0.56112 精度: 0.71286\n",
      "最終状態: 損失: 0.55729 精度: 0.71315\n"
     ]
    },
    {
     "data": {
      "image/png": "[encoded data removed]",
      "text/plain": [
       "<Figure size 900x800 with 1 Axes>"
      ]
     },
     "metadata": {},
     "output_type": "display_data"
    },
    {
     "data": {
      "image/png": "[encoded data removed]",
      "text/plain": [
       "<Figure size 900x800 with 1 Axes>"
      ]
     },
     "metadata": {},
     "output_type": "display_data"
    },
    {
     "data": {
      "image/png": "[encoded data removed]",
      "text/plain": [
       "<Figure size 900x800 with 1 Axes>"
      ]
     },
     "metadata": {},
     "output_type": "display_data"
    }
   ],
   "source": [
    "evaluate_history(cv_history)"
   ]
  },
  {
   "cell_type": "code",
   "execution_count": 15,
   "id": "7c89334f-dd05-4100-94bf-c5180ecdb3a4",
   "metadata": {
    "tags": []
   },
   "outputs": [
    {
     "name": "stdout",
     "output_type": "stream",
     "text": [
      "初期状態: 損失: 0.55755 精度: 0.71674\n",
      "最終状態: 損失: 0.54105 精度: 0.72144\n"
     ]
    },
    {
     "data": {
      "image/png": "[encoded data removed]",
      "text/plain": [
       "<Figure size 900x800 with 1 Axes>"
      ]
     },
     "metadata": {},
     "output_type": "display_data"
    },
    {
     "data": {
      "image/png": "[encoded data removed]",
      "text/plain": [
       "<Figure size 900x800 with 1 Axes>"
      ]
     },
     "metadata": {},
     "output_type": "display_data"
    },
    {
     "data": {
      "image/png": "[encoded data removed]",
      "text/plain": [
       "<Figure size 900x800 with 1 Axes>"
      ]
     },
     "metadata": {},
     "output_type": "display_data"
    }
   ],
   "source": [
    "evaluate_history(each_history[1,:,:])"
   ]
  },
  {
   "cell_type": "code",
   "execution_count": 16,
   "id": "6eb1f4a6-42a5-4388-907f-382ad80ec040",
   "metadata": {},
   "outputs": [
    {
     "data": {
      "text/html": [
       "<div>\n",
       "<style scoped>\n",
       "    .dataframe tbody tr th:only-of-type {\n",
       "        vertical-align: middle;\n",
       "    }\n",
       "\n",
       "    .dataframe tbody tr th {\n",
       "        vertical-align: top;\n",
       "    }\n",
       "\n",
       "    .dataframe thead th {\n",
       "        text-align: right;\n",
       "    }\n",
       "</style>\n",
       "<table border=\"1\" class=\"dataframe\">\n",
       "  <thead>\n",
       "    <tr style=\"text-align: right;\">\n",
       "      <th></th>\n",
       "      <th>seed</th>\n",
       "      <th>num_kf</th>\n",
       "      <th>score_type</th>\n",
       "      <th>1</th>\n",
       "      <th>2</th>\n",
       "      <th>3</th>\n",
       "      <th>4</th>\n",
       "      <th>5</th>\n",
       "      <th>6</th>\n",
       "      <th>7</th>\n",
       "      <th>...</th>\n",
       "      <th>11</th>\n",
       "      <th>12</th>\n",
       "      <th>13</th>\n",
       "      <th>14</th>\n",
       "      <th>15</th>\n",
       "      <th>16</th>\n",
       "      <th>17</th>\n",
       "      <th>18</th>\n",
       "      <th>19</th>\n",
       "      <th>20</th>\n",
       "    </tr>\n",
       "  </thead>\n",
       "  <tbody>\n",
       "  </tbody>\n",
       "</table>\n",
       "<p>0 rows × 23 columns</p>\n",
       "</div>"
      ],
      "text/plain": [
       "Empty DataFrame\n",
       "Columns: [seed, num_kf, score_type, 1, 2, 3, 4, 5, 6, 7, 8, 9, 10, 11, 12, 13, 14, 15, 16, 17, 18, 19, 20]\n",
       "Index: []\n",
       "\n",
       "[0 rows x 23 columns]"
      ]
     },
     "execution_count": 16,
     "metadata": {},
     "output_type": "execute_result"
    }
   ],
   "source": [
    "import pandas as pd\n",
    "df = pd.read_csv('../result/threshold_2000_2.csv', index_col=False)\n",
    "df"
   ]
  },
  {
   "cell_type": "code",
   "execution_count": 20,
   "id": "2ae6c926-4af9-47b6-bde6-3de515321d19",
   "metadata": {
    "tags": []
   },
   "outputs": [],
   "source": [
    "score_type = ['train_loss','train_acc','test_loss','test_acc','auc_score']\n",
    "for num_kf in range(num_splits):\n",
    "    for i in range(5):\n",
    "        AUC_list = list(each_history[num_kf,:,i+1])\n",
    "        AUC_list[:0] = ['txt_vec_and_label_camel_0.csv',num_kf+1, score_type[i]]\n",
    "        df.loc[len(df)] = AUC_list"
   ]
  },
  {
   "cell_type": "code",
   "execution_count": 18,
   "id": "e3389dca-950b-4927-aafa-63f51aa00c23",
   "metadata": {
    "tags": []
   },
   "outputs": [
    {
     "data": {
      "text/plain": [
       "array([0.77453, 0.77648, 0.78116, 0.78502, 0.78713, 0.78711, 0.78468,\n",
       "       0.78798, 0.79103, 0.79365, 0.79105, 0.78873, 0.79158, 0.78794,\n",
       "       0.78926, 0.79219, 0.78689, 0.78938, 0.78982, 0.78833])"
      ]
     },
     "execution_count": 18,
     "metadata": {},
     "output_type": "execute_result"
    }
   ],
   "source": [
    "each_history[0,:,5]"
   ]
  },
  {
   "cell_type": "code",
   "execution_count": 21,
   "id": "7234be91-0024-435c-ad0f-94765ae427d0",
   "metadata": {},
   "outputs": [],
   "source": [
    "df.to_csv('../result/threshold_2000_camle_0.csv', index=False)"
   ]
  },
  {
   "cell_type": "code",
   "execution_count": null,
   "id": "85c70d84-fed9-4154-98dc-6934d94915d7",
   "metadata": {},
   "outputs": [],
   "source": []
  }
 ],
 "metadata": {
  "kernelspec": {
   "display_name": "Python 3 (ipykernel)",
   "language": "python",
   "name": "python3"
  },
  "language_info": {
   "codemirror_mode": {
    "name": "ipython",
    "version": 3
   },
   "file_extension": ".py",
   "mimetype": "text/x-python",
   "name": "python",
   "nbconvert_exporter": "python",
   "pygments_lexer": "ipython3",
   "version": "3.8.10"
  }
 },
 "nbformat": 4,
 "nbformat_minor": 5
}
