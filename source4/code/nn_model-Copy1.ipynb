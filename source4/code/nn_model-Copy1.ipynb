{
 "cells": [
  {
   "cell_type": "code",
   "execution_count": 1,
   "metadata": {
    "tags": []
   },
   "outputs": [],
   "source": [
    "import torch\n",
    "import torch.nn as nn\n",
    "import torch.optim as optim\n",
    "from torchinfo import summary\n",
    "from torchviz import make_dot\n",
    "import torchvision.datasets as datasets\n",
    "import torchvision.transforms as transforms\n",
    "from torch.utils.data import DataLoader\n",
    "from torch.utils.data.dataset import Subset\n",
    "from sklearn.model_selection import KFold\n",
    "from torch.utils.data.sampler import WeightedRandomSampler\n",
    "from learning_tool import *\n",
    "import sys\n",
    "sys.path.append('..')\n",
    "\n",
    "from model.model import *"
   ]
  },
  {
   "cell_type": "code",
   "execution_count": 2,
   "metadata": {
    "tags": []
   },
   "outputs": [],
   "source": [
    "%matplotlib inline\n",
    "import numpy as np\n",
    "import pandas as pd\n",
    "import matplotlib.pyplot as plt\n",
    "import japanize_matplotlib\n",
    "from tqdm.notebook import tqdm\n",
    "from IPython.display import display\n",
    "from sklearn.model_selection import train_test_split"
   ]
  },
  {
   "cell_type": "code",
   "execution_count": 3,
   "metadata": {
    "tags": []
   },
   "outputs": [],
   "source": [
    "# warning表示off\n",
    "import warnings\n",
    "warnings.simplefilter('ignore')\n",
    "\n",
    "# デフォルトフォントサイズ変更\n",
    "plt.rcParams['font.size'] = 14\n",
    "\n",
    "# デフォルトグラフサイズ変更\n",
    "plt.rcParams['figure.figsize'] = (6,6)\n",
    "\n",
    "# デフォルトで方眼表示ON\n",
    "plt.rcParams['axes.grid'] = True\n",
    "\n",
    "# numpyの表示桁数設定\n",
    "np.set_printoptions(suppress=True, precision=5)"
   ]
  },
  {
   "cell_type": "code",
   "execution_count": 4,
   "metadata": {
    "tags": []
   },
   "outputs": [
    {
     "name": "stdout",
     "output_type": "stream",
     "text": [
      "cuda:0\n"
     ]
    }
   ],
   "source": [
    "# デバイスの割り当て\n",
    "\n",
    "device = torch.device(\"cuda:0\" if torch.cuda.is_available() else \"cpu\")\n",
    "print(device)\n",
    "# device = torch.device('cpu')"
   ]
  },
  {
   "cell_type": "code",
   "execution_count": 5,
   "metadata": {},
   "outputs": [],
   "source": [
    "# PyTorch乱数固定用\n",
    "\n",
    "def torch_seed(seed=123):\n",
    "    torch.manual_seed(seed)\n",
    "    torch.cuda.manual_seed(seed)\n",
    "    torch.backends.cudnn.deterministic = True\n",
    "    torch.use_deterministic_algorithms = True\n",
    "    \n",
    "# 乱数初期化\n",
    "torch_seed()"
   ]
  },
  {
   "cell_type": "code",
   "execution_count": 6,
   "metadata": {
    "tags": []
   },
   "outputs": [],
   "source": [
    "class MyDataset(torch.utils.data.Dataset):\n",
    "    def __init__(self, df, features, labels):\n",
    "        self.features_values = df[features].values\n",
    "        self.labels = df[labels].values\n",
    "        \n",
    "    # len()を使用すると呼ばれる\n",
    "    def __len__(self):\n",
    "        return len(self.features_values)\n",
    "\n",
    "    # 要素を参照すると呼ばれる関数    \n",
    "    def __getitem__(self, idx):\n",
    "        features_x = torch.LongTensor(self.features_values[idx])\n",
    "        labels = torch.as_tensor(self.labels[idx])\n",
    "        return features_x, labels"
   ]
  },
  {
   "cell_type": "code",
   "execution_count": 7,
   "metadata": {
    "tags": []
   },
   "outputs": [
    {
     "name": "stdout",
     "output_type": "stream",
     "text": [
      "n_hidden: 100 n_output: 2\n"
     ]
    }
   ],
   "source": [
    "# 出力次元数\n",
    "# 分類先クラス数　今回は2になる\n",
    "n_output = 2\n",
    "\n",
    "# 隠れ層のノード数\n",
    "n_hidden = 100\n",
    "\n",
    "# 結果確認\n",
    "print(f'n_hidden: {n_hidden} n_output: {n_output}')"
   ]
  },
  {
   "cell_type": "code",
   "execution_count": 8,
   "metadata": {
    "tags": []
   },
   "outputs": [
    {
     "name": "stdout",
     "output_type": "stream",
     "text": [
      "CNN(\n",
      "  (relu): ReLU(inplace=True)\n",
      "  (embedding): Embedding(2001, 128)\n",
      "  (conv1): Conv2d(1, 128, kernel_size=(3, 128), stride=(1, 1))\n",
      "  (maxpool1): MaxPool2d(kernel_size=(1998, 1), stride=(1998, 1), padding=0, dilation=1, ceil_mode=False)\n",
      "  (conv2): Conv2d(1, 128, kernel_size=(4, 128), stride=(1, 1))\n",
      "  (maxpool2): MaxPool2d(kernel_size=(1997, 1), stride=(1997, 1), padding=0, dilation=1, ceil_mode=False)\n",
      "  (conv3): Conv2d(1, 128, kernel_size=(5, 128), stride=(1, 1))\n",
      "  (maxpool3): MaxPool2d(kernel_size=(1996, 1), stride=(1996, 1), padding=0, dilation=1, ceil_mode=False)\n",
      "  (flatten): Flatten(start_dim=1, end_dim=-1)\n",
      "  (l1): Linear(in_features=384, out_features=2, bias=True)\n",
      "  (dropout): Dropout(p=0.5, inplace=False)\n",
      "  (features1): Sequential(\n",
      "    (0): Conv2d(1, 128, kernel_size=(3, 128), stride=(1, 1))\n",
      "    (1): ReLU(inplace=True)\n",
      "    (2): MaxPool2d(kernel_size=(1998, 1), stride=(1998, 1), padding=0, dilation=1, ceil_mode=False)\n",
      "  )\n",
      "  (features2): Sequential(\n",
      "    (0): Conv2d(1, 128, kernel_size=(4, 128), stride=(1, 1))\n",
      "    (1): ReLU(inplace=True)\n",
      "    (2): MaxPool2d(kernel_size=(1997, 1), stride=(1997, 1), padding=0, dilation=1, ceil_mode=False)\n",
      "  )\n",
      "  (features3): Sequential(\n",
      "    (0): Conv2d(1, 128, kernel_size=(5, 128), stride=(1, 1))\n",
      "    (1): ReLU(inplace=True)\n",
      "    (2): MaxPool2d(kernel_size=(1996, 1), stride=(1996, 1), padding=0, dilation=1, ceil_mode=False)\n",
      "  )\n",
      ")\n"
     ]
    }
   ],
   "source": [
    "net = CNN(n_output, n_hidden).to(device)\n",
    "print(net)"
   ]
  },
  {
   "cell_type": "code",
   "execution_count": 9,
   "metadata": {},
   "outputs": [],
   "source": [
    "def make_weighted_random_sampler(train_set):\n",
    "    numDataPoints = len(train_set)\n",
    "    data_dim = len(train_set[0][0])\n",
    "\n",
    "    data = torch.FloatTensor(numDataPoints, data_dim)\n",
    "    target = np.zeros(0)\n",
    "    target = (np.hstack(data[1].numpy() for data in train_set))\n",
    "    # target\n",
    "    # print(target)\n",
    "    print ('target train 0/1: {}/{}'.format(\n",
    "        len(np.where(target == 0)[0]), len(np.where(target == 1)[0])))\n",
    "\n",
    "    class_sample_count = np.array(\n",
    "        [len(np.where(target == t)[0]) for t in np.unique(target)])\n",
    "    weight = 1. / class_sample_count\n",
    "    samples_weight = np.array([weight[t] for t in target])\n",
    "\n",
    "    samples_weight = torch.from_numpy(samples_weight)\n",
    "    samples_weight = samples_weight.double()\n",
    "    # print(samples_weight)\n",
    "    sampler = WeightedRandomSampler(samples_weight, len(samples_weight), replacement=True)\n",
    "    return sampler"
   ]
  },
  {
   "cell_type": "code",
   "execution_count": 10,
   "metadata": {},
   "outputs": [],
   "source": [
    "def make_dataset(filename):\n",
    "    df = pd.read_csv(filename, index_col=0)\n",
    "    columns = df.columns.values\n",
    "    features_columns = columns[:-1]\n",
    "    labels_column = columns[-1]\n",
    "    dataset = MyDataset(df, features_columns, labels_column)\n",
    "    return dataset"
   ]
  },
  {
   "cell_type": "code",
   "execution_count": 11,
   "metadata": {},
   "outputs": [],
   "source": [
    "def record_history(df, filename, seed, each_history, num_splits):\n",
    "    # print(df)\n",
    "    score_type = ['train_loss','train_acc','test_loss','test_acc','auc_score']\n",
    "    for num_kf in range(num_splits):\n",
    "        for i in range(5):\n",
    "            tmp_list = list(each_history[num_kf,:,i+1])\n",
    "            tmp_list[:0] = [filename, seed, num_kf+1, score_type[i]]\n",
    "            # print(tmp_list)\n",
    "            df.loc[len(df)] = tmp_list\n",
    "    # print(df)"
   ]
  },
  {
   "cell_type": "code",
   "execution_count": 12,
   "metadata": {
    "tags": []
   },
   "outputs": [
    {
     "name": "stdout",
     "output_type": "stream",
     "text": [
      "txt_vec_and_label_camel_4.csv\n",
      "100\n",
      "cv: 1\n",
      "target train 0/1: 14699/8626\n"
     ]
    },
    {
     "data": {
      "application/vnd.jupyter.widget-view+json": {
       "model_id": "0fa5cc4e5d4741f09203e869cf96d254",
       "version_major": 2,
       "version_minor": 0
      },
      "text/plain": [
       "  0%|          | 0/354 [00:00<?, ?it/s]"
      ]
     },
     "metadata": {},
     "output_type": "display_data"
    },
    {
     "name": "stdout",
     "output_type": "stream",
     "text": [
      "Epoch [1/50], loss: 0.69393 acc: 0.63143 val_loss: 0.63827, val_acc: 0.64931, auc_score: 0.76794\n"
     ]
    },
    {
     "data": {
      "application/vnd.jupyter.widget-view+json": {
       "model_id": "e550179dfed14007b8126c6da77411ea",
       "version_major": 2,
       "version_minor": 0
      },
      "text/plain": [
       "  0%|          | 0/354 [00:00<?, ?it/s]"
      ]
     },
     "metadata": {},
     "output_type": "display_data"
    },
    {
     "name": "stdout",
     "output_type": "stream",
     "text": [
      "Epoch [2/50], loss: 0.64077 acc: 0.65711 val_loss: 0.56591, val_acc: 0.70486, auc_score: 0.77298\n"
     ]
    },
    {
     "data": {
      "application/vnd.jupyter.widget-view+json": {
       "model_id": "159ed1ab8f574a8bbf0845655017ccad",
       "version_major": 2,
       "version_minor": 0
      },
      "text/plain": [
       "  0%|          | 0/354 [00:00<?, ?it/s]"
      ]
     },
     "metadata": {},
     "output_type": "display_data"
    },
    {
     "name": "stdout",
     "output_type": "stream",
     "text": [
      "Epoch [3/50], loss: 0.60473 acc: 0.68154 val_loss: 0.57158, val_acc: 0.70255, auc_score: 0.77735\n"
     ]
    },
    {
     "data": {
      "application/vnd.jupyter.widget-view+json": {
       "model_id": "7caf16a12dc6460ea42289c0f936651e",
       "version_major": 2,
       "version_minor": 0
      },
      "text/plain": [
       "  0%|          | 0/354 [00:00<?, ?it/s]"
      ]
     },
     "metadata": {},
     "output_type": "display_data"
    },
    {
     "name": "stdout",
     "output_type": "stream",
     "text": [
      "Epoch [4/50], loss: 0.58669 acc: 0.69346 val_loss: 0.54704, val_acc: 0.72801, auc_score: 0.77877\n"
     ]
    },
    {
     "data": {
      "application/vnd.jupyter.widget-view+json": {
       "model_id": "bf5efff0b8124a2e8db172cbac7b97d7",
       "version_major": 2,
       "version_minor": 0
      },
      "text/plain": [
       "  0%|          | 0/354 [00:00<?, ?it/s]"
      ]
     },
     "metadata": {},
     "output_type": "display_data"
    },
    {
     "name": "stdout",
     "output_type": "stream",
     "text": [
      "Epoch [5/50], loss: 0.57736 acc: 0.69728 val_loss: 0.54932, val_acc: 0.72145, auc_score: 0.77919\n"
     ]
    },
    {
     "data": {
      "application/vnd.jupyter.widget-view+json": {
       "model_id": "10a4c7d1fcdb448a8b062f0cb59f73e1",
       "version_major": 2,
       "version_minor": 0
      },
      "text/plain": [
       "  0%|          | 0/354 [00:00<?, ?it/s]"
      ]
     },
     "metadata": {},
     "output_type": "display_data"
    },
    {
     "name": "stdout",
     "output_type": "stream",
     "text": [
      "Epoch [6/50], loss: 0.57270 acc: 0.70186 val_loss: 0.57025, val_acc: 0.70679, auc_score: 0.78069\n"
     ]
    },
    {
     "data": {
      "application/vnd.jupyter.widget-view+json": {
       "model_id": "a05eae30daf34f5087b4ee71222db612",
       "version_major": 2,
       "version_minor": 0
      },
      "text/plain": [
       "  0%|          | 0/354 [00:00<?, ?it/s]"
      ]
     },
     "metadata": {},
     "output_type": "display_data"
    },
    {
     "name": "stdout",
     "output_type": "stream",
     "text": [
      "Epoch [7/50], loss: 0.56672 acc: 0.70607 val_loss: 0.57270, val_acc: 0.70525, auc_score: 0.78312\n"
     ]
    },
    {
     "data": {
      "application/vnd.jupyter.widget-view+json": {
       "model_id": "5ffb5ec7915349d7bcd96ab2d8c2d187",
       "version_major": 2,
       "version_minor": 0
      },
      "text/plain": [
       "  0%|          | 0/354 [00:00<?, ?it/s]"
      ]
     },
     "metadata": {},
     "output_type": "display_data"
    },
    {
     "name": "stdout",
     "output_type": "stream",
     "text": [
      "Epoch [8/50], loss: 0.55817 acc: 0.71288 val_loss: 0.54265, val_acc: 0.73457, auc_score: 0.78390\n"
     ]
    },
    {
     "data": {
      "application/vnd.jupyter.widget-view+json": {
       "model_id": "38326634805c477f9fb947ad41d306a8",
       "version_major": 2,
       "version_minor": 0
      },
      "text/plain": [
       "  0%|          | 0/354 [00:00<?, ?it/s]"
      ]
     },
     "metadata": {},
     "output_type": "display_data"
    },
    {
     "name": "stdout",
     "output_type": "stream",
     "text": [
      "Epoch [9/50], loss: 0.54999 acc: 0.71726 val_loss: 0.56762, val_acc: 0.70910, auc_score: 0.78548\n"
     ]
    },
    {
     "data": {
      "application/vnd.jupyter.widget-view+json": {
       "model_id": "37b452119be2421bb7cd56a36749cbaf",
       "version_major": 2,
       "version_minor": 0
      },
      "text/plain": [
       "  0%|          | 0/354 [00:00<?, ?it/s]"
      ]
     },
     "metadata": {},
     "output_type": "display_data"
    },
    {
     "name": "stdout",
     "output_type": "stream",
     "text": [
      "Epoch [10/50], loss: 0.54978 acc: 0.71880 val_loss: 0.55172, val_acc: 0.72569, auc_score: 0.78716\n"
     ]
    },
    {
     "data": {
      "application/vnd.jupyter.widget-view+json": {
       "model_id": "09fcdedc02254dffade7172ee64a8ebc",
       "version_major": 2,
       "version_minor": 0
      },
      "text/plain": [
       "  0%|          | 0/354 [00:00<?, ?it/s]"
      ]
     },
     "metadata": {},
     "output_type": "display_data"
    },
    {
     "name": "stdout",
     "output_type": "stream",
     "text": [
      "Epoch [11/50], loss: 0.54679 acc: 0.71923 val_loss: 0.55691, val_acc: 0.71798, auc_score: 0.78864\n"
     ]
    },
    {
     "data": {
      "application/vnd.jupyter.widget-view+json": {
       "model_id": "4e9c2d388af14809bc0c5c9e931dc407",
       "version_major": 2,
       "version_minor": 0
      },
      "text/plain": [
       "  0%|          | 0/354 [00:00<?, ?it/s]"
      ]
     },
     "metadata": {},
     "output_type": "display_data"
    },
    {
     "name": "stdout",
     "output_type": "stream",
     "text": [
      "Epoch [12/50], loss: 0.53940 acc: 0.72536 val_loss: 0.55824, val_acc: 0.72145, auc_score: 0.78983\n"
     ]
    },
    {
     "data": {
      "application/vnd.jupyter.widget-view+json": {
       "model_id": "170a4303c65544ea89466bf50ff54ab3",
       "version_major": 2,
       "version_minor": 0
      },
      "text/plain": [
       "  0%|          | 0/354 [00:00<?, ?it/s]"
      ]
     },
     "metadata": {},
     "output_type": "display_data"
    },
    {
     "name": "stdout",
     "output_type": "stream",
     "text": [
      "Epoch [13/50], loss: 0.53335 acc: 0.73119 val_loss: 0.54436, val_acc: 0.73071, auc_score: 0.79138\n"
     ]
    },
    {
     "data": {
      "application/vnd.jupyter.widget-view+json": {
       "model_id": "a1539af64c1944f38691ceb595c48c30",
       "version_major": 2,
       "version_minor": 0
      },
      "text/plain": [
       "  0%|          | 0/354 [00:00<?, ?it/s]"
      ]
     },
     "metadata": {},
     "output_type": "display_data"
    },
    {
     "name": "stdout",
     "output_type": "stream",
     "text": [
      "Epoch [14/50], loss: 0.53205 acc: 0.73179 val_loss: 0.53315, val_acc: 0.73881, auc_score: 0.79348\n"
     ]
    },
    {
     "data": {
      "application/vnd.jupyter.widget-view+json": {
       "model_id": "6ad2e059431a4c03aa014ba29cefcc33",
       "version_major": 2,
       "version_minor": 0
      },
      "text/plain": [
       "  0%|          | 0/354 [00:00<?, ?it/s]"
      ]
     },
     "metadata": {},
     "output_type": "display_data"
    },
    {
     "name": "stdout",
     "output_type": "stream",
     "text": [
      "Epoch [15/50], loss: 0.52476 acc: 0.73642 val_loss: 0.52598, val_acc: 0.74460, auc_score: 0.79492\n"
     ]
    },
    {
     "data": {
      "application/vnd.jupyter.widget-view+json": {
       "model_id": "8fd92cdebc2e4a04b56d921c34db133b",
       "version_major": 2,
       "version_minor": 0
      },
      "text/plain": [
       "  0%|          | 0/354 [00:00<?, ?it/s]"
      ]
     },
     "metadata": {},
     "output_type": "display_data"
    },
    {
     "name": "stdout",
     "output_type": "stream",
     "text": [
      "Epoch [16/50], loss: 0.52408 acc: 0.73831 val_loss: 0.54529, val_acc: 0.73264, auc_score: 0.79572\n"
     ]
    },
    {
     "data": {
      "application/vnd.jupyter.widget-view+json": {
       "model_id": "6a8e3c1d54df438b863f2941c5293d28",
       "version_major": 2,
       "version_minor": 0
      },
      "text/plain": [
       "  0%|          | 0/354 [00:00<?, ?it/s]"
      ]
     },
     "metadata": {},
     "output_type": "display_data"
    },
    {
     "name": "stdout",
     "output_type": "stream",
     "text": [
      "Epoch [17/50], loss: 0.51403 acc: 0.74774 val_loss: 0.53866, val_acc: 0.74035, auc_score: 0.79731\n"
     ]
    },
    {
     "data": {
      "application/vnd.jupyter.widget-view+json": {
       "model_id": "0565328469274ac49597a11b56d9dc0e",
       "version_major": 2,
       "version_minor": 0
      },
      "text/plain": [
       "  0%|          | 0/354 [00:00<?, ?it/s]"
      ]
     },
     "metadata": {},
     "output_type": "display_data"
    },
    {
     "name": "stdout",
     "output_type": "stream",
     "text": [
      "Epoch [18/50], loss: 0.52195 acc: 0.73818 val_loss: 0.54921, val_acc: 0.73071, auc_score: 0.79729\n"
     ]
    },
    {
     "data": {
      "application/vnd.jupyter.widget-view+json": {
       "model_id": "e992d8f1141a4819b2012b7371f5926c",
       "version_major": 2,
       "version_minor": 0
      },
      "text/plain": [
       "  0%|          | 0/354 [00:00<?, ?it/s]"
      ]
     },
     "metadata": {},
     "output_type": "display_data"
    },
    {
     "name": "stdout",
     "output_type": "stream",
     "text": [
      "Epoch [19/50], loss: 0.51267 acc: 0.74392 val_loss: 0.54987, val_acc: 0.72647, auc_score: 0.79785\n"
     ]
    },
    {
     "data": {
      "application/vnd.jupyter.widget-view+json": {
       "model_id": "ff0de91313f345a286a4dea00523a2e2",
       "version_major": 2,
       "version_minor": 0
      },
      "text/plain": [
       "  0%|          | 0/354 [00:00<?, ?it/s]"
      ]
     },
     "metadata": {},
     "output_type": "display_data"
    },
    {
     "name": "stdout",
     "output_type": "stream",
     "text": [
      "Epoch [20/50], loss: 0.50980 acc: 0.74770 val_loss: 0.53487, val_acc: 0.73920, auc_score: 0.79782\n"
     ]
    },
    {
     "data": {
      "application/vnd.jupyter.widget-view+json": {
       "model_id": "93d7d011846c4b66b30dbbd1dda32cf1",
       "version_major": 2,
       "version_minor": 0
      },
      "text/plain": [
       "  0%|          | 0/354 [00:00<?, ?it/s]"
      ]
     },
     "metadata": {},
     "output_type": "display_data"
    },
    {
     "name": "stdout",
     "output_type": "stream",
     "text": [
      "Epoch [21/50], loss: 0.50342 acc: 0.75224 val_loss: 0.53354, val_acc: 0.73920, auc_score: 0.79902\n"
     ]
    },
    {
     "data": {
      "application/vnd.jupyter.widget-view+json": {
       "model_id": "30615899e7ec48dc9c99abe9088fa966",
       "version_major": 2,
       "version_minor": 0
      },
      "text/plain": [
       "  0%|          | 0/354 [00:00<?, ?it/s]"
      ]
     },
     "metadata": {},
     "output_type": "display_data"
    },
    {
     "name": "stdout",
     "output_type": "stream",
     "text": [
      "Epoch [22/50], loss: 0.50191 acc: 0.75490 val_loss: 0.54602, val_acc: 0.73071, auc_score: 0.79876\n"
     ]
    },
    {
     "data": {
      "application/vnd.jupyter.widget-view+json": {
       "model_id": "0f0dd70816a7491099b12aadedd5f4f0",
       "version_major": 2,
       "version_minor": 0
      },
      "text/plain": [
       "  0%|          | 0/354 [00:00<?, ?it/s]"
      ]
     },
     "metadata": {},
     "output_type": "display_data"
    },
    {
     "name": "stdout",
     "output_type": "stream",
     "text": [
      "Epoch [23/50], loss: 0.49912 acc: 0.75919 val_loss: 0.55675, val_acc: 0.71682, auc_score: 0.80034\n"
     ]
    },
    {
     "data": {
      "application/vnd.jupyter.widget-view+json": {
       "model_id": "8fb82520b72b48c0a2758d195e5051b1",
       "version_major": 2,
       "version_minor": 0
      },
      "text/plain": [
       "  0%|          | 0/354 [00:00<?, ?it/s]"
      ]
     },
     "metadata": {},
     "output_type": "display_data"
    },
    {
     "name": "stdout",
     "output_type": "stream",
     "text": [
      "Epoch [24/50], loss: 0.49588 acc: 0.75803 val_loss: 0.54407, val_acc: 0.72724, auc_score: 0.80056\n"
     ]
    },
    {
     "data": {
      "application/vnd.jupyter.widget-view+json": {
       "model_id": "45ce8dbe81ee41f8a99448d49017def9",
       "version_major": 2,
       "version_minor": 0
      },
      "text/plain": [
       "  0%|          | 0/354 [00:00<?, ?it/s]"
      ]
     },
     "metadata": {},
     "output_type": "display_data"
    },
    {
     "name": "stdout",
     "output_type": "stream",
     "text": [
      "Epoch [25/50], loss: 0.48675 acc: 0.76720 val_loss: 0.53395, val_acc: 0.73727, auc_score: 0.80121\n"
     ]
    },
    {
     "data": {
      "application/vnd.jupyter.widget-view+json": {
       "model_id": "82f0de715e984357a2b69aff6349f88d",
       "version_major": 2,
       "version_minor": 0
      },
      "text/plain": [
       "  0%|          | 0/354 [00:00<?, ?it/s]"
      ]
     },
     "metadata": {},
     "output_type": "display_data"
    },
    {
     "name": "stdout",
     "output_type": "stream",
     "text": [
      "Epoch [26/50], loss: 0.48950 acc: 0.76489 val_loss: 0.53810, val_acc: 0.73148, auc_score: 0.80023\n"
     ]
    },
    {
     "data": {
      "application/vnd.jupyter.widget-view+json": {
       "model_id": "3e08e7ff9f0840a4a847a83298b2e28d",
       "version_major": 2,
       "version_minor": 0
      },
      "text/plain": [
       "  0%|          | 0/354 [00:00<?, ?it/s]"
      ]
     },
     "metadata": {},
     "output_type": "display_data"
    },
    {
     "name": "stdout",
     "output_type": "stream",
     "text": [
      "Epoch [27/50], loss: 0.48836 acc: 0.76557 val_loss: 0.53626, val_acc: 0.73495, auc_score: 0.80144\n"
     ]
    },
    {
     "data": {
      "application/vnd.jupyter.widget-view+json": {
       "model_id": "63b387edf2694a22a5725af99d8297a0",
       "version_major": 2,
       "version_minor": 0
      },
      "text/plain": [
       "  0%|          | 0/354 [00:00<?, ?it/s]"
      ]
     },
     "metadata": {},
     "output_type": "display_data"
    },
    {
     "name": "stdout",
     "output_type": "stream",
     "text": [
      "Epoch [28/50], loss: 0.47987 acc: 0.77119 val_loss: 0.54763, val_acc: 0.72299, auc_score: 0.80221\n"
     ]
    },
    {
     "data": {
      "application/vnd.jupyter.widget-view+json": {
       "model_id": "ced7f22e33694948a63ff94e82e8d467",
       "version_major": 2,
       "version_minor": 0
      },
      "text/plain": [
       "  0%|          | 0/354 [00:00<?, ?it/s]"
      ]
     },
     "metadata": {},
     "output_type": "display_data"
    },
    {
     "name": "stdout",
     "output_type": "stream",
     "text": [
      "Epoch [29/50], loss: 0.47031 acc: 0.77736 val_loss: 0.53636, val_acc: 0.73071, auc_score: 0.80187\n"
     ]
    },
    {
     "data": {
      "application/vnd.jupyter.widget-view+json": {
       "model_id": "f4613df3186a4a6fa70fe72df7ffc9fc",
       "version_major": 2,
       "version_minor": 0
      },
      "text/plain": [
       "  0%|          | 0/354 [00:00<?, ?it/s]"
      ]
     },
     "metadata": {},
     "output_type": "display_data"
    },
    {
     "name": "stdout",
     "output_type": "stream",
     "text": [
      "Epoch [30/50], loss: 0.47042 acc: 0.77762 val_loss: 0.52532, val_acc: 0.73997, auc_score: 0.80251\n"
     ]
    },
    {
     "data": {
      "application/vnd.jupyter.widget-view+json": {
       "model_id": "0692fa701b374a558f9de9f145054a9b",
       "version_major": 2,
       "version_minor": 0
      },
      "text/plain": [
       "  0%|          | 0/354 [00:00<?, ?it/s]"
      ]
     },
     "metadata": {},
     "output_type": "display_data"
    },
    {
     "name": "stdout",
     "output_type": "stream",
     "text": [
      "Epoch [31/50], loss: 0.47300 acc: 0.77411 val_loss: 0.52918, val_acc: 0.73997, auc_score: 0.80197\n"
     ]
    },
    {
     "data": {
      "application/vnd.jupyter.widget-view+json": {
       "model_id": "af356bdc539246b9aef5472528c362ce",
       "version_major": 2,
       "version_minor": 0
      },
      "text/plain": [
       "  0%|          | 0/354 [00:00<?, ?it/s]"
      ]
     },
     "metadata": {},
     "output_type": "display_data"
    },
    {
     "name": "stdout",
     "output_type": "stream",
     "text": [
      "Epoch [32/50], loss: 0.47529 acc: 0.77380 val_loss: 0.54525, val_acc: 0.72801, auc_score: 0.80231\n"
     ]
    },
    {
     "data": {
      "application/vnd.jupyter.widget-view+json": {
       "model_id": "fb69885833f74401834818ef5ea57647",
       "version_major": 2,
       "version_minor": 0
      },
      "text/plain": [
       "  0%|          | 0/354 [00:00<?, ?it/s]"
      ]
     },
     "metadata": {},
     "output_type": "display_data"
    },
    {
     "name": "stdout",
     "output_type": "stream",
     "text": [
      "Epoch [33/50], loss: 0.46746 acc: 0.78311 val_loss: 0.52057, val_acc: 0.74383, auc_score: 0.80310\n"
     ]
    },
    {
     "data": {
      "application/vnd.jupyter.widget-view+json": {
       "model_id": "5104373b86584fb48c69186fc7acfd20",
       "version_major": 2,
       "version_minor": 0
      },
      "text/plain": [
       "  0%|          | 0/354 [00:00<?, ?it/s]"
      ]
     },
     "metadata": {},
     "output_type": "display_data"
    },
    {
     "name": "stdout",
     "output_type": "stream",
     "text": [
      "Epoch [34/50], loss: 0.46458 acc: 0.78131 val_loss: 0.52632, val_acc: 0.74074, auc_score: 0.80244\n"
     ]
    },
    {
     "data": {
      "application/vnd.jupyter.widget-view+json": {
       "model_id": "2aab266c7a9d4f6ca73f0598bcae1410",
       "version_major": 2,
       "version_minor": 0
      },
      "text/plain": [
       "  0%|          | 0/354 [00:00<?, ?it/s]"
      ]
     },
     "metadata": {},
     "output_type": "display_data"
    },
    {
     "name": "stdout",
     "output_type": "stream",
     "text": [
      "Epoch [35/50], loss: 0.45916 acc: 0.78705 val_loss: 0.52745, val_acc: 0.74113, auc_score: 0.80334\n"
     ]
    },
    {
     "data": {
      "application/vnd.jupyter.widget-view+json": {
       "model_id": "e418549d327a40d4a56a07d4cb5b0052",
       "version_major": 2,
       "version_minor": 0
      },
      "text/plain": [
       "  0%|          | 0/354 [00:00<?, ?it/s]"
      ]
     },
     "metadata": {},
     "output_type": "display_data"
    },
    {
     "name": "stdout",
     "output_type": "stream",
     "text": [
      "Epoch [36/50], loss: 0.45718 acc: 0.79023 val_loss: 0.55648, val_acc: 0.71952, auc_score: 0.80356\n"
     ]
    },
    {
     "data": {
      "application/vnd.jupyter.widget-view+json": {
       "model_id": "cc3514a1775641f188824367cf759941",
       "version_major": 2,
       "version_minor": 0
      },
      "text/plain": [
       "  0%|          | 0/354 [00:00<?, ?it/s]"
      ]
     },
     "metadata": {},
     "output_type": "display_data"
    },
    {
     "name": "stdout",
     "output_type": "stream",
     "text": [
      "Epoch [37/50], loss: 0.45551 acc: 0.78710 val_loss: 0.52494, val_acc: 0.74306, auc_score: 0.80409\n"
     ]
    },
    {
     "data": {
      "application/vnd.jupyter.widget-view+json": {
       "model_id": "5e2fb456d1e2474d8a4ada2acf972cb7",
       "version_major": 2,
       "version_minor": 0
      },
      "text/plain": [
       "  0%|          | 0/354 [00:00<?, ?it/s]"
      ]
     },
     "metadata": {},
     "output_type": "display_data"
    },
    {
     "name": "stdout",
     "output_type": "stream",
     "text": [
      "Epoch [38/50], loss: 0.45276 acc: 0.78971 val_loss: 0.53157, val_acc: 0.73804, auc_score: 0.80467\n"
     ]
    },
    {
     "data": {
      "application/vnd.jupyter.widget-view+json": {
       "model_id": "156d5312243840438bf24f322bf2fcd5",
       "version_major": 2,
       "version_minor": 0
      },
      "text/plain": [
       "  0%|          | 0/354 [00:00<?, ?it/s]"
      ]
     },
     "metadata": {},
     "output_type": "display_data"
    },
    {
     "name": "stdout",
     "output_type": "stream",
     "text": [
      "Epoch [39/50], loss: 0.44606 acc: 0.79511 val_loss: 0.52273, val_acc: 0.74113, auc_score: 0.80564\n"
     ]
    },
    {
     "data": {
      "application/vnd.jupyter.widget-view+json": {
       "model_id": "d9a518953ec7431a83c990a4bac3c9f3",
       "version_major": 2,
       "version_minor": 0
      },
      "text/plain": [
       "  0%|          | 0/354 [00:00<?, ?it/s]"
      ]
     },
     "metadata": {},
     "output_type": "display_data"
    },
    {
     "name": "stdout",
     "output_type": "stream",
     "text": [
      "Epoch [40/50], loss: 0.44316 acc: 0.79859 val_loss: 0.53227, val_acc: 0.73418, auc_score: 0.80426\n"
     ]
    },
    {
     "data": {
      "application/vnd.jupyter.widget-view+json": {
       "model_id": "1694dfc2be914733b3246a401078485f",
       "version_major": 2,
       "version_minor": 0
      },
      "text/plain": [
       "  0%|          | 0/354 [00:00<?, ?it/s]"
      ]
     },
     "metadata": {},
     "output_type": "display_data"
    },
    {
     "name": "stdout",
     "output_type": "stream",
     "text": [
      "Epoch [41/50], loss: 0.44473 acc: 0.79811 val_loss: 0.52438, val_acc: 0.74074, auc_score: 0.80376\n"
     ]
    },
    {
     "data": {
      "application/vnd.jupyter.widget-view+json": {
       "model_id": "c24a4f6012684acdacd6ab989437d5cb",
       "version_major": 2,
       "version_minor": 0
      },
      "text/plain": [
       "  0%|          | 0/354 [00:00<?, ?it/s]"
      ]
     },
     "metadata": {},
     "output_type": "display_data"
    },
    {
     "name": "stdout",
     "output_type": "stream",
     "text": [
      "Epoch [42/50], loss: 0.44458 acc: 0.79648 val_loss: 0.52509, val_acc: 0.74151, auc_score: 0.80533\n"
     ]
    },
    {
     "data": {
      "application/vnd.jupyter.widget-view+json": {
       "model_id": "f64748d935ec40f2907960a78b9ba630",
       "version_major": 2,
       "version_minor": 0
      },
      "text/plain": [
       "  0%|          | 0/354 [00:00<?, ?it/s]"
      ]
     },
     "metadata": {},
     "output_type": "display_data"
    },
    {
     "name": "stdout",
     "output_type": "stream",
     "text": [
      "Epoch [43/50], loss: 0.43883 acc: 0.80403 val_loss: 0.52936, val_acc: 0.73920, auc_score: 0.80573\n"
     ]
    },
    {
     "data": {
      "application/vnd.jupyter.widget-view+json": {
       "model_id": "02c02d1af2444269bae03ee125c2c294",
       "version_major": 2,
       "version_minor": 0
      },
      "text/plain": [
       "  0%|          | 0/354 [00:00<?, ?it/s]"
      ]
     },
     "metadata": {},
     "output_type": "display_data"
    },
    {
     "name": "stdout",
     "output_type": "stream",
     "text": [
      "Epoch [44/50], loss: 0.43427 acc: 0.80450 val_loss: 0.53279, val_acc: 0.73495, auc_score: 0.80401\n"
     ]
    },
    {
     "data": {
      "application/vnd.jupyter.widget-view+json": {
       "model_id": "6c07b837cdac422f845fc9783a982da1",
       "version_major": 2,
       "version_minor": 0
      },
      "text/plain": [
       "  0%|          | 0/354 [00:00<?, ?it/s]"
      ]
     },
     "metadata": {},
     "output_type": "display_data"
    },
    {
     "name": "stdout",
     "output_type": "stream",
     "text": [
      "Epoch [45/50], loss: 0.44001 acc: 0.79961 val_loss: 0.52859, val_acc: 0.73997, auc_score: 0.80433\n"
     ]
    },
    {
     "data": {
      "application/vnd.jupyter.widget-view+json": {
       "model_id": "ff18e6984c234e5a873b8cdee4e2f9ca",
       "version_major": 2,
       "version_minor": 0
      },
      "text/plain": [
       "  0%|          | 0/354 [00:00<?, ?it/s]"
      ]
     },
     "metadata": {},
     "output_type": "display_data"
    },
    {
     "name": "stdout",
     "output_type": "stream",
     "text": [
      "Epoch [46/50], loss: 0.42714 acc: 0.80879 val_loss: 0.51889, val_acc: 0.73997, auc_score: 0.80378\n"
     ]
    },
    {
     "data": {
      "application/vnd.jupyter.widget-view+json": {
       "model_id": "e32b1eaccb7343059e75c13605606a6d",
       "version_major": 2,
       "version_minor": 0
      },
      "text/plain": [
       "  0%|          | 0/354 [00:00<?, ?it/s]"
      ]
     },
     "metadata": {},
     "output_type": "display_data"
    },
    {
     "name": "stdout",
     "output_type": "stream",
     "text": [
      "Epoch [47/50], loss: 0.43410 acc: 0.80690 val_loss: 0.53704, val_acc: 0.73765, auc_score: 0.80344\n"
     ]
    },
    {
     "data": {
      "application/vnd.jupyter.widget-view+json": {
       "model_id": "afa78d03be6744f4a3c91d4d06c93044",
       "version_major": 2,
       "version_minor": 0
      },
      "text/plain": [
       "  0%|          | 0/354 [00:00<?, ?it/s]"
      ]
     },
     "metadata": {},
     "output_type": "display_data"
    },
    {
     "name": "stdout",
     "output_type": "stream",
     "text": [
      "Epoch [48/50], loss: 0.42999 acc: 0.80845 val_loss: 0.52004, val_acc: 0.74035, auc_score: 0.80526\n"
     ]
    },
    {
     "data": {
      "application/vnd.jupyter.widget-view+json": {
       "model_id": "c94eba547be4461b8237f4aeb0dcd872",
       "version_major": 2,
       "version_minor": 0
      },
      "text/plain": [
       "  0%|          | 0/354 [00:00<?, ?it/s]"
      ]
     },
     "metadata": {},
     "output_type": "display_data"
    },
    {
     "name": "stdout",
     "output_type": "stream",
     "text": [
      "Epoch [49/50], loss: 0.43257 acc: 0.81059 val_loss: 0.52880, val_acc: 0.73997, auc_score: 0.80585\n"
     ]
    },
    {
     "data": {
      "application/vnd.jupyter.widget-view+json": {
       "model_id": "ad23048273f94f4cae362d111f98b525",
       "version_major": 2,
       "version_minor": 0
      },
      "text/plain": [
       "  0%|          | 0/354 [00:00<?, ?it/s]"
      ]
     },
     "metadata": {},
     "output_type": "display_data"
    },
    {
     "name": "stdout",
     "output_type": "stream",
     "text": [
      "Epoch [50/50], loss: 0.42486 acc: 0.81132 val_loss: 0.54159, val_acc: 0.73958, auc_score: 0.80530\n",
      "cv: 2\n",
      "target train 0/1: 14675/8650\n"
     ]
    },
    {
     "data": {
      "application/vnd.jupyter.widget-view+json": {
       "model_id": "c5ee631e2b7e4a4382d7961dc69e963c",
       "version_major": 2,
       "version_minor": 0
      },
      "text/plain": [
       "  0%|          | 0/354 [00:00<?, ?it/s]"
      ]
     },
     "metadata": {},
     "output_type": "display_data"
    },
    {
     "name": "stdout",
     "output_type": "stream",
     "text": [
      "Epoch [1/50], loss: 0.69725 acc: 0.63023 val_loss: 0.60558, val_acc: 0.67052, auc_score: 0.76385\n"
     ]
    },
    {
     "data": {
      "application/vnd.jupyter.widget-view+json": {
       "model_id": "7fd21e02321c46b8a1f5389e03c0f844",
       "version_major": 2,
       "version_minor": 0
      },
      "text/plain": [
       "  0%|          | 0/354 [00:00<?, ?it/s]"
      ]
     },
     "metadata": {},
     "output_type": "display_data"
    },
    {
     "name": "stdout",
     "output_type": "stream",
     "text": [
      "Epoch [2/50], loss: 0.63859 acc: 0.66298 val_loss: 0.58039, val_acc: 0.69367, auc_score: 0.77022\n"
     ]
    },
    {
     "data": {
      "application/vnd.jupyter.widget-view+json": {
       "model_id": "7ad84d6e572642c99481edc16acc8a45",
       "version_major": 2,
       "version_minor": 0
      },
      "text/plain": [
       "  0%|          | 0/354 [00:00<?, ?it/s]"
      ]
     },
     "metadata": {},
     "output_type": "display_data"
    },
    {
     "name": "stdout",
     "output_type": "stream",
     "text": [
      "Epoch [3/50], loss: 0.61287 acc: 0.67558 val_loss: 0.57830, val_acc: 0.69985, auc_score: 0.77354\n"
     ]
    },
    {
     "data": {
      "application/vnd.jupyter.widget-view+json": {
       "model_id": "2ac7903d9b0f4c1ab4a117f7b98d597d",
       "version_major": 2,
       "version_minor": 0
      },
      "text/plain": [
       "  0%|          | 0/354 [00:00<?, ?it/s]"
      ]
     },
     "metadata": {},
     "output_type": "display_data"
    },
    {
     "name": "stdout",
     "output_type": "stream",
     "text": [
      "Epoch [4/50], loss: 0.58881 acc: 0.69008 val_loss: 0.56893, val_acc: 0.70332, auc_score: 0.77671\n"
     ]
    },
    {
     "data": {
      "application/vnd.jupyter.widget-view+json": {
       "model_id": "a87b9f7294ae462c8929ce1848e52fdb",
       "version_major": 2,
       "version_minor": 0
      },
      "text/plain": [
       "  0%|          | 0/354 [00:00<?, ?it/s]"
      ]
     },
     "metadata": {},
     "output_type": "display_data"
    },
    {
     "name": "stdout",
     "output_type": "stream",
     "text": [
      "Epoch [5/50], loss: 0.57812 acc: 0.69989 val_loss: 0.56425, val_acc: 0.71258, auc_score: 0.77723\n"
     ]
    },
    {
     "data": {
      "application/vnd.jupyter.widget-view+json": {
       "model_id": "8b8c87ef325e46dd9efa33d6c2f47a4a",
       "version_major": 2,
       "version_minor": 0
      },
      "text/plain": [
       "  0%|          | 0/354 [00:00<?, ?it/s]"
      ]
     },
     "metadata": {},
     "output_type": "display_data"
    },
    {
     "name": "stdout",
     "output_type": "stream",
     "text": [
      "Epoch [6/50], loss: 0.56296 acc: 0.70872 val_loss: 0.54911, val_acc: 0.72184, auc_score: 0.77716\n"
     ]
    },
    {
     "data": {
      "application/vnd.jupyter.widget-view+json": {
       "model_id": "6f80084f398147f7a91003e608dbe875",
       "version_major": 2,
       "version_minor": 0
      },
      "text/plain": [
       "  0%|          | 0/354 [00:00<?, ?it/s]"
      ]
     },
     "metadata": {},
     "output_type": "display_data"
    },
    {
     "name": "stdout",
     "output_type": "stream",
     "text": [
      "Epoch [7/50], loss: 0.56564 acc: 0.70589 val_loss: 0.55344, val_acc: 0.71682, auc_score: 0.77971\n"
     ]
    },
    {
     "data": {
      "application/vnd.jupyter.widget-view+json": {
       "model_id": "0f2819bbe1734f009f3bf82424c3ca6b",
       "version_major": 2,
       "version_minor": 0
      },
      "text/plain": [
       "  0%|          | 0/354 [00:00<?, ?it/s]"
      ]
     },
     "metadata": {},
     "output_type": "display_data"
    },
    {
     "name": "stdout",
     "output_type": "stream",
     "text": [
      "Epoch [8/50], loss: 0.55441 acc: 0.71713 val_loss: 0.56979, val_acc: 0.70833, auc_score: 0.78142\n"
     ]
    },
    {
     "data": {
      "application/vnd.jupyter.widget-view+json": {
       "model_id": "79e383ff18944b15a6bcb598fa93e851",
       "version_major": 2,
       "version_minor": 0
      },
      "text/plain": [
       "  0%|          | 0/354 [00:00<?, ?it/s]"
      ]
     },
     "metadata": {},
     "output_type": "display_data"
    },
    {
     "name": "stdout",
     "output_type": "stream",
     "text": [
      "Epoch [9/50], loss: 0.55265 acc: 0.71859 val_loss: 0.54735, val_acc: 0.72222, auc_score: 0.78232\n"
     ]
    },
    {
     "data": {
      "application/vnd.jupyter.widget-view+json": {
       "model_id": "04a632eb15e94671af52c9314e4a9edf",
       "version_major": 2,
       "version_minor": 0
      },
      "text/plain": [
       "  0%|          | 0/354 [00:00<?, ?it/s]"
      ]
     },
     "metadata": {},
     "output_type": "display_data"
    },
    {
     "name": "stdout",
     "output_type": "stream",
     "text": [
      "Epoch [10/50], loss: 0.55401 acc: 0.71533 val_loss: 0.56451, val_acc: 0.71103, auc_score: 0.78415\n"
     ]
    },
    {
     "data": {
      "application/vnd.jupyter.widget-view+json": {
       "model_id": "8dffa0c56b1d485ebf2e03adc922782f",
       "version_major": 2,
       "version_minor": 0
      },
      "text/plain": [
       "  0%|          | 0/354 [00:00<?, ?it/s]"
      ]
     },
     "metadata": {},
     "output_type": "display_data"
    },
    {
     "name": "stdout",
     "output_type": "stream",
     "text": [
      "Epoch [11/50], loss: 0.54403 acc: 0.72510 val_loss: 0.54807, val_acc: 0.72261, auc_score: 0.78524\n"
     ]
    },
    {
     "data": {
      "application/vnd.jupyter.widget-view+json": {
       "model_id": "d7d0612639af48acaa14b75c21c9345d",
       "version_major": 2,
       "version_minor": 0
      },
      "text/plain": [
       "  0%|          | 0/354 [00:00<?, ?it/s]"
      ]
     },
     "metadata": {},
     "output_type": "display_data"
    },
    {
     "name": "stdout",
     "output_type": "stream",
     "text": [
      "Epoch [12/50], loss: 0.54276 acc: 0.72279 val_loss: 0.57829, val_acc: 0.69522, auc_score: 0.78684\n"
     ]
    },
    {
     "data": {
      "application/vnd.jupyter.widget-view+json": {
       "model_id": "5eba40f5c09b418e8519a6bf8e4a740a",
       "version_major": 2,
       "version_minor": 0
      },
      "text/plain": [
       "  0%|          | 0/354 [00:00<?, ?it/s]"
      ]
     },
     "metadata": {},
     "output_type": "display_data"
    },
    {
     "name": "stdout",
     "output_type": "stream",
     "text": [
      "Epoch [13/50], loss: 0.53824 acc: 0.72887 val_loss: 0.56123, val_acc: 0.71026, auc_score: 0.78757\n"
     ]
    },
    {
     "data": {
      "application/vnd.jupyter.widget-view+json": {
       "model_id": "ae932fbb9cce4aaa9a09fba55bf2c0dd",
       "version_major": 2,
       "version_minor": 0
      },
      "text/plain": [
       "  0%|          | 0/354 [00:00<?, ?it/s]"
      ]
     },
     "metadata": {},
     "output_type": "display_data"
    },
    {
     "name": "stdout",
     "output_type": "stream",
     "text": [
      "Epoch [14/50], loss: 0.53402 acc: 0.73042 val_loss: 0.56863, val_acc: 0.70062, auc_score: 0.78889\n"
     ]
    },
    {
     "data": {
      "application/vnd.jupyter.widget-view+json": {
       "model_id": "74edb5ca6fca4c55a463e3b1f12fa4a6",
       "version_major": 2,
       "version_minor": 0
      },
      "text/plain": [
       "  0%|          | 0/354 [00:00<?, ?it/s]"
      ]
     },
     "metadata": {},
     "output_type": "display_data"
    },
    {
     "name": "stdout",
     "output_type": "stream",
     "text": [
      "Epoch [15/50], loss: 0.52483 acc: 0.73831 val_loss: 0.55930, val_acc: 0.71644, auc_score: 0.78959\n"
     ]
    },
    {
     "data": {
      "application/vnd.jupyter.widget-view+json": {
       "model_id": "7136fd0a45444bf7b3f2a6179a01b23e",
       "version_major": 2,
       "version_minor": 0
      },
      "text/plain": [
       "  0%|          | 0/354 [00:00<?, ?it/s]"
      ]
     },
     "metadata": {},
     "output_type": "display_data"
    },
    {
     "name": "stdout",
     "output_type": "stream",
     "text": [
      "Epoch [16/50], loss: 0.52642 acc: 0.73552 val_loss: 0.57094, val_acc: 0.69637, auc_score: 0.79027\n"
     ]
    },
    {
     "data": {
      "application/vnd.jupyter.widget-view+json": {
       "model_id": "9b2bafce894747c1a5af7a34596433de",
       "version_major": 2,
       "version_minor": 0
      },
      "text/plain": [
       "  0%|          | 0/354 [00:00<?, ?it/s]"
      ]
     },
     "metadata": {},
     "output_type": "display_data"
    },
    {
     "name": "stdout",
     "output_type": "stream",
     "text": [
      "Epoch [17/50], loss: 0.52102 acc: 0.74062 val_loss: 0.55539, val_acc: 0.71451, auc_score: 0.79256\n"
     ]
    },
    {
     "data": {
      "application/vnd.jupyter.widget-view+json": {
       "model_id": "355ea24eeb4e4d59aa462ae49f5fb03f",
       "version_major": 2,
       "version_minor": 0
      },
      "text/plain": [
       "  0%|          | 0/354 [00:00<?, ?it/s]"
      ]
     },
     "metadata": {},
     "output_type": "display_data"
    },
    {
     "name": "stdout",
     "output_type": "stream",
     "text": [
      "Epoch [18/50], loss: 0.51229 acc: 0.74744 val_loss: 0.53775, val_acc: 0.72608, auc_score: 0.79332\n"
     ]
    },
    {
     "data": {
      "application/vnd.jupyter.widget-view+json": {
       "model_id": "2620c38306e94125b72a2104db64b967",
       "version_major": 2,
       "version_minor": 0
      },
      "text/plain": [
       "  0%|          | 0/354 [00:00<?, ?it/s]"
      ]
     },
     "metadata": {},
     "output_type": "display_data"
    },
    {
     "name": "stdout",
     "output_type": "stream",
     "text": [
      "Epoch [19/50], loss: 0.51101 acc: 0.74924 val_loss: 0.53550, val_acc: 0.72994, auc_score: 0.79389\n"
     ]
    },
    {
     "data": {
      "application/vnd.jupyter.widget-view+json": {
       "model_id": "9d77b84899274b1684bec3a01abfe52a",
       "version_major": 2,
       "version_minor": 0
      },
      "text/plain": [
       "  0%|          | 0/354 [00:00<?, ?it/s]"
      ]
     },
     "metadata": {},
     "output_type": "display_data"
    },
    {
     "name": "stdout",
     "output_type": "stream",
     "text": [
      "Epoch [20/50], loss: 0.50354 acc: 0.75657 val_loss: 0.54785, val_acc: 0.72145, auc_score: 0.79510\n"
     ]
    },
    {
     "data": {
      "application/vnd.jupyter.widget-view+json": {
       "model_id": "f757860a5c98456497983de642add81f",
       "version_major": 2,
       "version_minor": 0
      },
      "text/plain": [
       "  0%|          | 0/354 [00:00<?, ?it/s]"
      ]
     },
     "metadata": {},
     "output_type": "display_data"
    },
    {
     "name": "stdout",
     "output_type": "stream",
     "text": [
      "Epoch [21/50], loss: 0.50578 acc: 0.75177 val_loss: 0.54453, val_acc: 0.72415, auc_score: 0.79637\n"
     ]
    },
    {
     "data": {
      "application/vnd.jupyter.widget-view+json": {
       "model_id": "4bb17396eade4129b689a3188999c891",
       "version_major": 2,
       "version_minor": 0
      },
      "text/plain": [
       "  0%|          | 0/354 [00:00<?, ?it/s]"
      ]
     },
     "metadata": {},
     "output_type": "display_data"
    },
    {
     "name": "stdout",
     "output_type": "stream",
     "text": [
      "Epoch [22/50], loss: 0.49661 acc: 0.76047 val_loss: 0.54100, val_acc: 0.72608, auc_score: 0.79624\n"
     ]
    },
    {
     "data": {
      "application/vnd.jupyter.widget-view+json": {
       "model_id": "91a8ed9661cd48f193207317a7acd0d1",
       "version_major": 2,
       "version_minor": 0
      },
      "text/plain": [
       "  0%|          | 0/354 [00:00<?, ?it/s]"
      ]
     },
     "metadata": {},
     "output_type": "display_data"
    },
    {
     "name": "stdout",
     "output_type": "stream",
     "text": [
      "Epoch [23/50], loss: 0.49613 acc: 0.75773 val_loss: 0.53843, val_acc: 0.72762, auc_score: 0.79738\n"
     ]
    },
    {
     "data": {
      "application/vnd.jupyter.widget-view+json": {
       "model_id": "67380dbfb6144522a121479c5d2b0235",
       "version_major": 2,
       "version_minor": 0
      },
      "text/plain": [
       "  0%|          | 0/354 [00:00<?, ?it/s]"
      ]
     },
     "metadata": {},
     "output_type": "display_data"
    },
    {
     "name": "stdout",
     "output_type": "stream",
     "text": [
      "Epoch [24/50], loss: 0.49061 acc: 0.76253 val_loss: 0.53087, val_acc: 0.72994, auc_score: 0.79716\n"
     ]
    },
    {
     "data": {
      "application/vnd.jupyter.widget-view+json": {
       "model_id": "a2f53921b488479eaf3185e85fb98963",
       "version_major": 2,
       "version_minor": 0
      },
      "text/plain": [
       "  0%|          | 0/354 [00:00<?, ?it/s]"
      ]
     },
     "metadata": {},
     "output_type": "display_data"
    },
    {
     "name": "stdout",
     "output_type": "stream",
     "text": [
      "Epoch [25/50], loss: 0.49099 acc: 0.76223 val_loss: 0.53440, val_acc: 0.72762, auc_score: 0.79944\n"
     ]
    },
    {
     "data": {
      "application/vnd.jupyter.widget-view+json": {
       "model_id": "1d56bd4c293842d6a2a48e2f08bab4c6",
       "version_major": 2,
       "version_minor": 0
      },
      "text/plain": [
       "  0%|          | 0/354 [00:00<?, ?it/s]"
      ]
     },
     "metadata": {},
     "output_type": "display_data"
    },
    {
     "name": "stdout",
     "output_type": "stream",
     "text": [
      "Epoch [26/50], loss: 0.48619 acc: 0.76686 val_loss: 0.54157, val_acc: 0.72338, auc_score: 0.80046\n"
     ]
    },
    {
     "data": {
      "application/vnd.jupyter.widget-view+json": {
       "model_id": "d76587fcb8ad4f96a5479713819d8a68",
       "version_major": 2,
       "version_minor": 0
      },
      "text/plain": [
       "  0%|          | 0/354 [00:00<?, ?it/s]"
      ]
     },
     "metadata": {},
     "output_type": "display_data"
    },
    {
     "name": "stdout",
     "output_type": "stream",
     "text": [
      "Epoch [27/50], loss: 0.48026 acc: 0.77316 val_loss: 0.54012, val_acc: 0.72377, auc_score: 0.79990\n"
     ]
    },
    {
     "data": {
      "application/vnd.jupyter.widget-view+json": {
       "model_id": "9fb337699fca4373a8203c6cdfa2dde3",
       "version_major": 2,
       "version_minor": 0
      },
      "text/plain": [
       "  0%|          | 0/354 [00:00<?, ?it/s]"
      ]
     },
     "metadata": {},
     "output_type": "display_data"
    },
    {
     "name": "stdout",
     "output_type": "stream",
     "text": [
      "Epoch [28/50], loss: 0.47729 acc: 0.77449 val_loss: 0.54101, val_acc: 0.72492, auc_score: 0.80024\n"
     ]
    },
    {
     "data": {
      "application/vnd.jupyter.widget-view+json": {
       "model_id": "747ee7d2f65d441fbe5a2c8020986f18",
       "version_major": 2,
       "version_minor": 0
      },
      "text/plain": [
       "  0%|          | 0/354 [00:00<?, ?it/s]"
      ]
     },
     "metadata": {},
     "output_type": "display_data"
    },
    {
     "name": "stdout",
     "output_type": "stream",
     "text": [
      "Epoch [29/50], loss: 0.47493 acc: 0.77689 val_loss: 0.55190, val_acc: 0.71605, auc_score: 0.79959\n"
     ]
    },
    {
     "data": {
      "application/vnd.jupyter.widget-view+json": {
       "model_id": "f5054269b2814c63931459e9104784a9",
       "version_major": 2,
       "version_minor": 0
      },
      "text/plain": [
       "  0%|          | 0/354 [00:00<?, ?it/s]"
      ]
     },
     "metadata": {},
     "output_type": "display_data"
    },
    {
     "name": "stdout",
     "output_type": "stream",
     "text": [
      "Epoch [30/50], loss: 0.47159 acc: 0.77702 val_loss: 0.53692, val_acc: 0.72492, auc_score: 0.80020\n"
     ]
    },
    {
     "data": {
      "application/vnd.jupyter.widget-view+json": {
       "model_id": "c408028ef1b7467fac02ac55a0e79c7d",
       "version_major": 2,
       "version_minor": 0
      },
      "text/plain": [
       "  0%|          | 0/354 [00:00<?, ?it/s]"
      ]
     },
     "metadata": {},
     "output_type": "display_data"
    },
    {
     "name": "stdout",
     "output_type": "stream",
     "text": [
      "Epoch [31/50], loss: 0.46928 acc: 0.77844 val_loss: 0.53765, val_acc: 0.72377, auc_score: 0.80031\n"
     ]
    },
    {
     "data": {
      "application/vnd.jupyter.widget-view+json": {
       "model_id": "b1b19bea401a458b82d64003acaada99",
       "version_major": 2,
       "version_minor": 0
      },
      "text/plain": [
       "  0%|          | 0/354 [00:00<?, ?it/s]"
      ]
     },
     "metadata": {},
     "output_type": "display_data"
    },
    {
     "name": "stdout",
     "output_type": "stream",
     "text": [
      "Epoch [32/50], loss: 0.46428 acc: 0.78169 val_loss: 0.53680, val_acc: 0.72608, auc_score: 0.80049\n"
     ]
    },
    {
     "data": {
      "application/vnd.jupyter.widget-view+json": {
       "model_id": "c6372461236247b5a9392f5137dea119",
       "version_major": 2,
       "version_minor": 0
      },
      "text/plain": [
       "  0%|          | 0/354 [00:00<?, ?it/s]"
      ]
     },
     "metadata": {},
     "output_type": "display_data"
    },
    {
     "name": "stdout",
     "output_type": "stream",
     "text": [
      "Epoch [33/50], loss: 0.46286 acc: 0.78542 val_loss: 0.53167, val_acc: 0.72955, auc_score: 0.80056\n"
     ]
    },
    {
     "data": {
      "application/vnd.jupyter.widget-view+json": {
       "model_id": "e246bafefb534566b5b4d20d9e6fec05",
       "version_major": 2,
       "version_minor": 0
      },
      "text/plain": [
       "  0%|          | 0/354 [00:00<?, ?it/s]"
      ]
     },
     "metadata": {},
     "output_type": "display_data"
    },
    {
     "name": "stdout",
     "output_type": "stream",
     "text": [
      "Epoch [34/50], loss: 0.45865 acc: 0.78825 val_loss: 0.53057, val_acc: 0.73225, auc_score: 0.80114\n"
     ]
    },
    {
     "data": {
      "application/vnd.jupyter.widget-view+json": {
       "model_id": "609987eded434653bc4d9bf461cb6715",
       "version_major": 2,
       "version_minor": 0
      },
      "text/plain": [
       "  0%|          | 0/354 [00:00<?, ?it/s]"
      ]
     },
     "metadata": {},
     "output_type": "display_data"
    },
    {
     "name": "stdout",
     "output_type": "stream",
     "text": [
      "Epoch [35/50], loss: 0.45214 acc: 0.79018 val_loss: 0.55669, val_acc: 0.71335, auc_score: 0.80078\n"
     ]
    },
    {
     "data": {
      "application/vnd.jupyter.widget-view+json": {
       "model_id": "4f326dfe1a174ffeabec2be1090348f3",
       "version_major": 2,
       "version_minor": 0
      },
      "text/plain": [
       "  0%|          | 0/354 [00:00<?, ?it/s]"
      ]
     },
     "metadata": {},
     "output_type": "display_data"
    },
    {
     "name": "stdout",
     "output_type": "stream",
     "text": [
      "Epoch [36/50], loss: 0.44788 acc: 0.79537 val_loss: 0.52510, val_acc: 0.73650, auc_score: 0.80126\n"
     ]
    },
    {
     "data": {
      "application/vnd.jupyter.widget-view+json": {
       "model_id": "fbc58d45ab254e13b26eb852074ba3f0",
       "version_major": 2,
       "version_minor": 0
      },
      "text/plain": [
       "  0%|          | 0/354 [00:00<?, ?it/s]"
      ]
     },
     "metadata": {},
     "output_type": "display_data"
    },
    {
     "name": "stdout",
     "output_type": "stream",
     "text": [
      "Epoch [37/50], loss: 0.44989 acc: 0.79451 val_loss: 0.53384, val_acc: 0.72685, auc_score: 0.80231\n"
     ]
    },
    {
     "data": {
      "application/vnd.jupyter.widget-view+json": {
       "model_id": "f7a5506a917a4dd08dbe9f613b1563fa",
       "version_major": 2,
       "version_minor": 0
      },
      "text/plain": [
       "  0%|          | 0/354 [00:00<?, ?it/s]"
      ]
     },
     "metadata": {},
     "output_type": "display_data"
    },
    {
     "name": "stdout",
     "output_type": "stream",
     "text": [
      "Epoch [38/50], loss: 0.45440 acc: 0.79108 val_loss: 0.53750, val_acc: 0.72492, auc_score: 0.80356\n"
     ]
    },
    {
     "data": {
      "application/vnd.jupyter.widget-view+json": {
       "model_id": "a827a1139aa040e18a5c3f2c5b815529",
       "version_major": 2,
       "version_minor": 0
      },
      "text/plain": [
       "  0%|          | 0/354 [00:00<?, ?it/s]"
      ]
     },
     "metadata": {},
     "output_type": "display_data"
    },
    {
     "name": "stdout",
     "output_type": "stream",
     "text": [
      "Epoch [39/50], loss: 0.44242 acc: 0.80120 val_loss: 0.52896, val_acc: 0.73534, auc_score: 0.80236\n"
     ]
    },
    {
     "data": {
      "application/vnd.jupyter.widget-view+json": {
       "model_id": "6cbe290c8dac4591b9c324c19cfdf23c",
       "version_major": 2,
       "version_minor": 0
      },
      "text/plain": [
       "  0%|          | 0/354 [00:00<?, ?it/s]"
      ]
     },
     "metadata": {},
     "output_type": "display_data"
    },
    {
     "name": "stdout",
     "output_type": "stream",
     "text": [
      "Epoch [40/50], loss: 0.44230 acc: 0.80000 val_loss: 0.55210, val_acc: 0.71605, auc_score: 0.80350\n"
     ]
    },
    {
     "data": {
      "application/vnd.jupyter.widget-view+json": {
       "model_id": "e8223b545eb74e51bd0c3db77297bc44",
       "version_major": 2,
       "version_minor": 0
      },
      "text/plain": [
       "  0%|          | 0/354 [00:00<?, ?it/s]"
      ]
     },
     "metadata": {},
     "output_type": "display_data"
    },
    {
     "name": "stdout",
     "output_type": "stream",
     "text": [
      "Epoch [41/50], loss: 0.43669 acc: 0.80326 val_loss: 0.54549, val_acc: 0.72762, auc_score: 0.80386\n"
     ]
    },
    {
     "data": {
      "application/vnd.jupyter.widget-view+json": {
       "model_id": "50bfe2f48d324efa8d5988f9df34e5b5",
       "version_major": 2,
       "version_minor": 0
      },
      "text/plain": [
       "  0%|          | 0/354 [00:00<?, ?it/s]"
      ]
     },
     "metadata": {},
     "output_type": "display_data"
    },
    {
     "name": "stdout",
     "output_type": "stream",
     "text": [
      "Epoch [42/50], loss: 0.43648 acc: 0.80373 val_loss: 0.53143, val_acc: 0.73187, auc_score: 0.80243\n"
     ]
    },
    {
     "data": {
      "application/vnd.jupyter.widget-view+json": {
       "model_id": "e2c4fc42475b4521ac85f2d4c75d024e",
       "version_major": 2,
       "version_minor": 0
      },
      "text/plain": [
       "  0%|          | 0/354 [00:00<?, ?it/s]"
      ]
     },
     "metadata": {},
     "output_type": "display_data"
    },
    {
     "name": "stdout",
     "output_type": "stream",
     "text": [
      "Epoch [43/50], loss: 0.43396 acc: 0.80442 val_loss: 0.55030, val_acc: 0.72261, auc_score: 0.80262\n"
     ]
    },
    {
     "data": {
      "application/vnd.jupyter.widget-view+json": {
       "model_id": "6aac24f7b32546ecb0fa30d0a4e7c2d6",
       "version_major": 2,
       "version_minor": 0
      },
      "text/plain": [
       "  0%|          | 0/354 [00:00<?, ?it/s]"
      ]
     },
     "metadata": {},
     "output_type": "display_data"
    },
    {
     "name": "stdout",
     "output_type": "stream",
     "text": [
      "Epoch [44/50], loss: 0.43596 acc: 0.80570 val_loss: 0.53003, val_acc: 0.73071, auc_score: 0.80305\n"
     ]
    },
    {
     "data": {
      "application/vnd.jupyter.widget-view+json": {
       "model_id": "0057848f332941cf90c99d3faf353e79",
       "version_major": 2,
       "version_minor": 0
      },
      "text/plain": [
       "  0%|          | 0/354 [00:00<?, ?it/s]"
      ]
     },
     "metadata": {},
     "output_type": "display_data"
    },
    {
     "name": "stdout",
     "output_type": "stream",
     "text": [
      "Epoch [45/50], loss: 0.43392 acc: 0.80656 val_loss: 0.52976, val_acc: 0.72994, auc_score: 0.80325\n"
     ]
    },
    {
     "data": {
      "application/vnd.jupyter.widget-view+json": {
       "model_id": "cc312b1a5a534a47acd4993c5afec8a3",
       "version_major": 2,
       "version_minor": 0
      },
      "text/plain": [
       "  0%|          | 0/354 [00:00<?, ?it/s]"
      ]
     },
     "metadata": {},
     "output_type": "display_data"
    },
    {
     "name": "stdout",
     "output_type": "stream",
     "text": [
      "Epoch [46/50], loss: 0.43642 acc: 0.80352 val_loss: 0.54364, val_acc: 0.72338, auc_score: 0.80287\n"
     ]
    },
    {
     "data": {
      "application/vnd.jupyter.widget-view+json": {
       "model_id": "19d3edbec93448cca2995b5fe2d036d7",
       "version_major": 2,
       "version_minor": 0
      },
      "text/plain": [
       "  0%|          | 0/354 [00:00<?, ?it/s]"
      ]
     },
     "metadata": {},
     "output_type": "display_data"
    },
    {
     "name": "stdout",
     "output_type": "stream",
     "text": [
      "Epoch [47/50], loss: 0.42690 acc: 0.81359 val_loss: 0.52154, val_acc: 0.74113, auc_score: 0.80407\n"
     ]
    },
    {
     "data": {
      "application/vnd.jupyter.widget-view+json": {
       "model_id": "5b3355146be54b97ac4e9e621bf956a9",
       "version_major": 2,
       "version_minor": 0
      },
      "text/plain": [
       "  0%|          | 0/354 [00:00<?, ?it/s]"
      ]
     },
     "metadata": {},
     "output_type": "display_data"
    },
    {
     "name": "stdout",
     "output_type": "stream",
     "text": [
      "Epoch [48/50], loss: 0.42936 acc: 0.80995 val_loss: 0.52640, val_acc: 0.73727, auc_score: 0.80302\n"
     ]
    },
    {
     "data": {
      "application/vnd.jupyter.widget-view+json": {
       "model_id": "2398e844cb3c40c5806cce4b36c9c22d",
       "version_major": 2,
       "version_minor": 0
      },
      "text/plain": [
       "  0%|          | 0/354 [00:00<?, ?it/s]"
      ]
     },
     "metadata": {},
     "output_type": "display_data"
    },
    {
     "name": "stdout",
     "output_type": "stream",
     "text": [
      "Epoch [49/50], loss: 0.42353 acc: 0.81471 val_loss: 0.55518, val_acc: 0.72068, auc_score: 0.80222\n"
     ]
    },
    {
     "data": {
      "application/vnd.jupyter.widget-view+json": {
       "model_id": "bda3ad329d554444bb3e79e03d1e5c9a",
       "version_major": 2,
       "version_minor": 0
      },
      "text/plain": [
       "  0%|          | 0/354 [00:00<?, ?it/s]"
      ]
     },
     "metadata": {},
     "output_type": "display_data"
    },
    {
     "name": "stdout",
     "output_type": "stream",
     "text": [
      "Epoch [50/50], loss: 0.42364 acc: 0.81449 val_loss: 0.52275, val_acc: 0.74151, auc_score: 0.80305\n",
      "cv: 3\n",
      "target train 0/1: 14700/8625\n"
     ]
    },
    {
     "data": {
      "application/vnd.jupyter.widget-view+json": {
       "model_id": "686c533d89074682bd0c54360888b0c6",
       "version_major": 2,
       "version_minor": 0
      },
      "text/plain": [
       "  0%|          | 0/354 [00:00<?, ?it/s]"
      ]
     },
     "metadata": {},
     "output_type": "display_data"
    },
    {
     "name": "stdout",
     "output_type": "stream",
     "text": [
      "Epoch [1/50], loss: 0.71540 acc: 0.62139 val_loss: 0.60611, val_acc: 0.66705, auc_score: 0.75449\n"
     ]
    },
    {
     "data": {
      "application/vnd.jupyter.widget-view+json": {
       "model_id": "d6acbeb6b3454c7c98ecd3d2f128f0f1",
       "version_major": 2,
       "version_minor": 0
      },
      "text/plain": [
       "  0%|          | 0/354 [00:00<?, ?it/s]"
      ]
     },
     "metadata": {},
     "output_type": "display_data"
    },
    {
     "name": "stdout",
     "output_type": "stream",
     "text": [
      "Epoch [2/50], loss: 0.63643 acc: 0.66302 val_loss: 0.55800, val_acc: 0.71026, auc_score: 0.75677\n"
     ]
    },
    {
     "data": {
      "application/vnd.jupyter.widget-view+json": {
       "model_id": "4177b0f22aac4bf9814d34358542c413",
       "version_major": 2,
       "version_minor": 0
      },
      "text/plain": [
       "  0%|          | 0/354 [00:00<?, ?it/s]"
      ]
     },
     "metadata": {},
     "output_type": "display_data"
    },
    {
     "name": "stdout",
     "output_type": "stream",
     "text": [
      "Epoch [3/50], loss: 0.61097 acc: 0.67275 val_loss: 0.58878, val_acc: 0.68248, auc_score: 0.75577\n"
     ]
    },
    {
     "data": {
      "application/vnd.jupyter.widget-view+json": {
       "model_id": "b59fc760c05a43b5998ef858882fcc62",
       "version_major": 2,
       "version_minor": 0
      },
      "text/plain": [
       "  0%|          | 0/354 [00:00<?, ?it/s]"
      ]
     },
     "metadata": {},
     "output_type": "display_data"
    },
    {
     "name": "stdout",
     "output_type": "stream",
     "text": [
      "Epoch [4/50], loss: 0.58832 acc: 0.69145 val_loss: 0.58223, val_acc: 0.68557, auc_score: 0.75364\n"
     ]
    },
    {
     "data": {
      "application/vnd.jupyter.widget-view+json": {
       "model_id": "cf853be4ac9548b5bb3fe356d81cfbd9",
       "version_major": 2,
       "version_minor": 0
      },
      "text/plain": [
       "  0%|          | 0/354 [00:00<?, ?it/s]"
      ]
     },
     "metadata": {},
     "output_type": "display_data"
    },
    {
     "name": "stdout",
     "output_type": "stream",
     "text": [
      "Epoch [5/50], loss: 0.57913 acc: 0.69934 val_loss: 0.58851, val_acc: 0.68441, auc_score: 0.75664\n"
     ]
    },
    {
     "data": {
      "application/vnd.jupyter.widget-view+json": {
       "model_id": "a1477007ddef4142b954e1019c3f7dcb",
       "version_major": 2,
       "version_minor": 0
      },
      "text/plain": [
       "  0%|          | 0/354 [00:00<?, ?it/s]"
      ]
     },
     "metadata": {},
     "output_type": "display_data"
    },
    {
     "name": "stdout",
     "output_type": "stream",
     "text": [
      "Epoch [6/50], loss: 0.56472 acc: 0.70628 val_loss: 0.57266, val_acc: 0.69946, auc_score: 0.75611\n"
     ]
    },
    {
     "data": {
      "application/vnd.jupyter.widget-view+json": {
       "model_id": "746bc9e5e2aa4813a6e99ef505463c74",
       "version_major": 2,
       "version_minor": 0
      },
      "text/plain": [
       "  0%|          | 0/354 [00:00<?, ?it/s]"
      ]
     },
     "metadata": {},
     "output_type": "display_data"
    },
    {
     "name": "stdout",
     "output_type": "stream",
     "text": [
      "Epoch [7/50], loss: 0.56396 acc: 0.70774 val_loss: 0.57022, val_acc: 0.69715, auc_score: 0.75799\n"
     ]
    },
    {
     "data": {
      "application/vnd.jupyter.widget-view+json": {
       "model_id": "d3ffac9c864b4a95aa500fab21c280e6",
       "version_major": 2,
       "version_minor": 0
      },
      "text/plain": [
       "  0%|          | 0/354 [00:00<?, ?it/s]"
      ]
     },
     "metadata": {},
     "output_type": "display_data"
    },
    {
     "name": "stdout",
     "output_type": "stream",
     "text": [
      "Epoch [8/50], loss: 0.55581 acc: 0.71704 val_loss: 0.56622, val_acc: 0.70139, auc_score: 0.76127\n"
     ]
    },
    {
     "data": {
      "application/vnd.jupyter.widget-view+json": {
       "model_id": "c0d1a856d90148468742336a045fb76f",
       "version_major": 2,
       "version_minor": 0
      },
      "text/plain": [
       "  0%|          | 0/354 [00:00<?, ?it/s]"
      ]
     },
     "metadata": {},
     "output_type": "display_data"
    },
    {
     "name": "stdout",
     "output_type": "stream",
     "text": [
      "Epoch [9/50], loss: 0.55071 acc: 0.71914 val_loss: 0.59280, val_acc: 0.68364, auc_score: 0.76274\n"
     ]
    },
    {
     "data": {
      "application/vnd.jupyter.widget-view+json": {
       "model_id": "47b2f088d87149bbb40eab13e92fa21e",
       "version_major": 2,
       "version_minor": 0
      },
      "text/plain": [
       "  0%|          | 0/354 [00:00<?, ?it/s]"
      ]
     },
     "metadata": {},
     "output_type": "display_data"
    },
    {
     "name": "stdout",
     "output_type": "stream",
     "text": [
      "Epoch [10/50], loss: 0.54287 acc: 0.72437 val_loss: 0.57482, val_acc: 0.69830, auc_score: 0.76371\n"
     ]
    },
    {
     "data": {
      "application/vnd.jupyter.widget-view+json": {
       "model_id": "a6684892be6d4b9da785f3a97a8f7625",
       "version_major": 2,
       "version_minor": 0
      },
      "text/plain": [
       "  0%|          | 0/354 [00:00<?, ?it/s]"
      ]
     },
     "metadata": {},
     "output_type": "display_data"
    },
    {
     "name": "stdout",
     "output_type": "stream",
     "text": [
      "Epoch [11/50], loss: 0.54264 acc: 0.72317 val_loss: 0.56541, val_acc: 0.70409, auc_score: 0.76517\n"
     ]
    },
    {
     "data": {
      "application/vnd.jupyter.widget-view+json": {
       "model_id": "ec6da530fe0c4b6586ebc8c9fdab7372",
       "version_major": 2,
       "version_minor": 0
      },
      "text/plain": [
       "  0%|          | 0/354 [00:00<?, ?it/s]"
      ]
     },
     "metadata": {},
     "output_type": "display_data"
    },
    {
     "name": "stdout",
     "output_type": "stream",
     "text": [
      "Epoch [12/50], loss: 0.54264 acc: 0.72613 val_loss: 0.56601, val_acc: 0.70370, auc_score: 0.76700\n"
     ]
    },
    {
     "data": {
      "application/vnd.jupyter.widget-view+json": {
       "model_id": "523dc2d8a99a4222b7e9747ca5d03d11",
       "version_major": 2,
       "version_minor": 0
      },
      "text/plain": [
       "  0%|          | 0/354 [00:00<?, ?it/s]"
      ]
     },
     "metadata": {},
     "output_type": "display_data"
    },
    {
     "name": "stdout",
     "output_type": "stream",
     "text": [
      "Epoch [13/50], loss: 0.53402 acc: 0.72823 val_loss: 0.55232, val_acc: 0.71952, auc_score: 0.76751\n"
     ]
    },
    {
     "data": {
      "application/vnd.jupyter.widget-view+json": {
       "model_id": "e81d49f122e043b783cf09bc4c06e2ef",
       "version_major": 2,
       "version_minor": 0
      },
      "text/plain": [
       "  0%|          | 0/354 [00:00<?, ?it/s]"
      ]
     },
     "metadata": {},
     "output_type": "display_data"
    },
    {
     "name": "stdout",
     "output_type": "stream",
     "text": [
      "Epoch [14/50], loss: 0.53084 acc: 0.73419 val_loss: 0.55726, val_acc: 0.71026, auc_score: 0.76976\n"
     ]
    },
    {
     "data": {
      "application/vnd.jupyter.widget-view+json": {
       "model_id": "aee95a741c09416ba8b34749c6bb0804",
       "version_major": 2,
       "version_minor": 0
      },
      "text/plain": [
       "  0%|          | 0/354 [00:00<?, ?it/s]"
      ]
     },
     "metadata": {},
     "output_type": "display_data"
    },
    {
     "name": "stdout",
     "output_type": "stream",
     "text": [
      "Epoch [15/50], loss: 0.52072 acc: 0.73934 val_loss: 0.55767, val_acc: 0.70795, auc_score: 0.77075\n"
     ]
    },
    {
     "data": {
      "application/vnd.jupyter.widget-view+json": {
       "model_id": "41fdf9ad91274fca9fda54ec2004587e",
       "version_major": 2,
       "version_minor": 0
      },
      "text/plain": [
       "  0%|          | 0/354 [00:00<?, ?it/s]"
      ]
     },
     "metadata": {},
     "output_type": "display_data"
    },
    {
     "name": "stdout",
     "output_type": "stream",
     "text": [
      "Epoch [16/50], loss: 0.51724 acc: 0.74499 val_loss: 0.58177, val_acc: 0.68789, auc_score: 0.77061\n"
     ]
    },
    {
     "data": {
      "application/vnd.jupyter.widget-view+json": {
       "model_id": "ac38015228e54d15a3e72aa51954134c",
       "version_major": 2,
       "version_minor": 0
      },
      "text/plain": [
       "  0%|          | 0/354 [00:00<?, ?it/s]"
      ]
     },
     "metadata": {},
     "output_type": "display_data"
    },
    {
     "name": "stdout",
     "output_type": "stream",
     "text": [
      "Epoch [17/50], loss: 0.51841 acc: 0.74504 val_loss: 0.57118, val_acc: 0.69946, auc_score: 0.77140\n"
     ]
    },
    {
     "data": {
      "application/vnd.jupyter.widget-view+json": {
       "model_id": "7beb096abcb444f0adc5ac6e6c370bb1",
       "version_major": 2,
       "version_minor": 0
      },
      "text/plain": [
       "  0%|          | 0/354 [00:00<?, ?it/s]"
      ]
     },
     "metadata": {},
     "output_type": "display_data"
    },
    {
     "name": "stdout",
     "output_type": "stream",
     "text": [
      "Epoch [18/50], loss: 0.51923 acc: 0.74315 val_loss: 0.57596, val_acc: 0.69136, auc_score: 0.77133\n"
     ]
    },
    {
     "data": {
      "application/vnd.jupyter.widget-view+json": {
       "model_id": "9ca796e8f7e94b94b94e08d21a687fa8",
       "version_major": 2,
       "version_minor": 0
      },
      "text/plain": [
       "  0%|          | 0/354 [00:00<?, ?it/s]"
      ]
     },
     "metadata": {},
     "output_type": "display_data"
    },
    {
     "name": "stdout",
     "output_type": "stream",
     "text": [
      "Epoch [19/50], loss: 0.51406 acc: 0.74688 val_loss: 0.54801, val_acc: 0.72454, auc_score: 0.77135\n"
     ]
    },
    {
     "data": {
      "application/vnd.jupyter.widget-view+json": {
       "model_id": "0f5977bb5b78455f8846a1e28bf83566",
       "version_major": 2,
       "version_minor": 0
      },
      "text/plain": [
       "  0%|          | 0/354 [00:00<?, ?it/s]"
      ]
     },
     "metadata": {},
     "output_type": "display_data"
    },
    {
     "name": "stdout",
     "output_type": "stream",
     "text": [
      "Epoch [20/50], loss: 0.50713 acc: 0.74838 val_loss: 0.56500, val_acc: 0.70255, auc_score: 0.77180\n"
     ]
    },
    {
     "data": {
      "application/vnd.jupyter.widget-view+json": {
       "model_id": "ec2f4e9fc4524abea1c3960b6df9f1f7",
       "version_major": 2,
       "version_minor": 0
      },
      "text/plain": [
       "  0%|          | 0/354 [00:00<?, ?it/s]"
      ]
     },
     "metadata": {},
     "output_type": "display_data"
    },
    {
     "name": "stdout",
     "output_type": "stream",
     "text": [
      "Epoch [21/50], loss: 0.50276 acc: 0.75353 val_loss: 0.55321, val_acc: 0.71836, auc_score: 0.77203\n"
     ]
    },
    {
     "data": {
      "application/vnd.jupyter.widget-view+json": {
       "model_id": "8a9ededc9b7040cbaad425650cbb143d",
       "version_major": 2,
       "version_minor": 0
      },
      "text/plain": [
       "  0%|          | 0/354 [00:00<?, ?it/s]"
      ]
     },
     "metadata": {},
     "output_type": "display_data"
    },
    {
     "name": "stdout",
     "output_type": "stream",
     "text": [
      "Epoch [22/50], loss: 0.50159 acc: 0.75490 val_loss: 0.56840, val_acc: 0.70255, auc_score: 0.77177\n"
     ]
    },
    {
     "data": {
      "application/vnd.jupyter.widget-view+json": {
       "model_id": "67026da8d5574f9380461c6886bc89fa",
       "version_major": 2,
       "version_minor": 0
      },
      "text/plain": [
       "  0%|          | 0/354 [00:00<?, ?it/s]"
      ]
     },
     "metadata": {},
     "output_type": "display_data"
    },
    {
     "name": "stdout",
     "output_type": "stream",
     "text": [
      "Epoch [23/50], loss: 0.49409 acc: 0.76587 val_loss: 0.55017, val_acc: 0.72145, auc_score: 0.77421\n"
     ]
    },
    {
     "data": {
      "application/vnd.jupyter.widget-view+json": {
       "model_id": "73d7fc77d330422aa72b2d749cf8591f",
       "version_major": 2,
       "version_minor": 0
      },
      "text/plain": [
       "  0%|          | 0/354 [00:00<?, ?it/s]"
      ]
     },
     "metadata": {},
     "output_type": "display_data"
    },
    {
     "name": "stdout",
     "output_type": "stream",
     "text": [
      "Epoch [24/50], loss: 0.49143 acc: 0.76317 val_loss: 0.55247, val_acc: 0.71759, auc_score: 0.77353\n"
     ]
    },
    {
     "data": {
      "application/vnd.jupyter.widget-view+json": {
       "model_id": "a22f122431a040448604baf945f8e540",
       "version_major": 2,
       "version_minor": 0
      },
      "text/plain": [
       "  0%|          | 0/354 [00:00<?, ?it/s]"
      ]
     },
     "metadata": {},
     "output_type": "display_data"
    },
    {
     "name": "stdout",
     "output_type": "stream",
     "text": [
      "Epoch [25/50], loss: 0.49050 acc: 0.76433 val_loss: 0.55513, val_acc: 0.71489, auc_score: 0.77462\n"
     ]
    },
    {
     "data": {
      "application/vnd.jupyter.widget-view+json": {
       "model_id": "c1a17273d39043f7b0fb469962164f88",
       "version_major": 2,
       "version_minor": 0
      },
      "text/plain": [
       "  0%|          | 0/354 [00:00<?, ?it/s]"
      ]
     },
     "metadata": {},
     "output_type": "display_data"
    },
    {
     "name": "stdout",
     "output_type": "stream",
     "text": [
      "Epoch [26/50], loss: 0.48711 acc: 0.76733 val_loss: 0.57008, val_acc: 0.69907, auc_score: 0.77632\n"
     ]
    },
    {
     "data": {
      "application/vnd.jupyter.widget-view+json": {
       "model_id": "d310cf7b2cbd4c4b959961fecd7dff4d",
       "version_major": 2,
       "version_minor": 0
      },
      "text/plain": [
       "  0%|          | 0/354 [00:00<?, ?it/s]"
      ]
     },
     "metadata": {},
     "output_type": "display_data"
    },
    {
     "name": "stdout",
     "output_type": "stream",
     "text": [
      "Epoch [27/50], loss: 0.48264 acc: 0.76733 val_loss: 0.54713, val_acc: 0.72222, auc_score: 0.77559\n"
     ]
    },
    {
     "data": {
      "application/vnd.jupyter.widget-view+json": {
       "model_id": "55762a2bfa4d484fb78356cbd6b456eb",
       "version_major": 2,
       "version_minor": 0
      },
      "text/plain": [
       "  0%|          | 0/354 [00:00<?, ?it/s]"
      ]
     },
     "metadata": {},
     "output_type": "display_data"
    },
    {
     "name": "stdout",
     "output_type": "stream",
     "text": [
      "Epoch [28/50], loss: 0.47789 acc: 0.77411 val_loss: 0.55163, val_acc: 0.71605, auc_score: 0.77611\n"
     ]
    },
    {
     "data": {
      "application/vnd.jupyter.widget-view+json": {
       "model_id": "2f7e129bc0dd40849a89e017af83ba9a",
       "version_major": 2,
       "version_minor": 0
      },
      "text/plain": [
       "  0%|          | 0/354 [00:00<?, ?it/s]"
      ]
     },
     "metadata": {},
     "output_type": "display_data"
    },
    {
     "name": "stdout",
     "output_type": "stream",
     "text": [
      "Epoch [29/50], loss: 0.47634 acc: 0.77329 val_loss: 0.55810, val_acc: 0.71373, auc_score: 0.77621\n"
     ]
    },
    {
     "data": {
      "application/vnd.jupyter.widget-view+json": {
       "model_id": "bebabdc332ee48f5b248baa279bfdf9d",
       "version_major": 2,
       "version_minor": 0
      },
      "text/plain": [
       "  0%|          | 0/354 [00:00<?, ?it/s]"
      ]
     },
     "metadata": {},
     "output_type": "display_data"
    },
    {
     "name": "stdout",
     "output_type": "stream",
     "text": [
      "Epoch [30/50], loss: 0.47407 acc: 0.77723 val_loss: 0.56070, val_acc: 0.70756, auc_score: 0.77780\n"
     ]
    },
    {
     "data": {
      "application/vnd.jupyter.widget-view+json": {
       "model_id": "ae66a79570644e759d3fcf69fc2c5f08",
       "version_major": 2,
       "version_minor": 0
      },
      "text/plain": [
       "  0%|          | 0/354 [00:00<?, ?it/s]"
      ]
     },
     "metadata": {},
     "output_type": "display_data"
    },
    {
     "name": "stdout",
     "output_type": "stream",
     "text": [
      "Epoch [31/50], loss: 0.46210 acc: 0.78499 val_loss: 0.55555, val_acc: 0.71528, auc_score: 0.77693\n"
     ]
    },
    {
     "data": {
      "application/vnd.jupyter.widget-view+json": {
       "model_id": "f9f0603ba06843ccb8d19f7bcc0b0bf8",
       "version_major": 2,
       "version_minor": 0
      },
      "text/plain": [
       "  0%|          | 0/354 [00:00<?, ?it/s]"
      ]
     },
     "metadata": {},
     "output_type": "display_data"
    },
    {
     "name": "stdout",
     "output_type": "stream",
     "text": [
      "Epoch [32/50], loss: 0.45593 acc: 0.78654 val_loss: 0.57127, val_acc: 0.70023, auc_score: 0.77713\n"
     ]
    },
    {
     "data": {
      "application/vnd.jupyter.widget-view+json": {
       "model_id": "2bbedc486af949ee93de067c97e7b3a5",
       "version_major": 2,
       "version_minor": 0
      },
      "text/plain": [
       "  0%|          | 0/354 [00:00<?, ?it/s]"
      ]
     },
     "metadata": {},
     "output_type": "display_data"
    },
    {
     "name": "stdout",
     "output_type": "stream",
     "text": [
      "Epoch [33/50], loss: 0.45978 acc: 0.78791 val_loss: 0.55219, val_acc: 0.71644, auc_score: 0.77779\n"
     ]
    },
    {
     "data": {
      "application/vnd.jupyter.widget-view+json": {
       "model_id": "544ba3682b044039bfe0e8a6c46cc27c",
       "version_major": 2,
       "version_minor": 0
      },
      "text/plain": [
       "  0%|          | 0/354 [00:00<?, ?it/s]"
      ]
     },
     "metadata": {},
     "output_type": "display_data"
    },
    {
     "name": "stdout",
     "output_type": "stream",
     "text": [
      "Epoch [34/50], loss: 0.45650 acc: 0.78757 val_loss: 0.55125, val_acc: 0.72029, auc_score: 0.77727\n"
     ]
    },
    {
     "data": {
      "application/vnd.jupyter.widget-view+json": {
       "model_id": "2a7735992fa94b4fa26a7725c9a09251",
       "version_major": 2,
       "version_minor": 0
      },
      "text/plain": [
       "  0%|          | 0/354 [00:00<?, ?it/s]"
      ]
     },
     "metadata": {},
     "output_type": "display_data"
    },
    {
     "name": "stdout",
     "output_type": "stream",
     "text": [
      "Epoch [35/50], loss: 0.45744 acc: 0.78924 val_loss: 0.54478, val_acc: 0.72299, auc_score: 0.77757\n"
     ]
    },
    {
     "data": {
      "application/vnd.jupyter.widget-view+json": {
       "model_id": "9c426c11770c48e6b329378e6bb033a9",
       "version_major": 2,
       "version_minor": 0
      },
      "text/plain": [
       "  0%|          | 0/354 [00:00<?, ?it/s]"
      ]
     },
     "metadata": {},
     "output_type": "display_data"
    },
    {
     "name": "stdout",
     "output_type": "stream",
     "text": [
      "Epoch [36/50], loss: 0.45000 acc: 0.79503 val_loss: 0.56451, val_acc: 0.70833, auc_score: 0.77926\n"
     ]
    },
    {
     "data": {
      "application/vnd.jupyter.widget-view+json": {
       "model_id": "a105d715f01745fe9d0ac033f48d1ed0",
       "version_major": 2,
       "version_minor": 0
      },
      "text/plain": [
       "  0%|          | 0/354 [00:00<?, ?it/s]"
      ]
     },
     "metadata": {},
     "output_type": "display_data"
    },
    {
     "name": "stdout",
     "output_type": "stream",
     "text": [
      "Epoch [37/50], loss: 0.44454 acc: 0.79760 val_loss: 0.56659, val_acc: 0.70756, auc_score: 0.77852\n"
     ]
    },
    {
     "data": {
      "application/vnd.jupyter.widget-view+json": {
       "model_id": "1fef450c578a45848da517670ef3cdff",
       "version_major": 2,
       "version_minor": 0
      },
      "text/plain": [
       "  0%|          | 0/354 [00:00<?, ?it/s]"
      ]
     },
     "metadata": {},
     "output_type": "display_data"
    },
    {
     "name": "stdout",
     "output_type": "stream",
     "text": [
      "Epoch [38/50], loss: 0.45051 acc: 0.79460 val_loss: 0.55432, val_acc: 0.71489, auc_score: 0.77768\n"
     ]
    },
    {
     "data": {
      "application/vnd.jupyter.widget-view+json": {
       "model_id": "438e46b7c246482e93624b9c8f8ef777",
       "version_major": 2,
       "version_minor": 0
      },
      "text/plain": [
       "  0%|          | 0/354 [00:00<?, ?it/s]"
      ]
     },
     "metadata": {},
     "output_type": "display_data"
    },
    {
     "name": "stdout",
     "output_type": "stream",
     "text": [
      "Epoch [39/50], loss: 0.44641 acc: 0.79661 val_loss: 0.55982, val_acc: 0.71412, auc_score: 0.77828\n"
     ]
    },
    {
     "data": {
      "application/vnd.jupyter.widget-view+json": {
       "model_id": "9a8025fd9e1346e2a7e630b48c407903",
       "version_major": 2,
       "version_minor": 0
      },
      "text/plain": [
       "  0%|          | 0/354 [00:00<?, ?it/s]"
      ]
     },
     "metadata": {},
     "output_type": "display_data"
    },
    {
     "name": "stdout",
     "output_type": "stream",
     "text": [
      "Epoch [40/50], loss: 0.43797 acc: 0.80356 val_loss: 0.55158, val_acc: 0.72415, auc_score: 0.77776\n"
     ]
    },
    {
     "data": {
      "application/vnd.jupyter.widget-view+json": {
       "model_id": "a4a58c3d208e48a7b01d80403a802a63",
       "version_major": 2,
       "version_minor": 0
      },
      "text/plain": [
       "  0%|          | 0/354 [00:00<?, ?it/s]"
      ]
     },
     "metadata": {},
     "output_type": "display_data"
    },
    {
     "name": "stdout",
     "output_type": "stream",
     "text": [
      "Epoch [41/50], loss: 0.43929 acc: 0.79889 val_loss: 0.56862, val_acc: 0.70756, auc_score: 0.77847\n"
     ]
    },
    {
     "data": {
      "application/vnd.jupyter.widget-view+json": {
       "model_id": "862833c11e25455d81de3d1d598a0417",
       "version_major": 2,
       "version_minor": 0
      },
      "text/plain": [
       "  0%|          | 0/354 [00:00<?, ?it/s]"
      ]
     },
     "metadata": {},
     "output_type": "display_data"
    },
    {
     "name": "stdout",
     "output_type": "stream",
     "text": [
      "Epoch [42/50], loss: 0.43748 acc: 0.80124 val_loss: 0.56310, val_acc: 0.71335, auc_score: 0.77798\n"
     ]
    },
    {
     "data": {
      "application/vnd.jupyter.widget-view+json": {
       "model_id": "d8578dda86694d93aeedde589b0a70a2",
       "version_major": 2,
       "version_minor": 0
      },
      "text/plain": [
       "  0%|          | 0/354 [00:00<?, ?it/s]"
      ]
     },
     "metadata": {},
     "output_type": "display_data"
    },
    {
     "name": "stdout",
     "output_type": "stream",
     "text": [
      "Epoch [43/50], loss: 0.43753 acc: 0.80673 val_loss: 0.56408, val_acc: 0.71026, auc_score: 0.77909\n"
     ]
    },
    {
     "data": {
      "application/vnd.jupyter.widget-view+json": {
       "model_id": "373299ee4db84cd5a35875b9cc0ecf7f",
       "version_major": 2,
       "version_minor": 0
      },
      "text/plain": [
       "  0%|          | 0/354 [00:00<?, ?it/s]"
      ]
     },
     "metadata": {},
     "output_type": "display_data"
    },
    {
     "name": "stdout",
     "output_type": "stream",
     "text": [
      "Epoch [44/50], loss: 0.43063 acc: 0.81102 val_loss: 0.54901, val_acc: 0.72377, auc_score: 0.77771\n"
     ]
    },
    {
     "data": {
      "application/vnd.jupyter.widget-view+json": {
       "model_id": "3551f39cdf2342ebb32c49237283aac1",
       "version_major": 2,
       "version_minor": 0
      },
      "text/plain": [
       "  0%|          | 0/354 [00:00<?, ?it/s]"
      ]
     },
     "metadata": {},
     "output_type": "display_data"
    },
    {
     "name": "stdout",
     "output_type": "stream",
     "text": [
      "Epoch [45/50], loss: 0.42821 acc: 0.80725 val_loss: 0.54872, val_acc: 0.72531, auc_score: 0.77756\n"
     ]
    },
    {
     "data": {
      "application/vnd.jupyter.widget-view+json": {
       "model_id": "0916781a3ac34154931562fc91a12a91",
       "version_major": 2,
       "version_minor": 0
      },
      "text/plain": [
       "  0%|          | 0/354 [00:00<?, ?it/s]"
      ]
     },
     "metadata": {},
     "output_type": "display_data"
    },
    {
     "name": "stdout",
     "output_type": "stream",
     "text": [
      "Epoch [46/50], loss: 0.43238 acc: 0.80922 val_loss: 0.57031, val_acc: 0.70910, auc_score: 0.77763\n"
     ]
    },
    {
     "data": {
      "application/vnd.jupyter.widget-view+json": {
       "model_id": "87bb83f832a04f46a72edabd9f4c48da",
       "version_major": 2,
       "version_minor": 0
      },
      "text/plain": [
       "  0%|          | 0/354 [00:00<?, ?it/s]"
      ]
     },
     "metadata": {},
     "output_type": "display_data"
    },
    {
     "name": "stdout",
     "output_type": "stream",
     "text": [
      "Epoch [47/50], loss: 0.43181 acc: 0.80763 val_loss: 0.55164, val_acc: 0.72261, auc_score: 0.77851\n"
     ]
    },
    {
     "data": {
      "application/vnd.jupyter.widget-view+json": {
       "model_id": "073c52c1a3b74eee9e58bd147ec8202b",
       "version_major": 2,
       "version_minor": 0
      },
      "text/plain": [
       "  0%|          | 0/354 [00:00<?, ?it/s]"
      ]
     },
     "metadata": {},
     "output_type": "display_data"
    },
    {
     "name": "stdout",
     "output_type": "stream",
     "text": [
      "Epoch [48/50], loss: 0.42969 acc: 0.81033 val_loss: 0.56368, val_acc: 0.71296, auc_score: 0.77811\n"
     ]
    },
    {
     "data": {
      "application/vnd.jupyter.widget-view+json": {
       "model_id": "a0c69860b3f74ac0840138d7b749c502",
       "version_major": 2,
       "version_minor": 0
      },
      "text/plain": [
       "  0%|          | 0/354 [00:00<?, ?it/s]"
      ]
     },
     "metadata": {},
     "output_type": "display_data"
    },
    {
     "name": "stdout",
     "output_type": "stream",
     "text": [
      "Epoch [49/50], loss: 0.42172 acc: 0.81492 val_loss: 0.55947, val_acc: 0.71451, auc_score: 0.78021\n"
     ]
    },
    {
     "data": {
      "application/vnd.jupyter.widget-view+json": {
       "model_id": "d10ae614ea2548b3a3f90ccfcb71f10a",
       "version_major": 2,
       "version_minor": 0
      },
      "text/plain": [
       "  0%|          | 0/354 [00:00<?, ?it/s]"
      ]
     },
     "metadata": {},
     "output_type": "display_data"
    },
    {
     "name": "stdout",
     "output_type": "stream",
     "text": [
      "Epoch [50/50], loss: 0.42315 acc: 0.81145 val_loss: 0.54859, val_acc: 0.72415, auc_score: 0.78048\n",
      "cv: 4\n",
      "target train 0/1: 14698/8627\n"
     ]
    },
    {
     "data": {
      "application/vnd.jupyter.widget-view+json": {
       "model_id": "529ae56852804fc684387da0cd0c1bb1",
       "version_major": 2,
       "version_minor": 0
      },
      "text/plain": [
       "  0%|          | 0/354 [00:00<?, ?it/s]"
      ]
     },
     "metadata": {},
     "output_type": "display_data"
    },
    {
     "name": "stdout",
     "output_type": "stream",
     "text": [
      "Epoch [1/50], loss: 0.71085 acc: 0.62178 val_loss: 0.59040, val_acc: 0.67708, auc_score: 0.74036\n"
     ]
    },
    {
     "data": {
      "application/vnd.jupyter.widget-view+json": {
       "model_id": "ce5cc49fc4d146fa8b78b3862ec15667",
       "version_major": 2,
       "version_minor": 0
      },
      "text/plain": [
       "  0%|          | 0/354 [00:00<?, ?it/s]"
      ]
     },
     "metadata": {},
     "output_type": "display_data"
    },
    {
     "name": "stdout",
     "output_type": "stream",
     "text": [
      "Epoch [2/50], loss: 0.63475 acc: 0.66122 val_loss: 0.57171, val_acc: 0.70023, auc_score: 0.74496\n"
     ]
    },
    {
     "data": {
      "application/vnd.jupyter.widget-view+json": {
       "model_id": "83be82160a2748279f7ce6288fab40ab",
       "version_major": 2,
       "version_minor": 0
      },
      "text/plain": [
       "  0%|          | 0/354 [00:00<?, ?it/s]"
      ]
     },
     "metadata": {},
     "output_type": "display_data"
    },
    {
     "name": "stdout",
     "output_type": "stream",
     "text": [
      "Epoch [3/50], loss: 0.60267 acc: 0.68416 val_loss: 0.59859, val_acc: 0.67901, auc_score: 0.74678\n"
     ]
    },
    {
     "data": {
      "application/vnd.jupyter.widget-view+json": {
       "model_id": "5988ab6b32904c63b9ffd032288166fb",
       "version_major": 2,
       "version_minor": 0
      },
      "text/plain": [
       "  0%|          | 0/354 [00:00<?, ?it/s]"
      ]
     },
     "metadata": {},
     "output_type": "display_data"
    },
    {
     "name": "stdout",
     "output_type": "stream",
     "text": [
      "Epoch [4/50], loss: 0.59019 acc: 0.69016 val_loss: 0.56907, val_acc: 0.69830, auc_score: 0.74626\n"
     ]
    },
    {
     "data": {
      "application/vnd.jupyter.widget-view+json": {
       "model_id": "612d18cde312443d9baa561623bf9590",
       "version_major": 2,
       "version_minor": 0
      },
      "text/plain": [
       "  0%|          | 0/354 [00:00<?, ?it/s]"
      ]
     },
     "metadata": {},
     "output_type": "display_data"
    },
    {
     "name": "stdout",
     "output_type": "stream",
     "text": [
      "Epoch [5/50], loss: 0.57508 acc: 0.70071 val_loss: 0.59468, val_acc: 0.67708, auc_score: 0.74646\n"
     ]
    },
    {
     "data": {
      "application/vnd.jupyter.widget-view+json": {
       "model_id": "24f87e9539ae4741875fa17f51601d02",
       "version_major": 2,
       "version_minor": 0
      },
      "text/plain": [
       "  0%|          | 0/354 [00:00<?, ?it/s]"
      ]
     },
     "metadata": {},
     "output_type": "display_data"
    },
    {
     "name": "stdout",
     "output_type": "stream",
     "text": [
      "Epoch [6/50], loss: 0.56303 acc: 0.70821 val_loss: 0.59349, val_acc: 0.67978, auc_score: 0.74916\n"
     ]
    },
    {
     "data": {
      "application/vnd.jupyter.widget-view+json": {
       "model_id": "40c6d62c74d44fe7b1dc624123362b26",
       "version_major": 2,
       "version_minor": 0
      },
      "text/plain": [
       "  0%|          | 0/354 [00:00<?, ?it/s]"
      ]
     },
     "metadata": {},
     "output_type": "display_data"
    },
    {
     "name": "stdout",
     "output_type": "stream",
     "text": [
      "Epoch [7/50], loss: 0.55774 acc: 0.71323 val_loss: 0.57485, val_acc: 0.69329, auc_score: 0.74983\n"
     ]
    },
    {
     "data": {
      "application/vnd.jupyter.widget-view+json": {
       "model_id": "875661d5e1124c22bd38dc3b2d4f6c32",
       "version_major": 2,
       "version_minor": 0
      },
      "text/plain": [
       "  0%|          | 0/354 [00:00<?, ?it/s]"
      ]
     },
     "metadata": {},
     "output_type": "display_data"
    },
    {
     "name": "stdout",
     "output_type": "stream",
     "text": [
      "Epoch [8/50], loss: 0.54944 acc: 0.71854 val_loss: 0.57219, val_acc: 0.69637, auc_score: 0.75414\n"
     ]
    },
    {
     "data": {
      "application/vnd.jupyter.widget-view+json": {
       "model_id": "cc96192bdd5a4b879c523da97394c784",
       "version_major": 2,
       "version_minor": 0
      },
      "text/plain": [
       "  0%|          | 0/354 [00:00<?, ?it/s]"
      ]
     },
     "metadata": {},
     "output_type": "display_data"
    },
    {
     "name": "stdout",
     "output_type": "stream",
     "text": [
      "Epoch [9/50], loss: 0.55530 acc: 0.71460 val_loss: 0.57635, val_acc: 0.69213, auc_score: 0.75596\n"
     ]
    },
    {
     "data": {
      "application/vnd.jupyter.widget-view+json": {
       "model_id": "65eea3dc9f6a4d8595c7a66d19fe8eb9",
       "version_major": 2,
       "version_minor": 0
      },
      "text/plain": [
       "  0%|          | 0/354 [00:00<?, ?it/s]"
      ]
     },
     "metadata": {},
     "output_type": "display_data"
    },
    {
     "name": "stdout",
     "output_type": "stream",
     "text": [
      "Epoch [10/50], loss: 0.54677 acc: 0.71957 val_loss: 0.57391, val_acc: 0.69483, auc_score: 0.76046\n"
     ]
    },
    {
     "data": {
      "application/vnd.jupyter.widget-view+json": {
       "model_id": "f24ca0ad523743f68a5eddde97b43a73",
       "version_major": 2,
       "version_minor": 0
      },
      "text/plain": [
       "  0%|          | 0/354 [00:00<?, ?it/s]"
      ]
     },
     "metadata": {},
     "output_type": "display_data"
    },
    {
     "name": "stdout",
     "output_type": "stream",
     "text": [
      "Epoch [11/50], loss: 0.54283 acc: 0.72043 val_loss: 0.58574, val_acc: 0.69059, auc_score: 0.76149\n"
     ]
    },
    {
     "data": {
      "application/vnd.jupyter.widget-view+json": {
       "model_id": "fa9f7813be5940fe8dd6b15290680c8f",
       "version_major": 2,
       "version_minor": 0
      },
      "text/plain": [
       "  0%|          | 0/354 [00:00<?, ?it/s]"
      ]
     },
     "metadata": {},
     "output_type": "display_data"
    },
    {
     "name": "stdout",
     "output_type": "stream",
     "text": [
      "Epoch [12/50], loss: 0.54004 acc: 0.72626 val_loss: 0.55657, val_acc: 0.70756, auc_score: 0.76524\n"
     ]
    },
    {
     "data": {
      "application/vnd.jupyter.widget-view+json": {
       "model_id": "e1d34b60db254c38aa1610a69a69cea8",
       "version_major": 2,
       "version_minor": 0
      },
      "text/plain": [
       "  0%|          | 0/354 [00:00<?, ?it/s]"
      ]
     },
     "metadata": {},
     "output_type": "display_data"
    },
    {
     "name": "stdout",
     "output_type": "stream",
     "text": [
      "Epoch [13/50], loss: 0.53448 acc: 0.73252 val_loss: 0.56379, val_acc: 0.70409, auc_score: 0.76441\n"
     ]
    },
    {
     "data": {
      "application/vnd.jupyter.widget-view+json": {
       "model_id": "ff2295b280ba47afb4523e015c4b70ab",
       "version_major": 2,
       "version_minor": 0
      },
      "text/plain": [
       "  0%|          | 0/354 [00:00<?, ?it/s]"
      ]
     },
     "metadata": {},
     "output_type": "display_data"
    },
    {
     "name": "stdout",
     "output_type": "stream",
     "text": [
      "Epoch [14/50], loss: 0.52808 acc: 0.73831 val_loss: 0.57702, val_acc: 0.69367, auc_score: 0.76623\n"
     ]
    },
    {
     "data": {
      "application/vnd.jupyter.widget-view+json": {
       "model_id": "fe4f7a62e8bb43efb1dc0d1b88dbf77e",
       "version_major": 2,
       "version_minor": 0
      },
      "text/plain": [
       "  0%|          | 0/354 [00:00<?, ?it/s]"
      ]
     },
     "metadata": {},
     "output_type": "display_data"
    },
    {
     "name": "stdout",
     "output_type": "stream",
     "text": [
      "Epoch [15/50], loss: 0.52939 acc: 0.73445 val_loss: 0.57787, val_acc: 0.69174, auc_score: 0.76725\n"
     ]
    },
    {
     "data": {
      "application/vnd.jupyter.widget-view+json": {
       "model_id": "6af6715247a44b29a95b333f6d7ea81c",
       "version_major": 2,
       "version_minor": 0
      },
      "text/plain": [
       "  0%|          | 0/354 [00:00<?, ?it/s]"
      ]
     },
     "metadata": {},
     "output_type": "display_data"
    },
    {
     "name": "stdout",
     "output_type": "stream",
     "text": [
      "Epoch [16/50], loss: 0.51566 acc: 0.74521 val_loss: 0.56150, val_acc: 0.70448, auc_score: 0.77070\n"
     ]
    },
    {
     "data": {
      "application/vnd.jupyter.widget-view+json": {
       "model_id": "e660cee0ea2a4b4897634d3fa9d6812e",
       "version_major": 2,
       "version_minor": 0
      },
      "text/plain": [
       "  0%|          | 0/354 [00:00<?, ?it/s]"
      ]
     },
     "metadata": {},
     "output_type": "display_data"
    },
    {
     "name": "stdout",
     "output_type": "stream",
     "text": [
      "Epoch [17/50], loss: 0.51774 acc: 0.74757 val_loss: 0.57800, val_acc: 0.69213, auc_score: 0.77199\n"
     ]
    },
    {
     "data": {
      "application/vnd.jupyter.widget-view+json": {
       "model_id": "d1ec9dc65e1b4ac19ae1d1ee4233b5fb",
       "version_major": 2,
       "version_minor": 0
      },
      "text/plain": [
       "  0%|          | 0/354 [00:00<?, ?it/s]"
      ]
     },
     "metadata": {},
     "output_type": "display_data"
    },
    {
     "name": "stdout",
     "output_type": "stream",
     "text": [
      "Epoch [18/50], loss: 0.51303 acc: 0.74650 val_loss: 0.55794, val_acc: 0.70872, auc_score: 0.77225\n"
     ]
    },
    {
     "data": {
      "application/vnd.jupyter.widget-view+json": {
       "model_id": "f370f022b65f4936939924b9e8da9ab0",
       "version_major": 2,
       "version_minor": 0
      },
      "text/plain": [
       "  0%|          | 0/354 [00:00<?, ?it/s]"
      ]
     },
     "metadata": {},
     "output_type": "display_data"
    },
    {
     "name": "stdout",
     "output_type": "stream",
     "text": [
      "Epoch [19/50], loss: 0.51680 acc: 0.74135 val_loss: 0.56106, val_acc: 0.70756, auc_score: 0.77308\n"
     ]
    },
    {
     "data": {
      "application/vnd.jupyter.widget-view+json": {
       "model_id": "165ba81847244b6a9b5f325e59c80472",
       "version_major": 2,
       "version_minor": 0
      },
      "text/plain": [
       "  0%|          | 0/354 [00:00<?, ?it/s]"
      ]
     },
     "metadata": {},
     "output_type": "display_data"
    },
    {
     "name": "stdout",
     "output_type": "stream",
     "text": [
      "Epoch [20/50], loss: 0.50312 acc: 0.75451 val_loss: 0.57231, val_acc: 0.70293, auc_score: 0.77407\n"
     ]
    },
    {
     "data": {
      "application/vnd.jupyter.widget-view+json": {
       "model_id": "f0da88161d0a458ab6ad56e95d73e1d3",
       "version_major": 2,
       "version_minor": 0
      },
      "text/plain": [
       "  0%|          | 0/354 [00:00<?, ?it/s]"
      ]
     },
     "metadata": {},
     "output_type": "display_data"
    },
    {
     "name": "stdout",
     "output_type": "stream",
     "text": [
      "Epoch [21/50], loss: 0.50681 acc: 0.75095 val_loss: 0.57317, val_acc: 0.69637, auc_score: 0.77357\n"
     ]
    },
    {
     "data": {
      "application/vnd.jupyter.widget-view+json": {
       "model_id": "b54c8944904d48a0a2d3addf5a0a7e41",
       "version_major": 2,
       "version_minor": 0
      },
      "text/plain": [
       "  0%|          | 0/354 [00:00<?, ?it/s]"
      ]
     },
     "metadata": {},
     "output_type": "display_data"
    },
    {
     "name": "stdout",
     "output_type": "stream",
     "text": [
      "Epoch [22/50], loss: 0.50550 acc: 0.75001 val_loss: 0.56965, val_acc: 0.70409, auc_score: 0.77436\n"
     ]
    },
    {
     "data": {
      "application/vnd.jupyter.widget-view+json": {
       "model_id": "bfc7249d1cbf4bf5a4eba37a9a759000",
       "version_major": 2,
       "version_minor": 0
      },
      "text/plain": [
       "  0%|          | 0/354 [00:00<?, ?it/s]"
      ]
     },
     "metadata": {},
     "output_type": "display_data"
    },
    {
     "name": "stdout",
     "output_type": "stream",
     "text": [
      "Epoch [23/50], loss: 0.49476 acc: 0.75919 val_loss: 0.55450, val_acc: 0.70872, auc_score: 0.77347\n"
     ]
    },
    {
     "data": {
      "application/vnd.jupyter.widget-view+json": {
       "model_id": "f43dd6bcefbc49dba1a55935b6f6ec3e",
       "version_major": 2,
       "version_minor": 0
      },
      "text/plain": [
       "  0%|          | 0/354 [00:00<?, ?it/s]"
      ]
     },
     "metadata": {},
     "output_type": "display_data"
    },
    {
     "name": "stdout",
     "output_type": "stream",
     "text": [
      "Epoch [24/50], loss: 0.49230 acc: 0.76013 val_loss: 0.55844, val_acc: 0.70602, auc_score: 0.77594\n"
     ]
    },
    {
     "data": {
      "application/vnd.jupyter.widget-view+json": {
       "model_id": "113229bcdd7b4e899ab322903cde9224",
       "version_major": 2,
       "version_minor": 0
      },
      "text/plain": [
       "  0%|          | 0/354 [00:00<?, ?it/s]"
      ]
     },
     "metadata": {},
     "output_type": "display_data"
    },
    {
     "name": "stdout",
     "output_type": "stream",
     "text": [
      "Epoch [25/50], loss: 0.48891 acc: 0.76622 val_loss: 0.57392, val_acc: 0.69637, auc_score: 0.77555\n"
     ]
    },
    {
     "data": {
      "application/vnd.jupyter.widget-view+json": {
       "model_id": "c34767337f3743bd907f45d2bfdaf6d2",
       "version_major": 2,
       "version_minor": 0
      },
      "text/plain": [
       "  0%|          | 0/354 [00:00<?, ?it/s]"
      ]
     },
     "metadata": {},
     "output_type": "display_data"
    },
    {
     "name": "stdout",
     "output_type": "stream",
     "text": [
      "Epoch [26/50], loss: 0.48369 acc: 0.77042 val_loss: 0.54784, val_acc: 0.71528, auc_score: 0.77675\n"
     ]
    },
    {
     "data": {
      "application/vnd.jupyter.widget-view+json": {
       "model_id": "72e71f55d94249f29429e1731c29caf6",
       "version_major": 2,
       "version_minor": 0
      },
      "text/plain": [
       "  0%|          | 0/354 [00:00<?, ?it/s]"
      ]
     },
     "metadata": {},
     "output_type": "display_data"
    },
    {
     "name": "stdout",
     "output_type": "stream",
     "text": [
      "Epoch [27/50], loss: 0.48429 acc: 0.77050 val_loss: 0.54070, val_acc: 0.71836, auc_score: 0.77840\n"
     ]
    },
    {
     "data": {
      "application/vnd.jupyter.widget-view+json": {
       "model_id": "8419966b571d4c0389858ec0a18958a2",
       "version_major": 2,
       "version_minor": 0
      },
      "text/plain": [
       "  0%|          | 0/354 [00:00<?, ?it/s]"
      ]
     },
     "metadata": {},
     "output_type": "display_data"
    },
    {
     "name": "stdout",
     "output_type": "stream",
     "text": [
      "Epoch [28/50], loss: 0.47752 acc: 0.77350 val_loss: 0.55299, val_acc: 0.71026, auc_score: 0.77863\n"
     ]
    },
    {
     "data": {
      "application/vnd.jupyter.widget-view+json": {
       "model_id": "18bfae9c2903478781487d411dc90da7",
       "version_major": 2,
       "version_minor": 0
      },
      "text/plain": [
       "  0%|          | 0/354 [00:00<?, ?it/s]"
      ]
     },
     "metadata": {},
     "output_type": "display_data"
    },
    {
     "name": "stdout",
     "output_type": "stream",
     "text": [
      "Epoch [29/50], loss: 0.47036 acc: 0.77792 val_loss: 0.55870, val_acc: 0.70448, auc_score: 0.77865\n"
     ]
    },
    {
     "data": {
      "application/vnd.jupyter.widget-view+json": {
       "model_id": "54f8c510803041b9b025cc766dcc9159",
       "version_major": 2,
       "version_minor": 0
      },
      "text/plain": [
       "  0%|          | 0/354 [00:00<?, ?it/s]"
      ]
     },
     "metadata": {},
     "output_type": "display_data"
    },
    {
     "name": "stdout",
     "output_type": "stream",
     "text": [
      "Epoch [30/50], loss: 0.47418 acc: 0.77230 val_loss: 0.56384, val_acc: 0.70602, auc_score: 0.77940\n"
     ]
    },
    {
     "data": {
      "application/vnd.jupyter.widget-view+json": {
       "model_id": "9c83fceb241948138ed28b54791a27f4",
       "version_major": 2,
       "version_minor": 0
      },
      "text/plain": [
       "  0%|          | 0/354 [00:00<?, ?it/s]"
      ]
     },
     "metadata": {},
     "output_type": "display_data"
    },
    {
     "name": "stdout",
     "output_type": "stream",
     "text": [
      "Epoch [31/50], loss: 0.46951 acc: 0.77942 val_loss: 0.56261, val_acc: 0.70332, auc_score: 0.78003\n"
     ]
    },
    {
     "data": {
      "application/vnd.jupyter.widget-view+json": {
       "model_id": "192bdf25461b41819d6e15ee39b0163b",
       "version_major": 2,
       "version_minor": 0
      },
      "text/plain": [
       "  0%|          | 0/354 [00:00<?, ?it/s]"
      ]
     },
     "metadata": {},
     "output_type": "display_data"
    },
    {
     "name": "stdout",
     "output_type": "stream",
     "text": [
      "Epoch [32/50], loss: 0.46214 acc: 0.78349 val_loss: 0.54680, val_acc: 0.71528, auc_score: 0.78112\n"
     ]
    },
    {
     "data": {
      "application/vnd.jupyter.widget-view+json": {
       "model_id": "2adc992c80874318966373265ea20f51",
       "version_major": 2,
       "version_minor": 0
      },
      "text/plain": [
       "  0%|          | 0/354 [00:00<?, ?it/s]"
      ]
     },
     "metadata": {},
     "output_type": "display_data"
    },
    {
     "name": "stdout",
     "output_type": "stream",
     "text": [
      "Epoch [33/50], loss: 0.46093 acc: 0.78469 val_loss: 0.54882, val_acc: 0.71296, auc_score: 0.78060\n"
     ]
    },
    {
     "data": {
      "application/vnd.jupyter.widget-view+json": {
       "model_id": "41509da6cf784a4999d6ff90304a6ad7",
       "version_major": 2,
       "version_minor": 0
      },
      "text/plain": [
       "  0%|          | 0/354 [00:00<?, ?it/s]"
      ]
     },
     "metadata": {},
     "output_type": "display_data"
    },
    {
     "name": "stdout",
     "output_type": "stream",
     "text": [
      "Epoch [34/50], loss: 0.45950 acc: 0.78512 val_loss: 0.54806, val_acc: 0.71373, auc_score: 0.78043\n"
     ]
    },
    {
     "data": {
      "application/vnd.jupyter.widget-view+json": {
       "model_id": "f24e09cfc2c841e1a46f57c5356dad33",
       "version_major": 2,
       "version_minor": 0
      },
      "text/plain": [
       "  0%|          | 0/354 [00:00<?, ?it/s]"
      ]
     },
     "metadata": {},
     "output_type": "display_data"
    },
    {
     "name": "stdout",
     "output_type": "stream",
     "text": [
      "Epoch [35/50], loss: 0.45554 acc: 0.78534 val_loss: 0.57046, val_acc: 0.70602, auc_score: 0.78160\n"
     ]
    },
    {
     "data": {
      "application/vnd.jupyter.widget-view+json": {
       "model_id": "d44dcdb062b34ef98b4d755e782c1e37",
       "version_major": 2,
       "version_minor": 0
      },
      "text/plain": [
       "  0%|          | 0/354 [00:00<?, ?it/s]"
      ]
     },
     "metadata": {},
     "output_type": "display_data"
    },
    {
     "name": "stdout",
     "output_type": "stream",
     "text": [
      "Epoch [36/50], loss: 0.45304 acc: 0.79070 val_loss: 0.54939, val_acc: 0.71219, auc_score: 0.78299\n"
     ]
    },
    {
     "data": {
      "application/vnd.jupyter.widget-view+json": {
       "model_id": "959a925fc7254a89b54e60661909a892",
       "version_major": 2,
       "version_minor": 0
      },
      "text/plain": [
       "  0%|          | 0/354 [00:00<?, ?it/s]"
      ]
     },
     "metadata": {},
     "output_type": "display_data"
    },
    {
     "name": "stdout",
     "output_type": "stream",
     "text": [
      "Epoch [37/50], loss: 0.45384 acc: 0.79134 val_loss: 0.54730, val_acc: 0.71451, auc_score: 0.78294\n"
     ]
    },
    {
     "data": {
      "application/vnd.jupyter.widget-view+json": {
       "model_id": "3b4f772943d244f2a9c69e89bee9860c",
       "version_major": 2,
       "version_minor": 0
      },
      "text/plain": [
       "  0%|          | 0/354 [00:00<?, ?it/s]"
      ]
     },
     "metadata": {},
     "output_type": "display_data"
    },
    {
     "name": "stdout",
     "output_type": "stream",
     "text": [
      "Epoch [38/50], loss: 0.45324 acc: 0.78971 val_loss: 0.54959, val_acc: 0.71142, auc_score: 0.78279\n"
     ]
    },
    {
     "data": {
      "application/vnd.jupyter.widget-view+json": {
       "model_id": "1e2f5579e1ad48a0b1bbd213af3b1097",
       "version_major": 2,
       "version_minor": 0
      },
      "text/plain": [
       "  0%|          | 0/354 [00:00<?, ?it/s]"
      ]
     },
     "metadata": {},
     "output_type": "display_data"
    },
    {
     "name": "stdout",
     "output_type": "stream",
     "text": [
      "Epoch [39/50], loss: 0.44508 acc: 0.79846 val_loss: 0.54405, val_acc: 0.71759, auc_score: 0.78316\n"
     ]
    },
    {
     "data": {
      "application/vnd.jupyter.widget-view+json": {
       "model_id": "1764f8ef37924f9cb1c0e7e7138bc70f",
       "version_major": 2,
       "version_minor": 0
      },
      "text/plain": [
       "  0%|          | 0/354 [00:00<?, ?it/s]"
      ]
     },
     "metadata": {},
     "output_type": "display_data"
    },
    {
     "name": "stdout",
     "output_type": "stream",
     "text": [
      "Epoch [40/50], loss: 0.44409 acc: 0.79829 val_loss: 0.54931, val_acc: 0.71914, auc_score: 0.78322\n"
     ]
    },
    {
     "data": {
      "application/vnd.jupyter.widget-view+json": {
       "model_id": "232c76b267fc426db2428a225f5b9936",
       "version_major": 2,
       "version_minor": 0
      },
      "text/plain": [
       "  0%|          | 0/354 [00:00<?, ?it/s]"
      ]
     },
     "metadata": {},
     "output_type": "display_data"
    },
    {
     "name": "stdout",
     "output_type": "stream",
     "text": [
      "Epoch [41/50], loss: 0.44292 acc: 0.80026 val_loss: 0.54450, val_acc: 0.71451, auc_score: 0.78318\n"
     ]
    },
    {
     "data": {
      "application/vnd.jupyter.widget-view+json": {
       "model_id": "eb9350e28ff04be98e22510dfa814df3",
       "version_major": 2,
       "version_minor": 0
      },
      "text/plain": [
       "  0%|          | 0/354 [00:00<?, ?it/s]"
      ]
     },
     "metadata": {},
     "output_type": "display_data"
    },
    {
     "name": "stdout",
     "output_type": "stream",
     "text": [
      "Epoch [42/50], loss: 0.44135 acc: 0.80030 val_loss: 0.56605, val_acc: 0.70718, auc_score: 0.78344\n"
     ]
    },
    {
     "data": {
      "application/vnd.jupyter.widget-view+json": {
       "model_id": "a7c8138102874b9a893e10013dcd56c5",
       "version_major": 2,
       "version_minor": 0
      },
      "text/plain": [
       "  0%|          | 0/354 [00:00<?, ?it/s]"
      ]
     },
     "metadata": {},
     "output_type": "display_data"
    },
    {
     "name": "stdout",
     "output_type": "stream",
     "text": [
      "Epoch [43/50], loss: 0.43801 acc: 0.80613 val_loss: 0.56228, val_acc: 0.70833, auc_score: 0.78323\n"
     ]
    },
    {
     "data": {
      "application/vnd.jupyter.widget-view+json": {
       "model_id": "6e79ee3e539c47288b0545bc5a07d295",
       "version_major": 2,
       "version_minor": 0
      },
      "text/plain": [
       "  0%|          | 0/354 [00:00<?, ?it/s]"
      ]
     },
     "metadata": {},
     "output_type": "display_data"
    },
    {
     "name": "stdout",
     "output_type": "stream",
     "text": [
      "Epoch [44/50], loss: 0.43278 acc: 0.80802 val_loss: 0.55347, val_acc: 0.71373, auc_score: 0.78382\n"
     ]
    },
    {
     "data": {
      "application/vnd.jupyter.widget-view+json": {
       "model_id": "0c38aea22e054b9fb6c63fd8655b4c30",
       "version_major": 2,
       "version_minor": 0
      },
      "text/plain": [
       "  0%|          | 0/354 [00:00<?, ?it/s]"
      ]
     },
     "metadata": {},
     "output_type": "display_data"
    },
    {
     "name": "stdout",
     "output_type": "stream",
     "text": [
      "Epoch [45/50], loss: 0.43445 acc: 0.80442 val_loss: 0.55197, val_acc: 0.71296, auc_score: 0.78432\n"
     ]
    },
    {
     "data": {
      "application/vnd.jupyter.widget-view+json": {
       "model_id": "e557ae1d889d48f280920beb1461d3ac",
       "version_major": 2,
       "version_minor": 0
      },
      "text/plain": [
       "  0%|          | 0/354 [00:00<?, ?it/s]"
      ]
     },
     "metadata": {},
     "output_type": "display_data"
    },
    {
     "name": "stdout",
     "output_type": "stream",
     "text": [
      "Epoch [46/50], loss: 0.43729 acc: 0.80249 val_loss: 0.54423, val_acc: 0.71875, auc_score: 0.78556\n"
     ]
    },
    {
     "data": {
      "application/vnd.jupyter.widget-view+json": {
       "model_id": "421b964d654d44a98fed50cbe86838b3",
       "version_major": 2,
       "version_minor": 0
      },
      "text/plain": [
       "  0%|          | 0/354 [00:00<?, ?it/s]"
      ]
     },
     "metadata": {},
     "output_type": "display_data"
    },
    {
     "name": "stdout",
     "output_type": "stream",
     "text": [
      "Epoch [47/50], loss: 0.43328 acc: 0.80806 val_loss: 0.55591, val_acc: 0.71528, auc_score: 0.78493\n"
     ]
    },
    {
     "data": {
      "application/vnd.jupyter.widget-view+json": {
       "model_id": "c0dd9cd2d3564fcab7dbccb16bbce3d5",
       "version_major": 2,
       "version_minor": 0
      },
      "text/plain": [
       "  0%|          | 0/354 [00:00<?, ?it/s]"
      ]
     },
     "metadata": {},
     "output_type": "display_data"
    },
    {
     "name": "stdout",
     "output_type": "stream",
     "text": [
      "Epoch [48/50], loss: 0.43379 acc: 0.80467 val_loss: 0.55231, val_acc: 0.71296, auc_score: 0.78549\n"
     ]
    },
    {
     "data": {
      "application/vnd.jupyter.widget-view+json": {
       "model_id": "96eacb598ca64be2bec1d3bce1addf45",
       "version_major": 2,
       "version_minor": 0
      },
      "text/plain": [
       "  0%|          | 0/354 [00:00<?, ?it/s]"
      ]
     },
     "metadata": {},
     "output_type": "display_data"
    },
    {
     "name": "stdout",
     "output_type": "stream",
     "text": [
      "Epoch [49/50], loss: 0.42426 acc: 0.81616 val_loss: 0.56404, val_acc: 0.70640, auc_score: 0.78500\n"
     ]
    },
    {
     "data": {
      "application/vnd.jupyter.widget-view+json": {
       "model_id": "246f0ac36f304a0db24d6d4a26b1d289",
       "version_major": 2,
       "version_minor": 0
      },
      "text/plain": [
       "  0%|          | 0/354 [00:00<?, ?it/s]"
      ]
     },
     "metadata": {},
     "output_type": "display_data"
    },
    {
     "name": "stdout",
     "output_type": "stream",
     "text": [
      "Epoch [50/50], loss: 0.42650 acc: 0.81179 val_loss: 0.54179, val_acc: 0.71991, auc_score: 0.78345\n",
      "cv: 5\n",
      "target train 0/1: 14712/8613\n"
     ]
    },
    {
     "data": {
      "application/vnd.jupyter.widget-view+json": {
       "model_id": "982c4009347244f5bd181fa7876c2f49",
       "version_major": 2,
       "version_minor": 0
      },
      "text/plain": [
       "  0%|          | 0/354 [00:00<?, ?it/s]"
      ]
     },
     "metadata": {},
     "output_type": "display_data"
    },
    {
     "name": "stdout",
     "output_type": "stream",
     "text": [
      "Epoch [1/50], loss: 0.70444 acc: 0.62718 val_loss: 0.58343, val_acc: 0.70216, auc_score: 0.77590\n"
     ]
    },
    {
     "data": {
      "application/vnd.jupyter.widget-view+json": {
       "model_id": "0053735b083b426c92a63150078ff1bf",
       "version_major": 2,
       "version_minor": 0
      },
      "text/plain": [
       "  0%|          | 0/354 [00:00<?, ?it/s]"
      ]
     },
     "metadata": {},
     "output_type": "display_data"
    },
    {
     "name": "stdout",
     "output_type": "stream",
     "text": [
      "Epoch [2/50], loss: 0.63699 acc: 0.66354 val_loss: 0.55203, val_acc: 0.71644, auc_score: 0.77960\n"
     ]
    },
    {
     "data": {
      "application/vnd.jupyter.widget-view+json": {
       "model_id": "f16ed546cfc1450e8c07a90476d589c1",
       "version_major": 2,
       "version_minor": 0
      },
      "text/plain": [
       "  0%|          | 0/354 [00:00<?, ?it/s]"
      ]
     },
     "metadata": {},
     "output_type": "display_data"
    },
    {
     "name": "stdout",
     "output_type": "stream",
     "text": [
      "Epoch [3/50], loss: 0.60607 acc: 0.68021 val_loss: 0.56700, val_acc: 0.71065, auc_score: 0.78210\n"
     ]
    },
    {
     "data": {
      "application/vnd.jupyter.widget-view+json": {
       "model_id": "c44f447413f8449085b94ac73394607d",
       "version_major": 2,
       "version_minor": 0
      },
      "text/plain": [
       "  0%|          | 0/354 [00:00<?, ?it/s]"
      ]
     },
     "metadata": {},
     "output_type": "display_data"
    },
    {
     "name": "stdout",
     "output_type": "stream",
     "text": [
      "Epoch [4/50], loss: 0.59266 acc: 0.68459 val_loss: 0.54351, val_acc: 0.72531, auc_score: 0.78404\n"
     ]
    },
    {
     "data": {
      "application/vnd.jupyter.widget-view+json": {
       "model_id": "a6a92c1dc52c4ab49d52185bd3a7dd55",
       "version_major": 2,
       "version_minor": 0
      },
      "text/plain": [
       "  0%|          | 0/354 [00:00<?, ?it/s]"
      ]
     },
     "metadata": {},
     "output_type": "display_data"
    },
    {
     "name": "stdout",
     "output_type": "stream",
     "text": [
      "Epoch [5/50], loss: 0.58065 acc: 0.69522 val_loss: 0.56250, val_acc: 0.71721, auc_score: 0.78528\n"
     ]
    },
    {
     "data": {
      "application/vnd.jupyter.widget-view+json": {
       "model_id": "7f76efbefd8d468098c25f422e896036",
       "version_major": 2,
       "version_minor": 0
      },
      "text/plain": [
       "  0%|          | 0/354 [00:00<?, ?it/s]"
      ]
     },
     "metadata": {},
     "output_type": "display_data"
    },
    {
     "name": "stdout",
     "output_type": "stream",
     "text": [
      "Epoch [6/50], loss: 0.57000 acc: 0.70457 val_loss: 0.55066, val_acc: 0.72145, auc_score: 0.78652\n"
     ]
    },
    {
     "data": {
      "application/vnd.jupyter.widget-view+json": {
       "model_id": "7b207a22f040400e9ad2d172aaf22d53",
       "version_major": 2,
       "version_minor": 0
      },
      "text/plain": [
       "  0%|          | 0/354 [00:00<?, ?it/s]"
      ]
     },
     "metadata": {},
     "output_type": "display_data"
    },
    {
     "name": "stdout",
     "output_type": "stream",
     "text": [
      "Epoch [7/50], loss: 0.56628 acc: 0.70602 val_loss: 0.53598, val_acc: 0.72955, auc_score: 0.78718\n"
     ]
    },
    {
     "data": {
      "application/vnd.jupyter.widget-view+json": {
       "model_id": "fd134b9a7d844d2cba4b9992e86e82f9",
       "version_major": 2,
       "version_minor": 0
      },
      "text/plain": [
       "  0%|          | 0/354 [00:00<?, ?it/s]"
      ]
     },
     "metadata": {},
     "output_type": "display_data"
    },
    {
     "name": "stdout",
     "output_type": "stream",
     "text": [
      "Epoch [8/50], loss: 0.55907 acc: 0.71258 val_loss: 0.56564, val_acc: 0.70640, auc_score: 0.78891\n"
     ]
    },
    {
     "data": {
      "application/vnd.jupyter.widget-view+json": {
       "model_id": "12fceb0903d54cbe810b335b62460d99",
       "version_major": 2,
       "version_minor": 0
      },
      "text/plain": [
       "  0%|          | 0/354 [00:00<?, ?it/s]"
      ]
     },
     "metadata": {},
     "output_type": "display_data"
    },
    {
     "name": "stdout",
     "output_type": "stream",
     "text": [
      "Epoch [9/50], loss: 0.55959 acc: 0.70941 val_loss: 0.54955, val_acc: 0.71644, auc_score: 0.78947\n"
     ]
    },
    {
     "data": {
      "application/vnd.jupyter.widget-view+json": {
       "model_id": "6d0d336f84a440c987bf9b1a02a9f5b8",
       "version_major": 2,
       "version_minor": 0
      },
      "text/plain": [
       "  0%|          | 0/354 [00:00<?, ?it/s]"
      ]
     },
     "metadata": {},
     "output_type": "display_data"
    },
    {
     "name": "stdout",
     "output_type": "stream",
     "text": [
      "Epoch [10/50], loss: 0.54995 acc: 0.72009 val_loss: 0.54361, val_acc: 0.72338, auc_score: 0.79093\n"
     ]
    },
    {
     "data": {
      "application/vnd.jupyter.widget-view+json": {
       "model_id": "c233bb25d9404ac890681736f5fb2943",
       "version_major": 2,
       "version_minor": 0
      },
      "text/plain": [
       "  0%|          | 0/354 [00:00<?, ?it/s]"
      ]
     },
     "metadata": {},
     "output_type": "display_data"
    },
    {
     "name": "stdout",
     "output_type": "stream",
     "text": [
      "Epoch [11/50], loss: 0.54416 acc: 0.72030 val_loss: 0.54025, val_acc: 0.72608, auc_score: 0.79149\n"
     ]
    },
    {
     "data": {
      "application/vnd.jupyter.widget-view+json": {
       "model_id": "4f33873aedc346aca6b8558005f3058a",
       "version_major": 2,
       "version_minor": 0
      },
      "text/plain": [
       "  0%|          | 0/354 [00:00<?, ?it/s]"
      ]
     },
     "metadata": {},
     "output_type": "display_data"
    },
    {
     "name": "stdout",
     "output_type": "stream",
     "text": [
      "Epoch [12/50], loss: 0.53938 acc: 0.72519 val_loss: 0.53432, val_acc: 0.73264, auc_score: 0.79314\n"
     ]
    },
    {
     "data": {
      "application/vnd.jupyter.widget-view+json": {
       "model_id": "4e3e3d704024442294cb3d65ec684644",
       "version_major": 2,
       "version_minor": 0
      },
      "text/plain": [
       "  0%|          | 0/354 [00:00<?, ?it/s]"
      ]
     },
     "metadata": {},
     "output_type": "display_data"
    },
    {
     "name": "stdout",
     "output_type": "stream",
     "text": [
      "Epoch [13/50], loss: 0.53809 acc: 0.72497 val_loss: 0.53859, val_acc: 0.72917, auc_score: 0.79263\n"
     ]
    },
    {
     "data": {
      "application/vnd.jupyter.widget-view+json": {
       "model_id": "11adbe68a3c54308a596cc0e88120e24",
       "version_major": 2,
       "version_minor": 0
      },
      "text/plain": [
       "  0%|          | 0/354 [00:00<?, ?it/s]"
      ]
     },
     "metadata": {},
     "output_type": "display_data"
    },
    {
     "name": "stdout",
     "output_type": "stream",
     "text": [
      "Epoch [14/50], loss: 0.52633 acc: 0.73912 val_loss: 0.55011, val_acc: 0.71759, auc_score: 0.79413\n"
     ]
    },
    {
     "data": {
      "application/vnd.jupyter.widget-view+json": {
       "model_id": "00a5178bc9e04873bf07f5994f4998d8",
       "version_major": 2,
       "version_minor": 0
      },
      "text/plain": [
       "  0%|          | 0/354 [00:00<?, ?it/s]"
      ]
     },
     "metadata": {},
     "output_type": "display_data"
    },
    {
     "name": "stdout",
     "output_type": "stream",
     "text": [
      "Epoch [15/50], loss: 0.52642 acc: 0.73419 val_loss: 0.55446, val_acc: 0.71528, auc_score: 0.79603\n"
     ]
    },
    {
     "data": {
      "application/vnd.jupyter.widget-view+json": {
       "model_id": "5d73ce5851f64f01a58f4c95177c9603",
       "version_major": 2,
       "version_minor": 0
      },
      "text/plain": [
       "  0%|          | 0/354 [00:00<?, ?it/s]"
      ]
     },
     "metadata": {},
     "output_type": "display_data"
    },
    {
     "name": "stdout",
     "output_type": "stream",
     "text": [
      "Epoch [16/50], loss: 0.52163 acc: 0.73938 val_loss: 0.53950, val_acc: 0.72724, auc_score: 0.79645\n"
     ]
    },
    {
     "data": {
      "application/vnd.jupyter.widget-view+json": {
       "model_id": "ca74f69ba01c480190dccb96036f398c",
       "version_major": 2,
       "version_minor": 0
      },
      "text/plain": [
       "  0%|          | 0/354 [00:00<?, ?it/s]"
      ]
     },
     "metadata": {},
     "output_type": "display_data"
    },
    {
     "name": "stdout",
     "output_type": "stream",
     "text": [
      "Epoch [17/50], loss: 0.51603 acc: 0.74534 val_loss: 0.54120, val_acc: 0.72531, auc_score: 0.79712\n"
     ]
    },
    {
     "data": {
      "application/vnd.jupyter.widget-view+json": {
       "model_id": "4b4ca2fac10a45ad9dcdeeb4e66264f8",
       "version_major": 2,
       "version_minor": 0
      },
      "text/plain": [
       "  0%|          | 0/354 [00:00<?, ?it/s]"
      ]
     },
     "metadata": {},
     "output_type": "display_data"
    },
    {
     "name": "stdout",
     "output_type": "stream",
     "text": [
      "Epoch [18/50], loss: 0.51336 acc: 0.74568 val_loss: 0.54658, val_acc: 0.71836, auc_score: 0.79714\n"
     ]
    },
    {
     "data": {
      "application/vnd.jupyter.widget-view+json": {
       "model_id": "9b8494b9f6e34d23bf0f3bd1bf4b5e23",
       "version_major": 2,
       "version_minor": 0
      },
      "text/plain": [
       "  0%|          | 0/354 [00:00<?, ?it/s]"
      ]
     },
     "metadata": {},
     "output_type": "display_data"
    },
    {
     "name": "stdout",
     "output_type": "stream",
     "text": [
      "Epoch [19/50], loss: 0.51064 acc: 0.74898 val_loss: 0.54422, val_acc: 0.72377, auc_score: 0.79723\n"
     ]
    },
    {
     "data": {
      "application/vnd.jupyter.widget-view+json": {
       "model_id": "8661737c8ff64b108576df8a2a4ab0b4",
       "version_major": 2,
       "version_minor": 0
      },
      "text/plain": [
       "  0%|          | 0/354 [00:00<?, ?it/s]"
      ]
     },
     "metadata": {},
     "output_type": "display_data"
    },
    {
     "name": "stdout",
     "output_type": "stream",
     "text": [
      "Epoch [20/50], loss: 0.50222 acc: 0.75473 val_loss: 0.54398, val_acc: 0.72299, auc_score: 0.79694\n"
     ]
    },
    {
     "data": {
      "application/vnd.jupyter.widget-view+json": {
       "model_id": "be7f256447344bc8ba929863a604fe74",
       "version_major": 2,
       "version_minor": 0
      },
      "text/plain": [
       "  0%|          | 0/354 [00:00<?, ?it/s]"
      ]
     },
     "metadata": {},
     "output_type": "display_data"
    },
    {
     "name": "stdout",
     "output_type": "stream",
     "text": [
      "Epoch [21/50], loss: 0.50277 acc: 0.75533 val_loss: 0.54578, val_acc: 0.72415, auc_score: 0.79985\n"
     ]
    },
    {
     "data": {
      "application/vnd.jupyter.widget-view+json": {
       "model_id": "65fe7c8ee65a4160909196b936a90e68",
       "version_major": 2,
       "version_minor": 0
      },
      "text/plain": [
       "  0%|          | 0/354 [00:00<?, ?it/s]"
      ]
     },
     "metadata": {},
     "output_type": "display_data"
    },
    {
     "name": "stdout",
     "output_type": "stream",
     "text": [
      "Epoch [22/50], loss: 0.49964 acc: 0.75751 val_loss: 0.53672, val_acc: 0.72724, auc_score: 0.80039\n"
     ]
    },
    {
     "data": {
      "application/vnd.jupyter.widget-view+json": {
       "model_id": "4428d6cee2ee489cad60fba51fb8b597",
       "version_major": 2,
       "version_minor": 0
      },
      "text/plain": [
       "  0%|          | 0/354 [00:00<?, ?it/s]"
      ]
     },
     "metadata": {},
     "output_type": "display_data"
    },
    {
     "name": "stdout",
     "output_type": "stream",
     "text": [
      "Epoch [23/50], loss: 0.49659 acc: 0.75846 val_loss: 0.53456, val_acc: 0.72569, auc_score: 0.80163\n"
     ]
    },
    {
     "data": {
      "application/vnd.jupyter.widget-view+json": {
       "model_id": "c5732cccc3674dcbb168e5f9fffb270d",
       "version_major": 2,
       "version_minor": 0
      },
      "text/plain": [
       "  0%|          | 0/354 [00:00<?, ?it/s]"
      ]
     },
     "metadata": {},
     "output_type": "display_data"
    },
    {
     "name": "stdout",
     "output_type": "stream",
     "text": [
      "Epoch [24/50], loss: 0.49382 acc: 0.75949 val_loss: 0.53026, val_acc: 0.72994, auc_score: 0.80181\n"
     ]
    },
    {
     "data": {
      "application/vnd.jupyter.widget-view+json": {
       "model_id": "0d6a5819fd9844e1b65dcd205653535b",
       "version_major": 2,
       "version_minor": 0
      },
      "text/plain": [
       "  0%|          | 0/354 [00:00<?, ?it/s]"
      ]
     },
     "metadata": {},
     "output_type": "display_data"
    },
    {
     "name": "stdout",
     "output_type": "stream",
     "text": [
      "Epoch [25/50], loss: 0.49193 acc: 0.76300 val_loss: 0.52717, val_acc: 0.73843, auc_score: 0.80270\n"
     ]
    },
    {
     "data": {
      "application/vnd.jupyter.widget-view+json": {
       "model_id": "a6606710ab31439b846067c234e27da5",
       "version_major": 2,
       "version_minor": 0
      },
      "text/plain": [
       "  0%|          | 0/354 [00:00<?, ?it/s]"
      ]
     },
     "metadata": {},
     "output_type": "display_data"
    },
    {
     "name": "stdout",
     "output_type": "stream",
     "text": [
      "Epoch [26/50], loss: 0.48415 acc: 0.76729 val_loss: 0.54403, val_acc: 0.72338, auc_score: 0.80297\n"
     ]
    },
    {
     "data": {
      "application/vnd.jupyter.widget-view+json": {
       "model_id": "b6f8ef3031a8477bad0597b188e0a161",
       "version_major": 2,
       "version_minor": 0
      },
      "text/plain": [
       "  0%|          | 0/354 [00:00<?, ?it/s]"
      ]
     },
     "metadata": {},
     "output_type": "display_data"
    },
    {
     "name": "stdout",
     "output_type": "stream",
     "text": [
      "Epoch [27/50], loss: 0.47719 acc: 0.77496 val_loss: 0.53568, val_acc: 0.72878, auc_score: 0.80220\n"
     ]
    },
    {
     "data": {
      "application/vnd.jupyter.widget-view+json": {
       "model_id": "dc95653993d8493893dfba900ee5acec",
       "version_major": 2,
       "version_minor": 0
      },
      "text/plain": [
       "  0%|          | 0/354 [00:00<?, ?it/s]"
      ]
     },
     "metadata": {},
     "output_type": "display_data"
    },
    {
     "name": "stdout",
     "output_type": "stream",
     "text": [
      "Epoch [28/50], loss: 0.47457 acc: 0.77462 val_loss: 0.54191, val_acc: 0.72222, auc_score: 0.80384\n"
     ]
    },
    {
     "data": {
      "application/vnd.jupyter.widget-view+json": {
       "model_id": "af1c69a88e1b43e8b4fc72239a919a25",
       "version_major": 2,
       "version_minor": 0
      },
      "text/plain": [
       "  0%|          | 0/354 [00:00<?, ?it/s]"
      ]
     },
     "metadata": {},
     "output_type": "display_data"
    },
    {
     "name": "stdout",
     "output_type": "stream",
     "text": [
      "Epoch [29/50], loss: 0.47072 acc: 0.77728 val_loss: 0.53826, val_acc: 0.72685, auc_score: 0.80395\n"
     ]
    },
    {
     "data": {
      "application/vnd.jupyter.widget-view+json": {
       "model_id": "a8402a9088294d04855556e3b3f3dc45",
       "version_major": 2,
       "version_minor": 0
      },
      "text/plain": [
       "  0%|          | 0/354 [00:00<?, ?it/s]"
      ]
     },
     "metadata": {},
     "output_type": "display_data"
    },
    {
     "name": "stdout",
     "output_type": "stream",
     "text": [
      "Epoch [30/50], loss: 0.46606 acc: 0.77955 val_loss: 0.52271, val_acc: 0.73881, auc_score: 0.80345\n"
     ]
    },
    {
     "data": {
      "application/vnd.jupyter.widget-view+json": {
       "model_id": "52ce80fe71f74e3ca4c8bbe0756ab7c6",
       "version_major": 2,
       "version_minor": 0
      },
      "text/plain": [
       "  0%|          | 0/354 [00:00<?, ?it/s]"
      ]
     },
     "metadata": {},
     "output_type": "display_data"
    },
    {
     "name": "stdout",
     "output_type": "stream",
     "text": [
      "Epoch [31/50], loss: 0.46784 acc: 0.78268 val_loss: 0.53646, val_acc: 0.72685, auc_score: 0.80393\n"
     ]
    },
    {
     "data": {
      "application/vnd.jupyter.widget-view+json": {
       "model_id": "5c0d81009a79458c9166938390cd886e",
       "version_major": 2,
       "version_minor": 0
      },
      "text/plain": [
       "  0%|          | 0/354 [00:00<?, ?it/s]"
      ]
     },
     "metadata": {},
     "output_type": "display_data"
    },
    {
     "name": "stdout",
     "output_type": "stream",
     "text": [
      "Epoch [32/50], loss: 0.46381 acc: 0.78757 val_loss: 0.52621, val_acc: 0.73843, auc_score: 0.80377\n"
     ]
    },
    {
     "data": {
      "application/vnd.jupyter.widget-view+json": {
       "model_id": "c8336a8735fc4f678dbef550dd0bc12f",
       "version_major": 2,
       "version_minor": 0
      },
      "text/plain": [
       "  0%|          | 0/354 [00:00<?, ?it/s]"
      ]
     },
     "metadata": {},
     "output_type": "display_data"
    },
    {
     "name": "stdout",
     "output_type": "stream",
     "text": [
      "Epoch [33/50], loss: 0.46361 acc: 0.78397 val_loss: 0.52427, val_acc: 0.73688, auc_score: 0.80517\n"
     ]
    },
    {
     "data": {
      "application/vnd.jupyter.widget-view+json": {
       "model_id": "f2397fd03c4b4e47b02aee28f612d2db",
       "version_major": 2,
       "version_minor": 0
      },
      "text/plain": [
       "  0%|          | 0/354 [00:00<?, ?it/s]"
      ]
     },
     "metadata": {},
     "output_type": "display_data"
    },
    {
     "name": "stdout",
     "output_type": "stream",
     "text": [
      "Epoch [34/50], loss: 0.45689 acc: 0.78894 val_loss: 0.52514, val_acc: 0.73958, auc_score: 0.80538\n"
     ]
    },
    {
     "data": {
      "application/vnd.jupyter.widget-view+json": {
       "model_id": "fcab6ca235d44e229d48cd5eab22aae0",
       "version_major": 2,
       "version_minor": 0
      },
      "text/plain": [
       "  0%|          | 0/354 [00:00<?, ?it/s]"
      ]
     },
     "metadata": {},
     "output_type": "display_data"
    },
    {
     "name": "stdout",
     "output_type": "stream",
     "text": [
      "Epoch [35/50], loss: 0.45581 acc: 0.78967 val_loss: 0.52014, val_acc: 0.74228, auc_score: 0.80594\n"
     ]
    },
    {
     "data": {
      "application/vnd.jupyter.widget-view+json": {
       "model_id": "cae884faf6264f20818843b0736a9485",
       "version_major": 2,
       "version_minor": 0
      },
      "text/plain": [
       "  0%|          | 0/354 [00:00<?, ?it/s]"
      ]
     },
     "metadata": {},
     "output_type": "display_data"
    },
    {
     "name": "stdout",
     "output_type": "stream",
     "text": [
      "Epoch [36/50], loss: 0.45718 acc: 0.78830 val_loss: 0.51992, val_acc: 0.74228, auc_score: 0.80652\n"
     ]
    },
    {
     "data": {
      "application/vnd.jupyter.widget-view+json": {
       "model_id": "8aa6e8517d86438db4e43ee26e24f502",
       "version_major": 2,
       "version_minor": 0
      },
      "text/plain": [
       "  0%|          | 0/354 [00:00<?, ?it/s]"
      ]
     },
     "metadata": {},
     "output_type": "display_data"
    },
    {
     "name": "stdout",
     "output_type": "stream",
     "text": [
      "Epoch [37/50], loss: 0.44738 acc: 0.79798 val_loss: 0.53747, val_acc: 0.73225, auc_score: 0.80682\n"
     ]
    },
    {
     "data": {
      "application/vnd.jupyter.widget-view+json": {
       "model_id": "7905bd9d687b42c1a35dee5fb47c38bd",
       "version_major": 2,
       "version_minor": 0
      },
      "text/plain": [
       "  0%|          | 0/354 [00:00<?, ?it/s]"
      ]
     },
     "metadata": {},
     "output_type": "display_data"
    },
    {
     "name": "stdout",
     "output_type": "stream",
     "text": [
      "Epoch [38/50], loss: 0.44812 acc: 0.79588 val_loss: 0.54288, val_acc: 0.72685, auc_score: 0.80603\n"
     ]
    },
    {
     "data": {
      "application/vnd.jupyter.widget-view+json": {
       "model_id": "746d9b4b30be458eb49e5af568f022b1",
       "version_major": 2,
       "version_minor": 0
      },
      "text/plain": [
       "  0%|          | 0/354 [00:00<?, ?it/s]"
      ]
     },
     "metadata": {},
     "output_type": "display_data"
    },
    {
     "name": "stdout",
     "output_type": "stream",
     "text": [
      "Epoch [39/50], loss: 0.44187 acc: 0.79966 val_loss: 0.53614, val_acc: 0.72955, auc_score: 0.80672\n"
     ]
    },
    {
     "data": {
      "application/vnd.jupyter.widget-view+json": {
       "model_id": "1d04e41e543b4ebaa989b256fbd534c7",
       "version_major": 2,
       "version_minor": 0
      },
      "text/plain": [
       "  0%|          | 0/354 [00:00<?, ?it/s]"
      ]
     },
     "metadata": {},
     "output_type": "display_data"
    },
    {
     "name": "stdout",
     "output_type": "stream",
     "text": [
      "Epoch [40/50], loss: 0.44235 acc: 0.79923 val_loss: 0.52042, val_acc: 0.74151, auc_score: 0.80669\n"
     ]
    },
    {
     "data": {
      "application/vnd.jupyter.widget-view+json": {
       "model_id": "9bf5a42df8b448dcaf3b7a8a093cbb96",
       "version_major": 2,
       "version_minor": 0
      },
      "text/plain": [
       "  0%|          | 0/354 [00:00<?, ?it/s]"
      ]
     },
     "metadata": {},
     "output_type": "display_data"
    },
    {
     "name": "stdout",
     "output_type": "stream",
     "text": [
      "Epoch [41/50], loss: 0.43575 acc: 0.80343 val_loss: 0.52451, val_acc: 0.74074, auc_score: 0.80581\n"
     ]
    },
    {
     "data": {
      "application/vnd.jupyter.widget-view+json": {
       "model_id": "29970da3a73a4523b018b27913945c28",
       "version_major": 2,
       "version_minor": 0
      },
      "text/plain": [
       "  0%|          | 0/354 [00:00<?, ?it/s]"
      ]
     },
     "metadata": {},
     "output_type": "display_data"
    },
    {
     "name": "stdout",
     "output_type": "stream",
     "text": [
      "Epoch [42/50], loss: 0.43889 acc: 0.79991 val_loss: 0.51679, val_acc: 0.74691, auc_score: 0.80660\n"
     ]
    },
    {
     "data": {
      "application/vnd.jupyter.widget-view+json": {
       "model_id": "4ff62f82dfe6458a87e743632b6502a1",
       "version_major": 2,
       "version_minor": 0
      },
      "text/plain": [
       "  0%|          | 0/354 [00:00<?, ?it/s]"
      ]
     },
     "metadata": {},
     "output_type": "display_data"
    },
    {
     "name": "stdout",
     "output_type": "stream",
     "text": [
      "Epoch [43/50], loss: 0.43073 acc: 0.81080 val_loss: 0.52403, val_acc: 0.73804, auc_score: 0.80794\n"
     ]
    },
    {
     "data": {
      "application/vnd.jupyter.widget-view+json": {
       "model_id": "a44b238d101942e1864cf382cd92f828",
       "version_major": 2,
       "version_minor": 0
      },
      "text/plain": [
       "  0%|          | 0/354 [00:00<?, ?it/s]"
      ]
     },
     "metadata": {},
     "output_type": "display_data"
    },
    {
     "name": "stdout",
     "output_type": "stream",
     "text": [
      "Epoch [44/50], loss: 0.43358 acc: 0.80579 val_loss: 0.52113, val_acc: 0.74113, auc_score: 0.80715\n"
     ]
    },
    {
     "data": {
      "application/vnd.jupyter.widget-view+json": {
       "model_id": "f81040108fc043629c43fdb2b9f10f50",
       "version_major": 2,
       "version_minor": 0
      },
      "text/plain": [
       "  0%|          | 0/354 [00:00<?, ?it/s]"
      ]
     },
     "metadata": {},
     "output_type": "display_data"
    },
    {
     "name": "stdout",
     "output_type": "stream",
     "text": [
      "Epoch [45/50], loss: 0.43271 acc: 0.80630 val_loss: 0.52553, val_acc: 0.74113, auc_score: 0.80756\n"
     ]
    },
    {
     "data": {
      "application/vnd.jupyter.widget-view+json": {
       "model_id": "7f32da6c84ea467bb13e7f9c920e0f46",
       "version_major": 2,
       "version_minor": 0
      },
      "text/plain": [
       "  0%|          | 0/354 [00:00<?, ?it/s]"
      ]
     },
     "metadata": {},
     "output_type": "display_data"
    },
    {
     "name": "stdout",
     "output_type": "stream",
     "text": [
      "Epoch [46/50], loss: 0.42314 acc: 0.81179 val_loss: 0.52415, val_acc: 0.74113, auc_score: 0.80876\n"
     ]
    },
    {
     "data": {
      "application/vnd.jupyter.widget-view+json": {
       "model_id": "eaa54c93735a4a3aab6b05c56ca57a6d",
       "version_major": 2,
       "version_minor": 0
      },
      "text/plain": [
       "  0%|          | 0/354 [00:00<?, ?it/s]"
      ]
     },
     "metadata": {},
     "output_type": "display_data"
    },
    {
     "name": "stdout",
     "output_type": "stream",
     "text": [
      "Epoch [47/50], loss: 0.42051 acc: 0.81651 val_loss: 0.52586, val_acc: 0.74074, auc_score: 0.80753\n"
     ]
    },
    {
     "data": {
      "application/vnd.jupyter.widget-view+json": {
       "model_id": "5d0c3f73d888435f853593859dba48c6",
       "version_major": 2,
       "version_minor": 0
      },
      "text/plain": [
       "  0%|          | 0/354 [00:00<?, ?it/s]"
      ]
     },
     "metadata": {},
     "output_type": "display_data"
    },
    {
     "name": "stdout",
     "output_type": "stream",
     "text": [
      "Epoch [48/50], loss: 0.42571 acc: 0.81196 val_loss: 0.51666, val_acc: 0.75347, auc_score: 0.80701\n"
     ]
    },
    {
     "data": {
      "application/vnd.jupyter.widget-view+json": {
       "model_id": "96a01d4165bd4d68be6434f73fc483f7",
       "version_major": 2,
       "version_minor": 0
      },
      "text/plain": [
       "  0%|          | 0/354 [00:00<?, ?it/s]"
      ]
     },
     "metadata": {},
     "output_type": "display_data"
    },
    {
     "name": "stdout",
     "output_type": "stream",
     "text": [
      "Epoch [49/50], loss: 0.42435 acc: 0.81453 val_loss: 0.52320, val_acc: 0.74151, auc_score: 0.80801\n"
     ]
    },
    {
     "data": {
      "application/vnd.jupyter.widget-view+json": {
       "model_id": "61f2e4bf79f04dd6932d344eb39b4f07",
       "version_major": 2,
       "version_minor": 0
      },
      "text/plain": [
       "  0%|          | 0/354 [00:00<?, ?it/s]"
      ]
     },
     "metadata": {},
     "output_type": "display_data"
    },
    {
     "name": "stdout",
     "output_type": "stream",
     "text": [
      "Epoch [50/50], loss: 0.41842 acc: 0.81925 val_loss: 0.52076, val_acc: 0.74769, auc_score: 0.80390\n",
      "cv: 6\n",
      "target train 0/1: 14660/8665\n"
     ]
    },
    {
     "data": {
      "application/vnd.jupyter.widget-view+json": {
       "model_id": "fe1b4036394c438cb8f89817987c1c4f",
       "version_major": 2,
       "version_minor": 0
      },
      "text/plain": [
       "  0%|          | 0/354 [00:00<?, ?it/s]"
      ]
     },
     "metadata": {},
     "output_type": "display_data"
    },
    {
     "name": "stdout",
     "output_type": "stream",
     "text": [
      "Epoch [1/50], loss: 0.71864 acc: 0.61783 val_loss: 0.57041, val_acc: 0.69715, auc_score: 0.76472\n"
     ]
    },
    {
     "data": {
      "application/vnd.jupyter.widget-view+json": {
       "model_id": "9fae842097424c61af1d77d2ead1a0fc",
       "version_major": 2,
       "version_minor": 0
      },
      "text/plain": [
       "  0%|          | 0/354 [00:00<?, ?it/s]"
      ]
     },
     "metadata": {},
     "output_type": "display_data"
    },
    {
     "name": "stdout",
     "output_type": "stream",
     "text": [
      "Epoch [2/50], loss: 0.63883 acc: 0.66345 val_loss: 0.57606, val_acc: 0.69136, auc_score: 0.77050\n"
     ]
    },
    {
     "data": {
      "application/vnd.jupyter.widget-view+json": {
       "model_id": "b4fab2e7d47b4ec79c4e53cadaf8fa89",
       "version_major": 2,
       "version_minor": 0
      },
      "text/plain": [
       "  0%|          | 0/354 [00:00<?, ?it/s]"
      ]
     },
     "metadata": {},
     "output_type": "display_data"
    },
    {
     "name": "stdout",
     "output_type": "stream",
     "text": [
      "Epoch [3/50], loss: 0.61056 acc: 0.67704 val_loss: 0.60083, val_acc: 0.67091, auc_score: 0.77349\n"
     ]
    },
    {
     "data": {
      "application/vnd.jupyter.widget-view+json": {
       "model_id": "e1f1ae3ca8b645b18d52f9687d9538e1",
       "version_major": 2,
       "version_minor": 0
      },
      "text/plain": [
       "  0%|          | 0/354 [00:00<?, ?it/s]"
      ]
     },
     "metadata": {},
     "output_type": "display_data"
    },
    {
     "name": "stdout",
     "output_type": "stream",
     "text": [
      "Epoch [4/50], loss: 0.58990 acc: 0.68943 val_loss: 0.57071, val_acc: 0.69753, auc_score: 0.77623\n"
     ]
    },
    {
     "data": {
      "application/vnd.jupyter.widget-view+json": {
       "model_id": "5ae70a3202e7414cafc7a8fd415f08f5",
       "version_major": 2,
       "version_minor": 0
      },
      "text/plain": [
       "  0%|          | 0/354 [00:00<?, ?it/s]"
      ]
     },
     "metadata": {},
     "output_type": "display_data"
    },
    {
     "name": "stdout",
     "output_type": "stream",
     "text": [
      "Epoch [5/50], loss: 0.58735 acc: 0.68780 val_loss: 0.59608, val_acc: 0.68210, auc_score: 0.77696\n"
     ]
    },
    {
     "data": {
      "application/vnd.jupyter.widget-view+json": {
       "model_id": "29269967357c49afa995609574ec0979",
       "version_major": 2,
       "version_minor": 0
      },
      "text/plain": [
       "  0%|          | 0/354 [00:00<?, ?it/s]"
      ]
     },
     "metadata": {},
     "output_type": "display_data"
    },
    {
     "name": "stdout",
     "output_type": "stream",
     "text": [
      "Epoch [6/50], loss: 0.57253 acc: 0.70036 val_loss: 0.56971, val_acc: 0.69907, auc_score: 0.77869\n"
     ]
    },
    {
     "data": {
      "application/vnd.jupyter.widget-view+json": {
       "model_id": "9f4f2a8e82bf4856969b5f5eb6f40776",
       "version_major": 2,
       "version_minor": 0
      },
      "text/plain": [
       "  0%|          | 0/354 [00:00<?, ?it/s]"
      ]
     },
     "metadata": {},
     "output_type": "display_data"
    },
    {
     "name": "stdout",
     "output_type": "stream",
     "text": [
      "Epoch [7/50], loss: 0.56623 acc: 0.70405 val_loss: 0.57095, val_acc: 0.70100, auc_score: 0.78066\n"
     ]
    },
    {
     "data": {
      "application/vnd.jupyter.widget-view+json": {
       "model_id": "d1f69703251345a1a9b04d18cfed591d",
       "version_major": 2,
       "version_minor": 0
      },
      "text/plain": [
       "  0%|          | 0/354 [00:00<?, ?it/s]"
      ]
     },
     "metadata": {},
     "output_type": "display_data"
    },
    {
     "name": "stdout",
     "output_type": "stream",
     "text": [
      "Epoch [8/50], loss: 0.55931 acc: 0.71434 val_loss: 0.54838, val_acc: 0.72685, auc_score: 0.78317\n"
     ]
    },
    {
     "data": {
      "application/vnd.jupyter.widget-view+json": {
       "model_id": "42ebf2fc7bb24cfaa971498751f22db7",
       "version_major": 2,
       "version_minor": 0
      },
      "text/plain": [
       "  0%|          | 0/354 [00:00<?, ?it/s]"
      ]
     },
     "metadata": {},
     "output_type": "display_data"
    },
    {
     "name": "stdout",
     "output_type": "stream",
     "text": [
      "Epoch [9/50], loss: 0.55238 acc: 0.71717 val_loss: 0.59334, val_acc: 0.67670, auc_score: 0.78413\n"
     ]
    },
    {
     "data": {
      "application/vnd.jupyter.widget-view+json": {
       "model_id": "055336adb3b84a028ad0d7f509d15377",
       "version_major": 2,
       "version_minor": 0
      },
      "text/plain": [
       "  0%|          | 0/354 [00:00<?, ?it/s]"
      ]
     },
     "metadata": {},
     "output_type": "display_data"
    },
    {
     "name": "stdout",
     "output_type": "stream",
     "text": [
      "Epoch [10/50], loss: 0.54744 acc: 0.72197 val_loss: 0.55416, val_acc: 0.71798, auc_score: 0.78500\n"
     ]
    },
    {
     "data": {
      "application/vnd.jupyter.widget-view+json": {
       "model_id": "52590c354ae5420984a7fb0cdc31bae6",
       "version_major": 2,
       "version_minor": 0
      },
      "text/plain": [
       "  0%|          | 0/354 [00:00<?, ?it/s]"
      ]
     },
     "metadata": {},
     "output_type": "display_data"
    },
    {
     "name": "stdout",
     "output_type": "stream",
     "text": [
      "Epoch [11/50], loss: 0.53950 acc: 0.72446 val_loss: 0.57148, val_acc: 0.70216, auc_score: 0.78660\n"
     ]
    },
    {
     "data": {
      "application/vnd.jupyter.widget-view+json": {
       "model_id": "cbae5288f01c4db7826edb68d0c74f8d",
       "version_major": 2,
       "version_minor": 0
      },
      "text/plain": [
       "  0%|          | 0/354 [00:00<?, ?it/s]"
      ]
     },
     "metadata": {},
     "output_type": "display_data"
    },
    {
     "name": "stdout",
     "output_type": "stream",
     "text": [
      "Epoch [12/50], loss: 0.53483 acc: 0.72870 val_loss: 0.56382, val_acc: 0.71296, auc_score: 0.78830\n"
     ]
    },
    {
     "data": {
      "application/vnd.jupyter.widget-view+json": {
       "model_id": "f5cafc518fe04e8ab8de4b0831649429",
       "version_major": 2,
       "version_minor": 0
      },
      "text/plain": [
       "  0%|          | 0/354 [00:00<?, ?it/s]"
      ]
     },
     "metadata": {},
     "output_type": "display_data"
    },
    {
     "name": "stdout",
     "output_type": "stream",
     "text": [
      "Epoch [13/50], loss: 0.53243 acc: 0.73115 val_loss: 0.54634, val_acc: 0.72724, auc_score: 0.78825\n"
     ]
    },
    {
     "data": {
      "application/vnd.jupyter.widget-view+json": {
       "model_id": "2edb9b870b4f44b7a610dacc28f218ad",
       "version_major": 2,
       "version_minor": 0
      },
      "text/plain": [
       "  0%|          | 0/354 [00:00<?, ?it/s]"
      ]
     },
     "metadata": {},
     "output_type": "display_data"
    },
    {
     "name": "stdout",
     "output_type": "stream",
     "text": [
      "Epoch [14/50], loss: 0.52650 acc: 0.73638 val_loss: 0.55378, val_acc: 0.72261, auc_score: 0.78940\n"
     ]
    },
    {
     "data": {
      "application/vnd.jupyter.widget-view+json": {
       "model_id": "03bd5cada6d24fa992ad9040e3117031",
       "version_major": 2,
       "version_minor": 0
      },
      "text/plain": [
       "  0%|          | 0/354 [00:00<?, ?it/s]"
      ]
     },
     "metadata": {},
     "output_type": "display_data"
    },
    {
     "name": "stdout",
     "output_type": "stream",
     "text": [
      "Epoch [15/50], loss: 0.52886 acc: 0.73218 val_loss: 0.55111, val_acc: 0.72569, auc_score: 0.79030\n"
     ]
    },
    {
     "data": {
      "application/vnd.jupyter.widget-view+json": {
       "model_id": "2780b0d3ab2d4b01932b2b45bd5c1fae",
       "version_major": 2,
       "version_minor": 0
      },
      "text/plain": [
       "  0%|          | 0/354 [00:00<?, ?it/s]"
      ]
     },
     "metadata": {},
     "output_type": "display_data"
    },
    {
     "name": "stdout",
     "output_type": "stream",
     "text": [
      "Epoch [16/50], loss: 0.52170 acc: 0.73921 val_loss: 0.54370, val_acc: 0.73148, auc_score: 0.79094\n"
     ]
    },
    {
     "data": {
      "application/vnd.jupyter.widget-view+json": {
       "model_id": "eb4543ed60aa4c5ea776a60ba1d4b0ed",
       "version_major": 2,
       "version_minor": 0
      },
      "text/plain": [
       "  0%|          | 0/354 [00:00<?, ?it/s]"
      ]
     },
     "metadata": {},
     "output_type": "display_data"
    },
    {
     "name": "stdout",
     "output_type": "stream",
     "text": [
      "Epoch [17/50], loss: 0.51900 acc: 0.74165 val_loss: 0.54446, val_acc: 0.72917, auc_score: 0.79258\n"
     ]
    },
    {
     "data": {
      "application/vnd.jupyter.widget-view+json": {
       "model_id": "f820aba1e06a42959b72c6661b40d9d8",
       "version_major": 2,
       "version_minor": 0
      },
      "text/plain": [
       "  0%|          | 0/354 [00:00<?, ?it/s]"
      ]
     },
     "metadata": {},
     "output_type": "display_data"
    },
    {
     "name": "stdout",
     "output_type": "stream",
     "text": [
      "Epoch [18/50], loss: 0.51622 acc: 0.74448 val_loss: 0.54962, val_acc: 0.72222, auc_score: 0.79203\n"
     ]
    },
    {
     "data": {
      "application/vnd.jupyter.widget-view+json": {
       "model_id": "702366ae554248cba72cd93faf5e5c37",
       "version_major": 2,
       "version_minor": 0
      },
      "text/plain": [
       "  0%|          | 0/354 [00:00<?, ?it/s]"
      ]
     },
     "metadata": {},
     "output_type": "display_data"
    },
    {
     "name": "stdout",
     "output_type": "stream",
     "text": [
      "Epoch [19/50], loss: 0.50775 acc: 0.75044 val_loss: 0.54044, val_acc: 0.73148, auc_score: 0.79254\n"
     ]
    },
    {
     "data": {
      "application/vnd.jupyter.widget-view+json": {
       "model_id": "8b4c47f39bd241dda59192f7b5707791",
       "version_major": 2,
       "version_minor": 0
      },
      "text/plain": [
       "  0%|          | 0/354 [00:00<?, ?it/s]"
      ]
     },
     "metadata": {},
     "output_type": "display_data"
    },
    {
     "name": "stdout",
     "output_type": "stream",
     "text": [
      "Epoch [20/50], loss: 0.50930 acc: 0.74997 val_loss: 0.53473, val_acc: 0.73650, auc_score: 0.79398\n"
     ]
    },
    {
     "data": {
      "application/vnd.jupyter.widget-view+json": {
       "model_id": "fef371a6047a41979f8900ad52b0d7f1",
       "version_major": 2,
       "version_minor": 0
      },
      "text/plain": [
       "  0%|          | 0/354 [00:00<?, ?it/s]"
      ]
     },
     "metadata": {},
     "output_type": "display_data"
    },
    {
     "name": "stdout",
     "output_type": "stream",
     "text": [
      "Epoch [21/50], loss: 0.50225 acc: 0.75331 val_loss: 0.53813, val_acc: 0.73495, auc_score: 0.79329\n"
     ]
    },
    {
     "data": {
      "application/vnd.jupyter.widget-view+json": {
       "model_id": "24b953e13f3b4732a223e5dd4f287af9",
       "version_major": 2,
       "version_minor": 0
      },
      "text/plain": [
       "  0%|          | 0/354 [00:00<?, ?it/s]"
      ]
     },
     "metadata": {},
     "output_type": "display_data"
    },
    {
     "name": "stdout",
     "output_type": "stream",
     "text": [
      "Epoch [22/50], loss: 0.49729 acc: 0.75721 val_loss: 0.55637, val_acc: 0.71798, auc_score: 0.79534\n"
     ]
    },
    {
     "data": {
      "application/vnd.jupyter.widget-view+json": {
       "model_id": "51b9b09a69284a5daf2addb7a4de2424",
       "version_major": 2,
       "version_minor": 0
      },
      "text/plain": [
       "  0%|          | 0/354 [00:00<?, ?it/s]"
      ]
     },
     "metadata": {},
     "output_type": "display_data"
    },
    {
     "name": "stdout",
     "output_type": "stream",
     "text": [
      "Epoch [23/50], loss: 0.49771 acc: 0.75760 val_loss: 0.56260, val_acc: 0.71836, auc_score: 0.79507\n"
     ]
    },
    {
     "data": {
      "application/vnd.jupyter.widget-view+json": {
       "model_id": "8424855dccba467790ec8469b92e7adf",
       "version_major": 2,
       "version_minor": 0
      },
      "text/plain": [
       "  0%|          | 0/354 [00:00<?, ?it/s]"
      ]
     },
     "metadata": {},
     "output_type": "display_data"
    },
    {
     "name": "stdout",
     "output_type": "stream",
     "text": [
      "Epoch [24/50], loss: 0.48887 acc: 0.76613 val_loss: 0.53597, val_acc: 0.73650, auc_score: 0.79531\n"
     ]
    },
    {
     "data": {
      "application/vnd.jupyter.widget-view+json": {
       "model_id": "6a116a7a41b0442c816beb6eaef9bfc5",
       "version_major": 2,
       "version_minor": 0
      },
      "text/plain": [
       "  0%|          | 0/354 [00:00<?, ?it/s]"
      ]
     },
     "metadata": {},
     "output_type": "display_data"
    },
    {
     "name": "stdout",
     "output_type": "stream",
     "text": [
      "Epoch [25/50], loss: 0.48738 acc: 0.76514 val_loss: 0.54487, val_acc: 0.72994, auc_score: 0.79760\n"
     ]
    },
    {
     "data": {
      "application/vnd.jupyter.widget-view+json": {
       "model_id": "2e09e5bb04c44eb785cbef1e8d9c9141",
       "version_major": 2,
       "version_minor": 0
      },
      "text/plain": [
       "  0%|          | 0/354 [00:00<?, ?it/s]"
      ]
     },
     "metadata": {},
     "output_type": "display_data"
    },
    {
     "name": "stdout",
     "output_type": "stream",
     "text": [
      "Epoch [26/50], loss: 0.48342 acc: 0.76656 val_loss: 0.54152, val_acc: 0.73457, auc_score: 0.79699\n"
     ]
    },
    {
     "data": {
      "application/vnd.jupyter.widget-view+json": {
       "model_id": "54bdf0381a6d49b99a8796f5de8eea31",
       "version_major": 2,
       "version_minor": 0
      },
      "text/plain": [
       "  0%|          | 0/354 [00:00<?, ?it/s]"
      ]
     },
     "metadata": {},
     "output_type": "display_data"
    },
    {
     "name": "stdout",
     "output_type": "stream",
     "text": [
      "Epoch [27/50], loss: 0.47692 acc: 0.77256 val_loss: 0.55119, val_acc: 0.72068, auc_score: 0.79759\n"
     ]
    },
    {
     "data": {
      "application/vnd.jupyter.widget-view+json": {
       "model_id": "b53da1d1f6f746a5b8e8f9140341e3d3",
       "version_major": 2,
       "version_minor": 0
      },
      "text/plain": [
       "  0%|          | 0/354 [00:00<?, ?it/s]"
      ]
     },
     "metadata": {},
     "output_type": "display_data"
    },
    {
     "name": "stdout",
     "output_type": "stream",
     "text": [
      "Epoch [28/50], loss: 0.48023 acc: 0.77226 val_loss: 0.54528, val_acc: 0.73110, auc_score: 0.79732\n"
     ]
    },
    {
     "data": {
      "application/vnd.jupyter.widget-view+json": {
       "model_id": "96af21bab97b43bfab5aa281473dfd96",
       "version_major": 2,
       "version_minor": 0
      },
      "text/plain": [
       "  0%|          | 0/354 [00:00<?, ?it/s]"
      ]
     },
     "metadata": {},
     "output_type": "display_data"
    },
    {
     "name": "stdout",
     "output_type": "stream",
     "text": [
      "Epoch [29/50], loss: 0.47142 acc: 0.77248 val_loss: 0.53987, val_acc: 0.73110, auc_score: 0.79842\n"
     ]
    },
    {
     "data": {
      "application/vnd.jupyter.widget-view+json": {
       "model_id": "db22dc07563d427fbf213c29d17cf444",
       "version_major": 2,
       "version_minor": 0
      },
      "text/plain": [
       "  0%|          | 0/354 [00:00<?, ?it/s]"
      ]
     },
     "metadata": {},
     "output_type": "display_data"
    },
    {
     "name": "stdout",
     "output_type": "stream",
     "text": [
      "Epoch [30/50], loss: 0.46705 acc: 0.78238 val_loss: 0.54595, val_acc: 0.72840, auc_score: 0.79845\n"
     ]
    },
    {
     "data": {
      "application/vnd.jupyter.widget-view+json": {
       "model_id": "914e1084bd5c4331bbd8e3dd57412099",
       "version_major": 2,
       "version_minor": 0
      },
      "text/plain": [
       "  0%|          | 0/354 [00:00<?, ?it/s]"
      ]
     },
     "metadata": {},
     "output_type": "display_data"
    },
    {
     "name": "stdout",
     "output_type": "stream",
     "text": [
      "Epoch [31/50], loss: 0.46883 acc: 0.78096 val_loss: 0.56801, val_acc: 0.70910, auc_score: 0.79911\n"
     ]
    },
    {
     "data": {
      "application/vnd.jupyter.widget-view+json": {
       "model_id": "24dd028a955a4a45a62550c9fd2d3ca7",
       "version_major": 2,
       "version_minor": 0
      },
      "text/plain": [
       "  0%|          | 0/354 [00:00<?, ?it/s]"
      ]
     },
     "metadata": {},
     "output_type": "display_data"
    },
    {
     "name": "stdout",
     "output_type": "stream",
     "text": [
      "Epoch [32/50], loss: 0.46412 acc: 0.78109 val_loss: 0.54051, val_acc: 0.73418, auc_score: 0.80037\n"
     ]
    },
    {
     "data": {
      "application/vnd.jupyter.widget-view+json": {
       "model_id": "49466030952f4bebaa8ad25cfbf47ce6",
       "version_major": 2,
       "version_minor": 0
      },
      "text/plain": [
       "  0%|          | 0/354 [00:00<?, ?it/s]"
      ]
     },
     "metadata": {},
     "output_type": "display_data"
    },
    {
     "name": "stdout",
     "output_type": "stream",
     "text": [
      "Epoch [33/50], loss: 0.45783 acc: 0.79125 val_loss: 0.53171, val_acc: 0.74228, auc_score: 0.79887\n"
     ]
    },
    {
     "data": {
      "application/vnd.jupyter.widget-view+json": {
       "model_id": "56bafff2736742ebaa739247901f2dc4",
       "version_major": 2,
       "version_minor": 0
      },
      "text/plain": [
       "  0%|          | 0/354 [00:00<?, ?it/s]"
      ]
     },
     "metadata": {},
     "output_type": "display_data"
    },
    {
     "name": "stdout",
     "output_type": "stream",
     "text": [
      "Epoch [34/50], loss: 0.45157 acc: 0.79245 val_loss: 0.55158, val_acc: 0.72840, auc_score: 0.79943\n"
     ]
    },
    {
     "data": {
      "application/vnd.jupyter.widget-view+json": {
       "model_id": "053e2573a2404d9a9a61901d1da33002",
       "version_major": 2,
       "version_minor": 0
      },
      "text/plain": [
       "  0%|          | 0/354 [00:00<?, ?it/s]"
      ]
     },
     "metadata": {},
     "output_type": "display_data"
    },
    {
     "name": "stdout",
     "output_type": "stream",
     "text": [
      "Epoch [35/50], loss: 0.45384 acc: 0.79083 val_loss: 0.55262, val_acc: 0.73148, auc_score: 0.79903\n"
     ]
    },
    {
     "data": {
      "application/vnd.jupyter.widget-view+json": {
       "model_id": "4c9aa6243f394a1cb92545628fd73ab9",
       "version_major": 2,
       "version_minor": 0
      },
      "text/plain": [
       "  0%|          | 0/354 [00:00<?, ?it/s]"
      ]
     },
     "metadata": {},
     "output_type": "display_data"
    },
    {
     "name": "stdout",
     "output_type": "stream",
     "text": [
      "Epoch [36/50], loss: 0.45452 acc: 0.79010 val_loss: 0.55897, val_acc: 0.71914, auc_score: 0.79925\n"
     ]
    },
    {
     "data": {
      "application/vnd.jupyter.widget-view+json": {
       "model_id": "5bd57a4dfe334f64bc1f76584524ff49",
       "version_major": 2,
       "version_minor": 0
      },
      "text/plain": [
       "  0%|          | 0/354 [00:00<?, ?it/s]"
      ]
     },
     "metadata": {},
     "output_type": "display_data"
    },
    {
     "name": "stdout",
     "output_type": "stream",
     "text": [
      "Epoch [37/50], loss: 0.44637 acc: 0.79863 val_loss: 0.53839, val_acc: 0.73534, auc_score: 0.80036\n"
     ]
    },
    {
     "data": {
      "application/vnd.jupyter.widget-view+json": {
       "model_id": "ea049567acad4d78b5687001151d7a45",
       "version_major": 2,
       "version_minor": 0
      },
      "text/plain": [
       "  0%|          | 0/354 [00:00<?, ?it/s]"
      ]
     },
     "metadata": {},
     "output_type": "display_data"
    },
    {
     "name": "stdout",
     "output_type": "stream",
     "text": [
      "Epoch [38/50], loss: 0.44731 acc: 0.79661 val_loss: 0.54306, val_acc: 0.73225, auc_score: 0.79949\n"
     ]
    },
    {
     "data": {
      "application/vnd.jupyter.widget-view+json": {
       "model_id": "ede427376fb5408198d99f32cc729899",
       "version_major": 2,
       "version_minor": 0
      },
      "text/plain": [
       "  0%|          | 0/354 [00:00<?, ?it/s]"
      ]
     },
     "metadata": {},
     "output_type": "display_data"
    },
    {
     "name": "stdout",
     "output_type": "stream",
     "text": [
      "Epoch [39/50], loss: 0.44100 acc: 0.80081 val_loss: 0.53544, val_acc: 0.74190, auc_score: 0.80122\n"
     ]
    },
    {
     "data": {
      "application/vnd.jupyter.widget-view+json": {
       "model_id": "2a793f59a2df497bba90c6f4f0b5471c",
       "version_major": 2,
       "version_minor": 0
      },
      "text/plain": [
       "  0%|          | 0/354 [00:00<?, ?it/s]"
      ]
     },
     "metadata": {},
     "output_type": "display_data"
    },
    {
     "name": "stdout",
     "output_type": "stream",
     "text": [
      "Epoch [40/50], loss: 0.43988 acc: 0.80364 val_loss: 0.53710, val_acc: 0.73650, auc_score: 0.79962\n"
     ]
    },
    {
     "data": {
      "application/vnd.jupyter.widget-view+json": {
       "model_id": "c9152e34ebe44853ac8109a42a7ee2d2",
       "version_major": 2,
       "version_minor": 0
      },
      "text/plain": [
       "  0%|          | 0/354 [00:00<?, ?it/s]"
      ]
     },
     "metadata": {},
     "output_type": "display_data"
    },
    {
     "name": "stdout",
     "output_type": "stream",
     "text": [
      "Epoch [41/50], loss: 0.43766 acc: 0.80274 val_loss: 0.53466, val_acc: 0.73611, auc_score: 0.80288\n"
     ]
    },
    {
     "data": {
      "application/vnd.jupyter.widget-view+json": {
       "model_id": "60d816f2cea44b84941a60fe239c0528",
       "version_major": 2,
       "version_minor": 0
      },
      "text/plain": [
       "  0%|          | 0/354 [00:00<?, ?it/s]"
      ]
     },
     "metadata": {},
     "output_type": "display_data"
    },
    {
     "name": "stdout",
     "output_type": "stream",
     "text": [
      "Epoch [42/50], loss: 0.43604 acc: 0.80647 val_loss: 0.55644, val_acc: 0.72377, auc_score: 0.80249\n"
     ]
    },
    {
     "data": {
      "application/vnd.jupyter.widget-view+json": {
       "model_id": "7e896cb1ef984a8c94f2c38944738fb6",
       "version_major": 2,
       "version_minor": 0
      },
      "text/plain": [
       "  0%|          | 0/354 [00:00<?, ?it/s]"
      ]
     },
     "metadata": {},
     "output_type": "display_data"
    },
    {
     "name": "stdout",
     "output_type": "stream",
     "text": [
      "Epoch [43/50], loss: 0.43329 acc: 0.80562 val_loss: 0.55146, val_acc: 0.72724, auc_score: 0.80232\n"
     ]
    },
    {
     "data": {
      "application/vnd.jupyter.widget-view+json": {
       "model_id": "7872898869f9416a8636e53325bac4b5",
       "version_major": 2,
       "version_minor": 0
      },
      "text/plain": [
       "  0%|          | 0/354 [00:00<?, ?it/s]"
      ]
     },
     "metadata": {},
     "output_type": "display_data"
    },
    {
     "name": "stdout",
     "output_type": "stream",
     "text": [
      "Epoch [44/50], loss: 0.42642 acc: 0.81093 val_loss: 0.54934, val_acc: 0.72454, auc_score: 0.80238\n"
     ]
    },
    {
     "data": {
      "application/vnd.jupyter.widget-view+json": {
       "model_id": "e12238c47bd04592b646ed96fdebbc87",
       "version_major": 2,
       "version_minor": 0
      },
      "text/plain": [
       "  0%|          | 0/354 [00:00<?, ?it/s]"
      ]
     },
     "metadata": {},
     "output_type": "display_data"
    },
    {
     "name": "stdout",
     "output_type": "stream",
     "text": [
      "Epoch [45/50], loss: 0.42967 acc: 0.80840 val_loss: 0.54477, val_acc: 0.72994, auc_score: 0.80167\n"
     ]
    },
    {
     "data": {
      "application/vnd.jupyter.widget-view+json": {
       "model_id": "88d0dc8946a04f52bff6a60fb8be5b85",
       "version_major": 2,
       "version_minor": 0
      },
      "text/plain": [
       "  0%|          | 0/354 [00:00<?, ?it/s]"
      ]
     },
     "metadata": {},
     "output_type": "display_data"
    },
    {
     "name": "stdout",
     "output_type": "stream",
     "text": [
      "Epoch [46/50], loss: 0.43017 acc: 0.80840 val_loss: 0.53400, val_acc: 0.73843, auc_score: 0.80113\n"
     ]
    },
    {
     "data": {
      "application/vnd.jupyter.widget-view+json": {
       "model_id": "44654e84c2f440e083b2feafb7f7eb8e",
       "version_major": 2,
       "version_minor": 0
      },
      "text/plain": [
       "  0%|          | 0/354 [00:00<?, ?it/s]"
      ]
     },
     "metadata": {},
     "output_type": "display_data"
    },
    {
     "name": "stdout",
     "output_type": "stream",
     "text": [
      "Epoch [47/50], loss: 0.42174 acc: 0.81745 val_loss: 0.54519, val_acc: 0.73302, auc_score: 0.80262\n"
     ]
    },
    {
     "data": {
      "application/vnd.jupyter.widget-view+json": {
       "model_id": "f494afefab7845ea9ebc0f7d653aebe8",
       "version_major": 2,
       "version_minor": 0
      },
      "text/plain": [
       "  0%|          | 0/354 [00:00<?, ?it/s]"
      ]
     },
     "metadata": {},
     "output_type": "display_data"
    },
    {
     "name": "stdout",
     "output_type": "stream",
     "text": [
      "Epoch [48/50], loss: 0.42431 acc: 0.81205 val_loss: 0.54195, val_acc: 0.73110, auc_score: 0.80227\n"
     ]
    },
    {
     "data": {
      "application/vnd.jupyter.widget-view+json": {
       "model_id": "d04091ed15e84d2a92d24a7a8a67ff11",
       "version_major": 2,
       "version_minor": 0
      },
      "text/plain": [
       "  0%|          | 0/354 [00:00<?, ?it/s]"
      ]
     },
     "metadata": {},
     "output_type": "display_data"
    },
    {
     "name": "stdout",
     "output_type": "stream",
     "text": [
      "Epoch [49/50], loss: 0.42283 acc: 0.81496 val_loss: 0.53388, val_acc: 0.73457, auc_score: 0.80161\n"
     ]
    },
    {
     "data": {
      "application/vnd.jupyter.widget-view+json": {
       "model_id": "541fbf806dec4a3e83558a3465180407",
       "version_major": 2,
       "version_minor": 0
      },
      "text/plain": [
       "  0%|          | 0/354 [00:00<?, ?it/s]"
      ]
     },
     "metadata": {},
     "output_type": "display_data"
    },
    {
     "name": "stdout",
     "output_type": "stream",
     "text": [
      "Epoch [50/50], loss: 0.41925 acc: 0.81398 val_loss: 0.54714, val_acc: 0.72878, auc_score: 0.80390\n",
      "cv: 7\n",
      "target train 0/1: 14735/8590\n"
     ]
    },
    {
     "data": {
      "application/vnd.jupyter.widget-view+json": {
       "model_id": "25f1ef84539c4d468bf26e19ec0b792d",
       "version_major": 2,
       "version_minor": 0
      },
      "text/plain": [
       "  0%|          | 0/354 [00:00<?, ?it/s]"
      ]
     },
     "metadata": {},
     "output_type": "display_data"
    },
    {
     "name": "stdout",
     "output_type": "stream",
     "text": [
      "Epoch [1/50], loss: 0.72691 acc: 0.61441 val_loss: 0.55534, val_acc: 0.71798, auc_score: 0.78160\n"
     ]
    },
    {
     "data": {
      "application/vnd.jupyter.widget-view+json": {
       "model_id": "4b291a8792d7444e94a667890b82ec1b",
       "version_major": 2,
       "version_minor": 0
      },
      "text/plain": [
       "  0%|          | 0/354 [00:00<?, ?it/s]"
      ]
     },
     "metadata": {},
     "output_type": "display_data"
    },
    {
     "name": "stdout",
     "output_type": "stream",
     "text": [
      "Epoch [2/50], loss: 0.65193 acc: 0.65282 val_loss: 0.57309, val_acc: 0.70293, auc_score: 0.78645\n"
     ]
    },
    {
     "data": {
      "application/vnd.jupyter.widget-view+json": {
       "model_id": "2140bf420d9f42e69cf38603783006c7",
       "version_major": 2,
       "version_minor": 0
      },
      "text/plain": [
       "  0%|          | 0/354 [00:00<?, ?it/s]"
      ]
     },
     "metadata": {},
     "output_type": "display_data"
    },
    {
     "name": "stdout",
     "output_type": "stream",
     "text": [
      "Epoch [3/50], loss: 0.62060 acc: 0.66778 val_loss: 0.54713, val_acc: 0.72608, auc_score: 0.78816\n"
     ]
    },
    {
     "data": {
      "application/vnd.jupyter.widget-view+json": {
       "model_id": "7edec7c81bfb4bce9072659360081e3c",
       "version_major": 2,
       "version_minor": 0
      },
      "text/plain": [
       "  0%|          | 0/354 [00:00<?, ?it/s]"
      ]
     },
     "metadata": {},
     "output_type": "display_data"
    },
    {
     "name": "stdout",
     "output_type": "stream",
     "text": [
      "Epoch [4/50], loss: 0.59715 acc: 0.68733 val_loss: 0.54405, val_acc: 0.72840, auc_score: 0.78944\n"
     ]
    },
    {
     "data": {
      "application/vnd.jupyter.widget-view+json": {
       "model_id": "b9c15e343588463cb4f07bcb7b425323",
       "version_major": 2,
       "version_minor": 0
      },
      "text/plain": [
       "  0%|          | 0/354 [00:00<?, ?it/s]"
      ]
     },
     "metadata": {},
     "output_type": "display_data"
    },
    {
     "name": "stdout",
     "output_type": "stream",
     "text": [
      "Epoch [5/50], loss: 0.57808 acc: 0.69719 val_loss: 0.55624, val_acc: 0.71798, auc_score: 0.79174\n"
     ]
    },
    {
     "data": {
      "application/vnd.jupyter.widget-view+json": {
       "model_id": "16ceace117d24c2082468df1f7de0894",
       "version_major": 2,
       "version_minor": 0
      },
      "text/plain": [
       "  0%|          | 0/354 [00:00<?, ?it/s]"
      ]
     },
     "metadata": {},
     "output_type": "display_data"
    },
    {
     "name": "stdout",
     "output_type": "stream",
     "text": [
      "Epoch [6/50], loss: 0.57545 acc: 0.69783 val_loss: 0.55478, val_acc: 0.72299, auc_score: 0.79305\n"
     ]
    },
    {
     "data": {
      "application/vnd.jupyter.widget-view+json": {
       "model_id": "bd5ecf054b7f4e17b7f92e715e99abf0",
       "version_major": 2,
       "version_minor": 0
      },
      "text/plain": [
       "  0%|          | 0/354 [00:00<?, ?it/s]"
      ]
     },
     "metadata": {},
     "output_type": "display_data"
    },
    {
     "name": "stdout",
     "output_type": "stream",
     "text": [
      "Epoch [7/50], loss: 0.56951 acc: 0.70161 val_loss: 0.55501, val_acc: 0.72569, auc_score: 0.79341\n"
     ]
    },
    {
     "data": {
      "application/vnd.jupyter.widget-view+json": {
       "model_id": "bd795ac4773d4d5abfeb8fe69f6bdfc2",
       "version_major": 2,
       "version_minor": 0
      },
      "text/plain": [
       "  0%|          | 0/354 [00:00<?, ?it/s]"
      ]
     },
     "metadata": {},
     "output_type": "display_data"
    },
    {
     "name": "stdout",
     "output_type": "stream",
     "text": [
      "Epoch [8/50], loss: 0.55494 acc: 0.71361 val_loss: 0.53973, val_acc: 0.73727, auc_score: 0.79456\n"
     ]
    },
    {
     "data": {
      "application/vnd.jupyter.widget-view+json": {
       "model_id": "a951a149db324343b827cb70013a6e8f",
       "version_major": 2,
       "version_minor": 0
      },
      "text/plain": [
       "  0%|          | 0/354 [00:00<?, ?it/s]"
      ]
     },
     "metadata": {},
     "output_type": "display_data"
    },
    {
     "name": "stdout",
     "output_type": "stream",
     "text": [
      "Epoch [9/50], loss: 0.54812 acc: 0.72064 val_loss: 0.53422, val_acc: 0.73727, auc_score: 0.79568\n"
     ]
    },
    {
     "data": {
      "application/vnd.jupyter.widget-view+json": {
       "model_id": "b154961e747340f4a802f8cdf4c5d5f2",
       "version_major": 2,
       "version_minor": 0
      },
      "text/plain": [
       "  0%|          | 0/354 [00:00<?, ?it/s]"
      ]
     },
     "metadata": {},
     "output_type": "display_data"
    },
    {
     "name": "stdout",
     "output_type": "stream",
     "text": [
      "Epoch [10/50], loss: 0.54985 acc: 0.72039 val_loss: 0.54523, val_acc: 0.73264, auc_score: 0.79666\n"
     ]
    },
    {
     "data": {
      "application/vnd.jupyter.widget-view+json": {
       "model_id": "df48cd5d73e74270a19b89faa4a86610",
       "version_major": 2,
       "version_minor": 0
      },
      "text/plain": [
       "  0%|          | 0/354 [00:00<?, ?it/s]"
      ]
     },
     "metadata": {},
     "output_type": "display_data"
    },
    {
     "name": "stdout",
     "output_type": "stream",
     "text": [
      "Epoch [11/50], loss: 0.54572 acc: 0.72184 val_loss: 0.52661, val_acc: 0.74691, auc_score: 0.79846\n"
     ]
    },
    {
     "data": {
      "application/vnd.jupyter.widget-view+json": {
       "model_id": "1f4eac95a901486ea8139b19e35f6033",
       "version_major": 2,
       "version_minor": 0
      },
      "text/plain": [
       "  0%|          | 0/354 [00:00<?, ?it/s]"
      ]
     },
     "metadata": {},
     "output_type": "display_data"
    },
    {
     "name": "stdout",
     "output_type": "stream",
     "text": [
      "Epoch [12/50], loss: 0.54654 acc: 0.72364 val_loss: 0.54415, val_acc: 0.73457, auc_score: 0.79995\n"
     ]
    },
    {
     "data": {
      "application/vnd.jupyter.widget-view+json": {
       "model_id": "09bbf81604ff46459fc1d29ae1c51108",
       "version_major": 2,
       "version_minor": 0
      },
      "text/plain": [
       "  0%|          | 0/354 [00:00<?, ?it/s]"
      ]
     },
     "metadata": {},
     "output_type": "display_data"
    },
    {
     "name": "stdout",
     "output_type": "stream",
     "text": [
      "Epoch [13/50], loss: 0.53735 acc: 0.72690 val_loss: 0.54063, val_acc: 0.73997, auc_score: 0.80113\n"
     ]
    },
    {
     "data": {
      "application/vnd.jupyter.widget-view+json": {
       "model_id": "e34ab8e351f440d795fc70d2a8ab9bd6",
       "version_major": 2,
       "version_minor": 0
      },
      "text/plain": [
       "  0%|          | 0/354 [00:00<?, ?it/s]"
      ]
     },
     "metadata": {},
     "output_type": "display_data"
    },
    {
     "name": "stdout",
     "output_type": "stream",
     "text": [
      "Epoch [14/50], loss: 0.53223 acc: 0.73076 val_loss: 0.53182, val_acc: 0.74228, auc_score: 0.80256\n"
     ]
    },
    {
     "data": {
      "application/vnd.jupyter.widget-view+json": {
       "model_id": "c0a97a4543b04575a6c81ad84c95b2e7",
       "version_major": 2,
       "version_minor": 0
      },
      "text/plain": [
       "  0%|          | 0/354 [00:00<?, ?it/s]"
      ]
     },
     "metadata": {},
     "output_type": "display_data"
    },
    {
     "name": "stdout",
     "output_type": "stream",
     "text": [
      "Epoch [15/50], loss: 0.52873 acc: 0.73115 val_loss: 0.52610, val_acc: 0.74306, auc_score: 0.80201\n"
     ]
    },
    {
     "data": {
      "application/vnd.jupyter.widget-view+json": {
       "model_id": "6d87a87aeec34b9d83edb87927e7de92",
       "version_major": 2,
       "version_minor": 0
      },
      "text/plain": [
       "  0%|          | 0/354 [00:00<?, ?it/s]"
      ]
     },
     "metadata": {},
     "output_type": "display_data"
    },
    {
     "name": "stdout",
     "output_type": "stream",
     "text": [
      "Epoch [16/50], loss: 0.52810 acc: 0.73393 val_loss: 0.53951, val_acc: 0.74035, auc_score: 0.80346\n"
     ]
    },
    {
     "data": {
      "application/vnd.jupyter.widget-view+json": {
       "model_id": "127103872418475e97f5f53e8fcf74fd",
       "version_major": 2,
       "version_minor": 0
      },
      "text/plain": [
       "  0%|          | 0/354 [00:00<?, ?it/s]"
      ]
     },
     "metadata": {},
     "output_type": "display_data"
    },
    {
     "name": "stdout",
     "output_type": "stream",
     "text": [
      "Epoch [17/50], loss: 0.52202 acc: 0.73994 val_loss: 0.53900, val_acc: 0.74035, auc_score: 0.80362\n"
     ]
    },
    {
     "data": {
      "application/vnd.jupyter.widget-view+json": {
       "model_id": "3fe23c04c3854f92adbfb9c64e6b34aa",
       "version_major": 2,
       "version_minor": 0
      },
      "text/plain": [
       "  0%|          | 0/354 [00:00<?, ?it/s]"
      ]
     },
     "metadata": {},
     "output_type": "display_data"
    },
    {
     "name": "stdout",
     "output_type": "stream",
     "text": [
      "Epoch [18/50], loss: 0.51769 acc: 0.74264 val_loss: 0.53633, val_acc: 0.74035, auc_score: 0.80392\n"
     ]
    },
    {
     "data": {
      "application/vnd.jupyter.widget-view+json": {
       "model_id": "e36ff2d497fd499f8b61a9dbd06825ee",
       "version_major": 2,
       "version_minor": 0
      },
      "text/plain": [
       "  0%|          | 0/354 [00:00<?, ?it/s]"
      ]
     },
     "metadata": {},
     "output_type": "display_data"
    },
    {
     "name": "stdout",
     "output_type": "stream",
     "text": [
      "Epoch [19/50], loss: 0.51441 acc: 0.74641 val_loss: 0.53969, val_acc: 0.73650, auc_score: 0.80501\n"
     ]
    },
    {
     "data": {
      "application/vnd.jupyter.widget-view+json": {
       "model_id": "3501059033934bbead05a3c992edef19",
       "version_major": 2,
       "version_minor": 0
      },
      "text/plain": [
       "  0%|          | 0/354 [00:00<?, ?it/s]"
      ]
     },
     "metadata": {},
     "output_type": "display_data"
    },
    {
     "name": "stdout",
     "output_type": "stream",
     "text": [
      "Epoch [20/50], loss: 0.50800 acc: 0.74971 val_loss: 0.53627, val_acc: 0.73958, auc_score: 0.80531\n"
     ]
    },
    {
     "data": {
      "application/vnd.jupyter.widget-view+json": {
       "model_id": "94766aa4aed54a57838e1d4462b0b89e",
       "version_major": 2,
       "version_minor": 0
      },
      "text/plain": [
       "  0%|          | 0/354 [00:00<?, ?it/s]"
      ]
     },
     "metadata": {},
     "output_type": "display_data"
    },
    {
     "name": "stdout",
     "output_type": "stream",
     "text": [
      "Epoch [21/50], loss: 0.50645 acc: 0.75113 val_loss: 0.52259, val_acc: 0.74884, auc_score: 0.80617\n"
     ]
    },
    {
     "data": {
      "application/vnd.jupyter.widget-view+json": {
       "model_id": "09f2370d89894e1e9dd834d291975dc6",
       "version_major": 2,
       "version_minor": 0
      },
      "text/plain": [
       "  0%|          | 0/354 [00:00<?, ?it/s]"
      ]
     },
     "metadata": {},
     "output_type": "display_data"
    },
    {
     "name": "stdout",
     "output_type": "stream",
     "text": [
      "Epoch [22/50], loss: 0.49871 acc: 0.75614 val_loss: 0.52410, val_acc: 0.74460, auc_score: 0.80583\n"
     ]
    },
    {
     "data": {
      "application/vnd.jupyter.widget-view+json": {
       "model_id": "02ab29ee9a6b43a5bb82b423f1dee6a6",
       "version_major": 2,
       "version_minor": 0
      },
      "text/plain": [
       "  0%|          | 0/354 [00:00<?, ?it/s]"
      ]
     },
     "metadata": {},
     "output_type": "display_data"
    },
    {
     "name": "stdout",
     "output_type": "stream",
     "text": [
      "Epoch [23/50], loss: 0.50042 acc: 0.75606 val_loss: 0.52813, val_acc: 0.74113, auc_score: 0.80607\n"
     ]
    },
    {
     "data": {
      "application/vnd.jupyter.widget-view+json": {
       "model_id": "59dd5d466d9e4ee38e53156a9cb47314",
       "version_major": 2,
       "version_minor": 0
      },
      "text/plain": [
       "  0%|          | 0/354 [00:00<?, ?it/s]"
      ]
     },
     "metadata": {},
     "output_type": "display_data"
    },
    {
     "name": "stdout",
     "output_type": "stream",
     "text": [
      "Epoch [24/50], loss: 0.49049 acc: 0.76373 val_loss: 0.53642, val_acc: 0.73765, auc_score: 0.80679\n"
     ]
    },
    {
     "data": {
      "application/vnd.jupyter.widget-view+json": {
       "model_id": "a782d1c6de4241e28b344ad5851823ce",
       "version_major": 2,
       "version_minor": 0
      },
      "text/plain": [
       "  0%|          | 0/354 [00:00<?, ?it/s]"
      ]
     },
     "metadata": {},
     "output_type": "display_data"
    },
    {
     "name": "stdout",
     "output_type": "stream",
     "text": [
      "Epoch [25/50], loss: 0.49104 acc: 0.76296 val_loss: 0.52063, val_acc: 0.74884, auc_score: 0.80685\n"
     ]
    },
    {
     "data": {
      "application/vnd.jupyter.widget-view+json": {
       "model_id": "982dfe8b0ae24f9486b03842d40cd6d9",
       "version_major": 2,
       "version_minor": 0
      },
      "text/plain": [
       "  0%|          | 0/354 [00:00<?, ?it/s]"
      ]
     },
     "metadata": {},
     "output_type": "display_data"
    },
    {
     "name": "stdout",
     "output_type": "stream",
     "text": [
      "Epoch [26/50], loss: 0.48514 acc: 0.76617 val_loss: 0.52729, val_acc: 0.73958, auc_score: 0.80867\n"
     ]
    },
    {
     "data": {
      "application/vnd.jupyter.widget-view+json": {
       "model_id": "f9fcf2dafb1449f1a54d262020b17610",
       "version_major": 2,
       "version_minor": 0
      },
      "text/plain": [
       "  0%|          | 0/354 [00:00<?, ?it/s]"
      ]
     },
     "metadata": {},
     "output_type": "display_data"
    },
    {
     "name": "stdout",
     "output_type": "stream",
     "text": [
      "Epoch [27/50], loss: 0.48409 acc: 0.76802 val_loss: 0.51735, val_acc: 0.75116, auc_score: 0.80989\n"
     ]
    },
    {
     "data": {
      "application/vnd.jupyter.widget-view+json": {
       "model_id": "48a7698a429f47638bcf67f9293804f9",
       "version_major": 2,
       "version_minor": 0
      },
      "text/plain": [
       "  0%|          | 0/354 [00:00<?, ?it/s]"
      ]
     },
     "metadata": {},
     "output_type": "display_data"
    },
    {
     "name": "stdout",
     "output_type": "stream",
     "text": [
      "Epoch [28/50], loss: 0.48430 acc: 0.76827 val_loss: 0.52612, val_acc: 0.74614, auc_score: 0.80887\n"
     ]
    },
    {
     "data": {
      "application/vnd.jupyter.widget-view+json": {
       "model_id": "493e55cf8721477c9adce7f055d718a5",
       "version_major": 2,
       "version_minor": 0
      },
      "text/plain": [
       "  0%|          | 0/354 [00:00<?, ?it/s]"
      ]
     },
     "metadata": {},
     "output_type": "display_data"
    },
    {
     "name": "stdout",
     "output_type": "stream",
     "text": [
      "Epoch [29/50], loss: 0.47719 acc: 0.77050 val_loss: 0.52667, val_acc: 0.74383, auc_score: 0.80874\n"
     ]
    },
    {
     "data": {
      "application/vnd.jupyter.widget-view+json": {
       "model_id": "486c039d8dc64f4d95f84ada8d112af0",
       "version_major": 2,
       "version_minor": 0
      },
      "text/plain": [
       "  0%|          | 0/354 [00:00<?, ?it/s]"
      ]
     },
     "metadata": {},
     "output_type": "display_data"
    },
    {
     "name": "stdout",
     "output_type": "stream",
     "text": [
      "Epoch [30/50], loss: 0.47785 acc: 0.77411 val_loss: 0.52208, val_acc: 0.74961, auc_score: 0.80698\n"
     ]
    },
    {
     "data": {
      "application/vnd.jupyter.widget-view+json": {
       "model_id": "d8dd2d6e13ee47c1aac1abd85de8e473",
       "version_major": 2,
       "version_minor": 0
      },
      "text/plain": [
       "  0%|          | 0/354 [00:00<?, ?it/s]"
      ]
     },
     "metadata": {},
     "output_type": "display_data"
    },
    {
     "name": "stdout",
     "output_type": "stream",
     "text": [
      "Epoch [31/50], loss: 0.47283 acc: 0.77788 val_loss: 0.51837, val_acc: 0.75733, auc_score: 0.80867\n"
     ]
    },
    {
     "data": {
      "application/vnd.jupyter.widget-view+json": {
       "model_id": "8075dd9e02c246c08d3dfced9c8bd397",
       "version_major": 2,
       "version_minor": 0
      },
      "text/plain": [
       "  0%|          | 0/354 [00:00<?, ?it/s]"
      ]
     },
     "metadata": {},
     "output_type": "display_data"
    },
    {
     "name": "stdout",
     "output_type": "stream",
     "text": [
      "Epoch [32/50], loss: 0.47073 acc: 0.78006 val_loss: 0.52773, val_acc: 0.74190, auc_score: 0.80961\n"
     ]
    },
    {
     "data": {
      "application/vnd.jupyter.widget-view+json": {
       "model_id": "4db0e150e9d7452db7aab460c0961bdd",
       "version_major": 2,
       "version_minor": 0
      },
      "text/plain": [
       "  0%|          | 0/354 [00:00<?, ?it/s]"
      ]
     },
     "metadata": {},
     "output_type": "display_data"
    },
    {
     "name": "stdout",
     "output_type": "stream",
     "text": [
      "Epoch [33/50], loss: 0.46489 acc: 0.78251 val_loss: 0.52475, val_acc: 0.74961, auc_score: 0.80994\n"
     ]
    },
    {
     "data": {
      "application/vnd.jupyter.widget-view+json": {
       "model_id": "548ae59ed5124868bd66f2b3260e3fe9",
       "version_major": 2,
       "version_minor": 0
      },
      "text/plain": [
       "  0%|          | 0/354 [00:00<?, ?it/s]"
      ]
     },
     "metadata": {},
     "output_type": "display_data"
    },
    {
     "name": "stdout",
     "output_type": "stream",
     "text": [
      "Epoch [34/50], loss: 0.46709 acc: 0.78195 val_loss: 0.52722, val_acc: 0.74691, auc_score: 0.81031\n"
     ]
    },
    {
     "data": {
      "application/vnd.jupyter.widget-view+json": {
       "model_id": "51febf169b25495bb509b23b940920ee",
       "version_major": 2,
       "version_minor": 0
      },
      "text/plain": [
       "  0%|          | 0/354 [00:00<?, ?it/s]"
      ]
     },
     "metadata": {},
     "output_type": "display_data"
    },
    {
     "name": "stdout",
     "output_type": "stream",
     "text": [
      "Epoch [35/50], loss: 0.46024 acc: 0.78662 val_loss: 0.53072, val_acc: 0.74383, auc_score: 0.80894\n"
     ]
    },
    {
     "data": {
      "application/vnd.jupyter.widget-view+json": {
       "model_id": "b0c87dd1bbaf4173983f79e038d6eaaf",
       "version_major": 2,
       "version_minor": 0
      },
      "text/plain": [
       "  0%|          | 0/354 [00:00<?, ?it/s]"
      ]
     },
     "metadata": {},
     "output_type": "display_data"
    },
    {
     "name": "stdout",
     "output_type": "stream",
     "text": [
      "Epoch [36/50], loss: 0.45675 acc: 0.78877 val_loss: 0.52438, val_acc: 0.74730, auc_score: 0.81000\n"
     ]
    },
    {
     "data": {
      "application/vnd.jupyter.widget-view+json": {
       "model_id": "6e2692b790a6471f951acf88dec5a9b3",
       "version_major": 2,
       "version_minor": 0
      },
      "text/plain": [
       "  0%|          | 0/354 [00:00<?, ?it/s]"
      ]
     },
     "metadata": {},
     "output_type": "display_data"
    },
    {
     "name": "stdout",
     "output_type": "stream",
     "text": [
      "Epoch [37/50], loss: 0.45560 acc: 0.79053 val_loss: 0.52208, val_acc: 0.75039, auc_score: 0.80993\n"
     ]
    },
    {
     "data": {
      "application/vnd.jupyter.widget-view+json": {
       "model_id": "60e645275d1f4a0c8ce695c803410469",
       "version_major": 2,
       "version_minor": 0
      },
      "text/plain": [
       "  0%|          | 0/354 [00:00<?, ?it/s]"
      ]
     },
     "metadata": {},
     "output_type": "display_data"
    },
    {
     "name": "stdout",
     "output_type": "stream",
     "text": [
      "Epoch [38/50], loss: 0.45073 acc: 0.79623 val_loss: 0.51576, val_acc: 0.75309, auc_score: 0.81003\n"
     ]
    },
    {
     "data": {
      "application/vnd.jupyter.widget-view+json": {
       "model_id": "7fd2b9c975814e839b110205405519cb",
       "version_major": 2,
       "version_minor": 0
      },
      "text/plain": [
       "  0%|          | 0/354 [00:00<?, ?it/s]"
      ]
     },
     "metadata": {},
     "output_type": "display_data"
    },
    {
     "name": "stdout",
     "output_type": "stream",
     "text": [
      "Epoch [39/50], loss: 0.45020 acc: 0.79310 val_loss: 0.51774, val_acc: 0.74961, auc_score: 0.80968\n"
     ]
    },
    {
     "data": {
      "application/vnd.jupyter.widget-view+json": {
       "model_id": "1d1244091166447b866c64ff605ce3a3",
       "version_major": 2,
       "version_minor": 0
      },
      "text/plain": [
       "  0%|          | 0/354 [00:00<?, ?it/s]"
      ]
     },
     "metadata": {},
     "output_type": "display_data"
    },
    {
     "name": "stdout",
     "output_type": "stream",
     "text": [
      "Epoch [40/50], loss: 0.45275 acc: 0.79348 val_loss: 0.52994, val_acc: 0.73958, auc_score: 0.81178\n"
     ]
    },
    {
     "data": {
      "application/vnd.jupyter.widget-view+json": {
       "model_id": "79efc11847a74b9ba7c3c60ff8de92e5",
       "version_major": 2,
       "version_minor": 0
      },
      "text/plain": [
       "  0%|          | 0/354 [00:00<?, ?it/s]"
      ]
     },
     "metadata": {},
     "output_type": "display_data"
    },
    {
     "name": "stdout",
     "output_type": "stream",
     "text": [
      "Epoch [41/50], loss: 0.43853 acc: 0.80090 val_loss: 0.51396, val_acc: 0.75772, auc_score: 0.81084\n"
     ]
    },
    {
     "data": {
      "application/vnd.jupyter.widget-view+json": {
       "model_id": "74d2a2e850df466cad6587250d9775ab",
       "version_major": 2,
       "version_minor": 0
      },
      "text/plain": [
       "  0%|          | 0/354 [00:00<?, ?it/s]"
      ]
     },
     "metadata": {},
     "output_type": "display_data"
    },
    {
     "name": "stdout",
     "output_type": "stream",
     "text": [
      "Epoch [42/50], loss: 0.44724 acc: 0.79678 val_loss: 0.53064, val_acc: 0.73881, auc_score: 0.81156\n"
     ]
    },
    {
     "data": {
      "application/vnd.jupyter.widget-view+json": {
       "model_id": "892b19bd89234b15b8c0cf1804de535b",
       "version_major": 2,
       "version_minor": 0
      },
      "text/plain": [
       "  0%|          | 0/354 [00:00<?, ?it/s]"
      ]
     },
     "metadata": {},
     "output_type": "display_data"
    },
    {
     "name": "stdout",
     "output_type": "stream",
     "text": [
      "Epoch [43/50], loss: 0.43681 acc: 0.80480 val_loss: 0.51615, val_acc: 0.75309, auc_score: 0.81098\n"
     ]
    },
    {
     "data": {
      "application/vnd.jupyter.widget-view+json": {
       "model_id": "25a91faa2fd44ec1b241d1b36ecacd7d",
       "version_major": 2,
       "version_minor": 0
      },
      "text/plain": [
       "  0%|          | 0/354 [00:00<?, ?it/s]"
      ]
     },
     "metadata": {},
     "output_type": "display_data"
    },
    {
     "name": "stdout",
     "output_type": "stream",
     "text": [
      "Epoch [44/50], loss: 0.43785 acc: 0.80300 val_loss: 0.52538, val_acc: 0.74113, auc_score: 0.81209\n"
     ]
    },
    {
     "data": {
      "application/vnd.jupyter.widget-view+json": {
       "model_id": "5d86f969efe14d57ba2594169c548543",
       "version_major": 2,
       "version_minor": 0
      },
      "text/plain": [
       "  0%|          | 0/354 [00:00<?, ?it/s]"
      ]
     },
     "metadata": {},
     "output_type": "display_data"
    },
    {
     "name": "stdout",
     "output_type": "stream",
     "text": [
      "Epoch [45/50], loss: 0.43532 acc: 0.80759 val_loss: 0.51881, val_acc: 0.75077, auc_score: 0.81123\n"
     ]
    },
    {
     "data": {
      "application/vnd.jupyter.widget-view+json": {
       "model_id": "31bcd7ea936f4138930d33b9d6527eac",
       "version_major": 2,
       "version_minor": 0
      },
      "text/plain": [
       "  0%|          | 0/354 [00:00<?, ?it/s]"
      ]
     },
     "metadata": {},
     "output_type": "display_data"
    },
    {
     "name": "stdout",
     "output_type": "stream",
     "text": [
      "Epoch [46/50], loss: 0.43489 acc: 0.80532 val_loss: 0.51163, val_acc: 0.75926, auc_score: 0.81121\n"
     ]
    },
    {
     "data": {
      "application/vnd.jupyter.widget-view+json": {
       "model_id": "7404c88539e64011b0922a46784fa950",
       "version_major": 2,
       "version_minor": 0
      },
      "text/plain": [
       "  0%|          | 0/354 [00:00<?, ?it/s]"
      ]
     },
     "metadata": {},
     "output_type": "display_data"
    },
    {
     "name": "stdout",
     "output_type": "stream",
     "text": [
      "Epoch [47/50], loss: 0.42569 acc: 0.81350 val_loss: 0.52645, val_acc: 0.74113, auc_score: 0.81135\n"
     ]
    },
    {
     "data": {
      "application/vnd.jupyter.widget-view+json": {
       "model_id": "825a28bcaa124076aad20aa1d86970a1",
       "version_major": 2,
       "version_minor": 0
      },
      "text/plain": [
       "  0%|          | 0/354 [00:00<?, ?it/s]"
      ]
     },
     "metadata": {},
     "output_type": "display_data"
    },
    {
     "name": "stdout",
     "output_type": "stream",
     "text": [
      "Epoch [48/50], loss: 0.42946 acc: 0.80960 val_loss: 0.52094, val_acc: 0.75154, auc_score: 0.80928\n"
     ]
    },
    {
     "data": {
      "application/vnd.jupyter.widget-view+json": {
       "model_id": "9eb084b871234d898573661e8f261b8d",
       "version_major": 2,
       "version_minor": 0
      },
      "text/plain": [
       "  0%|          | 0/354 [00:00<?, ?it/s]"
      ]
     },
     "metadata": {},
     "output_type": "display_data"
    },
    {
     "name": "stdout",
     "output_type": "stream",
     "text": [
      "Epoch [49/50], loss: 0.42229 acc: 0.81471 val_loss: 0.52616, val_acc: 0.74228, auc_score: 0.81078\n"
     ]
    },
    {
     "data": {
      "application/vnd.jupyter.widget-view+json": {
       "model_id": "91f5d4012a8941a88a426b82cbeb6432",
       "version_major": 2,
       "version_minor": 0
      },
      "text/plain": [
       "  0%|          | 0/354 [00:00<?, ?it/s]"
      ]
     },
     "metadata": {},
     "output_type": "display_data"
    },
    {
     "name": "stdout",
     "output_type": "stream",
     "text": [
      "Epoch [50/50], loss: 0.42711 acc: 0.80862 val_loss: 0.52062, val_acc: 0.75154, auc_score: 0.81040\n",
      "cv: 8\n",
      "target train 0/1: 14710/8616\n"
     ]
    },
    {
     "data": {
      "application/vnd.jupyter.widget-view+json": {
       "model_id": "f887dd77013549e7ab191311a6be6671",
       "version_major": 2,
       "version_minor": 0
      },
      "text/plain": [
       "  0%|          | 0/354 [00:00<?, ?it/s]"
      ]
     },
     "metadata": {},
     "output_type": "display_data"
    },
    {
     "name": "stdout",
     "output_type": "stream",
     "text": [
      "Epoch [1/50], loss: 0.71617 acc: 0.62180 val_loss: 0.57970, val_acc: 0.69819, auc_score: 0.76832\n"
     ]
    },
    {
     "data": {
      "application/vnd.jupyter.widget-view+json": {
       "model_id": "c377e617bb3f4b30bbf054b77a013b55",
       "version_major": 2,
       "version_minor": 0
      },
      "text/plain": [
       "  0%|          | 0/354 [00:00<?, ?it/s]"
      ]
     },
     "metadata": {},
     "output_type": "display_data"
    },
    {
     "name": "stdout",
     "output_type": "stream",
     "text": [
      "Epoch [2/50], loss: 0.64230 acc: 0.66064 val_loss: 0.57250, val_acc: 0.70359, auc_score: 0.77289\n"
     ]
    },
    {
     "data": {
      "application/vnd.jupyter.widget-view+json": {
       "model_id": "db6bb9a74814414ab22785aefcb0b1ef",
       "version_major": 2,
       "version_minor": 0
      },
      "text/plain": [
       "  0%|          | 0/354 [00:00<?, ?it/s]"
      ]
     },
     "metadata": {},
     "output_type": "display_data"
    },
    {
     "name": "stdout",
     "output_type": "stream",
     "text": [
      "Epoch [3/50], loss: 0.61149 acc: 0.67414 val_loss: 0.57909, val_acc: 0.69664, auc_score: 0.77450\n"
     ]
    },
    {
     "data": {
      "application/vnd.jupyter.widget-view+json": {
       "model_id": "ddef63718d1e48d2bf8ff79fbc00f5e6",
       "version_major": 2,
       "version_minor": 0
      },
      "text/plain": [
       "  0%|          | 0/354 [00:00<?, ?it/s]"
      ]
     },
     "metadata": {},
     "output_type": "display_data"
    },
    {
     "name": "stdout",
     "output_type": "stream",
     "text": [
      "Epoch [4/50], loss: 0.58694 acc: 0.69176 val_loss: 0.54748, val_acc: 0.73176, auc_score: 0.77640\n"
     ]
    },
    {
     "data": {
      "application/vnd.jupyter.widget-view+json": {
       "model_id": "adb667254ef243b484d670d16dcbffad",
       "version_major": 2,
       "version_minor": 0
      },
      "text/plain": [
       "  0%|          | 0/354 [00:00<?, ?it/s]"
      ]
     },
     "metadata": {},
     "output_type": "display_data"
    },
    {
     "name": "stdout",
     "output_type": "stream",
     "text": [
      "Epoch [5/50], loss: 0.57888 acc: 0.69545 val_loss: 0.55785, val_acc: 0.71980, auc_score: 0.77872\n"
     ]
    },
    {
     "data": {
      "application/vnd.jupyter.widget-view+json": {
       "model_id": "3a4053f11a7642f6990433b4db3c1d5e",
       "version_major": 2,
       "version_minor": 0
      },
      "text/plain": [
       "  0%|          | 0/354 [00:00<?, ?it/s]"
      ]
     },
     "metadata": {},
     "output_type": "display_data"
    },
    {
     "name": "stdout",
     "output_type": "stream",
     "text": [
      "Epoch [6/50], loss: 0.56977 acc: 0.70286 val_loss: 0.55803, val_acc: 0.72134, auc_score: 0.78051\n"
     ]
    },
    {
     "data": {
      "application/vnd.jupyter.widget-view+json": {
       "model_id": "547dfd3ba32849299e80725ed5d14408",
       "version_major": 2,
       "version_minor": 0
      },
      "text/plain": [
       "  0%|          | 0/354 [00:00<?, ?it/s]"
      ]
     },
     "metadata": {},
     "output_type": "display_data"
    },
    {
     "name": "stdout",
     "output_type": "stream",
     "text": [
      "Epoch [7/50], loss: 0.56864 acc: 0.70415 val_loss: 0.57754, val_acc: 0.70282, auc_score: 0.78178\n"
     ]
    },
    {
     "data": {
      "application/vnd.jupyter.widget-view+json": {
       "model_id": "69060cece0d84a7ea13435330e49c073",
       "version_major": 2,
       "version_minor": 0
      },
      "text/plain": [
       "  0%|          | 0/354 [00:00<?, ?it/s]"
      ]
     },
     "metadata": {},
     "output_type": "display_data"
    },
    {
     "name": "stdout",
     "output_type": "stream",
     "text": [
      "Epoch [8/50], loss: 0.55774 acc: 0.71328 val_loss: 0.54483, val_acc: 0.73369, auc_score: 0.78231\n"
     ]
    },
    {
     "data": {
      "application/vnd.jupyter.widget-view+json": {
       "model_id": "344eb0069abe407abe60e2ed88015bb0",
       "version_major": 2,
       "version_minor": 0
      },
      "text/plain": [
       "  0%|          | 0/354 [00:00<?, ?it/s]"
      ]
     },
     "metadata": {},
     "output_type": "display_data"
    },
    {
     "name": "stdout",
     "output_type": "stream",
     "text": [
      "Epoch [9/50], loss: 0.55355 acc: 0.71285 val_loss: 0.57432, val_acc: 0.70050, auc_score: 0.78343\n"
     ]
    },
    {
     "data": {
      "application/vnd.jupyter.widget-view+json": {
       "model_id": "9903a86a455a4679ab93998c2940a9f9",
       "version_major": 2,
       "version_minor": 0
      },
      "text/plain": [
       "  0%|          | 0/354 [00:00<?, ?it/s]"
      ]
     },
     "metadata": {},
     "output_type": "display_data"
    },
    {
     "name": "stdout",
     "output_type": "stream",
     "text": [
      "Epoch [10/50], loss: 0.54729 acc: 0.71911 val_loss: 0.54440, val_acc: 0.73254, auc_score: 0.78503\n"
     ]
    },
    {
     "data": {
      "application/vnd.jupyter.widget-view+json": {
       "model_id": "c6f55704dc704b78a70c9c4395bf9ed0",
       "version_major": 2,
       "version_minor": 0
      },
      "text/plain": [
       "  0%|          | 0/354 [00:00<?, ?it/s]"
      ]
     },
     "metadata": {},
     "output_type": "display_data"
    },
    {
     "name": "stdout",
     "output_type": "stream",
     "text": [
      "Epoch [11/50], loss: 0.54202 acc: 0.72597 val_loss: 0.54568, val_acc: 0.73215, auc_score: 0.78654\n"
     ]
    },
    {
     "data": {
      "application/vnd.jupyter.widget-view+json": {
       "model_id": "a1a15e9242cc455b8716d615549fe4f5",
       "version_major": 2,
       "version_minor": 0
      },
      "text/plain": [
       "  0%|          | 0/354 [00:00<?, ?it/s]"
      ]
     },
     "metadata": {},
     "output_type": "display_data"
    },
    {
     "name": "stdout",
     "output_type": "stream",
     "text": [
      "Epoch [12/50], loss: 0.53560 acc: 0.72871 val_loss: 0.57105, val_acc: 0.70552, auc_score: 0.78768\n"
     ]
    },
    {
     "data": {
      "application/vnd.jupyter.widget-view+json": {
       "model_id": "364ca8117f56432483fa7a24f2445b9d",
       "version_major": 2,
       "version_minor": 0
      },
      "text/plain": [
       "  0%|          | 0/354 [00:00<?, ?it/s]"
      ]
     },
     "metadata": {},
     "output_type": "display_data"
    },
    {
     "name": "stdout",
     "output_type": "stream",
     "text": [
      "Epoch [13/50], loss: 0.53470 acc: 0.72833 val_loss: 0.53873, val_acc: 0.73910, auc_score: 0.78845\n"
     ]
    },
    {
     "data": {
      "application/vnd.jupyter.widget-view+json": {
       "model_id": "f5d117d45c5e42cb9ccb8641764dea87",
       "version_major": 2,
       "version_minor": 0
      },
      "text/plain": [
       "  0%|          | 0/354 [00:00<?, ?it/s]"
      ]
     },
     "metadata": {},
     "output_type": "display_data"
    },
    {
     "name": "stdout",
     "output_type": "stream",
     "text": [
      "Epoch [14/50], loss: 0.53014 acc: 0.73300 val_loss: 0.54889, val_acc: 0.72443, auc_score: 0.78908\n"
     ]
    },
    {
     "data": {
      "application/vnd.jupyter.widget-view+json": {
       "model_id": "022e6e84b30646758e21cadc24742a5f",
       "version_major": 2,
       "version_minor": 0
      },
      "text/plain": [
       "  0%|          | 0/354 [00:00<?, ?it/s]"
      ]
     },
     "metadata": {},
     "output_type": "display_data"
    },
    {
     "name": "stdout",
     "output_type": "stream",
     "text": [
      "Epoch [15/50], loss: 0.52564 acc: 0.73609 val_loss: 0.55429, val_acc: 0.71903, auc_score: 0.79008\n"
     ]
    },
    {
     "data": {
      "application/vnd.jupyter.widget-view+json": {
       "model_id": "2797ec848fc74ef8a319bd89da425a73",
       "version_major": 2,
       "version_minor": 0
      },
      "text/plain": [
       "  0%|          | 0/354 [00:00<?, ?it/s]"
      ]
     },
     "metadata": {},
     "output_type": "display_data"
    },
    {
     "name": "stdout",
     "output_type": "stream",
     "text": [
      "Epoch [16/50], loss: 0.52006 acc: 0.74381 val_loss: 0.56745, val_acc: 0.70706, auc_score: 0.78977\n"
     ]
    },
    {
     "data": {
      "application/vnd.jupyter.widget-view+json": {
       "model_id": "d5e107e549bd41d09bb8c4da07c5cfd7",
       "version_major": 2,
       "version_minor": 0
      },
      "text/plain": [
       "  0%|          | 0/354 [00:00<?, ?it/s]"
      ]
     },
     "metadata": {},
     "output_type": "display_data"
    },
    {
     "name": "stdout",
     "output_type": "stream",
     "text": [
      "Epoch [17/50], loss: 0.52362 acc: 0.73707 val_loss: 0.54572, val_acc: 0.72597, auc_score: 0.79015\n"
     ]
    },
    {
     "data": {
      "application/vnd.jupyter.widget-view+json": {
       "model_id": "f06c5724553c48cdb028b071429aa5bf",
       "version_major": 2,
       "version_minor": 0
      },
      "text/plain": [
       "  0%|          | 0/354 [00:00<?, ?it/s]"
      ]
     },
     "metadata": {},
     "output_type": "display_data"
    },
    {
     "name": "stdout",
     "output_type": "stream",
     "text": [
      "Epoch [18/50], loss: 0.51883 acc: 0.74351 val_loss: 0.55414, val_acc: 0.71710, auc_score: 0.79179\n"
     ]
    },
    {
     "data": {
      "application/vnd.jupyter.widget-view+json": {
       "model_id": "7c2f02b36a2e41efaa63e4bd93d49a22",
       "version_major": 2,
       "version_minor": 0
      },
      "text/plain": [
       "  0%|          | 0/354 [00:00<?, ?it/s]"
      ]
     },
     "metadata": {},
     "output_type": "display_data"
    },
    {
     "name": "stdout",
     "output_type": "stream",
     "text": [
      "Epoch [19/50], loss: 0.51300 acc: 0.74256 val_loss: 0.56210, val_acc: 0.70861, auc_score: 0.79293\n"
     ]
    },
    {
     "data": {
      "application/vnd.jupyter.widget-view+json": {
       "model_id": "e89272e1cc784571aa9d4fcf11c21667",
       "version_major": 2,
       "version_minor": 0
      },
      "text/plain": [
       "  0%|          | 0/354 [00:00<?, ?it/s]"
      ]
     },
     "metadata": {},
     "output_type": "display_data"
    },
    {
     "name": "stdout",
     "output_type": "stream",
     "text": [
      "Epoch [20/50], loss: 0.50772 acc: 0.75122 val_loss: 0.54128, val_acc: 0.72945, auc_score: 0.79239\n"
     ]
    },
    {
     "data": {
      "application/vnd.jupyter.widget-view+json": {
       "model_id": "45f66a725c644ed5aef4d6f1e3178985",
       "version_major": 2,
       "version_minor": 0
      },
      "text/plain": [
       "  0%|          | 0/354 [00:00<?, ?it/s]"
      ]
     },
     "metadata": {},
     "output_type": "display_data"
    },
    {
     "name": "stdout",
     "output_type": "stream",
     "text": [
      "Epoch [21/50], loss: 0.50455 acc: 0.75088 val_loss: 0.53390, val_acc: 0.73524, auc_score: 0.79332\n"
     ]
    },
    {
     "data": {
      "application/vnd.jupyter.widget-view+json": {
       "model_id": "8ce9d0d5ab7c4d1a9419406c0c67c93d",
       "version_major": 2,
       "version_minor": 0
      },
      "text/plain": [
       "  0%|          | 0/354 [00:00<?, ?it/s]"
      ]
     },
     "metadata": {},
     "output_type": "display_data"
    },
    {
     "name": "stdout",
     "output_type": "stream",
     "text": [
      "Epoch [22/50], loss: 0.50065 acc: 0.75341 val_loss: 0.53853, val_acc: 0.73099, auc_score: 0.79256\n"
     ]
    },
    {
     "data": {
      "application/vnd.jupyter.widget-view+json": {
       "model_id": "2856c2e8ce2147069a3167d2dbdf2696",
       "version_major": 2,
       "version_minor": 0
      },
      "text/plain": [
       "  0%|          | 0/354 [00:00<?, ?it/s]"
      ]
     },
     "metadata": {},
     "output_type": "display_data"
    },
    {
     "name": "stdout",
     "output_type": "stream",
     "text": [
      "Epoch [23/50], loss: 0.49713 acc: 0.75924 val_loss: 0.55187, val_acc: 0.71671, auc_score: 0.79446\n"
     ]
    },
    {
     "data": {
      "application/vnd.jupyter.widget-view+json": {
       "model_id": "89688a2deb434bb48c0929084de751cd",
       "version_major": 2,
       "version_minor": 0
      },
      "text/plain": [
       "  0%|          | 0/354 [00:00<?, ?it/s]"
      ]
     },
     "metadata": {},
     "output_type": "display_data"
    },
    {
     "name": "stdout",
     "output_type": "stream",
     "text": [
      "Epoch [24/50], loss: 0.48950 acc: 0.76404 val_loss: 0.55014, val_acc: 0.71980, auc_score: 0.79440\n"
     ]
    },
    {
     "data": {
      "application/vnd.jupyter.widget-view+json": {
       "model_id": "a1896c5c946641bf9208fb4e25addfbd",
       "version_major": 2,
       "version_minor": 0
      },
      "text/plain": [
       "  0%|          | 0/354 [00:00<?, ?it/s]"
      ]
     },
     "metadata": {},
     "output_type": "display_data"
    },
    {
     "name": "stdout",
     "output_type": "stream",
     "text": [
      "Epoch [25/50], loss: 0.49016 acc: 0.76168 val_loss: 0.55190, val_acc: 0.71633, auc_score: 0.79537\n"
     ]
    },
    {
     "data": {
      "application/vnd.jupyter.widget-view+json": {
       "model_id": "23fc97e3fd914c978f1147b7647c3ae9",
       "version_major": 2,
       "version_minor": 0
      },
      "text/plain": [
       "  0%|          | 0/354 [00:00<?, ?it/s]"
      ]
     },
     "metadata": {},
     "output_type": "display_data"
    },
    {
     "name": "stdout",
     "output_type": "stream",
     "text": [
      "Epoch [26/50], loss: 0.48472 acc: 0.76833 val_loss: 0.53886, val_acc: 0.73292, auc_score: 0.79499\n"
     ]
    },
    {
     "data": {
      "application/vnd.jupyter.widget-view+json": {
       "model_id": "20bee58548374bd681e8afa781d05bcc",
       "version_major": 2,
       "version_minor": 0
      },
      "text/plain": [
       "  0%|          | 0/354 [00:00<?, ?it/s]"
      ]
     },
     "metadata": {},
     "output_type": "display_data"
    },
    {
     "name": "stdout",
     "output_type": "stream",
     "text": [
      "Epoch [27/50], loss: 0.47999 acc: 0.77060 val_loss: 0.54103, val_acc: 0.72520, auc_score: 0.79714\n"
     ]
    },
    {
     "data": {
      "application/vnd.jupyter.widget-view+json": {
       "model_id": "55e1dd77cd9d4582be9ba18e5fff86c0",
       "version_major": 2,
       "version_minor": 0
      },
      "text/plain": [
       "  0%|          | 0/354 [00:00<?, ?it/s]"
      ]
     },
     "metadata": {},
     "output_type": "display_data"
    },
    {
     "name": "stdout",
     "output_type": "stream",
     "text": [
      "Epoch [28/50], loss: 0.48358 acc: 0.76708 val_loss: 0.53816, val_acc: 0.73254, auc_score: 0.79880\n"
     ]
    },
    {
     "data": {
      "application/vnd.jupyter.widget-view+json": {
       "model_id": "061d1cb9d5234c82ac40830a263ae556",
       "version_major": 2,
       "version_minor": 0
      },
      "text/plain": [
       "  0%|          | 0/354 [00:00<?, ?it/s]"
      ]
     },
     "metadata": {},
     "output_type": "display_data"
    },
    {
     "name": "stdout",
     "output_type": "stream",
     "text": [
      "Epoch [29/50], loss: 0.47839 acc: 0.77532 val_loss: 0.54638, val_acc: 0.72289, auc_score: 0.79630\n"
     ]
    },
    {
     "data": {
      "application/vnd.jupyter.widget-view+json": {
       "model_id": "0259922649cc46b7bd0144cbe48c7b07",
       "version_major": 2,
       "version_minor": 0
      },
      "text/plain": [
       "  0%|          | 0/354 [00:00<?, ?it/s]"
      ]
     },
     "metadata": {},
     "output_type": "display_data"
    },
    {
     "name": "stdout",
     "output_type": "stream",
     "text": [
      "Epoch [30/50], loss: 0.46981 acc: 0.77990 val_loss: 0.54937, val_acc: 0.71941, auc_score: 0.79599\n"
     ]
    },
    {
     "data": {
      "application/vnd.jupyter.widget-view+json": {
       "model_id": "d15e6c0b7a804f40aa52bc644e4cf740",
       "version_major": 2,
       "version_minor": 0
      },
      "text/plain": [
       "  0%|          | 0/354 [00:00<?, ?it/s]"
      ]
     },
     "metadata": {},
     "output_type": "display_data"
    },
    {
     "name": "stdout",
     "output_type": "stream",
     "text": [
      "Epoch [31/50], loss: 0.46674 acc: 0.77913 val_loss: 0.54554, val_acc: 0.72404, auc_score: 0.79554\n"
     ]
    },
    {
     "data": {
      "application/vnd.jupyter.widget-view+json": {
       "model_id": "28f4cfe706df42ef9f302c25a7d36cc8",
       "version_major": 2,
       "version_minor": 0
      },
      "text/plain": [
       "  0%|          | 0/354 [00:00<?, ?it/s]"
      ]
     },
     "metadata": {},
     "output_type": "display_data"
    },
    {
     "name": "stdout",
     "output_type": "stream",
     "text": [
      "Epoch [32/50], loss: 0.47130 acc: 0.78093 val_loss: 0.55420, val_acc: 0.71362, auc_score: 0.79804\n"
     ]
    },
    {
     "data": {
      "application/vnd.jupyter.widget-view+json": {
       "model_id": "6086d72c83c24c95a1c64a86919db9bf",
       "version_major": 2,
       "version_minor": 0
      },
      "text/plain": [
       "  0%|          | 0/354 [00:00<?, ?it/s]"
      ]
     },
     "metadata": {},
     "output_type": "display_data"
    },
    {
     "name": "stdout",
     "output_type": "stream",
     "text": [
      "Epoch [33/50], loss: 0.46107 acc: 0.78376 val_loss: 0.53433, val_acc: 0.73987, auc_score: 0.79883\n"
     ]
    },
    {
     "data": {
      "application/vnd.jupyter.widget-view+json": {
       "model_id": "e053a32adbc54b3abe5811b5b138be20",
       "version_major": 2,
       "version_minor": 0
      },
      "text/plain": [
       "  0%|          | 0/354 [00:00<?, ?it/s]"
      ]
     },
     "metadata": {},
     "output_type": "display_data"
    },
    {
     "name": "stdout",
     "output_type": "stream",
     "text": [
      "Epoch [34/50], loss: 0.45797 acc: 0.78642 val_loss: 0.53644, val_acc: 0.73447, auc_score: 0.79927\n"
     ]
    },
    {
     "data": {
      "application/vnd.jupyter.widget-view+json": {
       "model_id": "619d011265344992a91171318c2eaba8",
       "version_major": 2,
       "version_minor": 0
      },
      "text/plain": [
       "  0%|          | 0/354 [00:00<?, ?it/s]"
      ]
     },
     "metadata": {},
     "output_type": "display_data"
    },
    {
     "name": "stdout",
     "output_type": "stream",
     "text": [
      "Epoch [35/50], loss: 0.45809 acc: 0.78800 val_loss: 0.55952, val_acc: 0.71054, auc_score: 0.79944\n"
     ]
    },
    {
     "data": {
      "application/vnd.jupyter.widget-view+json": {
       "model_id": "8be53e6e7adf4cfab56f578145d58a06",
       "version_major": 2,
       "version_minor": 0
      },
      "text/plain": [
       "  0%|          | 0/354 [00:00<?, ?it/s]"
      ]
     },
     "metadata": {},
     "output_type": "display_data"
    },
    {
     "name": "stdout",
     "output_type": "stream",
     "text": [
      "Epoch [36/50], loss: 0.45489 acc: 0.78951 val_loss: 0.54026, val_acc: 0.73138, auc_score: 0.79910\n"
     ]
    },
    {
     "data": {
      "application/vnd.jupyter.widget-view+json": {
       "model_id": "16dcbaba36b94ec6bff8063a27427723",
       "version_major": 2,
       "version_minor": 0
      },
      "text/plain": [
       "  0%|          | 0/354 [00:00<?, ?it/s]"
      ]
     },
     "metadata": {},
     "output_type": "display_data"
    },
    {
     "name": "stdout",
     "output_type": "stream",
     "text": [
      "Epoch [37/50], loss: 0.44893 acc: 0.79409 val_loss: 0.54017, val_acc: 0.73176, auc_score: 0.79947\n"
     ]
    },
    {
     "data": {
      "application/vnd.jupyter.widget-view+json": {
       "model_id": "7762e7bcbe6e41b996d90714bc679f9c",
       "version_major": 2,
       "version_minor": 0
      },
      "text/plain": [
       "  0%|          | 0/354 [00:00<?, ?it/s]"
      ]
     },
     "metadata": {},
     "output_type": "display_data"
    },
    {
     "name": "stdout",
     "output_type": "stream",
     "text": [
      "Epoch [38/50], loss: 0.44734 acc: 0.79534 val_loss: 0.54141, val_acc: 0.72945, auc_score: 0.79936\n"
     ]
    },
    {
     "data": {
      "application/vnd.jupyter.widget-view+json": {
       "model_id": "656e303dd9d541ab8792e8f7cd12bca8",
       "version_major": 2,
       "version_minor": 0
      },
      "text/plain": [
       "  0%|          | 0/354 [00:00<?, ?it/s]"
      ]
     },
     "metadata": {},
     "output_type": "display_data"
    },
    {
     "name": "stdout",
     "output_type": "stream",
     "text": [
      "Epoch [39/50], loss: 0.44755 acc: 0.79474 val_loss: 0.56473, val_acc: 0.71478, auc_score: 0.79747\n"
     ]
    },
    {
     "data": {
      "application/vnd.jupyter.widget-view+json": {
       "model_id": "de351cdbb51342628587dd0fbd9f7e05",
       "version_major": 2,
       "version_minor": 0
      },
      "text/plain": [
       "  0%|          | 0/354 [00:00<?, ?it/s]"
      ]
     },
     "metadata": {},
     "output_type": "display_data"
    },
    {
     "name": "stdout",
     "output_type": "stream",
     "text": [
      "Epoch [40/50], loss: 0.44606 acc: 0.80031 val_loss: 0.53754, val_acc: 0.73061, auc_score: 0.79906\n"
     ]
    },
    {
     "data": {
      "application/vnd.jupyter.widget-view+json": {
       "model_id": "f805c16301a942148bfd7d2e9b3c983e",
       "version_major": 2,
       "version_minor": 0
      },
      "text/plain": [
       "  0%|          | 0/354 [00:00<?, ?it/s]"
      ]
     },
     "metadata": {},
     "output_type": "display_data"
    },
    {
     "name": "stdout",
     "output_type": "stream",
     "text": [
      "Epoch [41/50], loss: 0.44024 acc: 0.80391 val_loss: 0.54409, val_acc: 0.73061, auc_score: 0.79886\n"
     ]
    },
    {
     "data": {
      "application/vnd.jupyter.widget-view+json": {
       "model_id": "9827d0c8862a42b9bde92a5dad22b667",
       "version_major": 2,
       "version_minor": 0
      },
      "text/plain": [
       "  0%|          | 0/354 [00:00<?, ?it/s]"
      ]
     },
     "metadata": {},
     "output_type": "display_data"
    },
    {
     "name": "stdout",
     "output_type": "stream",
     "text": [
      "Epoch [42/50], loss: 0.43755 acc: 0.80378 val_loss: 0.53832, val_acc: 0.73562, auc_score: 0.79846\n"
     ]
    },
    {
     "data": {
      "application/vnd.jupyter.widget-view+json": {
       "model_id": "acc46ac1da314c8b80addd6d8560364a",
       "version_major": 2,
       "version_minor": 0
      },
      "text/plain": [
       "  0%|          | 0/354 [00:00<?, ?it/s]"
      ]
     },
     "metadata": {},
     "output_type": "display_data"
    },
    {
     "name": "stdout",
     "output_type": "stream",
     "text": [
      "Epoch [43/50], loss: 0.44109 acc: 0.80382 val_loss: 0.54293, val_acc: 0.72675, auc_score: 0.80018\n"
     ]
    },
    {
     "data": {
      "application/vnd.jupyter.widget-view+json": {
       "model_id": "a85b40196b7b44148473db5ed8fd7248",
       "version_major": 2,
       "version_minor": 0
      },
      "text/plain": [
       "  0%|          | 0/354 [00:00<?, ?it/s]"
      ]
     },
     "metadata": {},
     "output_type": "display_data"
    },
    {
     "name": "stdout",
     "output_type": "stream",
     "text": [
      "Epoch [44/50], loss: 0.43150 acc: 0.80773 val_loss: 0.55305, val_acc: 0.72327, auc_score: 0.79898\n"
     ]
    },
    {
     "data": {
      "application/vnd.jupyter.widget-view+json": {
       "model_id": "4e0ca9fb334b405a932e676aea7986cb",
       "version_major": 2,
       "version_minor": 0
      },
      "text/plain": [
       "  0%|          | 0/354 [00:00<?, ?it/s]"
      ]
     },
     "metadata": {},
     "output_type": "display_data"
    },
    {
     "name": "stdout",
     "output_type": "stream",
     "text": [
      "Epoch [45/50], loss: 0.43188 acc: 0.81004 val_loss: 0.54868, val_acc: 0.72289, auc_score: 0.79815\n"
     ]
    },
    {
     "data": {
      "application/vnd.jupyter.widget-view+json": {
       "model_id": "4516d21228104d0fa3a8c072b8ca1573",
       "version_major": 2,
       "version_minor": 0
      },
      "text/plain": [
       "  0%|          | 0/354 [00:00<?, ?it/s]"
      ]
     },
     "metadata": {},
     "output_type": "display_data"
    },
    {
     "name": "stdout",
     "output_type": "stream",
     "text": [
      "Epoch [46/50], loss: 0.42885 acc: 0.80837 val_loss: 0.53652, val_acc: 0.73755, auc_score: 0.79882\n"
     ]
    },
    {
     "data": {
      "application/vnd.jupyter.widget-view+json": {
       "model_id": "2daeef47d26249899ea47ee449b4d535",
       "version_major": 2,
       "version_minor": 0
      },
      "text/plain": [
       "  0%|          | 0/354 [00:00<?, ?it/s]"
      ]
     },
     "metadata": {},
     "output_type": "display_data"
    },
    {
     "name": "stdout",
     "output_type": "stream",
     "text": [
      "Epoch [47/50], loss: 0.42564 acc: 0.81266 val_loss: 0.53912, val_acc: 0.73408, auc_score: 0.79805\n"
     ]
    },
    {
     "data": {
      "application/vnd.jupyter.widget-view+json": {
       "model_id": "35e5e56e53b44041943866c4e41c0e88",
       "version_major": 2,
       "version_minor": 0
      },
      "text/plain": [
       "  0%|          | 0/354 [00:00<?, ?it/s]"
      ]
     },
     "metadata": {},
     "output_type": "display_data"
    },
    {
     "name": "stdout",
     "output_type": "stream",
     "text": [
      "Epoch [48/50], loss: 0.42714 acc: 0.81227 val_loss: 0.54601, val_acc: 0.72636, auc_score: 0.79993\n"
     ]
    },
    {
     "data": {
      "application/vnd.jupyter.widget-view+json": {
       "model_id": "45c09a0c48694d91bc357c0b7af2530c",
       "version_major": 2,
       "version_minor": 0
      },
      "text/plain": [
       "  0%|          | 0/354 [00:00<?, ?it/s]"
      ]
     },
     "metadata": {},
     "output_type": "display_data"
    },
    {
     "name": "stdout",
     "output_type": "stream",
     "text": [
      "Epoch [49/50], loss: 0.42338 acc: 0.81347 val_loss: 0.54237, val_acc: 0.72713, auc_score: 0.79994\n"
     ]
    },
    {
     "data": {
      "application/vnd.jupyter.widget-view+json": {
       "model_id": "5497d513f85947dc964a2c8bc1e97242",
       "version_major": 2,
       "version_minor": 0
      },
      "text/plain": [
       "  0%|          | 0/354 [00:00<?, ?it/s]"
      ]
     },
     "metadata": {},
     "output_type": "display_data"
    },
    {
     "name": "stdout",
     "output_type": "stream",
     "text": [
      "Epoch [50/50], loss: 0.42246 acc: 0.81394 val_loss: 0.53748, val_acc: 0.73176, auc_score: 0.80214\n",
      "cv: 9\n",
      "target train 0/1: 14653/8673\n"
     ]
    },
    {
     "data": {
      "application/vnd.jupyter.widget-view+json": {
       "model_id": "a017ba257f034818a581ac9ebf8f7208",
       "version_major": 2,
       "version_minor": 0
      },
      "text/plain": [
       "  0%|          | 0/354 [00:00<?, ?it/s]"
      ]
     },
     "metadata": {},
     "output_type": "display_data"
    },
    {
     "name": "stdout",
     "output_type": "stream",
     "text": [
      "Epoch [1/50], loss: 0.70022 acc: 0.62377 val_loss: 0.60006, val_acc: 0.66924, auc_score: 0.77021\n"
     ]
    },
    {
     "data": {
      "application/vnd.jupyter.widget-view+json": {
       "model_id": "8f61f7402a194dd4b38d509891ad19cd",
       "version_major": 2,
       "version_minor": 0
      },
      "text/plain": [
       "  0%|          | 0/354 [00:00<?, ?it/s]"
      ]
     },
     "metadata": {},
     "output_type": "display_data"
    },
    {
     "name": "stdout",
     "output_type": "stream",
     "text": [
      "Epoch [2/50], loss: 0.63361 acc: 0.66531 val_loss: 0.57060, val_acc: 0.69240, auc_score: 0.77503\n"
     ]
    },
    {
     "data": {
      "application/vnd.jupyter.widget-view+json": {
       "model_id": "abf20f4264f4470890cc49b86bcb1ae9",
       "version_major": 2,
       "version_minor": 0
      },
      "text/plain": [
       "  0%|          | 0/354 [00:00<?, ?it/s]"
      ]
     },
     "metadata": {},
     "output_type": "display_data"
    },
    {
     "name": "stdout",
     "output_type": "stream",
     "text": [
      "Epoch [3/50], loss: 0.61019 acc: 0.67748 val_loss: 0.57091, val_acc: 0.69741, auc_score: 0.77701\n"
     ]
    },
    {
     "data": {
      "application/vnd.jupyter.widget-view+json": {
       "model_id": "cd72401c6bdd48c3a145a47c1c4601d8",
       "version_major": 2,
       "version_minor": 0
      },
      "text/plain": [
       "  0%|          | 0/354 [00:00<?, ?it/s]"
      ]
     },
     "metadata": {},
     "output_type": "display_data"
    },
    {
     "name": "stdout",
     "output_type": "stream",
     "text": [
      "Epoch [4/50], loss: 0.59094 acc: 0.69026 val_loss: 0.55157, val_acc: 0.71633, auc_score: 0.77764\n"
     ]
    },
    {
     "data": {
      "application/vnd.jupyter.widget-view+json": {
       "model_id": "2e2fe505093246409f8e1dba356706c5",
       "version_major": 2,
       "version_minor": 0
      },
      "text/plain": [
       "  0%|          | 0/354 [00:00<?, ?it/s]"
      ]
     },
     "metadata": {},
     "output_type": "display_data"
    },
    {
     "name": "stdout",
     "output_type": "stream",
     "text": [
      "Epoch [5/50], loss: 0.58336 acc: 0.69382 val_loss: 0.54729, val_acc: 0.71478, auc_score: 0.78146\n"
     ]
    },
    {
     "data": {
      "application/vnd.jupyter.widget-view+json": {
       "model_id": "aea4574901134704820ae1b4c2d33415",
       "version_major": 2,
       "version_minor": 0
      },
      "text/plain": [
       "  0%|          | 0/354 [00:00<?, ?it/s]"
      ]
     },
     "metadata": {},
     "output_type": "display_data"
    },
    {
     "name": "stdout",
     "output_type": "stream",
     "text": [
      "Epoch [6/50], loss: 0.57077 acc: 0.69961 val_loss: 0.55585, val_acc: 0.71324, auc_score: 0.78199\n"
     ]
    },
    {
     "data": {
      "application/vnd.jupyter.widget-view+json": {
       "model_id": "716711b14179461a8c8961b00738ef16",
       "version_major": 2,
       "version_minor": 0
      },
      "text/plain": [
       "  0%|          | 0/354 [00:00<?, ?it/s]"
      ]
     },
     "metadata": {},
     "output_type": "display_data"
    },
    {
     "name": "stdout",
     "output_type": "stream",
     "text": [
      "Epoch [7/50], loss: 0.56481 acc: 0.70638 val_loss: 0.54124, val_acc: 0.72057, auc_score: 0.78396\n"
     ]
    },
    {
     "data": {
      "application/vnd.jupyter.widget-view+json": {
       "model_id": "a05a51d1dbb043eab0915caae0997234",
       "version_major": 2,
       "version_minor": 0
      },
      "text/plain": [
       "  0%|          | 0/354 [00:00<?, ?it/s]"
      ]
     },
     "metadata": {},
     "output_type": "display_data"
    },
    {
     "name": "stdout",
     "output_type": "stream",
     "text": [
      "Epoch [8/50], loss: 0.55834 acc: 0.71268 val_loss: 0.53670, val_acc: 0.72636, auc_score: 0.78600\n"
     ]
    },
    {
     "data": {
      "application/vnd.jupyter.widget-view+json": {
       "model_id": "bd9cbc044d694424bd8247a2b4bd1c4c",
       "version_major": 2,
       "version_minor": 0
      },
      "text/plain": [
       "  0%|          | 0/354 [00:00<?, ?it/s]"
      ]
     },
     "metadata": {},
     "output_type": "display_data"
    },
    {
     "name": "stdout",
     "output_type": "stream",
     "text": [
      "Epoch [9/50], loss: 0.55450 acc: 0.71757 val_loss: 0.54980, val_acc: 0.71594, auc_score: 0.78734\n"
     ]
    },
    {
     "data": {
      "application/vnd.jupyter.widget-view+json": {
       "model_id": "0b5e758953114e209a3b57e33faf29ba",
       "version_major": 2,
       "version_minor": 0
      },
      "text/plain": [
       "  0%|          | 0/354 [00:00<?, ?it/s]"
      ]
     },
     "metadata": {},
     "output_type": "display_data"
    },
    {
     "name": "stdout",
     "output_type": "stream",
     "text": [
      "Epoch [10/50], loss: 0.54737 acc: 0.72301 val_loss: 0.53848, val_acc: 0.72790, auc_score: 0.78963\n"
     ]
    },
    {
     "data": {
      "application/vnd.jupyter.widget-view+json": {
       "model_id": "166a7ee134ae45c8b210c84f5400ad14",
       "version_major": 2,
       "version_minor": 0
      },
      "text/plain": [
       "  0%|          | 0/354 [00:00<?, ?it/s]"
      ]
     },
     "metadata": {},
     "output_type": "display_data"
    },
    {
     "name": "stdout",
     "output_type": "stream",
     "text": [
      "Epoch [11/50], loss: 0.54245 acc: 0.72584 val_loss: 0.53255, val_acc: 0.73215, auc_score: 0.79089\n"
     ]
    },
    {
     "data": {
      "application/vnd.jupyter.widget-view+json": {
       "model_id": "3986f7641605403090e8d5c48e6edb9b",
       "version_major": 2,
       "version_minor": 0
      },
      "text/plain": [
       "  0%|          | 0/354 [00:00<?, ?it/s]"
      ]
     },
     "metadata": {},
     "output_type": "display_data"
    },
    {
     "name": "stdout",
     "output_type": "stream",
     "text": [
      "Epoch [12/50], loss: 0.54242 acc: 0.72190 val_loss: 0.55573, val_acc: 0.71054, auc_score: 0.79188\n"
     ]
    },
    {
     "data": {
      "application/vnd.jupyter.widget-view+json": {
       "model_id": "f456bfeba0d04dfa95f49008a5dc2ecb",
       "version_major": 2,
       "version_minor": 0
      },
      "text/plain": [
       "  0%|          | 0/354 [00:00<?, ?it/s]"
      ]
     },
     "metadata": {},
     "output_type": "display_data"
    },
    {
     "name": "stdout",
     "output_type": "stream",
     "text": [
      "Epoch [13/50], loss: 0.53415 acc: 0.73124 val_loss: 0.54145, val_acc: 0.72366, auc_score: 0.79261\n"
     ]
    },
    {
     "data": {
      "application/vnd.jupyter.widget-view+json": {
       "model_id": "783ce055e5b443aabacd9b6dc8034ad5",
       "version_major": 2,
       "version_minor": 0
      },
      "text/plain": [
       "  0%|          | 0/354 [00:00<?, ?it/s]"
      ]
     },
     "metadata": {},
     "output_type": "display_data"
    },
    {
     "name": "stdout",
     "output_type": "stream",
     "text": [
      "Epoch [14/50], loss: 0.53015 acc: 0.73257 val_loss: 0.53654, val_acc: 0.72983, auc_score: 0.79518\n"
     ]
    },
    {
     "data": {
      "application/vnd.jupyter.widget-view+json": {
       "model_id": "489fe1b619dc4f98b845c976f2c257ca",
       "version_major": 2,
       "version_minor": 0
      },
      "text/plain": [
       "  0%|          | 0/354 [00:00<?, ?it/s]"
      ]
     },
     "metadata": {},
     "output_type": "display_data"
    },
    {
     "name": "stdout",
     "output_type": "stream",
     "text": [
      "Epoch [15/50], loss: 0.52874 acc: 0.73257 val_loss: 0.54036, val_acc: 0.72443, auc_score: 0.79564\n"
     ]
    },
    {
     "data": {
      "application/vnd.jupyter.widget-view+json": {
       "model_id": "0c77de421f854b2090906445df4a100a",
       "version_major": 2,
       "version_minor": 0
      },
      "text/plain": [
       "  0%|          | 0/354 [00:00<?, ?it/s]"
      ]
     },
     "metadata": {},
     "output_type": "display_data"
    },
    {
     "name": "stdout",
     "output_type": "stream",
     "text": [
      "Epoch [16/50], loss: 0.51936 acc: 0.73939 val_loss: 0.54516, val_acc: 0.71980, auc_score: 0.79595\n"
     ]
    },
    {
     "data": {
      "application/vnd.jupyter.widget-view+json": {
       "model_id": "b2b3b7aa6add4bbf94c04037e78dc5d7",
       "version_major": 2,
       "version_minor": 0
      },
      "text/plain": [
       "  0%|          | 0/354 [00:00<?, ?it/s]"
      ]
     },
     "metadata": {},
     "output_type": "display_data"
    },
    {
     "name": "stdout",
     "output_type": "stream",
     "text": [
      "Epoch [17/50], loss: 0.51346 acc: 0.74518 val_loss: 0.53386, val_acc: 0.73022, auc_score: 0.79623\n"
     ]
    },
    {
     "data": {
      "application/vnd.jupyter.widget-view+json": {
       "model_id": "12c8b0b6667b4b048aa2937224e63118",
       "version_major": 2,
       "version_minor": 0
      },
      "text/plain": [
       "  0%|          | 0/354 [00:00<?, ?it/s]"
      ]
     },
     "metadata": {},
     "output_type": "display_data"
    },
    {
     "name": "stdout",
     "output_type": "stream",
     "text": [
      "Epoch [18/50], loss: 0.51241 acc: 0.74672 val_loss: 0.54313, val_acc: 0.72212, auc_score: 0.79792\n"
     ]
    },
    {
     "data": {
      "application/vnd.jupyter.widget-view+json": {
       "model_id": "775d5f16ef124bf0bb2a21c20add5160",
       "version_major": 2,
       "version_minor": 0
      },
      "text/plain": [
       "  0%|          | 0/354 [00:00<?, ?it/s]"
      ]
     },
     "metadata": {},
     "output_type": "display_data"
    },
    {
     "name": "stdout",
     "output_type": "stream",
     "text": [
      "Epoch [19/50], loss: 0.50846 acc: 0.75131 val_loss: 0.55359, val_acc: 0.71401, auc_score: 0.79925\n"
     ]
    },
    {
     "data": {
      "application/vnd.jupyter.widget-view+json": {
       "model_id": "e23e707b95f445a2be5aaee1ecfbe3e1",
       "version_major": 2,
       "version_minor": 0
      },
      "text/plain": [
       "  0%|          | 0/354 [00:00<?, ?it/s]"
      ]
     },
     "metadata": {},
     "output_type": "display_data"
    },
    {
     "name": "stdout",
     "output_type": "stream",
     "text": [
      "Epoch [20/50], loss: 0.50703 acc: 0.75041 val_loss: 0.53617, val_acc: 0.72404, auc_score: 0.80017\n"
     ]
    },
    {
     "data": {
      "application/vnd.jupyter.widget-view+json": {
       "model_id": "f966282b29ec4627be2d1c2f2359470f",
       "version_major": 2,
       "version_minor": 0
      },
      "text/plain": [
       "  0%|          | 0/354 [00:00<?, ?it/s]"
      ]
     },
     "metadata": {},
     "output_type": "display_data"
    },
    {
     "name": "stdout",
     "output_type": "stream",
     "text": [
      "Epoch [21/50], loss: 0.50569 acc: 0.75375 val_loss: 0.54174, val_acc: 0.72250, auc_score: 0.80055\n"
     ]
    },
    {
     "data": {
      "application/vnd.jupyter.widget-view+json": {
       "model_id": "e608b8e2628c4e30bb2304fa131975eb",
       "version_major": 2,
       "version_minor": 0
      },
      "text/plain": [
       "  0%|          | 0/354 [00:00<?, ?it/s]"
      ]
     },
     "metadata": {},
     "output_type": "display_data"
    },
    {
     "name": "stdout",
     "output_type": "stream",
     "text": [
      "Epoch [22/50], loss: 0.49690 acc: 0.75585 val_loss: 0.55156, val_acc: 0.71594, auc_score: 0.80170\n"
     ]
    },
    {
     "data": {
      "application/vnd.jupyter.widget-view+json": {
       "model_id": "4d2ce3ec2be04f3d88e6569a7b6103ca",
       "version_major": 2,
       "version_minor": 0
      },
      "text/plain": [
       "  0%|          | 0/354 [00:00<?, ?it/s]"
      ]
     },
     "metadata": {},
     "output_type": "display_data"
    },
    {
     "name": "stdout",
     "output_type": "stream",
     "text": [
      "Epoch [23/50], loss: 0.49438 acc: 0.76104 val_loss: 0.53962, val_acc: 0.72019, auc_score: 0.80163\n"
     ]
    },
    {
     "data": {
      "application/vnd.jupyter.widget-view+json": {
       "model_id": "48d6dff6ac94444e8cb148557b0f5b34",
       "version_major": 2,
       "version_minor": 0
      },
      "text/plain": [
       "  0%|          | 0/354 [00:00<?, ?it/s]"
      ]
     },
     "metadata": {},
     "output_type": "display_data"
    },
    {
     "name": "stdout",
     "output_type": "stream",
     "text": [
      "Epoch [24/50], loss: 0.49390 acc: 0.76005 val_loss: 0.52657, val_acc: 0.73292, auc_score: 0.80245\n"
     ]
    },
    {
     "data": {
      "application/vnd.jupyter.widget-view+json": {
       "model_id": "e76b35ca22b9446ab64b7b279c571b65",
       "version_major": 2,
       "version_minor": 0
      },
      "text/plain": [
       "  0%|          | 0/354 [00:00<?, ?it/s]"
      ]
     },
     "metadata": {},
     "output_type": "display_data"
    },
    {
     "name": "stdout",
     "output_type": "stream",
     "text": [
      "Epoch [25/50], loss: 0.48835 acc: 0.76477 val_loss: 0.53841, val_acc: 0.72366, auc_score: 0.80317\n"
     ]
    },
    {
     "data": {
      "application/vnd.jupyter.widget-view+json": {
       "model_id": "9089666bd0c641639cf20ddb89e45024",
       "version_major": 2,
       "version_minor": 0
      },
      "text/plain": [
       "  0%|          | 0/354 [00:00<?, ?it/s]"
      ]
     },
     "metadata": {},
     "output_type": "display_data"
    },
    {
     "name": "stdout",
     "output_type": "stream",
     "text": [
      "Epoch [26/50], loss: 0.48453 acc: 0.77026 val_loss: 0.53018, val_acc: 0.73061, auc_score: 0.80360\n"
     ]
    },
    {
     "data": {
      "application/vnd.jupyter.widget-view+json": {
       "model_id": "fdac270e94a248c7a8bacf6e2532ce43",
       "version_major": 2,
       "version_minor": 0
      },
      "text/plain": [
       "  0%|          | 0/354 [00:00<?, ?it/s]"
      ]
     },
     "metadata": {},
     "output_type": "display_data"
    },
    {
     "name": "stdout",
     "output_type": "stream",
     "text": [
      "Epoch [27/50], loss: 0.48320 acc: 0.76837 val_loss: 0.52150, val_acc: 0.73678, auc_score: 0.80369\n"
     ]
    },
    {
     "data": {
      "application/vnd.jupyter.widget-view+json": {
       "model_id": "a0fbdc7e5c6e4b8d945967a73d9bd75e",
       "version_major": 2,
       "version_minor": 0
      },
      "text/plain": [
       "  0%|          | 0/354 [00:00<?, ?it/s]"
      ]
     },
     "metadata": {},
     "output_type": "display_data"
    },
    {
     "name": "stdout",
     "output_type": "stream",
     "text": [
      "Epoch [28/50], loss: 0.47876 acc: 0.77201 val_loss: 0.52117, val_acc: 0.73640, auc_score: 0.80453\n"
     ]
    },
    {
     "data": {
      "application/vnd.jupyter.widget-view+json": {
       "model_id": "13d42e8c674d456eaa05643ea581e9e9",
       "version_major": 2,
       "version_minor": 0
      },
      "text/plain": [
       "  0%|          | 0/354 [00:00<?, ?it/s]"
      ]
     },
     "metadata": {},
     "output_type": "display_data"
    },
    {
     "name": "stdout",
     "output_type": "stream",
     "text": [
      "Epoch [29/50], loss: 0.47749 acc: 0.77321 val_loss: 0.52059, val_acc: 0.74025, auc_score: 0.80541\n"
     ]
    },
    {
     "data": {
      "application/vnd.jupyter.widget-view+json": {
       "model_id": "817bcc7b83304de9ace1ec5549153c3a",
       "version_major": 2,
       "version_minor": 0
      },
      "text/plain": [
       "  0%|          | 0/354 [00:00<?, ?it/s]"
      ]
     },
     "metadata": {},
     "output_type": "display_data"
    },
    {
     "name": "stdout",
     "output_type": "stream",
     "text": [
      "Epoch [30/50], loss: 0.47332 acc: 0.77780 val_loss: 0.53050, val_acc: 0.73254, auc_score: 0.80521\n"
     ]
    },
    {
     "data": {
      "application/vnd.jupyter.widget-view+json": {
       "model_id": "2f3d768874ee440d95005f063bf3a296",
       "version_major": 2,
       "version_minor": 0
      },
      "text/plain": [
       "  0%|          | 0/354 [00:00<?, ?it/s]"
      ]
     },
     "metadata": {},
     "output_type": "display_data"
    },
    {
     "name": "stdout",
     "output_type": "stream",
     "text": [
      "Epoch [31/50], loss: 0.46768 acc: 0.77986 val_loss: 0.52785, val_acc: 0.73099, auc_score: 0.80638\n"
     ]
    },
    {
     "data": {
      "application/vnd.jupyter.widget-view+json": {
       "model_id": "de58ef72ce774af596aac30b1c11f146",
       "version_major": 2,
       "version_minor": 0
      },
      "text/plain": [
       "  0%|          | 0/354 [00:00<?, ?it/s]"
      ]
     },
     "metadata": {},
     "output_type": "display_data"
    },
    {
     "name": "stdout",
     "output_type": "stream",
     "text": [
      "Epoch [32/50], loss: 0.46663 acc: 0.78342 val_loss: 0.53041, val_acc: 0.73447, auc_score: 0.80662\n"
     ]
    },
    {
     "data": {
      "application/vnd.jupyter.widget-view+json": {
       "model_id": "9df52b831a534a2f80fefbd8a1684090",
       "version_major": 2,
       "version_minor": 0
      },
      "text/plain": [
       "  0%|          | 0/354 [00:00<?, ?it/s]"
      ]
     },
     "metadata": {},
     "output_type": "display_data"
    },
    {
     "name": "stdout",
     "output_type": "stream",
     "text": [
      "Epoch [33/50], loss: 0.46571 acc: 0.78415 val_loss: 0.52065, val_acc: 0.74064, auc_score: 0.80639\n"
     ]
    },
    {
     "data": {
      "application/vnd.jupyter.widget-view+json": {
       "model_id": "2091bcf00e7a40b6a2be55b22252bf8c",
       "version_major": 2,
       "version_minor": 0
      },
      "text/plain": [
       "  0%|          | 0/354 [00:00<?, ?it/s]"
      ]
     },
     "metadata": {},
     "output_type": "display_data"
    },
    {
     "name": "stdout",
     "output_type": "stream",
     "text": [
      "Epoch [34/50], loss: 0.45705 acc: 0.79062 val_loss: 0.51551, val_acc: 0.73871, auc_score: 0.80636\n"
     ]
    },
    {
     "data": {
      "application/vnd.jupyter.widget-view+json": {
       "model_id": "81875e43f4664f608bbe08cd706abe73",
       "version_major": 2,
       "version_minor": 0
      },
      "text/plain": [
       "  0%|          | 0/354 [00:00<?, ?it/s]"
      ]
     },
     "metadata": {},
     "output_type": "display_data"
    },
    {
     "name": "stdout",
     "output_type": "stream",
     "text": [
      "Epoch [35/50], loss: 0.45758 acc: 0.79006 val_loss: 0.52261, val_acc: 0.74064, auc_score: 0.80622\n"
     ]
    },
    {
     "data": {
      "application/vnd.jupyter.widget-view+json": {
       "model_id": "db5e457e1e3d41a4b607f00e53716e77",
       "version_major": 2,
       "version_minor": 0
      },
      "text/plain": [
       "  0%|          | 0/354 [00:00<?, ?it/s]"
      ]
     },
     "metadata": {},
     "output_type": "display_data"
    },
    {
     "name": "stdout",
     "output_type": "stream",
     "text": [
      "Epoch [36/50], loss: 0.45718 acc: 0.79015 val_loss: 0.53501, val_acc: 0.72675, auc_score: 0.80557\n"
     ]
    },
    {
     "data": {
      "application/vnd.jupyter.widget-view+json": {
       "model_id": "5381c66e44064b81a2c4ec01c2117672",
       "version_major": 2,
       "version_minor": 0
      },
      "text/plain": [
       "  0%|          | 0/354 [00:00<?, ?it/s]"
      ]
     },
     "metadata": {},
     "output_type": "display_data"
    },
    {
     "name": "stdout",
     "output_type": "stream",
     "text": [
      "Epoch [37/50], loss: 0.45249 acc: 0.79156 val_loss: 0.53014, val_acc: 0.73138, auc_score: 0.80568\n"
     ]
    },
    {
     "data": {
      "application/vnd.jupyter.widget-view+json": {
       "model_id": "7508a09fd83a44899d9f62fc6a85cebe",
       "version_major": 2,
       "version_minor": 0
      },
      "text/plain": [
       "  0%|          | 0/354 [00:00<?, ?it/s]"
      ]
     },
     "metadata": {},
     "output_type": "display_data"
    },
    {
     "name": "stdout",
     "output_type": "stream",
     "text": [
      "Epoch [38/50], loss: 0.44986 acc: 0.79173 val_loss: 0.53441, val_acc: 0.73022, auc_score: 0.80645\n"
     ]
    },
    {
     "data": {
      "application/vnd.jupyter.widget-view+json": {
       "model_id": "a50d9f8a02a74b60a7d2d23dbb7af5b4",
       "version_major": 2,
       "version_minor": 0
      },
      "text/plain": [
       "  0%|          | 0/354 [00:00<?, ?it/s]"
      ]
     },
     "metadata": {},
     "output_type": "display_data"
    },
    {
     "name": "stdout",
     "output_type": "stream",
     "text": [
      "Epoch [39/50], loss: 0.44299 acc: 0.80074 val_loss: 0.52639, val_acc: 0.73562, auc_score: 0.80552\n"
     ]
    },
    {
     "data": {
      "application/vnd.jupyter.widget-view+json": {
       "model_id": "d03804b526934011b23abe329d55413e",
       "version_major": 2,
       "version_minor": 0
      },
      "text/plain": [
       "  0%|          | 0/354 [00:00<?, ?it/s]"
      ]
     },
     "metadata": {},
     "output_type": "display_data"
    },
    {
     "name": "stdout",
     "output_type": "stream",
     "text": [
      "Epoch [40/50], loss: 0.44376 acc: 0.79748 val_loss: 0.53005, val_acc: 0.73408, auc_score: 0.80596\n"
     ]
    },
    {
     "data": {
      "application/vnd.jupyter.widget-view+json": {
       "model_id": "46cadd2ce8b8439aa65bb9d803829078",
       "version_major": 2,
       "version_minor": 0
      },
      "text/plain": [
       "  0%|          | 0/354 [00:00<?, ?it/s]"
      ]
     },
     "metadata": {},
     "output_type": "display_data"
    },
    {
     "name": "stdout",
     "output_type": "stream",
     "text": [
      "Epoch [41/50], loss: 0.43875 acc: 0.80395 val_loss: 0.52688, val_acc: 0.73601, auc_score: 0.80649\n"
     ]
    },
    {
     "data": {
      "application/vnd.jupyter.widget-view+json": {
       "model_id": "f24ce55326684bcb94d68c4bfcec1fa1",
       "version_major": 2,
       "version_minor": 0
      },
      "text/plain": [
       "  0%|          | 0/354 [00:00<?, ?it/s]"
      ]
     },
     "metadata": {},
     "output_type": "display_data"
    },
    {
     "name": "stdout",
     "output_type": "stream",
     "text": [
      "Epoch [42/50], loss: 0.44213 acc: 0.80297 val_loss: 0.53491, val_acc: 0.73524, auc_score: 0.80626\n"
     ]
    },
    {
     "data": {
      "application/vnd.jupyter.widget-view+json": {
       "model_id": "daf5c93854f443c5aa6000a5c6804a5c",
       "version_major": 2,
       "version_minor": 0
      },
      "text/plain": [
       "  0%|          | 0/354 [00:00<?, ?it/s]"
      ]
     },
     "metadata": {},
     "output_type": "display_data"
    },
    {
     "name": "stdout",
     "output_type": "stream",
     "text": [
      "Epoch [43/50], loss: 0.43425 acc: 0.80687 val_loss: 0.52818, val_acc: 0.73601, auc_score: 0.80698\n"
     ]
    },
    {
     "data": {
      "application/vnd.jupyter.widget-view+json": {
       "model_id": "7923f0a64d084bf580ff6333dbf7eef9",
       "version_major": 2,
       "version_minor": 0
      },
      "text/plain": [
       "  0%|          | 0/354 [00:00<?, ?it/s]"
      ]
     },
     "metadata": {},
     "output_type": "display_data"
    },
    {
     "name": "stdout",
     "output_type": "stream",
     "text": [
      "Epoch [44/50], loss: 0.43521 acc: 0.80408 val_loss: 0.52453, val_acc: 0.73755, auc_score: 0.80689\n"
     ]
    },
    {
     "data": {
      "application/vnd.jupyter.widget-view+json": {
       "model_id": "f001c049cd324560998c684391f5a413",
       "version_major": 2,
       "version_minor": 0
      },
      "text/plain": [
       "  0%|          | 0/354 [00:00<?, ?it/s]"
      ]
     },
     "metadata": {},
     "output_type": "display_data"
    },
    {
     "name": "stdout",
     "output_type": "stream",
     "text": [
      "Epoch [45/50], loss: 0.43256 acc: 0.80743 val_loss: 0.53260, val_acc: 0.73562, auc_score: 0.80656\n"
     ]
    },
    {
     "data": {
      "application/vnd.jupyter.widget-view+json": {
       "model_id": "c7a9c4e9228846f381c79696e50d0397",
       "version_major": 2,
       "version_minor": 0
      },
      "text/plain": [
       "  0%|          | 0/354 [00:00<?, ?it/s]"
      ]
     },
     "metadata": {},
     "output_type": "display_data"
    },
    {
     "name": "stdout",
     "output_type": "stream",
     "text": [
      "Epoch [46/50], loss: 0.42875 acc: 0.80991 val_loss: 0.51427, val_acc: 0.75106, auc_score: 0.80630\n"
     ]
    },
    {
     "data": {
      "application/vnd.jupyter.widget-view+json": {
       "model_id": "591e936ca99f4560acc6d9d2751f4834",
       "version_major": 2,
       "version_minor": 0
      },
      "text/plain": [
       "  0%|          | 0/354 [00:00<?, ?it/s]"
      ]
     },
     "metadata": {},
     "output_type": "display_data"
    },
    {
     "name": "stdout",
     "output_type": "stream",
     "text": [
      "Epoch [47/50], loss: 0.42240 acc: 0.81218 val_loss: 0.53607, val_acc: 0.73215, auc_score: 0.80546\n"
     ]
    },
    {
     "data": {
      "application/vnd.jupyter.widget-view+json": {
       "model_id": "689c4e9c91bc442eb1c01afd0c0451eb",
       "version_major": 2,
       "version_minor": 0
      },
      "text/plain": [
       "  0%|          | 0/354 [00:00<?, ?it/s]"
      ]
     },
     "metadata": {},
     "output_type": "display_data"
    },
    {
     "name": "stdout",
     "output_type": "stream",
     "text": [
      "Epoch [48/50], loss: 0.42928 acc: 0.80901 val_loss: 0.52766, val_acc: 0.73832, auc_score: 0.80472\n"
     ]
    },
    {
     "data": {
      "application/vnd.jupyter.widget-view+json": {
       "model_id": "b5dda663e4b04d81b3b68a9e00b69acb",
       "version_major": 2,
       "version_minor": 0
      },
      "text/plain": [
       "  0%|          | 0/354 [00:00<?, ?it/s]"
      ]
     },
     "metadata": {},
     "output_type": "display_data"
    },
    {
     "name": "stdout",
     "output_type": "stream",
     "text": [
      "Epoch [49/50], loss: 0.42312 acc: 0.81450 val_loss: 0.52708, val_acc: 0.73832, auc_score: 0.80508\n"
     ]
    },
    {
     "data": {
      "application/vnd.jupyter.widget-view+json": {
       "model_id": "b64bc147c86d45ef9812c45cb1c1395b",
       "version_major": 2,
       "version_minor": 0
      },
      "text/plain": [
       "  0%|          | 0/354 [00:00<?, ?it/s]"
      ]
     },
     "metadata": {},
     "output_type": "display_data"
    },
    {
     "name": "stdout",
     "output_type": "stream",
     "text": [
      "Epoch [50/50], loss: 0.41709 acc: 0.81518 val_loss: 0.54147, val_acc: 0.72404, auc_score: 0.80667\n",
      "cv: 10\n",
      "target train 0/1: 14773/8553\n"
     ]
    },
    {
     "data": {
      "application/vnd.jupyter.widget-view+json": {
       "model_id": "15bcf9184af84d3e90d8c136919e29a5",
       "version_major": 2,
       "version_minor": 0
      },
      "text/plain": [
       "  0%|          | 0/354 [00:00<?, ?it/s]"
      ]
     },
     "metadata": {},
     "output_type": "display_data"
    },
    {
     "name": "stdout",
     "output_type": "stream",
     "text": [
      "Epoch [1/50], loss: 0.71558 acc: 0.62167 val_loss: 0.57225, val_acc: 0.69896, auc_score: 0.76366\n"
     ]
    },
    {
     "data": {
      "application/vnd.jupyter.widget-view+json": {
       "model_id": "2200d372f0ad4e0695129ccc2c1d7647",
       "version_major": 2,
       "version_minor": 0
      },
      "text/plain": [
       "  0%|          | 0/354 [00:00<?, ?it/s]"
      ]
     },
     "metadata": {},
     "output_type": "display_data"
    },
    {
     "name": "stdout",
     "output_type": "stream",
     "text": [
      "Epoch [2/50], loss: 0.64166 acc: 0.66051 val_loss: 0.57216, val_acc: 0.69587, auc_score: 0.76775\n"
     ]
    },
    {
     "data": {
      "application/vnd.jupyter.widget-view+json": {
       "model_id": "4e68d8552daf472eabea786ff1fbd7e7",
       "version_major": 2,
       "version_minor": 0
      },
      "text/plain": [
       "  0%|          | 0/354 [00:00<?, ?it/s]"
      ]
     },
     "metadata": {},
     "output_type": "display_data"
    },
    {
     "name": "stdout",
     "output_type": "stream",
     "text": [
      "Epoch [3/50], loss: 0.61647 acc: 0.67208 val_loss: 0.59339, val_acc: 0.68391, auc_score: 0.77025\n"
     ]
    },
    {
     "data": {
      "application/vnd.jupyter.widget-view+json": {
       "model_id": "9defb5a855d2493e945bf9cc87e2201f",
       "version_major": 2,
       "version_minor": 0
      },
      "text/plain": [
       "  0%|          | 0/354 [00:00<?, ?it/s]"
      ]
     },
     "metadata": {},
     "output_type": "display_data"
    },
    {
     "name": "stdout",
     "output_type": "stream",
     "text": [
      "Epoch [4/50], loss: 0.59054 acc: 0.68807 val_loss: 0.55342, val_acc: 0.71324, auc_score: 0.77164\n"
     ]
    },
    {
     "data": {
      "application/vnd.jupyter.widget-view+json": {
       "model_id": "c7a135e80c96499abdaacc43d2f32fb1",
       "version_major": 2,
       "version_minor": 0
      },
      "text/plain": [
       "  0%|          | 0/354 [00:00<?, ?it/s]"
      ]
     },
     "metadata": {},
     "output_type": "display_data"
    },
    {
     "name": "stdout",
     "output_type": "stream",
     "text": [
      "Epoch [5/50], loss: 0.58245 acc: 0.69472 val_loss: 0.55247, val_acc: 0.71594, auc_score: 0.77409\n"
     ]
    },
    {
     "data": {
      "application/vnd.jupyter.widget-view+json": {
       "model_id": "422dfcf5e04e48e899c173d40de96d5d",
       "version_major": 2,
       "version_minor": 0
      },
      "text/plain": [
       "  0%|          | 0/354 [00:00<?, ?it/s]"
      ]
     },
     "metadata": {},
     "output_type": "display_data"
    },
    {
     "name": "stdout",
     "output_type": "stream",
     "text": [
      "Epoch [6/50], loss: 0.56703 acc: 0.70604 val_loss: 0.55898, val_acc: 0.70938, auc_score: 0.77539\n"
     ]
    },
    {
     "data": {
      "application/vnd.jupyter.widget-view+json": {
       "model_id": "684b3bd0d6ed4783882349b97f9de485",
       "version_major": 2,
       "version_minor": 0
      },
      "text/plain": [
       "  0%|          | 0/354 [00:00<?, ?it/s]"
      ]
     },
     "metadata": {},
     "output_type": "display_data"
    },
    {
     "name": "stdout",
     "output_type": "stream",
     "text": [
      "Epoch [7/50], loss: 0.56782 acc: 0.70556 val_loss: 0.55964, val_acc: 0.70783, auc_score: 0.77671\n"
     ]
    },
    {
     "data": {
      "application/vnd.jupyter.widget-view+json": {
       "model_id": "3c57cc54780642e3b7e4d9fe694704b2",
       "version_major": 2,
       "version_minor": 0
      },
      "text/plain": [
       "  0%|          | 0/354 [00:00<?, ?it/s]"
      ]
     },
     "metadata": {},
     "output_type": "display_data"
    },
    {
     "name": "stdout",
     "output_type": "stream",
     "text": [
      "Epoch [8/50], loss: 0.56204 acc: 0.70934 val_loss: 0.56139, val_acc: 0.70629, auc_score: 0.78011\n"
     ]
    },
    {
     "data": {
      "application/vnd.jupyter.widget-view+json": {
       "model_id": "305b65cbf8774c519017e7550ba26780",
       "version_major": 2,
       "version_minor": 0
      },
      "text/plain": [
       "  0%|          | 0/354 [00:00<?, ?it/s]"
      ]
     },
     "metadata": {},
     "output_type": "display_data"
    },
    {
     "name": "stdout",
     "output_type": "stream",
     "text": [
      "Epoch [9/50], loss: 0.55166 acc: 0.71877 val_loss: 0.54711, val_acc: 0.72520, auc_score: 0.78128\n"
     ]
    },
    {
     "data": {
      "application/vnd.jupyter.widget-view+json": {
       "model_id": "3a6ca615d6064e25b986ab7b5b2a1d0f",
       "version_major": 2,
       "version_minor": 0
      },
      "text/plain": [
       "  0%|          | 0/354 [00:00<?, ?it/s]"
      ]
     },
     "metadata": {},
     "output_type": "display_data"
    },
    {
     "name": "stdout",
     "output_type": "stream",
     "text": [
      "Epoch [10/50], loss: 0.55366 acc: 0.71478 val_loss: 0.55077, val_acc: 0.72019, auc_score: 0.78195\n"
     ]
    },
    {
     "data": {
      "application/vnd.jupyter.widget-view+json": {
       "model_id": "c8ae719bd6024848b93b67318d3613fd",
       "version_major": 2,
       "version_minor": 0
      },
      "text/plain": [
       "  0%|          | 0/354 [00:00<?, ?it/s]"
      ]
     },
     "metadata": {},
     "output_type": "display_data"
    },
    {
     "name": "stdout",
     "output_type": "stream",
     "text": [
      "Epoch [11/50], loss: 0.54500 acc: 0.72653 val_loss: 0.54264, val_acc: 0.72636, auc_score: 0.78375\n"
     ]
    },
    {
     "data": {
      "application/vnd.jupyter.widget-view+json": {
       "model_id": "67a0e92a7c4a48a2be9b9c7a762fbce4",
       "version_major": 2,
       "version_minor": 0
      },
      "text/plain": [
       "  0%|          | 0/354 [00:00<?, ?it/s]"
      ]
     },
     "metadata": {},
     "output_type": "display_data"
    },
    {
     "name": "stdout",
     "output_type": "stream",
     "text": [
      "Epoch [12/50], loss: 0.53624 acc: 0.72464 val_loss: 0.55396, val_acc: 0.71941, auc_score: 0.78508\n"
     ]
    },
    {
     "data": {
      "application/vnd.jupyter.widget-view+json": {
       "model_id": "f360f74c9cfe40a79b138cf2fcd2f0d7",
       "version_major": 2,
       "version_minor": 0
      },
      "text/plain": [
       "  0%|          | 0/354 [00:00<?, ?it/s]"
      ]
     },
     "metadata": {},
     "output_type": "display_data"
    },
    {
     "name": "stdout",
     "output_type": "stream",
     "text": [
      "Epoch [13/50], loss: 0.53964 acc: 0.72794 val_loss: 0.54042, val_acc: 0.72829, auc_score: 0.78679\n"
     ]
    },
    {
     "data": {
      "application/vnd.jupyter.widget-view+json": {
       "model_id": "8295c25844b643dca6c7e49559086315",
       "version_major": 2,
       "version_minor": 0
      },
      "text/plain": [
       "  0%|          | 0/354 [00:00<?, ?it/s]"
      ]
     },
     "metadata": {},
     "output_type": "display_data"
    },
    {
     "name": "stdout",
     "output_type": "stream",
     "text": [
      "Epoch [14/50], loss: 0.53190 acc: 0.73206 val_loss: 0.54760, val_acc: 0.72250, auc_score: 0.78787\n"
     ]
    },
    {
     "data": {
      "application/vnd.jupyter.widget-view+json": {
       "model_id": "cc0f15d027da4a4e850fa2537aa08466",
       "version_major": 2,
       "version_minor": 0
      },
      "text/plain": [
       "  0%|          | 0/354 [00:00<?, ?it/s]"
      ]
     },
     "metadata": {},
     "output_type": "display_data"
    },
    {
     "name": "stdout",
     "output_type": "stream",
     "text": [
      "Epoch [15/50], loss: 0.53427 acc: 0.73167 val_loss: 0.55980, val_acc: 0.70976, auc_score: 0.78883\n"
     ]
    },
    {
     "data": {
      "application/vnd.jupyter.widget-view+json": {
       "model_id": "92013b22a871452eb4e035e4f63aae29",
       "version_major": 2,
       "version_minor": 0
      },
      "text/plain": [
       "  0%|          | 0/354 [00:00<?, ?it/s]"
      ]
     },
     "metadata": {},
     "output_type": "display_data"
    },
    {
     "name": "stdout",
     "output_type": "stream",
     "text": [
      "Epoch [16/50], loss: 0.52443 acc: 0.73870 val_loss: 0.54719, val_acc: 0.72134, auc_score: 0.78883\n"
     ]
    },
    {
     "data": {
      "application/vnd.jupyter.widget-view+json": {
       "model_id": "44757321545542b0bc909f0979d56758",
       "version_major": 2,
       "version_minor": 0
      },
      "text/plain": [
       "  0%|          | 0/354 [00:00<?, ?it/s]"
      ]
     },
     "metadata": {},
     "output_type": "display_data"
    },
    {
     "name": "stdout",
     "output_type": "stream",
     "text": [
      "Epoch [17/50], loss: 0.52213 acc: 0.73986 val_loss: 0.55220, val_acc: 0.71440, auc_score: 0.78947\n"
     ]
    },
    {
     "data": {
      "application/vnd.jupyter.widget-view+json": {
       "model_id": "f1cc3fde487644d8949acfa0faa6bf1d",
       "version_major": 2,
       "version_minor": 0
      },
      "text/plain": [
       "  0%|          | 0/354 [00:00<?, ?it/s]"
      ]
     },
     "metadata": {},
     "output_type": "display_data"
    },
    {
     "name": "stdout",
     "output_type": "stream",
     "text": [
      "Epoch [18/50], loss: 0.51794 acc: 0.74561 val_loss: 0.54748, val_acc: 0.71787, auc_score: 0.79151\n"
     ]
    },
    {
     "data": {
      "application/vnd.jupyter.widget-view+json": {
       "model_id": "3a10a3f6774a43e28f1da0bcff251a2e",
       "version_major": 2,
       "version_minor": 0
      },
      "text/plain": [
       "  0%|          | 0/354 [00:00<?, ?it/s]"
      ]
     },
     "metadata": {},
     "output_type": "display_data"
    },
    {
     "name": "stdout",
     "output_type": "stream",
     "text": [
      "Epoch [19/50], loss: 0.51731 acc: 0.74059 val_loss: 0.55690, val_acc: 0.71401, auc_score: 0.79298\n"
     ]
    },
    {
     "data": {
      "application/vnd.jupyter.widget-view+json": {
       "model_id": "c321065eb0824ffab1ff5e26bf264e44",
       "version_major": 2,
       "version_minor": 0
      },
      "text/plain": [
       "  0%|          | 0/354 [00:00<?, ?it/s]"
      ]
     },
     "metadata": {},
     "output_type": "display_data"
    },
    {
     "name": "stdout",
     "output_type": "stream",
     "text": [
      "Epoch [20/50], loss: 0.50926 acc: 0.75161 val_loss: 0.54813, val_acc: 0.71671, auc_score: 0.79354\n"
     ]
    },
    {
     "data": {
      "application/vnd.jupyter.widget-view+json": {
       "model_id": "c4104a6ec7304985b1c2e403d0c3034c",
       "version_major": 2,
       "version_minor": 0
      },
      "text/plain": [
       "  0%|          | 0/354 [00:00<?, ?it/s]"
      ]
     },
     "metadata": {},
     "output_type": "display_data"
    },
    {
     "name": "stdout",
     "output_type": "stream",
     "text": [
      "Epoch [21/50], loss: 0.51317 acc: 0.74835 val_loss: 0.54592, val_acc: 0.72173, auc_score: 0.79455\n"
     ]
    },
    {
     "data": {
      "application/vnd.jupyter.widget-view+json": {
       "model_id": "c792245145da4ebc9bfe69c9b3447eed",
       "version_major": 2,
       "version_minor": 0
      },
      "text/plain": [
       "  0%|          | 0/354 [00:00<?, ?it/s]"
      ]
     },
     "metadata": {},
     "output_type": "display_data"
    },
    {
     "name": "stdout",
     "output_type": "stream",
     "text": [
      "Epoch [22/50], loss: 0.50190 acc: 0.75752 val_loss: 0.53312, val_acc: 0.72983, auc_score: 0.79345\n"
     ]
    },
    {
     "data": {
      "application/vnd.jupyter.widget-view+json": {
       "model_id": "1774e1eeb43f430da3ffbf421a24a47c",
       "version_major": 2,
       "version_minor": 0
      },
      "text/plain": [
       "  0%|          | 0/354 [00:00<?, ?it/s]"
      ]
     },
     "metadata": {},
     "output_type": "display_data"
    },
    {
     "name": "stdout",
     "output_type": "stream",
     "text": [
      "Epoch [23/50], loss: 0.50080 acc: 0.75615 val_loss: 0.53764, val_acc: 0.72945, auc_score: 0.79475\n"
     ]
    },
    {
     "data": {
      "application/vnd.jupyter.widget-view+json": {
       "model_id": "4f5e4530dc32425b8bbb69f3995388cc",
       "version_major": 2,
       "version_minor": 0
      },
      "text/plain": [
       "  0%|          | 0/354 [00:00<?, ?it/s]"
      ]
     },
     "metadata": {},
     "output_type": "display_data"
    },
    {
     "name": "stdout",
     "output_type": "stream",
     "text": [
      "Epoch [24/50], loss: 0.49826 acc: 0.75752 val_loss: 0.54217, val_acc: 0.72636, auc_score: 0.79565\n"
     ]
    },
    {
     "data": {
      "application/vnd.jupyter.widget-view+json": {
       "model_id": "15eda0c8194f409f9de10c48b92d438b",
       "version_major": 2,
       "version_minor": 0
      },
      "text/plain": [
       "  0%|          | 0/354 [00:00<?, ?it/s]"
      ]
     },
     "metadata": {},
     "output_type": "display_data"
    },
    {
     "name": "stdout",
     "output_type": "stream",
     "text": [
      "Epoch [25/50], loss: 0.49498 acc: 0.75812 val_loss: 0.54516, val_acc: 0.72173, auc_score: 0.79597\n"
     ]
    },
    {
     "data": {
      "application/vnd.jupyter.widget-view+json": {
       "model_id": "ff91abf20aa44845b82434d946924f9b",
       "version_major": 2,
       "version_minor": 0
      },
      "text/plain": [
       "  0%|          | 0/354 [00:00<?, ?it/s]"
      ]
     },
     "metadata": {},
     "output_type": "display_data"
    },
    {
     "name": "stdout",
     "output_type": "stream",
     "text": [
      "Epoch [26/50], loss: 0.48938 acc: 0.76417 val_loss: 0.54687, val_acc: 0.72057, auc_score: 0.79658\n"
     ]
    },
    {
     "data": {
      "application/vnd.jupyter.widget-view+json": {
       "model_id": "923c6cff141749559776a29098bbfed9",
       "version_major": 2,
       "version_minor": 0
      },
      "text/plain": [
       "  0%|          | 0/354 [00:00<?, ?it/s]"
      ]
     },
     "metadata": {},
     "output_type": "display_data"
    },
    {
     "name": "stdout",
     "output_type": "stream",
     "text": [
      "Epoch [27/50], loss: 0.49104 acc: 0.76335 val_loss: 0.54808, val_acc: 0.72134, auc_score: 0.79747\n"
     ]
    },
    {
     "data": {
      "application/vnd.jupyter.widget-view+json": {
       "model_id": "aadc00cc6c874430ad4549704a062e92",
       "version_major": 2,
       "version_minor": 0
      },
      "text/plain": [
       "  0%|          | 0/354 [00:00<?, ?it/s]"
      ]
     },
     "metadata": {},
     "output_type": "display_data"
    },
    {
     "name": "stdout",
     "output_type": "stream",
     "text": [
      "Epoch [28/50], loss: 0.48510 acc: 0.76790 val_loss: 0.54271, val_acc: 0.72675, auc_score: 0.79780\n"
     ]
    },
    {
     "data": {
      "application/vnd.jupyter.widget-view+json": {
       "model_id": "503b9e32d42245508444a9266b14341a",
       "version_major": 2,
       "version_minor": 0
      },
      "text/plain": [
       "  0%|          | 0/354 [00:00<?, ?it/s]"
      ]
     },
     "metadata": {},
     "output_type": "display_data"
    },
    {
     "name": "stdout",
     "output_type": "stream",
     "text": [
      "Epoch [29/50], loss: 0.48160 acc: 0.77056 val_loss: 0.53558, val_acc: 0.72636, auc_score: 0.79825\n"
     ]
    },
    {
     "data": {
      "application/vnd.jupyter.widget-view+json": {
       "model_id": "7d04f27cf0974b599c7af71c1d65c49f",
       "version_major": 2,
       "version_minor": 0
      },
      "text/plain": [
       "  0%|          | 0/354 [00:00<?, ?it/s]"
      ]
     },
     "metadata": {},
     "output_type": "display_data"
    },
    {
     "name": "stdout",
     "output_type": "stream",
     "text": [
      "Epoch [30/50], loss: 0.47994 acc: 0.77497 val_loss: 0.54918, val_acc: 0.72713, auc_score: 0.79890\n"
     ]
    },
    {
     "data": {
      "application/vnd.jupyter.widget-view+json": {
       "model_id": "72330ec4723d4da59fc101558cab1167",
       "version_major": 2,
       "version_minor": 0
      },
      "text/plain": [
       "  0%|          | 0/354 [00:00<?, ?it/s]"
      ]
     },
     "metadata": {},
     "output_type": "display_data"
    },
    {
     "name": "stdout",
     "output_type": "stream",
     "text": [
      "Epoch [31/50], loss: 0.47447 acc: 0.77836 val_loss: 0.53359, val_acc: 0.72752, auc_score: 0.79866\n"
     ]
    },
    {
     "data": {
      "application/vnd.jupyter.widget-view+json": {
       "model_id": "886c7ae7eebe42d38e1fa0215df33038",
       "version_major": 2,
       "version_minor": 0
      },
      "text/plain": [
       "  0%|          | 0/354 [00:00<?, ?it/s]"
      ]
     },
     "metadata": {},
     "output_type": "display_data"
    },
    {
     "name": "stdout",
     "output_type": "stream",
     "text": [
      "Epoch [32/50], loss: 0.46973 acc: 0.77960 val_loss: 0.56186, val_acc: 0.71362, auc_score: 0.79863\n"
     ]
    },
    {
     "data": {
      "application/vnd.jupyter.widget-view+json": {
       "model_id": "6464718a7a1e4261bc9e732e4f234b14",
       "version_major": 2,
       "version_minor": 0
      },
      "text/plain": [
       "  0%|          | 0/354 [00:00<?, ?it/s]"
      ]
     },
     "metadata": {},
     "output_type": "display_data"
    },
    {
     "name": "stdout",
     "output_type": "stream",
     "text": [
      "Epoch [33/50], loss: 0.46697 acc: 0.78273 val_loss: 0.54986, val_acc: 0.72404, auc_score: 0.79841\n"
     ]
    },
    {
     "data": {
      "application/vnd.jupyter.widget-view+json": {
       "model_id": "c58ee4e8774b4c1fa11e576d5f8562bc",
       "version_major": 2,
       "version_minor": 0
      },
      "text/plain": [
       "  0%|          | 0/354 [00:00<?, ?it/s]"
      ]
     },
     "metadata": {},
     "output_type": "display_data"
    },
    {
     "name": "stdout",
     "output_type": "stream",
     "text": [
      "Epoch [34/50], loss: 0.46477 acc: 0.78132 val_loss: 0.53929, val_acc: 0.73022, auc_score: 0.79911\n"
     ]
    },
    {
     "data": {
      "application/vnd.jupyter.widget-view+json": {
       "model_id": "12b622d9356b41349683f0e294927b72",
       "version_major": 2,
       "version_minor": 0
      },
      "text/plain": [
       "  0%|          | 0/354 [00:00<?, ?it/s]"
      ]
     },
     "metadata": {},
     "output_type": "display_data"
    },
    {
     "name": "stdout",
     "output_type": "stream",
     "text": [
      "Epoch [35/50], loss: 0.46022 acc: 0.78745 val_loss: 0.53567, val_acc: 0.72983, auc_score: 0.79966\n"
     ]
    },
    {
     "data": {
      "application/vnd.jupyter.widget-view+json": {
       "model_id": "bc467592bb244148b73f05893ba9be3d",
       "version_major": 2,
       "version_minor": 0
      },
      "text/plain": [
       "  0%|          | 0/354 [00:00<?, ?it/s]"
      ]
     },
     "metadata": {},
     "output_type": "display_data"
    },
    {
     "name": "stdout",
     "output_type": "stream",
     "text": [
      "Epoch [36/50], loss: 0.45224 acc: 0.79401 val_loss: 0.53873, val_acc: 0.72520, auc_score: 0.79909\n"
     ]
    },
    {
     "data": {
      "application/vnd.jupyter.widget-view+json": {
       "model_id": "b68cc032adc64e5b8e8b8539217a9f50",
       "version_major": 2,
       "version_minor": 0
      },
      "text/plain": [
       "  0%|          | 0/354 [00:00<?, ?it/s]"
      ]
     },
     "metadata": {},
     "output_type": "display_data"
    },
    {
     "name": "stdout",
     "output_type": "stream",
     "text": [
      "Epoch [37/50], loss: 0.45256 acc: 0.79191 val_loss: 0.54682, val_acc: 0.72636, auc_score: 0.79908\n"
     ]
    },
    {
     "data": {
      "application/vnd.jupyter.widget-view+json": {
       "model_id": "459ac1c11b5c495d8ded71fd1f144bfa",
       "version_major": 2,
       "version_minor": 0
      },
      "text/plain": [
       "  0%|          | 0/354 [00:00<?, ?it/s]"
      ]
     },
     "metadata": {},
     "output_type": "display_data"
    },
    {
     "name": "stdout",
     "output_type": "stream",
     "text": [
      "Epoch [38/50], loss: 0.45364 acc: 0.78955 val_loss: 0.53925, val_acc: 0.72945, auc_score: 0.80057\n"
     ]
    },
    {
     "data": {
      "application/vnd.jupyter.widget-view+json": {
       "model_id": "a09323ad00fc4877aec818f3df292075",
       "version_major": 2,
       "version_minor": 0
      },
      "text/plain": [
       "  0%|          | 0/354 [00:00<?, ?it/s]"
      ]
     },
     "metadata": {},
     "output_type": "display_data"
    },
    {
     "name": "stdout",
     "output_type": "stream",
     "text": [
      "Epoch [39/50], loss: 0.44938 acc: 0.79602 val_loss: 0.54404, val_acc: 0.72482, auc_score: 0.80004\n"
     ]
    },
    {
     "data": {
      "application/vnd.jupyter.widget-view+json": {
       "model_id": "0d3955ad612b4531b903194b1f781484",
       "version_major": 2,
       "version_minor": 0
      },
      "text/plain": [
       "  0%|          | 0/354 [00:00<?, ?it/s]"
      ]
     },
     "metadata": {},
     "output_type": "display_data"
    },
    {
     "name": "stdout",
     "output_type": "stream",
     "text": [
      "Epoch [40/50], loss: 0.44789 acc: 0.79636 val_loss: 0.54292, val_acc: 0.72134, auc_score: 0.79997\n"
     ]
    },
    {
     "data": {
      "application/vnd.jupyter.widget-view+json": {
       "model_id": "c9a58b89b0c94d6da88cc8715ec43962",
       "version_major": 2,
       "version_minor": 0
      },
      "text/plain": [
       "  0%|          | 0/354 [00:00<?, ?it/s]"
      ]
     },
     "metadata": {},
     "output_type": "display_data"
    },
    {
     "name": "stdout",
     "output_type": "stream",
     "text": [
      "Epoch [41/50], loss: 0.44505 acc: 0.79709 val_loss: 0.53535, val_acc: 0.72289, auc_score: 0.79976\n"
     ]
    },
    {
     "data": {
      "application/vnd.jupyter.widget-view+json": {
       "model_id": "4f275f20123f4d57909a314f47a36d8d",
       "version_major": 2,
       "version_minor": 0
      },
      "text/plain": [
       "  0%|          | 0/354 [00:00<?, ?it/s]"
      ]
     },
     "metadata": {},
     "output_type": "display_data"
    },
    {
     "name": "stdout",
     "output_type": "stream",
     "text": [
      "Epoch [42/50], loss: 0.44252 acc: 0.80262 val_loss: 0.53644, val_acc: 0.72443, auc_score: 0.80021\n"
     ]
    },
    {
     "data": {
      "application/vnd.jupyter.widget-view+json": {
       "model_id": "5faab3f92ed843ccb00ef7fda624d6ea",
       "version_major": 2,
       "version_minor": 0
      },
      "text/plain": [
       "  0%|          | 0/354 [00:00<?, ?it/s]"
      ]
     },
     "metadata": {},
     "output_type": "display_data"
    },
    {
     "name": "stdout",
     "output_type": "stream",
     "text": [
      "Epoch [43/50], loss: 0.44096 acc: 0.80027 val_loss: 0.54889, val_acc: 0.72327, auc_score: 0.80013\n"
     ]
    },
    {
     "data": {
      "application/vnd.jupyter.widget-view+json": {
       "model_id": "b3c64f393d824a889f9eb1b60ce1b725",
       "version_major": 2,
       "version_minor": 0
      },
      "text/plain": [
       "  0%|          | 0/354 [00:00<?, ?it/s]"
      ]
     },
     "metadata": {},
     "output_type": "display_data"
    },
    {
     "name": "stdout",
     "output_type": "stream",
     "text": [
      "Epoch [44/50], loss: 0.44059 acc: 0.79851 val_loss: 0.54096, val_acc: 0.73215, auc_score: 0.80177\n"
     ]
    },
    {
     "data": {
      "application/vnd.jupyter.widget-view+json": {
       "model_id": "62e54bfdf50d4002b43e2b9bd93f179e",
       "version_major": 2,
       "version_minor": 0
      },
      "text/plain": [
       "  0%|          | 0/354 [00:00<?, ?it/s]"
      ]
     },
     "metadata": {},
     "output_type": "display_data"
    },
    {
     "name": "stdout",
     "output_type": "stream",
     "text": [
      "Epoch [45/50], loss: 0.43237 acc: 0.80781 val_loss: 0.53234, val_acc: 0.73061, auc_score: 0.80147\n"
     ]
    },
    {
     "data": {
      "application/vnd.jupyter.widget-view+json": {
       "model_id": "a93ba2574e864fa687f7bf463a218f00",
       "version_major": 2,
       "version_minor": 0
      },
      "text/plain": [
       "  0%|          | 0/354 [00:00<?, ?it/s]"
      ]
     },
     "metadata": {},
     "output_type": "display_data"
    },
    {
     "name": "stdout",
     "output_type": "stream",
     "text": [
      "Epoch [46/50], loss: 0.44166 acc: 0.80189 val_loss: 0.53105, val_acc: 0.73022, auc_score: 0.80033\n"
     ]
    },
    {
     "data": {
      "application/vnd.jupyter.widget-view+json": {
       "model_id": "d681845531fc4506b01116daee474fbf",
       "version_major": 2,
       "version_minor": 0
      },
      "text/plain": [
       "  0%|          | 0/354 [00:00<?, ?it/s]"
      ]
     },
     "metadata": {},
     "output_type": "display_data"
    },
    {
     "name": "stdout",
     "output_type": "stream",
     "text": [
      "Epoch [47/50], loss: 0.42744 acc: 0.81236 val_loss: 0.53877, val_acc: 0.72829, auc_score: 0.79984\n"
     ]
    },
    {
     "data": {
      "application/vnd.jupyter.widget-view+json": {
       "model_id": "ea5fa988cc9d4ef79d3e51ead623c8bb",
       "version_major": 2,
       "version_minor": 0
      },
      "text/plain": [
       "  0%|          | 0/354 [00:00<?, ?it/s]"
      ]
     },
     "metadata": {},
     "output_type": "display_data"
    },
    {
     "name": "stdout",
     "output_type": "stream",
     "text": [
      "Epoch [48/50], loss: 0.43275 acc: 0.80773 val_loss: 0.54146, val_acc: 0.72636, auc_score: 0.79979\n"
     ]
    },
    {
     "data": {
      "application/vnd.jupyter.widget-view+json": {
       "model_id": "69500e73e6814aca8ceb15777ab0ee5f",
       "version_major": 2,
       "version_minor": 0
      },
      "text/plain": [
       "  0%|          | 0/354 [00:00<?, ?it/s]"
      ]
     },
     "metadata": {},
     "output_type": "display_data"
    },
    {
     "name": "stdout",
     "output_type": "stream",
     "text": [
      "Epoch [49/50], loss: 0.42821 acc: 0.81184 val_loss: 0.53349, val_acc: 0.72366, auc_score: 0.80079\n"
     ]
    },
    {
     "data": {
      "application/vnd.jupyter.widget-view+json": {
       "model_id": "4fb5c8e54fec4b168d01ddf404f0c7d6",
       "version_major": 2,
       "version_minor": 0
      },
      "text/plain": [
       "  0%|          | 0/354 [00:00<?, ?it/s]"
      ]
     },
     "metadata": {},
     "output_type": "display_data"
    },
    {
     "name": "stdout",
     "output_type": "stream",
     "text": [
      "Epoch [50/50], loss: 0.42845 acc: 0.81098 val_loss: 0.54052, val_acc: 0.72636, auc_score: 0.80025\n",
      "                         filename  seed  num_kf  score_type         1   \n",
      "0   txt_vec_and_label_camel_4.csv   100       1  train_loss  0.693926  \\\n",
      "1   txt_vec_and_label_camel_4.csv   100       1   train_acc  0.631426   \n",
      "2   txt_vec_and_label_camel_4.csv   100       1   test_loss  0.638268   \n",
      "3   txt_vec_and_label_camel_4.csv   100       1    test_acc  0.649306   \n",
      "4   txt_vec_and_label_camel_4.csv   100       1   auc_score  0.767945   \n",
      "5   txt_vec_and_label_camel_4.csv   100       2  train_loss  0.697254   \n",
      "6   txt_vec_and_label_camel_4.csv   100       2   train_acc  0.630225   \n",
      "7   txt_vec_and_label_camel_4.csv   100       2   test_loss  0.605581   \n",
      "8   txt_vec_and_label_camel_4.csv   100       2    test_acc  0.670525   \n",
      "9   txt_vec_and_label_camel_4.csv   100       2   auc_score  0.763852   \n",
      "10  txt_vec_and_label_camel_4.csv   100       3  train_loss  0.715404   \n",
      "11  txt_vec_and_label_camel_4.csv   100       3   train_acc  0.621393   \n",
      "12  txt_vec_and_label_camel_4.csv   100       3   test_loss  0.606107   \n",
      "13  txt_vec_and_label_camel_4.csv   100       3    test_acc  0.667052   \n",
      "14  txt_vec_and_label_camel_4.csv   100       3   auc_score  0.754488   \n",
      "15  txt_vec_and_label_camel_4.csv   100       4  train_loss  0.710846   \n",
      "16  txt_vec_and_label_camel_4.csv   100       4   train_acc  0.621779   \n",
      "17  txt_vec_and_label_camel_4.csv   100       4   test_loss  0.590401   \n",
      "18  txt_vec_and_label_camel_4.csv   100       4    test_acc  0.677083   \n",
      "19  txt_vec_and_label_camel_4.csv   100       4   auc_score  0.740359   \n",
      "20  txt_vec_and_label_camel_4.csv   100       5  train_loss  0.704437   \n",
      "21  txt_vec_and_label_camel_4.csv   100       5   train_acc  0.627181   \n",
      "22  txt_vec_and_label_camel_4.csv   100       5   test_loss  0.583434   \n",
      "23  txt_vec_and_label_camel_4.csv   100       5    test_acc  0.702160   \n",
      "24  txt_vec_and_label_camel_4.csv   100       5   auc_score  0.775904   \n",
      "25  txt_vec_and_label_camel_4.csv   100       6  train_loss  0.718637   \n",
      "26  txt_vec_and_label_camel_4.csv   100       6   train_acc  0.617835   \n",
      "27  txt_vec_and_label_camel_4.csv   100       6   test_loss  0.570414   \n",
      "28  txt_vec_and_label_camel_4.csv   100       6    test_acc  0.697145   \n",
      "29  txt_vec_and_label_camel_4.csv   100       6   auc_score  0.764717   \n",
      "30  txt_vec_and_label_camel_4.csv   100       7  train_loss  0.726906   \n",
      "31  txt_vec_and_label_camel_4.csv   100       7   train_acc  0.614405   \n",
      "32  txt_vec_and_label_camel_4.csv   100       7   test_loss  0.555339   \n",
      "33  txt_vec_and_label_camel_4.csv   100       7    test_acc  0.717978   \n",
      "34  txt_vec_and_label_camel_4.csv   100       7   auc_score  0.781600   \n",
      "35  txt_vec_and_label_camel_4.csv   100       8  train_loss  0.716166   \n",
      "36  txt_vec_and_label_camel_4.csv   100       8   train_acc  0.621795   \n",
      "37  txt_vec_and_label_camel_4.csv   100       8   test_loss  0.579699   \n",
      "38  txt_vec_and_label_camel_4.csv   100       8    test_acc  0.698186   \n",
      "39  txt_vec_and_label_camel_4.csv   100       8   auc_score  0.768317   \n",
      "40  txt_vec_and_label_camel_4.csv   100       9  train_loss  0.700215   \n",
      "41  txt_vec_and_label_camel_4.csv   100       9   train_acc  0.623767   \n",
      "42  txt_vec_and_label_camel_4.csv   100       9   test_loss  0.600064   \n",
      "43  txt_vec_and_label_camel_4.csv   100       9    test_acc  0.669240   \n",
      "44  txt_vec_and_label_camel_4.csv   100       9   auc_score  0.770212   \n",
      "45  txt_vec_and_label_camel_4.csv   100      10  train_loss  0.715576   \n",
      "46  txt_vec_and_label_camel_4.csv   100      10   train_acc  0.621667   \n",
      "47  txt_vec_and_label_camel_4.csv   100      10   test_loss  0.572245   \n",
      "48  txt_vec_and_label_camel_4.csv   100      10    test_acc  0.698958   \n",
      "49  txt_vec_and_label_camel_4.csv   100      10   auc_score  0.763658   \n",
      "\n",
      "           2         3         4         5         6  ...        41        42   \n",
      "0   0.640770  0.604731  0.586689  0.577360  0.572699  ...  0.444732  0.444576  \\\n",
      "1   0.657106  0.681543  0.693462  0.697278  0.701865  ...  0.798114  0.796484   \n",
      "2   0.565907  0.571577  0.547039  0.549320  0.570254  ...  0.524383  0.525093   \n",
      "3   0.704861  0.702546  0.728009  0.721451  0.706790  ...  0.740741  0.741512   \n",
      "4   0.772977  0.777349  0.778769  0.779186  0.780689  ...  0.803758  0.805328   \n",
      "5   0.638586  0.612868  0.588806  0.578124  0.562955  ...  0.436692  0.436475   \n",
      "6   0.662980  0.675584  0.690075  0.699893  0.708725  ...  0.803258  0.803730   \n",
      "7   0.580392  0.578303  0.568932  0.564250  0.549114  ...  0.545487  0.531434   \n",
      "8   0.693673  0.699846  0.703318  0.712577  0.721836  ...  0.727623  0.731867   \n",
      "9   0.770224  0.773539  0.776708  0.777232  0.777158  ...  0.803865  0.802429   \n",
      "10  0.636430  0.610973  0.588318  0.579129  0.564716  ...  0.439287  0.437482   \n",
      "11  0.663023  0.672755  0.691447  0.699335  0.706281  ...  0.798885  0.801243   \n",
      "12  0.558002  0.588784  0.582225  0.588509  0.572658  ...  0.568625  0.563105   \n",
      "13  0.710262  0.682485  0.685571  0.684414  0.699460  ...  0.707562  0.713349   \n",
      "14  0.756771  0.755765  0.753642  0.756637  0.756112  ...  0.778466  0.777982   \n",
      "15  0.634749  0.602673  0.590189  0.575081  0.563034  ...  0.442921  0.441354   \n",
      "16  0.661222  0.684159  0.690161  0.700707  0.708210  ...  0.800257  0.800300   \n",
      "17  0.571706  0.598587  0.569068  0.594682  0.593491  ...  0.544497  0.566054   \n",
      "18  0.700231  0.679012  0.698302  0.677083  0.679784  ...  0.714506  0.707176   \n",
      "19  0.744955  0.746783  0.746262  0.746464  0.749156  ...  0.783179  0.783440   \n",
      "20  0.636990  0.606072  0.592657  0.580649  0.569996  ...  0.435750  0.438890   \n",
      "21  0.663537  0.680214  0.684587  0.695220  0.704566  ...  0.803430  0.799914   \n",
      "22  0.552033  0.566996  0.543509  0.562501  0.550664  ...  0.524507  0.516794   \n",
      "23  0.716435  0.710648  0.725309  0.717207  0.721451  ...  0.740741  0.746914   \n",
      "24  0.779598  0.782097  0.784039  0.785281  0.786523  ...  0.805806  0.806598   \n",
      "25  0.638830  0.610559  0.589905  0.587349  0.572527  ...  0.437662  0.436043   \n",
      "26  0.663451  0.677042  0.689432  0.687803  0.700364  ...  0.802744  0.806474   \n",
      "27  0.576062  0.600827  0.570707  0.596077  0.569708  ...  0.534661  0.556443   \n",
      "28  0.691358  0.670910  0.697531  0.682099  0.699074  ...  0.736111  0.723765   \n",
      "29  0.770495  0.773492  0.776227  0.776960  0.778695  ...  0.802881  0.802495   \n",
      "30  0.651935  0.620598  0.597153  0.578076  0.575451  ...  0.438526  0.447240   \n",
      "31  0.652819  0.667781  0.687331  0.697192  0.697835  ...  0.800900  0.796785   \n",
      "32  0.573089  0.547125  0.544048  0.556236  0.554782  ...  0.513960  0.530642   \n",
      "33  0.702932  0.726080  0.728395  0.717978  0.722994  ...  0.757716  0.738812   \n",
      "34  0.786450  0.788155  0.789439  0.791745  0.793047  ...  0.810840  0.811557   \n",
      "35  0.642295  0.611486  0.586941  0.578882  0.569767  ...  0.440240  0.437545   \n",
      "36  0.660636  0.674140  0.691760  0.695447  0.702864  ...  0.803910  0.803781   \n",
      "37  0.572498  0.579090  0.547475  0.557848  0.558030  ...  0.544089  0.538315   \n",
      "38  0.703589  0.696642  0.731764  0.719799  0.721343  ...  0.730606  0.735623   \n",
      "39  0.772890  0.774504  0.776398  0.778718  0.780510  ...  0.798857  0.798464   \n",
      "40  0.633607  0.610193  0.590944  0.583362  0.570772  ...  0.438749  0.442129   \n",
      "41  0.665309  0.677484  0.690260  0.693818  0.699606  ...  0.803953  0.802967   \n",
      "42  0.570596  0.570910  0.551565  0.547291  0.555852  ...  0.526881  0.534914   \n",
      "43  0.692397  0.697414  0.716326  0.714782  0.713238  ...  0.736009  0.735237   \n",
      "44  0.775025  0.777005  0.777638  0.781458  0.781989  ...  0.806489  0.806258   \n",
      "45  0.641664  0.616467  0.590544  0.582452  0.567027  ...  0.445047  0.442516   \n",
      "46  0.660508  0.672083  0.688073  0.694718  0.706036  ...  0.797093  0.802624   \n",
      "47  0.572158  0.593394  0.553418  0.552474  0.558981  ...  0.535349  0.536437   \n",
      "48  0.695870  0.683906  0.713238  0.715940  0.709379  ...  0.722887  0.724431   \n",
      "49  0.767750  0.770251  0.771645  0.774089  0.775386  ...  0.799761  0.800210   \n",
      "\n",
      "          43        44        45        46        47        48        49   \n",
      "0   0.438832  0.434272  0.440013  0.427140  0.434096  0.429989  0.432573  \\\n",
      "1   0.804030  0.804502  0.799614  0.808789  0.806902  0.808446  0.810589   \n",
      "2   0.529365  0.532789  0.528592  0.518888  0.537042  0.520044  0.528803   \n",
      "3   0.739198  0.734954  0.739969  0.739969  0.737654  0.740355  0.739969   \n",
      "4   0.805732  0.804010  0.804332  0.803783  0.803441  0.805261  0.805845   \n",
      "5   0.433958  0.435960  0.433915  0.436419  0.426897  0.429361  0.423530   \n",
      "6   0.804416  0.805702  0.806559  0.803516  0.813591  0.809946  0.814705   \n",
      "7   0.550305  0.530035  0.529756  0.543640  0.521539  0.526398  0.555183   \n",
      "8   0.722608  0.730710  0.729938  0.723380  0.741127  0.737269  0.720679   \n",
      "9   0.802619  0.803047  0.803246  0.802865  0.804069  0.803018  0.802221   \n",
      "10  0.437528  0.430634  0.428209  0.432381  0.431813  0.429692  0.421718   \n",
      "11  0.806731  0.811018  0.807245  0.809218  0.807631  0.810332  0.814920   \n",
      "12  0.564085  0.549010  0.548724  0.570305  0.551643  0.563685  0.559471   \n",
      "13  0.710262  0.723765  0.725309  0.709105  0.722608  0.712963  0.714506   \n",
      "14  0.779089  0.777707  0.777564  0.777629  0.778509  0.778107  0.780212   \n",
      "15  0.438014  0.432783  0.434449  0.437289  0.433276  0.433793  0.424263   \n",
      "16  0.806131  0.808017  0.804416  0.802487  0.808060  0.804673  0.816163   \n",
      "17  0.562277  0.553472  0.551972  0.544233  0.555907  0.552309  0.564043   \n",
      "18  0.708333  0.713735  0.712963  0.718750  0.715278  0.712963  0.706404   \n",
      "19  0.783233  0.783822  0.784317  0.785557  0.784926  0.785486  0.785000   \n",
      "20  0.430734  0.433575  0.432712  0.423143  0.420513  0.425712  0.424351   \n",
      "21  0.810804  0.805788  0.806302  0.811790  0.816506  0.811961  0.814534   \n",
      "22  0.524034  0.521130  0.525533  0.524147  0.525863  0.516665  0.523198   \n",
      "23  0.738040  0.741127  0.741127  0.741127  0.740741  0.753472  0.741512   \n",
      "24  0.807935  0.807146  0.807556  0.808755  0.807530  0.807010  0.808007   \n",
      "25  0.433287  0.426420  0.429672  0.430168  0.421743  0.424310  0.422825   \n",
      "26  0.805616  0.810932  0.808403  0.808403  0.817449  0.812047  0.814962   \n",
      "27  0.551456  0.549335  0.544773  0.533999  0.545191  0.541947  0.533878   \n",
      "28  0.727238  0.724537  0.729938  0.738426  0.733025  0.731096  0.734568   \n",
      "29  0.802324  0.802375  0.801670  0.801127  0.802623  0.802270  0.801612   \n",
      "30  0.436811  0.437852  0.435315  0.434889  0.425691  0.429460  0.422289   \n",
      "31  0.804802  0.803001  0.807588  0.805316  0.813505  0.809603  0.814705   \n",
      "32  0.516148  0.525382  0.518805  0.511633  0.526448  0.520943  0.526165   \n",
      "33  0.753086  0.741127  0.750772  0.759259  0.741127  0.751543  0.742284   \n",
      "34  0.810976  0.812091  0.811234  0.811209  0.811346  0.809278  0.810780   \n",
      "35  0.441089  0.431497  0.431876  0.428852  0.425636  0.427144  0.423377   \n",
      "36  0.803824  0.807725  0.810040  0.808368  0.812655  0.812270  0.813470   \n",
      "37  0.542932  0.553052  0.548679  0.536523  0.539118  0.546012  0.542372   \n",
      "38  0.726746  0.723273  0.722887  0.737553  0.734080  0.726360  0.727132   \n",
      "39  0.800177  0.798976  0.798149  0.798821  0.798052  0.799932  0.799939   \n",
      "40  0.434247  0.435215  0.432557  0.428749  0.422399  0.429282  0.423116   \n",
      "41  0.806868  0.804081  0.807425  0.809912  0.812184  0.809011  0.814499   \n",
      "42  0.528178  0.524530  0.532602  0.514266  0.536074  0.527661  0.527081   \n",
      "43  0.736009  0.737553  0.735623  0.751061  0.732150  0.738325  0.738325   \n",
      "44  0.806983  0.806894  0.806558  0.806302  0.805455  0.804725  0.805078   \n",
      "45  0.440957  0.440590  0.432368  0.441658  0.427440  0.432745  0.428210   \n",
      "46  0.800266  0.798508  0.807811  0.801895  0.812355  0.807725  0.811841   \n",
      "47  0.548890  0.540957  0.532337  0.531051  0.538772  0.541460  0.533491   \n",
      "48  0.723273  0.732150  0.730606  0.730220  0.728290  0.726360  0.723659   \n",
      "49  0.800127  0.801775  0.801473  0.800325  0.799836  0.799791  0.800792   \n",
      "\n",
      "          50  \n",
      "0   0.424864  \n",
      "1   0.811318  \n",
      "2   0.541594  \n",
      "3   0.739583  \n",
      "4   0.805299  \n",
      "5   0.423642  \n",
      "6   0.814491  \n",
      "7   0.522746  \n",
      "8   0.741512  \n",
      "9   0.803051  \n",
      "10  0.423152  \n",
      "11  0.811447  \n",
      "12  0.548590  \n",
      "13  0.724151  \n",
      "14  0.780477  \n",
      "15  0.426497  \n",
      "16  0.811790  \n",
      "17  0.541791  \n",
      "18  0.719907  \n",
      "19  0.783446  \n",
      "20  0.418422  \n",
      "21  0.819250  \n",
      "22  0.520757  \n",
      "23  0.747685  \n",
      "24  0.803903  \n",
      "25  0.419254  \n",
      "26  0.813976  \n",
      "27  0.547144  \n",
      "28  0.728781  \n",
      "29  0.803905  \n",
      "30  0.427107  \n",
      "31  0.808617  \n",
      "32  0.520621  \n",
      "33  0.751543  \n",
      "34  0.810398  \n",
      "35  0.422459  \n",
      "36  0.813942  \n",
      "37  0.537481  \n",
      "38  0.731764  \n",
      "39  0.802144  \n",
      "40  0.417089  \n",
      "41  0.815185  \n",
      "42  0.541475  \n",
      "43  0.724045  \n",
      "44  0.806672  \n",
      "45  0.428448  \n",
      "46  0.810983  \n",
      "47  0.540520  \n",
      "48  0.726360  \n",
      "49  0.800246  \n",
      "\n",
      "[50 rows x 54 columns]\n"
     ]
    }
   ],
   "source": [
    "# 学習率\n",
    "lr = 0.0001\n",
    "\n",
    "# 繰り返し回数\n",
    "num_epochs = 50\n",
    "\n",
    "# 評価結果記録用\n",
    "cv_history = np.zeros((0,6))\n",
    "\n",
    "batch_size = 66\n",
    "num_splits = 10\n",
    "\n",
    "columns_list = [i for i in range(1,num_epochs+1)]\n",
    "columns_list[:0] = ['filename','seed', 'num_kf', 'score_type']\n",
    "columns_list\n",
    "df = pd.DataFrame(columns=columns_list)\n",
    "\n",
    "# list_range = ['60', '65', '70']\n",
    "for i in range(4,5):\n",
    "# for i in list_range:\n",
    "    filename = 'txt_vec_and_label_camel_'+str(i)+'.csv'\n",
    "    copy_df = df.copy()\n",
    "    path = '../resource/' + filename\n",
    "    dataset = make_dataset(path)\n",
    "    print(filename)\n",
    "    \n",
    "    # random_seed_list = [100,101,102,103,104,105,106,107,108,109,110]\n",
    "    random_seed_list = [100]\n",
    "    # random_seed_list = [102,103,104,105,106,107,108,109]\n",
    "    \n",
    "    for seed in random_seed_list:\n",
    "        print(seed)\n",
    "        kf = KFold(n_splits=num_splits, shuffle=True, random_state=seed)\n",
    "        cv_cnt = 0\n",
    "        torch_seed(seed)\n",
    "        each_history = np.zeros((0,num_epochs,6))\n",
    "\n",
    "        for train_index, test_index in kf.split(dataset):\n",
    "            cv_cnt += 1\n",
    "            print(f'cv: {cv_cnt}')\n",
    "            history = np.zeros((0,6))\n",
    "            train_dataset = Subset(dataset, train_index)\n",
    "            sampler = make_weighted_random_sampler(train_dataset)\n",
    "            train_loader = DataLoader(train_dataset, batch_size, sampler=sampler, num_workers=2)\n",
    "            test_dataset   = Subset(dataset, test_index)\n",
    "            test_loader = DataLoader(test_dataset, batch_size, shuffle=False, num_workers=2)\n",
    "            \n",
    "            # モデルインスタンス生成\n",
    "            net = CNN(n_output, n_hidden).to(device)\n",
    "            # if torch.cuda.device_count() > 1:\n",
    "            #   print(\"use\", torch.cuda.device_count(), \"GPUs\")\n",
    "            #   net = nn.DataParallel(net)\n",
    "            \n",
    "            # 最適化関数: 勾配降下法\n",
    "            optimizer = optim.Adam(net.parameters(), lr=lr, weight_decay=0.001)\n",
    "            # optimizer = torch.optim.SGD(net.parameters(), lr=lr)\n",
    "            # 損失関数： 交差エントロピー関数\n",
    "            criterion = nn.CrossEntropyLoss()\n",
    "\n",
    "            #学習\n",
    "            history = fit(net, optimizer, criterion, num_epochs, train_loader, test_loader, device, history, test_dataset)\n",
    "\n",
    "            #1交差ごとの記録\n",
    "            each_history = np.vstack((each_history, [history]))\n",
    "            \n",
    "        record_history(copy_df, filename, seed, each_history, num_splits)\n",
    "        print(copy_df)\n",
    "    copy_df.to_csv('../result/threshold_2000_epoch_50_weighted_random_camel_'+str(i)+'.csv', mode='w',index=False)"
   ]
  },
  {
   "cell_type": "code",
   "execution_count": 13,
   "metadata": {
    "tags": []
   },
   "outputs": [],
   "source": [
    "# each_history"
   ]
  },
  {
   "cell_type": "code",
   "execution_count": 14,
   "metadata": {
    "tags": []
   },
   "outputs": [],
   "source": [
    "# copy_df.to_csv('../result/threshold_2000_epoch_50_cv_10_seed_101_weighted_random_camel_'+str(i)+'.csv', mode='w',index=False)"
   ]
  },
  {
   "cell_type": "code",
   "execution_count": 15,
   "metadata": {
    "tags": []
   },
   "outputs": [
    {
     "name": "stdout",
     "output_type": "stream",
     "text": [
      "初期状態: 損失: 0.63827 精度: 0.64931\n",
      "最終状態: 損失: 0.54159 精度: 0.73958\n"
     ]
    },
    {
     "data": {
      "image/png": "[encoded data removed]",
      "text/plain": [
       "<Figure size 900x800 with 1 Axes>"
      ]
     },
     "metadata": {},
     "output_type": "display_data"
    },
    {
     "data": {
      "image/png": "[encoded data removed]",
      "text/plain": [
       "<Figure size 900x800 with 1 Axes>"
      ]
     },
     "metadata": {},
     "output_type": "display_data"
    },
    {
     "data": {
      "image/png": "[encoded data removed]",
      "text/plain": [
       "<Figure size 900x800 with 1 Axes>"
      ]
     },
     "metadata": {},
     "output_type": "display_data"
    }
   ],
   "source": [
    "evaluate_history(each_history[0,:,:])"
   ]
  },
  {
   "cell_type": "code",
   "execution_count": 16,
   "metadata": {
    "tags": []
   },
   "outputs": [],
   "source": [
    "# np.save('../result/camel_3_cv_5_epoch_10.npy',each_history)"
   ]
  },
  {
   "cell_type": "code",
   "execution_count": 17,
   "metadata": {
    "tags": []
   },
   "outputs": [],
   "source": [
    "# np.save('../result/camel_3_cv_5_cv_hisotry.npy', cv_history)"
   ]
  },
  {
   "cell_type": "code",
   "execution_count": 18,
   "metadata": {},
   "outputs": [],
   "source": [
    "# torch.save(net.state_dict(), '../model_weight.pth')"
   ]
  },
  {
   "cell_type": "code",
   "execution_count": 19,
   "metadata": {},
   "outputs": [],
   "source": [
    "# cv_history = np.zeros((0,0,5))\n",
    "# cv_history.shape"
   ]
  },
  {
   "cell_type": "code",
   "execution_count": 20,
   "metadata": {
    "tags": []
   },
   "outputs": [],
   "source": [
    "# cv_history = np.zeros((0,5))\n"
   ]
  },
  {
   "cell_type": "code",
   "execution_count": 21,
   "metadata": {
    "tags": []
   },
   "outputs": [],
   "source": [
    "# cv_cnt = 1\n",
    "# num_epoch = 10\n",
    "# each_history = np.zeros((0,num_epoch,5))\n",
    "# history = np.zeros((0,5))\n",
    "# item = np.arange(5).reshape(1,5)\n",
    "# history = np.vstack((history, item))\n",
    "# history\n",
    "# history = np.arange(num_epoch*5).reshape((num_epoch,5))\n",
    "# each_history = np.vstack((each_history, [history]))\n",
    "# each_history"
   ]
  },
  {
   "cell_type": "code",
   "execution_count": 22,
   "metadata": {
    "tags": []
   },
   "outputs": [],
   "source": [
    "# history = np.arange(num_epoch*5).reshape((num_epoch,5))\n",
    "# each_history = np.vstack((each_history, [history]))\n",
    "# each_history"
   ]
  },
  {
   "cell_type": "code",
   "execution_count": 23,
   "metadata": {
    "tags": []
   },
   "outputs": [],
   "source": [
    "# history = np.zeros((0,5))\n",
    "# history"
   ]
  }
 ],
 "metadata": {
  "kernelspec": {
   "display_name": "Python 3 (ipykernel)",
   "language": "python",
   "name": "python3"
  },
  "language_info": {
   "codemirror_mode": {
    "name": "ipython",
    "version": 3
   },
   "file_extension": ".py",
   "mimetype": "text/x-python",
   "name": "python",
   "nbconvert_exporter": "python",
   "pygments_lexer": "ipython3",
   "version": "3.8.10"
  }
 },
 "nbformat": 4,
 "nbformat_minor": 4
}
